{
 "cells": [
  {
   "cell_type": "code",
   "execution_count": 1,
   "metadata": {
    "collapsed": true
   },
   "outputs": [],
   "source": [
    "import pandas as pd"
   ]
  },
  {
   "cell_type": "code",
   "execution_count": 2,
   "metadata": {
    "collapsed": true
   },
   "outputs": [],
   "source": [
    "tags = pd.read_csv(R'D:\\python files\\pandas exercise\\tags.csv', sep =',')"
   ]
  },
  {
   "cell_type": "code",
   "execution_count": 3,
   "metadata": {
    "collapsed": true
   },
   "outputs": [],
   "source": [
    "file = R'D:\\python files\\pandas exercise\\ratings.csv'"
   ]
  },
  {
   "cell_type": "code",
   "execution_count": 4,
   "metadata": {
    "collapsed": false
   },
   "outputs": [],
   "source": [
    "ratings = pd.read_csv(file, nrows=2000026, sep=',', parse_dates=['timestamp'])"
   ]
  },
  {
   "cell_type": "code",
   "execution_count": 5,
   "metadata": {
    "collapsed": false
   },
   "outputs": [
    {
     "data": {
      "text/html": [
       "<div>\n",
       "<table border=\"1\" class=\"dataframe\">\n",
       "  <thead>\n",
       "    <tr style=\"text-align: right;\">\n",
       "      <th></th>\n",
       "      <th>movieId</th>\n",
       "      <th>title</th>\n",
       "      <th>genres</th>\n",
       "    </tr>\n",
       "  </thead>\n",
       "  <tbody>\n",
       "    <tr>\n",
       "      <th>0</th>\n",
       "      <td>1</td>\n",
       "      <td>Toy Story (1995)</td>\n",
       "      <td>Adventure|Animation|Children|Comedy|Fantasy</td>\n",
       "    </tr>\n",
       "    <tr>\n",
       "      <th>1</th>\n",
       "      <td>2</td>\n",
       "      <td>Jumanji (1995)</td>\n",
       "      <td>Adventure|Children|Fantasy</td>\n",
       "    </tr>\n",
       "    <tr>\n",
       "      <th>2</th>\n",
       "      <td>3</td>\n",
       "      <td>Grumpier Old Men (1995)</td>\n",
       "      <td>Comedy|Romance</td>\n",
       "    </tr>\n",
       "    <tr>\n",
       "      <th>3</th>\n",
       "      <td>4</td>\n",
       "      <td>Waiting to Exhale (1995)</td>\n",
       "      <td>Comedy|Drama|Romance</td>\n",
       "    </tr>\n",
       "    <tr>\n",
       "      <th>4</th>\n",
       "      <td>5</td>\n",
       "      <td>Father of the Bride Part II (1995)</td>\n",
       "      <td>Comedy</td>\n",
       "    </tr>\n",
       "  </tbody>\n",
       "</table>\n",
       "</div>"
      ],
      "text/plain": [
       "   movieId                               title  \\\n",
       "0        1                    Toy Story (1995)   \n",
       "1        2                      Jumanji (1995)   \n",
       "2        3             Grumpier Old Men (1995)   \n",
       "3        4            Waiting to Exhale (1995)   \n",
       "4        5  Father of the Bride Part II (1995)   \n",
       "\n",
       "                                        genres  \n",
       "0  Adventure|Animation|Children|Comedy|Fantasy  \n",
       "1                   Adventure|Children|Fantasy  \n",
       "2                               Comedy|Romance  \n",
       "3                         Comedy|Drama|Romance  \n",
       "4                                       Comedy  "
      ]
     },
     "execution_count": 5,
     "metadata": {},
     "output_type": "execute_result"
    }
   ],
   "source": [
    "edx_movies = pd.read_csv(R\"D:\\python files\\pandas exercise\\edx_movies.csv\")\n",
    "edx_movies.head()"
   ]
  },
  {
   "cell_type": "code",
   "execution_count": 15,
   "metadata": {
    "collapsed": true
   },
   "outputs": [],
   "source": [
    "movies = pd.read_csv(R\"D:\\python files\\pandas exercise\\movies.csv\")"
   ]
  },
  {
   "cell_type": "code",
   "execution_count": 6,
   "metadata": {
    "collapsed": false
   },
   "outputs": [
    {
     "data": {
      "text/plain": [
       "(27278, 3)"
      ]
     },
     "execution_count": 6,
     "metadata": {},
     "output_type": "execute_result"
    }
   ],
   "source": [
    "edx_movies.shape"
   ]
  },
  {
   "cell_type": "code",
   "execution_count": 7,
   "metadata": {
    "collapsed": false
   },
   "outputs": [
    {
     "data": {
      "text/plain": [
       "movieId    False\n",
       "title      False\n",
       "genres     False\n",
       "dtype: bool"
      ]
     },
     "execution_count": 7,
     "metadata": {},
     "output_type": "execute_result"
    }
   ],
   "source": [
    "# checks is any of y=the row is null\n",
    "edx_movies.isnull().any()"
   ]
  },
  {
   "cell_type": "code",
   "execution_count": 8,
   "metadata": {
    "collapsed": false
   },
   "outputs": [
    {
     "data": {
      "text/plain": [
       "movieId    False\n",
       "title      False\n",
       "genres     False\n",
       "dtype: bool"
      ]
     },
     "execution_count": 8,
     "metadata": {},
     "output_type": "execute_result"
    }
   ],
   "source": [
    "# checks if all \n",
    "edx_movies.isnull().all()"
   ]
  },
  {
   "cell_type": "code",
   "execution_count": 9,
   "metadata": {
    "collapsed": false
   },
   "outputs": [
    {
     "data": {
      "text/plain": [
       "RangeIndex(start=0, stop=27278, step=1)"
      ]
     },
     "execution_count": 9,
     "metadata": {},
     "output_type": "execute_result"
    }
   ],
   "source": [
    "edx_movies.index"
   ]
  },
  {
   "cell_type": "code",
   "execution_count": 10,
   "metadata": {
    "collapsed": false
   },
   "outputs": [
    {
     "data": {
      "text/plain": [
       "Index([u'movieId', u'title', u'genres'], dtype='object')"
      ]
     },
     "execution_count": 10,
     "metadata": {},
     "output_type": "execute_result"
    }
   ],
   "source": [
    "edx_movies.columns"
   ]
  },
  {
   "cell_type": "code",
   "execution_count": 2,
   "metadata": {
    "collapsed": false
   },
   "outputs": [],
   "source": [
    "import pandas as pd\n",
    "import numpy as np\n",
    "d = pd.DataFrame(np.random.randn(6,4),columns =['A','B','C','D'])"
   ]
  },
  {
   "cell_type": "code",
   "execution_count": 3,
   "metadata": {
    "collapsed": false
   },
   "outputs": [
    {
     "data": {
      "text/html": [
       "<div>\n",
       "<table border=\"1\" class=\"dataframe\">\n",
       "  <thead>\n",
       "    <tr style=\"text-align: right;\">\n",
       "      <th></th>\n",
       "      <th>A</th>\n",
       "      <th>B</th>\n",
       "      <th>C</th>\n",
       "      <th>D</th>\n",
       "    </tr>\n",
       "  </thead>\n",
       "  <tbody>\n",
       "    <tr>\n",
       "      <th>0</th>\n",
       "      <td>1.086789</td>\n",
       "      <td>2.337613</td>\n",
       "      <td>-0.030785</td>\n",
       "      <td>1.107097</td>\n",
       "    </tr>\n",
       "    <tr>\n",
       "      <th>1</th>\n",
       "      <td>-1.051277</td>\n",
       "      <td>-0.855512</td>\n",
       "      <td>-0.102092</td>\n",
       "      <td>-0.162904</td>\n",
       "    </tr>\n",
       "    <tr>\n",
       "      <th>2</th>\n",
       "      <td>-1.592332</td>\n",
       "      <td>0.144600</td>\n",
       "      <td>-0.796214</td>\n",
       "      <td>-1.310505</td>\n",
       "    </tr>\n",
       "    <tr>\n",
       "      <th>3</th>\n",
       "      <td>0.591840</td>\n",
       "      <td>-1.557700</td>\n",
       "      <td>-0.807631</td>\n",
       "      <td>0.227188</td>\n",
       "    </tr>\n",
       "    <tr>\n",
       "      <th>4</th>\n",
       "      <td>0.874451</td>\n",
       "      <td>0.627522</td>\n",
       "      <td>1.691071</td>\n",
       "      <td>0.381065</td>\n",
       "    </tr>\n",
       "    <tr>\n",
       "      <th>5</th>\n",
       "      <td>0.278364</td>\n",
       "      <td>-1.169763</td>\n",
       "      <td>0.179376</td>\n",
       "      <td>-1.495594</td>\n",
       "    </tr>\n",
       "  </tbody>\n",
       "</table>\n",
       "</div>"
      ],
      "text/plain": [
       "          A         B         C         D\n",
       "0  1.086789  2.337613 -0.030785  1.107097\n",
       "1 -1.051277 -0.855512 -0.102092 -0.162904\n",
       "2 -1.592332  0.144600 -0.796214 -1.310505\n",
       "3  0.591840 -1.557700 -0.807631  0.227188\n",
       "4  0.874451  0.627522  1.691071  0.381065\n",
       "5  0.278364 -1.169763  0.179376 -1.495594"
      ]
     },
     "execution_count": 3,
     "metadata": {},
     "output_type": "execute_result"
    }
   ],
   "source": [
    "d"
   ]
  },
  {
   "cell_type": "code",
   "execution_count": 20,
   "metadata": {
    "collapsed": true
   },
   "outputs": [],
   "source": [
    "# It will take the \n",
    "d = pd.DataFrame(np.random.randn(6,4),columns =['A','B','C','D'])"
   ]
  },
  {
   "cell_type": "code",
   "execution_count": 21,
   "metadata": {
    "collapsed": false
   },
   "outputs": [
    {
     "data": {
      "text/html": [
       "<div>\n",
       "<table border=\"1\" class=\"dataframe\">\n",
       "  <thead>\n",
       "    <tr style=\"text-align: right;\">\n",
       "      <th></th>\n",
       "      <th>A</th>\n",
       "      <th>B</th>\n",
       "      <th>C</th>\n",
       "      <th>D</th>\n",
       "    </tr>\n",
       "  </thead>\n",
       "  <tbody>\n",
       "    <tr>\n",
       "      <th>0</th>\n",
       "      <td>1.257192</td>\n",
       "      <td>0.170811</td>\n",
       "      <td>0.012242</td>\n",
       "      <td>-0.403176</td>\n",
       "    </tr>\n",
       "    <tr>\n",
       "      <th>1</th>\n",
       "      <td>-0.468827</td>\n",
       "      <td>1.943295</td>\n",
       "      <td>0.670042</td>\n",
       "      <td>-0.421002</td>\n",
       "    </tr>\n",
       "    <tr>\n",
       "      <th>2</th>\n",
       "      <td>-0.757147</td>\n",
       "      <td>0.104176</td>\n",
       "      <td>-0.400813</td>\n",
       "      <td>-0.926707</td>\n",
       "    </tr>\n",
       "    <tr>\n",
       "      <th>3</th>\n",
       "      <td>0.464086</td>\n",
       "      <td>0.792981</td>\n",
       "      <td>-0.311114</td>\n",
       "      <td>-0.689025</td>\n",
       "    </tr>\n",
       "    <tr>\n",
       "      <th>4</th>\n",
       "      <td>1.806306</td>\n",
       "      <td>0.077504</td>\n",
       "      <td>-0.123794</td>\n",
       "      <td>1.341782</td>\n",
       "    </tr>\n",
       "    <tr>\n",
       "      <th>5</th>\n",
       "      <td>-0.633697</td>\n",
       "      <td>-0.489443</td>\n",
       "      <td>0.170654</td>\n",
       "      <td>-0.237229</td>\n",
       "    </tr>\n",
       "  </tbody>\n",
       "</table>\n",
       "</div>"
      ],
      "text/plain": [
       "          A         B         C         D\n",
       "0  1.257192  0.170811  0.012242 -0.403176\n",
       "1 -0.468827  1.943295  0.670042 -0.421002\n",
       "2 -0.757147  0.104176 -0.400813 -0.926707\n",
       "3  0.464086  0.792981 -0.311114 -0.689025\n",
       "4  1.806306  0.077504 -0.123794  1.341782\n",
       "5 -0.633697 -0.489443  0.170654 -0.237229"
      ]
     },
     "execution_count": 21,
     "metadata": {},
     "output_type": "execute_result"
    }
   ],
   "source": [
    "d"
   ]
  },
  {
   "cell_type": "code",
   "execution_count": 22,
   "metadata": {
    "collapsed": false
   },
   "outputs": [],
   "source": [
    "import numpy as np\n",
    "d = pd.DataFrame(np.random.randint(1000,size = (6,4)),columns =['A','B','C','D']) "
   ]
  },
  {
   "cell_type": "code",
   "execution_count": 23,
   "metadata": {
    "collapsed": false
   },
   "outputs": [
    {
     "name": "stdout",
     "output_type": "stream",
     "text": [
      "1916\n",
      "3077\n",
      "386\n",
      "2009\n",
      "270\n",
      "2223\n",
      "3031\n",
      "8142\n",
      "8384\n",
      "1608\n"
     ]
    }
   ],
   "source": [
    "for i in range(10):\n",
    "    print np.random.randint(5,8943)"
   ]
  },
  {
   "cell_type": "code",
   "execution_count": 24,
   "metadata": {
    "collapsed": false
   },
   "outputs": [
    {
     "data": {
      "text/plain": [
       "array([[1, 1, 3, 4],\n",
       "       [2, 0, 4, 1]])"
      ]
     },
     "execution_count": 24,
     "metadata": {},
     "output_type": "execute_result"
    }
   ],
   "source": [
    "np.random.randint(5, size=(2, 4))"
   ]
  },
  {
   "cell_type": "code",
   "execution_count": 25,
   "metadata": {
    "collapsed": false
   },
   "outputs": [
    {
     "data": {
      "text/html": [
       "<div>\n",
       "<table border=\"1\" class=\"dataframe\">\n",
       "  <thead>\n",
       "    <tr style=\"text-align: right;\">\n",
       "      <th></th>\n",
       "      <th>A</th>\n",
       "      <th>B</th>\n",
       "      <th>C</th>\n",
       "      <th>D</th>\n",
       "    </tr>\n",
       "  </thead>\n",
       "  <tbody>\n",
       "    <tr>\n",
       "      <th>0</th>\n",
       "      <td>919</td>\n",
       "      <td>491</td>\n",
       "      <td>572</td>\n",
       "      <td>554</td>\n",
       "    </tr>\n",
       "    <tr>\n",
       "      <th>1</th>\n",
       "      <td>899</td>\n",
       "      <td>700</td>\n",
       "      <td>372</td>\n",
       "      <td>416</td>\n",
       "    </tr>\n",
       "    <tr>\n",
       "      <th>2</th>\n",
       "      <td>828</td>\n",
       "      <td>535</td>\n",
       "      <td>194</td>\n",
       "      <td>759</td>\n",
       "    </tr>\n",
       "    <tr>\n",
       "      <th>3</th>\n",
       "      <td>837</td>\n",
       "      <td>130</td>\n",
       "      <td>915</td>\n",
       "      <td>615</td>\n",
       "    </tr>\n",
       "    <tr>\n",
       "      <th>4</th>\n",
       "      <td>149</td>\n",
       "      <td>66</td>\n",
       "      <td>232</td>\n",
       "      <td>261</td>\n",
       "    </tr>\n",
       "    <tr>\n",
       "      <th>5</th>\n",
       "      <td>966</td>\n",
       "      <td>565</td>\n",
       "      <td>62</td>\n",
       "      <td>689</td>\n",
       "    </tr>\n",
       "  </tbody>\n",
       "</table>\n",
       "</div>"
      ],
      "text/plain": [
       "     A    B    C    D\n",
       "0  919  491  572  554\n",
       "1  899  700  372  416\n",
       "2  828  535  194  759\n",
       "3  837  130  915  615\n",
       "4  149   66  232  261\n",
       "5  966  565   62  689"
      ]
     },
     "execution_count": 25,
     "metadata": {},
     "output_type": "execute_result"
    }
   ],
   "source": [
    "d"
   ]
  },
  {
   "cell_type": "code",
   "execution_count": 26,
   "metadata": {
    "collapsed": true
   },
   "outputs": [],
   "source": [
    "d.iloc[0,1] = np.nan"
   ]
  },
  {
   "cell_type": "code",
   "execution_count": 27,
   "metadata": {
    "collapsed": true
   },
   "outputs": [],
   "source": [
    "d.iloc[4,3] = np.nan"
   ]
  },
  {
   "cell_type": "code",
   "execution_count": 28,
   "metadata": {
    "collapsed": false
   },
   "outputs": [
    {
     "data": {
      "text/html": [
       "<div>\n",
       "<table border=\"1\" class=\"dataframe\">\n",
       "  <thead>\n",
       "    <tr style=\"text-align: right;\">\n",
       "      <th></th>\n",
       "      <th>A</th>\n",
       "      <th>B</th>\n",
       "      <th>C</th>\n",
       "      <th>D</th>\n",
       "    </tr>\n",
       "  </thead>\n",
       "  <tbody>\n",
       "    <tr>\n",
       "      <th>0</th>\n",
       "      <td>919</td>\n",
       "      <td>NaN</td>\n",
       "      <td>572</td>\n",
       "      <td>554.0</td>\n",
       "    </tr>\n",
       "    <tr>\n",
       "      <th>1</th>\n",
       "      <td>899</td>\n",
       "      <td>700.0</td>\n",
       "      <td>372</td>\n",
       "      <td>416.0</td>\n",
       "    </tr>\n",
       "    <tr>\n",
       "      <th>2</th>\n",
       "      <td>828</td>\n",
       "      <td>535.0</td>\n",
       "      <td>194</td>\n",
       "      <td>759.0</td>\n",
       "    </tr>\n",
       "    <tr>\n",
       "      <th>3</th>\n",
       "      <td>837</td>\n",
       "      <td>130.0</td>\n",
       "      <td>915</td>\n",
       "      <td>615.0</td>\n",
       "    </tr>\n",
       "    <tr>\n",
       "      <th>4</th>\n",
       "      <td>149</td>\n",
       "      <td>66.0</td>\n",
       "      <td>232</td>\n",
       "      <td>NaN</td>\n",
       "    </tr>\n",
       "    <tr>\n",
       "      <th>5</th>\n",
       "      <td>966</td>\n",
       "      <td>565.0</td>\n",
       "      <td>62</td>\n",
       "      <td>689.0</td>\n",
       "    </tr>\n",
       "  </tbody>\n",
       "</table>\n",
       "</div>"
      ],
      "text/plain": [
       "     A      B    C      D\n",
       "0  919    NaN  572  554.0\n",
       "1  899  700.0  372  416.0\n",
       "2  828  535.0  194  759.0\n",
       "3  837  130.0  915  615.0\n",
       "4  149   66.0  232    NaN\n",
       "5  966  565.0   62  689.0"
      ]
     },
     "execution_count": 28,
     "metadata": {},
     "output_type": "execute_result"
    }
   ],
   "source": [
    "d"
   ]
  },
  {
   "cell_type": "code",
   "execution_count": 29,
   "metadata": {
    "collapsed": false
   },
   "outputs": [],
   "source": [
    "d.iloc[2,2] = None"
   ]
  },
  {
   "cell_type": "code",
   "execution_count": 30,
   "metadata": {
    "collapsed": false
   },
   "outputs": [
    {
     "data": {
      "text/html": [
       "<div>\n",
       "<table border=\"1\" class=\"dataframe\">\n",
       "  <thead>\n",
       "    <tr style=\"text-align: right;\">\n",
       "      <th></th>\n",
       "      <th>A</th>\n",
       "      <th>B</th>\n",
       "      <th>C</th>\n",
       "      <th>D</th>\n",
       "    </tr>\n",
       "  </thead>\n",
       "  <tbody>\n",
       "    <tr>\n",
       "      <th>0</th>\n",
       "      <td>919</td>\n",
       "      <td>NaN</td>\n",
       "      <td>572.0</td>\n",
       "      <td>554.0</td>\n",
       "    </tr>\n",
       "    <tr>\n",
       "      <th>1</th>\n",
       "      <td>899</td>\n",
       "      <td>700.0</td>\n",
       "      <td>372.0</td>\n",
       "      <td>416.0</td>\n",
       "    </tr>\n",
       "    <tr>\n",
       "      <th>2</th>\n",
       "      <td>828</td>\n",
       "      <td>535.0</td>\n",
       "      <td>NaN</td>\n",
       "      <td>759.0</td>\n",
       "    </tr>\n",
       "    <tr>\n",
       "      <th>3</th>\n",
       "      <td>837</td>\n",
       "      <td>130.0</td>\n",
       "      <td>915.0</td>\n",
       "      <td>615.0</td>\n",
       "    </tr>\n",
       "    <tr>\n",
       "      <th>4</th>\n",
       "      <td>149</td>\n",
       "      <td>66.0</td>\n",
       "      <td>232.0</td>\n",
       "      <td>NaN</td>\n",
       "    </tr>\n",
       "    <tr>\n",
       "      <th>5</th>\n",
       "      <td>966</td>\n",
       "      <td>565.0</td>\n",
       "      <td>62.0</td>\n",
       "      <td>689.0</td>\n",
       "    </tr>\n",
       "  </tbody>\n",
       "</table>\n",
       "</div>"
      ],
      "text/plain": [
       "     A      B      C      D\n",
       "0  919    NaN  572.0  554.0\n",
       "1  899  700.0  372.0  416.0\n",
       "2  828  535.0    NaN  759.0\n",
       "3  837  130.0  915.0  615.0\n",
       "4  149   66.0  232.0    NaN\n",
       "5  966  565.0   62.0  689.0"
      ]
     },
     "execution_count": 30,
     "metadata": {},
     "output_type": "execute_result"
    }
   ],
   "source": [
    "d"
   ]
  },
  {
   "cell_type": "code",
   "execution_count": 31,
   "metadata": {
    "collapsed": false
   },
   "outputs": [
    {
     "data": {
      "text/plain": [
       "A    False\n",
       "B     True\n",
       "C     True\n",
       "D     True\n",
       "dtype: bool"
      ]
     },
     "execution_count": 31,
     "metadata": {},
     "output_type": "execute_result"
    }
   ],
   "source": [
    "d.isnull().any()"
   ]
  },
  {
   "cell_type": "code",
   "execution_count": 32,
   "metadata": {
    "collapsed": false
   },
   "outputs": [
    {
     "data": {
      "text/plain": [
       "A    False\n",
       "B    False\n",
       "C    False\n",
       "D    False\n",
       "dtype: bool"
      ]
     },
     "execution_count": 32,
     "metadata": {},
     "output_type": "execute_result"
    }
   ],
   "source": [
    "d.isnull().all()"
   ]
  },
  {
   "cell_type": "code",
   "execution_count": 33,
   "metadata": {
    "collapsed": false
   },
   "outputs": [
    {
     "data": {
      "text/html": [
       "<div>\n",
       "<table border=\"1\" class=\"dataframe\">\n",
       "  <thead>\n",
       "    <tr style=\"text-align: right;\">\n",
       "      <th></th>\n",
       "      <th>A</th>\n",
       "      <th>B</th>\n",
       "      <th>C</th>\n",
       "      <th>D</th>\n",
       "    </tr>\n",
       "  </thead>\n",
       "  <tbody>\n",
       "    <tr>\n",
       "      <th>0</th>\n",
       "      <td>919</td>\n",
       "      <td>NaN</td>\n",
       "      <td>572.0</td>\n",
       "      <td>554.0</td>\n",
       "    </tr>\n",
       "    <tr>\n",
       "      <th>1</th>\n",
       "      <td>899</td>\n",
       "      <td>700.0</td>\n",
       "      <td>372.0</td>\n",
       "      <td>416.0</td>\n",
       "    </tr>\n",
       "    <tr>\n",
       "      <th>2</th>\n",
       "      <td>828</td>\n",
       "      <td>535.0</td>\n",
       "      <td>NaN</td>\n",
       "      <td>759.0</td>\n",
       "    </tr>\n",
       "    <tr>\n",
       "      <th>3</th>\n",
       "      <td>837</td>\n",
       "      <td>130.0</td>\n",
       "      <td>915.0</td>\n",
       "      <td>615.0</td>\n",
       "    </tr>\n",
       "    <tr>\n",
       "      <th>4</th>\n",
       "      <td>149</td>\n",
       "      <td>66.0</td>\n",
       "      <td>232.0</td>\n",
       "      <td>NaN</td>\n",
       "    </tr>\n",
       "    <tr>\n",
       "      <th>5</th>\n",
       "      <td>966</td>\n",
       "      <td>565.0</td>\n",
       "      <td>62.0</td>\n",
       "      <td>689.0</td>\n",
       "    </tr>\n",
       "  </tbody>\n",
       "</table>\n",
       "</div>"
      ],
      "text/plain": [
       "     A      B      C      D\n",
       "0  919    NaN  572.0  554.0\n",
       "1  899  700.0  372.0  416.0\n",
       "2  828  535.0    NaN  759.0\n",
       "3  837  130.0  915.0  615.0\n",
       "4  149   66.0  232.0    NaN\n",
       "5  966  565.0   62.0  689.0"
      ]
     },
     "execution_count": 33,
     "metadata": {},
     "output_type": "execute_result"
    }
   ],
   "source": [
    "d"
   ]
  },
  {
   "cell_type": "code",
   "execution_count": 34,
   "metadata": {
    "collapsed": false
   },
   "outputs": [
    {
     "data": {
      "text/plain": [
       "(2000026, 4)"
      ]
     },
     "execution_count": 34,
     "metadata": {},
     "output_type": "execute_result"
    }
   ],
   "source": [
    "ratings.shape"
   ]
  },
  {
   "cell_type": "code",
   "execution_count": 35,
   "metadata": {
    "collapsed": false
   },
   "outputs": [
    {
     "data": {
      "text/plain": [
       "userId       False\n",
       "movieId      False\n",
       "rating       False\n",
       "timestamp    False\n",
       "dtype: bool"
      ]
     },
     "execution_count": 35,
     "metadata": {},
     "output_type": "execute_result"
    }
   ],
   "source": [
    "ratings.isnull().any()"
   ]
  },
  {
   "cell_type": "code",
   "execution_count": 36,
   "metadata": {
    "collapsed": false
   },
   "outputs": [
    {
     "data": {
      "text/plain": [
       "(465564, 4)"
      ]
     },
     "execution_count": 36,
     "metadata": {},
     "output_type": "execute_result"
    }
   ],
   "source": [
    "tags.shape"
   ]
  },
  {
   "cell_type": "code",
   "execution_count": 37,
   "metadata": {
    "collapsed": false
   },
   "outputs": [
    {
     "data": {
      "text/plain": [
       "userId       False\n",
       "movieId      False\n",
       "tag           True\n",
       "timestamp    False\n",
       "dtype: bool"
      ]
     },
     "execution_count": 37,
     "metadata": {},
     "output_type": "execute_result"
    }
   ],
   "source": [
    "tags.isnull().any()"
   ]
  },
  {
   "cell_type": "code",
   "execution_count": 38,
   "metadata": {
    "collapsed": false
   },
   "outputs": [],
   "source": [
    "tags = tags.rename(columns ={'userId':'userID'})"
   ]
  },
  {
   "cell_type": "code",
   "execution_count": 39,
   "metadata": {
    "collapsed": false
   },
   "outputs": [
    {
     "data": {
      "text/html": [
       "<div>\n",
       "<table border=\"1\" class=\"dataframe\">\n",
       "  <thead>\n",
       "    <tr style=\"text-align: right;\">\n",
       "      <th></th>\n",
       "      <th>userID</th>\n",
       "      <th>movieId</th>\n",
       "      <th>tag</th>\n",
       "      <th>timestamp</th>\n",
       "    </tr>\n",
       "  </thead>\n",
       "  <tbody>\n",
       "    <tr>\n",
       "      <th>0</th>\n",
       "      <td>18</td>\n",
       "      <td>4141</td>\n",
       "      <td>Mark Waters</td>\n",
       "      <td>1240597180</td>\n",
       "    </tr>\n",
       "    <tr>\n",
       "      <th>1</th>\n",
       "      <td>65</td>\n",
       "      <td>208</td>\n",
       "      <td>dark hero</td>\n",
       "      <td>1368150078</td>\n",
       "    </tr>\n",
       "    <tr>\n",
       "      <th>2</th>\n",
       "      <td>65</td>\n",
       "      <td>353</td>\n",
       "      <td>dark hero</td>\n",
       "      <td>1368150079</td>\n",
       "    </tr>\n",
       "    <tr>\n",
       "      <th>3</th>\n",
       "      <td>65</td>\n",
       "      <td>521</td>\n",
       "      <td>noir thriller</td>\n",
       "      <td>1368149983</td>\n",
       "    </tr>\n",
       "    <tr>\n",
       "      <th>4</th>\n",
       "      <td>65</td>\n",
       "      <td>592</td>\n",
       "      <td>dark hero</td>\n",
       "      <td>1368150078</td>\n",
       "    </tr>\n",
       "    <tr>\n",
       "      <th>5</th>\n",
       "      <td>65</td>\n",
       "      <td>668</td>\n",
       "      <td>bollywood</td>\n",
       "      <td>1368149876</td>\n",
       "    </tr>\n",
       "    <tr>\n",
       "      <th>6</th>\n",
       "      <td>65</td>\n",
       "      <td>898</td>\n",
       "      <td>screwball comedy</td>\n",
       "      <td>1368150160</td>\n",
       "    </tr>\n",
       "    <tr>\n",
       "      <th>7</th>\n",
       "      <td>65</td>\n",
       "      <td>1248</td>\n",
       "      <td>noir thriller</td>\n",
       "      <td>1368149983</td>\n",
       "    </tr>\n",
       "    <tr>\n",
       "      <th>8</th>\n",
       "      <td>65</td>\n",
       "      <td>1391</td>\n",
       "      <td>mars</td>\n",
       "      <td>1368150055</td>\n",
       "    </tr>\n",
       "    <tr>\n",
       "      <th>9</th>\n",
       "      <td>65</td>\n",
       "      <td>1617</td>\n",
       "      <td>neo-noir</td>\n",
       "      <td>1368150217</td>\n",
       "    </tr>\n",
       "    <tr>\n",
       "      <th>10</th>\n",
       "      <td>65</td>\n",
       "      <td>1694</td>\n",
       "      <td>jesus</td>\n",
       "      <td>1368149925</td>\n",
       "    </tr>\n",
       "    <tr>\n",
       "      <th>11</th>\n",
       "      <td>65</td>\n",
       "      <td>1783</td>\n",
       "      <td>noir thriller</td>\n",
       "      <td>1368149983</td>\n",
       "    </tr>\n",
       "    <tr>\n",
       "      <th>12</th>\n",
       "      <td>65</td>\n",
       "      <td>2022</td>\n",
       "      <td>jesus</td>\n",
       "      <td>1368149925</td>\n",
       "    </tr>\n",
       "    <tr>\n",
       "      <th>13</th>\n",
       "      <td>65</td>\n",
       "      <td>2193</td>\n",
       "      <td>dragon</td>\n",
       "      <td>1368151314</td>\n",
       "    </tr>\n",
       "    <tr>\n",
       "      <th>14</th>\n",
       "      <td>65</td>\n",
       "      <td>2353</td>\n",
       "      <td>conspiracy theory</td>\n",
       "      <td>1368151266</td>\n",
       "    </tr>\n",
       "    <tr>\n",
       "      <th>15</th>\n",
       "      <td>65</td>\n",
       "      <td>2662</td>\n",
       "      <td>mars</td>\n",
       "      <td>1368150055</td>\n",
       "    </tr>\n",
       "    <tr>\n",
       "      <th>16</th>\n",
       "      <td>65</td>\n",
       "      <td>2726</td>\n",
       "      <td>noir thriller</td>\n",
       "      <td>1368149983</td>\n",
       "    </tr>\n",
       "    <tr>\n",
       "      <th>17</th>\n",
       "      <td>65</td>\n",
       "      <td>2840</td>\n",
       "      <td>jesus</td>\n",
       "      <td>1368149925</td>\n",
       "    </tr>\n",
       "    <tr>\n",
       "      <th>18</th>\n",
       "      <td>65</td>\n",
       "      <td>3052</td>\n",
       "      <td>jesus</td>\n",
       "      <td>1368149926</td>\n",
       "    </tr>\n",
       "    <tr>\n",
       "      <th>19</th>\n",
       "      <td>65</td>\n",
       "      <td>5135</td>\n",
       "      <td>bollywood</td>\n",
       "      <td>1368149876</td>\n",
       "    </tr>\n",
       "    <tr>\n",
       "      <th>20</th>\n",
       "      <td>65</td>\n",
       "      <td>6539</td>\n",
       "      <td>treasure</td>\n",
       "      <td>1368149949</td>\n",
       "    </tr>\n",
       "    <tr>\n",
       "      <th>21</th>\n",
       "      <td>65</td>\n",
       "      <td>6874</td>\n",
       "      <td>dark hero</td>\n",
       "      <td>1368150079</td>\n",
       "    </tr>\n",
       "    <tr>\n",
       "      <th>22</th>\n",
       "      <td>65</td>\n",
       "      <td>7013</td>\n",
       "      <td>noir thriller</td>\n",
       "      <td>1368149983</td>\n",
       "    </tr>\n",
       "    <tr>\n",
       "      <th>23</th>\n",
       "      <td>65</td>\n",
       "      <td>7318</td>\n",
       "      <td>jesus</td>\n",
       "      <td>1368149925</td>\n",
       "    </tr>\n",
       "    <tr>\n",
       "      <th>24</th>\n",
       "      <td>65</td>\n",
       "      <td>8529</td>\n",
       "      <td>stranded</td>\n",
       "      <td>1368150012</td>\n",
       "    </tr>\n",
       "    <tr>\n",
       "      <th>25</th>\n",
       "      <td>65</td>\n",
       "      <td>8622</td>\n",
       "      <td>conspiracy theory</td>\n",
       "      <td>1368151266</td>\n",
       "    </tr>\n",
       "    <tr>\n",
       "      <th>26</th>\n",
       "      <td>65</td>\n",
       "      <td>27803</td>\n",
       "      <td>Oscar (Best Foreign Language Film)</td>\n",
       "      <td>1305008715</td>\n",
       "    </tr>\n",
       "    <tr>\n",
       "      <th>27</th>\n",
       "      <td>65</td>\n",
       "      <td>27866</td>\n",
       "      <td>New Zealand</td>\n",
       "      <td>1304957153</td>\n",
       "    </tr>\n",
       "    <tr>\n",
       "      <th>28</th>\n",
       "      <td>65</td>\n",
       "      <td>48082</td>\n",
       "      <td>surreal</td>\n",
       "      <td>1304958354</td>\n",
       "    </tr>\n",
       "    <tr>\n",
       "      <th>29</th>\n",
       "      <td>65</td>\n",
       "      <td>48082</td>\n",
       "      <td>unusual</td>\n",
       "      <td>1304958359</td>\n",
       "    </tr>\n",
       "    <tr>\n",
       "      <th>...</th>\n",
       "      <td>...</td>\n",
       "      <td>...</td>\n",
       "      <td>...</td>\n",
       "      <td>...</td>\n",
       "    </tr>\n",
       "    <tr>\n",
       "      <th>465534</th>\n",
       "      <td>138436</td>\n",
       "      <td>81932</td>\n",
       "      <td>big hair</td>\n",
       "      <td>1298754654</td>\n",
       "    </tr>\n",
       "    <tr>\n",
       "      <th>465535</th>\n",
       "      <td>138436</td>\n",
       "      <td>81932</td>\n",
       "      <td>Mark Wahlberg</td>\n",
       "      <td>1298754636</td>\n",
       "    </tr>\n",
       "    <tr>\n",
       "      <th>465536</th>\n",
       "      <td>138436</td>\n",
       "      <td>81932</td>\n",
       "      <td>pigs</td>\n",
       "      <td>1298754658</td>\n",
       "    </tr>\n",
       "    <tr>\n",
       "      <th>465537</th>\n",
       "      <td>138436</td>\n",
       "      <td>81932</td>\n",
       "      <td>prostitution</td>\n",
       "      <td>1298754620</td>\n",
       "    </tr>\n",
       "    <tr>\n",
       "      <th>465538</th>\n",
       "      <td>138437</td>\n",
       "      <td>77154</td>\n",
       "      <td>This movie should have been called \"How Cocain...</td>\n",
       "      <td>1357384633</td>\n",
       "    </tr>\n",
       "    <tr>\n",
       "      <th>465539</th>\n",
       "      <td>138446</td>\n",
       "      <td>317</td>\n",
       "      <td>Christmas</td>\n",
       "      <td>1358983914</td>\n",
       "    </tr>\n",
       "    <tr>\n",
       "      <th>465540</th>\n",
       "      <td>138446</td>\n",
       "      <td>317</td>\n",
       "      <td>funny</td>\n",
       "      <td>1358983914</td>\n",
       "    </tr>\n",
       "    <tr>\n",
       "      <th>465541</th>\n",
       "      <td>138446</td>\n",
       "      <td>317</td>\n",
       "      <td>Judge Reinhold</td>\n",
       "      <td>1358983914</td>\n",
       "    </tr>\n",
       "    <tr>\n",
       "      <th>465542</th>\n",
       "      <td>138446</td>\n",
       "      <td>317</td>\n",
       "      <td>Tim Allen</td>\n",
       "      <td>1358983914</td>\n",
       "    </tr>\n",
       "    <tr>\n",
       "      <th>465543</th>\n",
       "      <td>138446</td>\n",
       "      <td>317</td>\n",
       "      <td>whiny kid</td>\n",
       "      <td>1358983946</td>\n",
       "    </tr>\n",
       "    <tr>\n",
       "      <th>465544</th>\n",
       "      <td>138446</td>\n",
       "      <td>837</td>\n",
       "      <td>family friendly</td>\n",
       "      <td>1358983693</td>\n",
       "    </tr>\n",
       "    <tr>\n",
       "      <th>465545</th>\n",
       "      <td>138446</td>\n",
       "      <td>918</td>\n",
       "      <td>halloween scene</td>\n",
       "      <td>1358984062</td>\n",
       "    </tr>\n",
       "    <tr>\n",
       "      <th>465546</th>\n",
       "      <td>138446</td>\n",
       "      <td>918</td>\n",
       "      <td>quirky</td>\n",
       "      <td>1358984051</td>\n",
       "    </tr>\n",
       "    <tr>\n",
       "      <th>465547</th>\n",
       "      <td>138446</td>\n",
       "      <td>2396</td>\n",
       "      <td>topless scene</td>\n",
       "      <td>1358973995</td>\n",
       "    </tr>\n",
       "    <tr>\n",
       "      <th>465548</th>\n",
       "      <td>138446</td>\n",
       "      <td>3086</td>\n",
       "      <td>Christmas</td>\n",
       "      <td>1358983979</td>\n",
       "    </tr>\n",
       "    <tr>\n",
       "      <th>465549</th>\n",
       "      <td>138446</td>\n",
       "      <td>3086</td>\n",
       "      <td>classic</td>\n",
       "      <td>1358983979</td>\n",
       "    </tr>\n",
       "    <tr>\n",
       "      <th>465550</th>\n",
       "      <td>138446</td>\n",
       "      <td>3086</td>\n",
       "      <td>funny</td>\n",
       "      <td>1358983979</td>\n",
       "    </tr>\n",
       "    <tr>\n",
       "      <th>465551</th>\n",
       "      <td>138446</td>\n",
       "      <td>3086</td>\n",
       "      <td>scary</td>\n",
       "      <td>1358984001</td>\n",
       "    </tr>\n",
       "    <tr>\n",
       "      <th>465552</th>\n",
       "      <td>138446</td>\n",
       "      <td>3489</td>\n",
       "      <td>Peter Pan</td>\n",
       "      <td>1358983822</td>\n",
       "    </tr>\n",
       "    <tr>\n",
       "      <th>465553</th>\n",
       "      <td>138446</td>\n",
       "      <td>3489</td>\n",
       "      <td>soundtrack</td>\n",
       "      <td>1358983822</td>\n",
       "    </tr>\n",
       "    <tr>\n",
       "      <th>465554</th>\n",
       "      <td>138446</td>\n",
       "      <td>3489</td>\n",
       "      <td>visually appealing</td>\n",
       "      <td>1358983822</td>\n",
       "    </tr>\n",
       "    <tr>\n",
       "      <th>465555</th>\n",
       "      <td>138446</td>\n",
       "      <td>7045</td>\n",
       "      <td>family friendly</td>\n",
       "      <td>1358983660</td>\n",
       "    </tr>\n",
       "    <tr>\n",
       "      <th>465556</th>\n",
       "      <td>138446</td>\n",
       "      <td>7045</td>\n",
       "      <td>Scary Movies To See on Halloween</td>\n",
       "      <td>1358983660</td>\n",
       "    </tr>\n",
       "    <tr>\n",
       "      <th>465557</th>\n",
       "      <td>138446</td>\n",
       "      <td>7164</td>\n",
       "      <td>Peter Pan</td>\n",
       "      <td>1358983855</td>\n",
       "    </tr>\n",
       "    <tr>\n",
       "      <th>465558</th>\n",
       "      <td>138446</td>\n",
       "      <td>7164</td>\n",
       "      <td>visually appealing</td>\n",
       "      <td>1358983855</td>\n",
       "    </tr>\n",
       "    <tr>\n",
       "      <th>465559</th>\n",
       "      <td>138446</td>\n",
       "      <td>55999</td>\n",
       "      <td>dragged</td>\n",
       "      <td>1358983772</td>\n",
       "    </tr>\n",
       "    <tr>\n",
       "      <th>465560</th>\n",
       "      <td>138446</td>\n",
       "      <td>55999</td>\n",
       "      <td>Jason Bateman</td>\n",
       "      <td>1358983778</td>\n",
       "    </tr>\n",
       "    <tr>\n",
       "      <th>465561</th>\n",
       "      <td>138446</td>\n",
       "      <td>55999</td>\n",
       "      <td>quirky</td>\n",
       "      <td>1358983778</td>\n",
       "    </tr>\n",
       "    <tr>\n",
       "      <th>465562</th>\n",
       "      <td>138446</td>\n",
       "      <td>55999</td>\n",
       "      <td>sad</td>\n",
       "      <td>1358983772</td>\n",
       "    </tr>\n",
       "    <tr>\n",
       "      <th>465563</th>\n",
       "      <td>138472</td>\n",
       "      <td>923</td>\n",
       "      <td>rise to power</td>\n",
       "      <td>1194037967</td>\n",
       "    </tr>\n",
       "  </tbody>\n",
       "</table>\n",
       "<p>465564 rows × 4 columns</p>\n",
       "</div>"
      ],
      "text/plain": [
       "        userID  movieId                                                tag  \\\n",
       "0           18     4141                                        Mark Waters   \n",
       "1           65      208                                          dark hero   \n",
       "2           65      353                                          dark hero   \n",
       "3           65      521                                      noir thriller   \n",
       "4           65      592                                          dark hero   \n",
       "5           65      668                                          bollywood   \n",
       "6           65      898                                   screwball comedy   \n",
       "7           65     1248                                      noir thriller   \n",
       "8           65     1391                                               mars   \n",
       "9           65     1617                                           neo-noir   \n",
       "10          65     1694                                              jesus   \n",
       "11          65     1783                                      noir thriller   \n",
       "12          65     2022                                              jesus   \n",
       "13          65     2193                                             dragon   \n",
       "14          65     2353                                  conspiracy theory   \n",
       "15          65     2662                                               mars   \n",
       "16          65     2726                                      noir thriller   \n",
       "17          65     2840                                              jesus   \n",
       "18          65     3052                                              jesus   \n",
       "19          65     5135                                          bollywood   \n",
       "20          65     6539                                           treasure   \n",
       "21          65     6874                                          dark hero   \n",
       "22          65     7013                                      noir thriller   \n",
       "23          65     7318                                              jesus   \n",
       "24          65     8529                                           stranded   \n",
       "25          65     8622                                  conspiracy theory   \n",
       "26          65    27803                 Oscar (Best Foreign Language Film)   \n",
       "27          65    27866                                        New Zealand   \n",
       "28          65    48082                                            surreal   \n",
       "29          65    48082                                            unusual   \n",
       "...        ...      ...                                                ...   \n",
       "465534  138436    81932                                           big hair   \n",
       "465535  138436    81932                                      Mark Wahlberg   \n",
       "465536  138436    81932                                               pigs   \n",
       "465537  138436    81932                                       prostitution   \n",
       "465538  138437    77154  This movie should have been called \"How Cocain...   \n",
       "465539  138446      317                                          Christmas   \n",
       "465540  138446      317                                              funny   \n",
       "465541  138446      317                                     Judge Reinhold   \n",
       "465542  138446      317                                          Tim Allen   \n",
       "465543  138446      317                                          whiny kid   \n",
       "465544  138446      837                                    family friendly   \n",
       "465545  138446      918                                    halloween scene   \n",
       "465546  138446      918                                             quirky   \n",
       "465547  138446     2396                                      topless scene   \n",
       "465548  138446     3086                                          Christmas   \n",
       "465549  138446     3086                                            classic   \n",
       "465550  138446     3086                                              funny   \n",
       "465551  138446     3086                                              scary   \n",
       "465552  138446     3489                                          Peter Pan   \n",
       "465553  138446     3489                                         soundtrack   \n",
       "465554  138446     3489                                 visually appealing   \n",
       "465555  138446     7045                                    family friendly   \n",
       "465556  138446     7045                   Scary Movies To See on Halloween   \n",
       "465557  138446     7164                                          Peter Pan   \n",
       "465558  138446     7164                                 visually appealing   \n",
       "465559  138446    55999                                            dragged   \n",
       "465560  138446    55999                                      Jason Bateman   \n",
       "465561  138446    55999                                             quirky   \n",
       "465562  138446    55999                                                sad   \n",
       "465563  138472      923                                      rise to power   \n",
       "\n",
       "         timestamp  \n",
       "0       1240597180  \n",
       "1       1368150078  \n",
       "2       1368150079  \n",
       "3       1368149983  \n",
       "4       1368150078  \n",
       "5       1368149876  \n",
       "6       1368150160  \n",
       "7       1368149983  \n",
       "8       1368150055  \n",
       "9       1368150217  \n",
       "10      1368149925  \n",
       "11      1368149983  \n",
       "12      1368149925  \n",
       "13      1368151314  \n",
       "14      1368151266  \n",
       "15      1368150055  \n",
       "16      1368149983  \n",
       "17      1368149925  \n",
       "18      1368149926  \n",
       "19      1368149876  \n",
       "20      1368149949  \n",
       "21      1368150079  \n",
       "22      1368149983  \n",
       "23      1368149925  \n",
       "24      1368150012  \n",
       "25      1368151266  \n",
       "26      1305008715  \n",
       "27      1304957153  \n",
       "28      1304958354  \n",
       "29      1304958359  \n",
       "...            ...  \n",
       "465534  1298754654  \n",
       "465535  1298754636  \n",
       "465536  1298754658  \n",
       "465537  1298754620  \n",
       "465538  1357384633  \n",
       "465539  1358983914  \n",
       "465540  1358983914  \n",
       "465541  1358983914  \n",
       "465542  1358983914  \n",
       "465543  1358983946  \n",
       "465544  1358983693  \n",
       "465545  1358984062  \n",
       "465546  1358984051  \n",
       "465547  1358973995  \n",
       "465548  1358983979  \n",
       "465549  1358983979  \n",
       "465550  1358983979  \n",
       "465551  1358984001  \n",
       "465552  1358983822  \n",
       "465553  1358983822  \n",
       "465554  1358983822  \n",
       "465555  1358983660  \n",
       "465556  1358983660  \n",
       "465557  1358983855  \n",
       "465558  1358983855  \n",
       "465559  1358983772  \n",
       "465560  1358983778  \n",
       "465561  1358983778  \n",
       "465562  1358983772  \n",
       "465563  1194037967  \n",
       "\n",
       "[465564 rows x 4 columns]"
      ]
     },
     "execution_count": 39,
     "metadata": {},
     "output_type": "execute_result"
    }
   ],
   "source": [
    "tags"
   ]
  },
  {
   "cell_type": "code",
   "execution_count": 40,
   "metadata": {
    "collapsed": false
   },
   "outputs": [
    {
     "data": {
      "text/html": [
       "<div>\n",
       "<table border=\"1\" class=\"dataframe\">\n",
       "  <thead>\n",
       "    <tr style=\"text-align: right;\">\n",
       "      <th></th>\n",
       "      <th>userID</th>\n",
       "      <th>movieId</th>\n",
       "      <th>tag</th>\n",
       "      <th>timestamp</th>\n",
       "    </tr>\n",
       "  </thead>\n",
       "  <tbody>\n",
       "    <tr>\n",
       "      <th>0</th>\n",
       "      <td>18</td>\n",
       "      <td>4141</td>\n",
       "      <td>Mark Waters</td>\n",
       "      <td>1240597180</td>\n",
       "    </tr>\n",
       "    <tr>\n",
       "      <th>1</th>\n",
       "      <td>65</td>\n",
       "      <td>208</td>\n",
       "      <td>dark hero</td>\n",
       "      <td>1368150078</td>\n",
       "    </tr>\n",
       "    <tr>\n",
       "      <th>2</th>\n",
       "      <td>65</td>\n",
       "      <td>353</td>\n",
       "      <td>dark hero</td>\n",
       "      <td>1368150079</td>\n",
       "    </tr>\n",
       "    <tr>\n",
       "      <th>3</th>\n",
       "      <td>65</td>\n",
       "      <td>521</td>\n",
       "      <td>noir thriller</td>\n",
       "      <td>1368149983</td>\n",
       "    </tr>\n",
       "    <tr>\n",
       "      <th>4</th>\n",
       "      <td>65</td>\n",
       "      <td>592</td>\n",
       "      <td>dark hero</td>\n",
       "      <td>1368150078</td>\n",
       "    </tr>\n",
       "    <tr>\n",
       "      <th>5</th>\n",
       "      <td>65</td>\n",
       "      <td>668</td>\n",
       "      <td>bollywood</td>\n",
       "      <td>1368149876</td>\n",
       "    </tr>\n",
       "    <tr>\n",
       "      <th>6</th>\n",
       "      <td>65</td>\n",
       "      <td>898</td>\n",
       "      <td>screwball comedy</td>\n",
       "      <td>1368150160</td>\n",
       "    </tr>\n",
       "    <tr>\n",
       "      <th>7</th>\n",
       "      <td>65</td>\n",
       "      <td>1248</td>\n",
       "      <td>noir thriller</td>\n",
       "      <td>1368149983</td>\n",
       "    </tr>\n",
       "    <tr>\n",
       "      <th>8</th>\n",
       "      <td>65</td>\n",
       "      <td>1391</td>\n",
       "      <td>mars</td>\n",
       "      <td>1368150055</td>\n",
       "    </tr>\n",
       "    <tr>\n",
       "      <th>9</th>\n",
       "      <td>65</td>\n",
       "      <td>1617</td>\n",
       "      <td>neo-noir</td>\n",
       "      <td>1368150217</td>\n",
       "    </tr>\n",
       "    <tr>\n",
       "      <th>10</th>\n",
       "      <td>65</td>\n",
       "      <td>1694</td>\n",
       "      <td>jesus</td>\n",
       "      <td>1368149925</td>\n",
       "    </tr>\n",
       "    <tr>\n",
       "      <th>11</th>\n",
       "      <td>65</td>\n",
       "      <td>1783</td>\n",
       "      <td>noir thriller</td>\n",
       "      <td>1368149983</td>\n",
       "    </tr>\n",
       "    <tr>\n",
       "      <th>12</th>\n",
       "      <td>65</td>\n",
       "      <td>2022</td>\n",
       "      <td>jesus</td>\n",
       "      <td>1368149925</td>\n",
       "    </tr>\n",
       "    <tr>\n",
       "      <th>13</th>\n",
       "      <td>65</td>\n",
       "      <td>2193</td>\n",
       "      <td>dragon</td>\n",
       "      <td>1368151314</td>\n",
       "    </tr>\n",
       "    <tr>\n",
       "      <th>14</th>\n",
       "      <td>65</td>\n",
       "      <td>2353</td>\n",
       "      <td>conspiracy theory</td>\n",
       "      <td>1368151266</td>\n",
       "    </tr>\n",
       "    <tr>\n",
       "      <th>15</th>\n",
       "      <td>65</td>\n",
       "      <td>2662</td>\n",
       "      <td>mars</td>\n",
       "      <td>1368150055</td>\n",
       "    </tr>\n",
       "    <tr>\n",
       "      <th>16</th>\n",
       "      <td>65</td>\n",
       "      <td>2726</td>\n",
       "      <td>noir thriller</td>\n",
       "      <td>1368149983</td>\n",
       "    </tr>\n",
       "    <tr>\n",
       "      <th>17</th>\n",
       "      <td>65</td>\n",
       "      <td>2840</td>\n",
       "      <td>jesus</td>\n",
       "      <td>1368149925</td>\n",
       "    </tr>\n",
       "    <tr>\n",
       "      <th>18</th>\n",
       "      <td>65</td>\n",
       "      <td>3052</td>\n",
       "      <td>jesus</td>\n",
       "      <td>1368149926</td>\n",
       "    </tr>\n",
       "    <tr>\n",
       "      <th>19</th>\n",
       "      <td>65</td>\n",
       "      <td>5135</td>\n",
       "      <td>bollywood</td>\n",
       "      <td>1368149876</td>\n",
       "    </tr>\n",
       "    <tr>\n",
       "      <th>20</th>\n",
       "      <td>65</td>\n",
       "      <td>6539</td>\n",
       "      <td>treasure</td>\n",
       "      <td>1368149949</td>\n",
       "    </tr>\n",
       "    <tr>\n",
       "      <th>21</th>\n",
       "      <td>65</td>\n",
       "      <td>6874</td>\n",
       "      <td>dark hero</td>\n",
       "      <td>1368150079</td>\n",
       "    </tr>\n",
       "    <tr>\n",
       "      <th>22</th>\n",
       "      <td>65</td>\n",
       "      <td>7013</td>\n",
       "      <td>noir thriller</td>\n",
       "      <td>1368149983</td>\n",
       "    </tr>\n",
       "    <tr>\n",
       "      <th>23</th>\n",
       "      <td>65</td>\n",
       "      <td>7318</td>\n",
       "      <td>jesus</td>\n",
       "      <td>1368149925</td>\n",
       "    </tr>\n",
       "    <tr>\n",
       "      <th>24</th>\n",
       "      <td>65</td>\n",
       "      <td>8529</td>\n",
       "      <td>stranded</td>\n",
       "      <td>1368150012</td>\n",
       "    </tr>\n",
       "    <tr>\n",
       "      <th>25</th>\n",
       "      <td>65</td>\n",
       "      <td>8622</td>\n",
       "      <td>conspiracy theory</td>\n",
       "      <td>1368151266</td>\n",
       "    </tr>\n",
       "    <tr>\n",
       "      <th>26</th>\n",
       "      <td>65</td>\n",
       "      <td>27803</td>\n",
       "      <td>Oscar (Best Foreign Language Film)</td>\n",
       "      <td>1305008715</td>\n",
       "    </tr>\n",
       "    <tr>\n",
       "      <th>27</th>\n",
       "      <td>65</td>\n",
       "      <td>27866</td>\n",
       "      <td>New Zealand</td>\n",
       "      <td>1304957153</td>\n",
       "    </tr>\n",
       "    <tr>\n",
       "      <th>28</th>\n",
       "      <td>65</td>\n",
       "      <td>48082</td>\n",
       "      <td>surreal</td>\n",
       "      <td>1304958354</td>\n",
       "    </tr>\n",
       "    <tr>\n",
       "      <th>29</th>\n",
       "      <td>65</td>\n",
       "      <td>48082</td>\n",
       "      <td>unusual</td>\n",
       "      <td>1304958359</td>\n",
       "    </tr>\n",
       "    <tr>\n",
       "      <th>...</th>\n",
       "      <td>...</td>\n",
       "      <td>...</td>\n",
       "      <td>...</td>\n",
       "      <td>...</td>\n",
       "    </tr>\n",
       "    <tr>\n",
       "      <th>465534</th>\n",
       "      <td>138436</td>\n",
       "      <td>81932</td>\n",
       "      <td>big hair</td>\n",
       "      <td>1298754654</td>\n",
       "    </tr>\n",
       "    <tr>\n",
       "      <th>465535</th>\n",
       "      <td>138436</td>\n",
       "      <td>81932</td>\n",
       "      <td>Mark Wahlberg</td>\n",
       "      <td>1298754636</td>\n",
       "    </tr>\n",
       "    <tr>\n",
       "      <th>465536</th>\n",
       "      <td>138436</td>\n",
       "      <td>81932</td>\n",
       "      <td>pigs</td>\n",
       "      <td>1298754658</td>\n",
       "    </tr>\n",
       "    <tr>\n",
       "      <th>465537</th>\n",
       "      <td>138436</td>\n",
       "      <td>81932</td>\n",
       "      <td>prostitution</td>\n",
       "      <td>1298754620</td>\n",
       "    </tr>\n",
       "    <tr>\n",
       "      <th>465538</th>\n",
       "      <td>138437</td>\n",
       "      <td>77154</td>\n",
       "      <td>This movie should have been called \"How Cocain...</td>\n",
       "      <td>1357384633</td>\n",
       "    </tr>\n",
       "    <tr>\n",
       "      <th>465539</th>\n",
       "      <td>138446</td>\n",
       "      <td>317</td>\n",
       "      <td>Christmas</td>\n",
       "      <td>1358983914</td>\n",
       "    </tr>\n",
       "    <tr>\n",
       "      <th>465540</th>\n",
       "      <td>138446</td>\n",
       "      <td>317</td>\n",
       "      <td>funny</td>\n",
       "      <td>1358983914</td>\n",
       "    </tr>\n",
       "    <tr>\n",
       "      <th>465541</th>\n",
       "      <td>138446</td>\n",
       "      <td>317</td>\n",
       "      <td>Judge Reinhold</td>\n",
       "      <td>1358983914</td>\n",
       "    </tr>\n",
       "    <tr>\n",
       "      <th>465542</th>\n",
       "      <td>138446</td>\n",
       "      <td>317</td>\n",
       "      <td>Tim Allen</td>\n",
       "      <td>1358983914</td>\n",
       "    </tr>\n",
       "    <tr>\n",
       "      <th>465543</th>\n",
       "      <td>138446</td>\n",
       "      <td>317</td>\n",
       "      <td>whiny kid</td>\n",
       "      <td>1358983946</td>\n",
       "    </tr>\n",
       "    <tr>\n",
       "      <th>465544</th>\n",
       "      <td>138446</td>\n",
       "      <td>837</td>\n",
       "      <td>family friendly</td>\n",
       "      <td>1358983693</td>\n",
       "    </tr>\n",
       "    <tr>\n",
       "      <th>465545</th>\n",
       "      <td>138446</td>\n",
       "      <td>918</td>\n",
       "      <td>halloween scene</td>\n",
       "      <td>1358984062</td>\n",
       "    </tr>\n",
       "    <tr>\n",
       "      <th>465546</th>\n",
       "      <td>138446</td>\n",
       "      <td>918</td>\n",
       "      <td>quirky</td>\n",
       "      <td>1358984051</td>\n",
       "    </tr>\n",
       "    <tr>\n",
       "      <th>465547</th>\n",
       "      <td>138446</td>\n",
       "      <td>2396</td>\n",
       "      <td>topless scene</td>\n",
       "      <td>1358973995</td>\n",
       "    </tr>\n",
       "    <tr>\n",
       "      <th>465548</th>\n",
       "      <td>138446</td>\n",
       "      <td>3086</td>\n",
       "      <td>Christmas</td>\n",
       "      <td>1358983979</td>\n",
       "    </tr>\n",
       "    <tr>\n",
       "      <th>465549</th>\n",
       "      <td>138446</td>\n",
       "      <td>3086</td>\n",
       "      <td>classic</td>\n",
       "      <td>1358983979</td>\n",
       "    </tr>\n",
       "    <tr>\n",
       "      <th>465550</th>\n",
       "      <td>138446</td>\n",
       "      <td>3086</td>\n",
       "      <td>funny</td>\n",
       "      <td>1358983979</td>\n",
       "    </tr>\n",
       "    <tr>\n",
       "      <th>465551</th>\n",
       "      <td>138446</td>\n",
       "      <td>3086</td>\n",
       "      <td>scary</td>\n",
       "      <td>1358984001</td>\n",
       "    </tr>\n",
       "    <tr>\n",
       "      <th>465552</th>\n",
       "      <td>138446</td>\n",
       "      <td>3489</td>\n",
       "      <td>Peter Pan</td>\n",
       "      <td>1358983822</td>\n",
       "    </tr>\n",
       "    <tr>\n",
       "      <th>465553</th>\n",
       "      <td>138446</td>\n",
       "      <td>3489</td>\n",
       "      <td>soundtrack</td>\n",
       "      <td>1358983822</td>\n",
       "    </tr>\n",
       "    <tr>\n",
       "      <th>465554</th>\n",
       "      <td>138446</td>\n",
       "      <td>3489</td>\n",
       "      <td>visually appealing</td>\n",
       "      <td>1358983822</td>\n",
       "    </tr>\n",
       "    <tr>\n",
       "      <th>465555</th>\n",
       "      <td>138446</td>\n",
       "      <td>7045</td>\n",
       "      <td>family friendly</td>\n",
       "      <td>1358983660</td>\n",
       "    </tr>\n",
       "    <tr>\n",
       "      <th>465556</th>\n",
       "      <td>138446</td>\n",
       "      <td>7045</td>\n",
       "      <td>Scary Movies To See on Halloween</td>\n",
       "      <td>1358983660</td>\n",
       "    </tr>\n",
       "    <tr>\n",
       "      <th>465557</th>\n",
       "      <td>138446</td>\n",
       "      <td>7164</td>\n",
       "      <td>Peter Pan</td>\n",
       "      <td>1358983855</td>\n",
       "    </tr>\n",
       "    <tr>\n",
       "      <th>465558</th>\n",
       "      <td>138446</td>\n",
       "      <td>7164</td>\n",
       "      <td>visually appealing</td>\n",
       "      <td>1358983855</td>\n",
       "    </tr>\n",
       "    <tr>\n",
       "      <th>465559</th>\n",
       "      <td>138446</td>\n",
       "      <td>55999</td>\n",
       "      <td>dragged</td>\n",
       "      <td>1358983772</td>\n",
       "    </tr>\n",
       "    <tr>\n",
       "      <th>465560</th>\n",
       "      <td>138446</td>\n",
       "      <td>55999</td>\n",
       "      <td>Jason Bateman</td>\n",
       "      <td>1358983778</td>\n",
       "    </tr>\n",
       "    <tr>\n",
       "      <th>465561</th>\n",
       "      <td>138446</td>\n",
       "      <td>55999</td>\n",
       "      <td>quirky</td>\n",
       "      <td>1358983778</td>\n",
       "    </tr>\n",
       "    <tr>\n",
       "      <th>465562</th>\n",
       "      <td>138446</td>\n",
       "      <td>55999</td>\n",
       "      <td>sad</td>\n",
       "      <td>1358983772</td>\n",
       "    </tr>\n",
       "    <tr>\n",
       "      <th>465563</th>\n",
       "      <td>138472</td>\n",
       "      <td>923</td>\n",
       "      <td>rise to power</td>\n",
       "      <td>1194037967</td>\n",
       "    </tr>\n",
       "  </tbody>\n",
       "</table>\n",
       "<p>465548 rows × 4 columns</p>\n",
       "</div>"
      ],
      "text/plain": [
       "        userID  movieId                                                tag  \\\n",
       "0           18     4141                                        Mark Waters   \n",
       "1           65      208                                          dark hero   \n",
       "2           65      353                                          dark hero   \n",
       "3           65      521                                      noir thriller   \n",
       "4           65      592                                          dark hero   \n",
       "5           65      668                                          bollywood   \n",
       "6           65      898                                   screwball comedy   \n",
       "7           65     1248                                      noir thriller   \n",
       "8           65     1391                                               mars   \n",
       "9           65     1617                                           neo-noir   \n",
       "10          65     1694                                              jesus   \n",
       "11          65     1783                                      noir thriller   \n",
       "12          65     2022                                              jesus   \n",
       "13          65     2193                                             dragon   \n",
       "14          65     2353                                  conspiracy theory   \n",
       "15          65     2662                                               mars   \n",
       "16          65     2726                                      noir thriller   \n",
       "17          65     2840                                              jesus   \n",
       "18          65     3052                                              jesus   \n",
       "19          65     5135                                          bollywood   \n",
       "20          65     6539                                           treasure   \n",
       "21          65     6874                                          dark hero   \n",
       "22          65     7013                                      noir thriller   \n",
       "23          65     7318                                              jesus   \n",
       "24          65     8529                                           stranded   \n",
       "25          65     8622                                  conspiracy theory   \n",
       "26          65    27803                 Oscar (Best Foreign Language Film)   \n",
       "27          65    27866                                        New Zealand   \n",
       "28          65    48082                                            surreal   \n",
       "29          65    48082                                            unusual   \n",
       "...        ...      ...                                                ...   \n",
       "465534  138436    81932                                           big hair   \n",
       "465535  138436    81932                                      Mark Wahlberg   \n",
       "465536  138436    81932                                               pigs   \n",
       "465537  138436    81932                                       prostitution   \n",
       "465538  138437    77154  This movie should have been called \"How Cocain...   \n",
       "465539  138446      317                                          Christmas   \n",
       "465540  138446      317                                              funny   \n",
       "465541  138446      317                                     Judge Reinhold   \n",
       "465542  138446      317                                          Tim Allen   \n",
       "465543  138446      317                                          whiny kid   \n",
       "465544  138446      837                                    family friendly   \n",
       "465545  138446      918                                    halloween scene   \n",
       "465546  138446      918                                             quirky   \n",
       "465547  138446     2396                                      topless scene   \n",
       "465548  138446     3086                                          Christmas   \n",
       "465549  138446     3086                                            classic   \n",
       "465550  138446     3086                                              funny   \n",
       "465551  138446     3086                                              scary   \n",
       "465552  138446     3489                                          Peter Pan   \n",
       "465553  138446     3489                                         soundtrack   \n",
       "465554  138446     3489                                 visually appealing   \n",
       "465555  138446     7045                                    family friendly   \n",
       "465556  138446     7045                   Scary Movies To See on Halloween   \n",
       "465557  138446     7164                                          Peter Pan   \n",
       "465558  138446     7164                                 visually appealing   \n",
       "465559  138446    55999                                            dragged   \n",
       "465560  138446    55999                                      Jason Bateman   \n",
       "465561  138446    55999                                             quirky   \n",
       "465562  138446    55999                                                sad   \n",
       "465563  138472      923                                      rise to power   \n",
       "\n",
       "         timestamp  \n",
       "0       1240597180  \n",
       "1       1368150078  \n",
       "2       1368150079  \n",
       "3       1368149983  \n",
       "4       1368150078  \n",
       "5       1368149876  \n",
       "6       1368150160  \n",
       "7       1368149983  \n",
       "8       1368150055  \n",
       "9       1368150217  \n",
       "10      1368149925  \n",
       "11      1368149983  \n",
       "12      1368149925  \n",
       "13      1368151314  \n",
       "14      1368151266  \n",
       "15      1368150055  \n",
       "16      1368149983  \n",
       "17      1368149925  \n",
       "18      1368149926  \n",
       "19      1368149876  \n",
       "20      1368149949  \n",
       "21      1368150079  \n",
       "22      1368149983  \n",
       "23      1368149925  \n",
       "24      1368150012  \n",
       "25      1368151266  \n",
       "26      1305008715  \n",
       "27      1304957153  \n",
       "28      1304958354  \n",
       "29      1304958359  \n",
       "...            ...  \n",
       "465534  1298754654  \n",
       "465535  1298754636  \n",
       "465536  1298754658  \n",
       "465537  1298754620  \n",
       "465538  1357384633  \n",
       "465539  1358983914  \n",
       "465540  1358983914  \n",
       "465541  1358983914  \n",
       "465542  1358983914  \n",
       "465543  1358983946  \n",
       "465544  1358983693  \n",
       "465545  1358984062  \n",
       "465546  1358984051  \n",
       "465547  1358973995  \n",
       "465548  1358983979  \n",
       "465549  1358983979  \n",
       "465550  1358983979  \n",
       "465551  1358984001  \n",
       "465552  1358983822  \n",
       "465553  1358983822  \n",
       "465554  1358983822  \n",
       "465555  1358983660  \n",
       "465556  1358983660  \n",
       "465557  1358983855  \n",
       "465558  1358983855  \n",
       "465559  1358983772  \n",
       "465560  1358983778  \n",
       "465561  1358983778  \n",
       "465562  1358983772  \n",
       "465563  1194037967  \n",
       "\n",
       "[465548 rows x 4 columns]"
      ]
     },
     "execution_count": 40,
     "metadata": {},
     "output_type": "execute_result"
    }
   ],
   "source": [
    "tags.dropna()"
   ]
  },
  {
   "cell_type": "code",
   "execution_count": 41,
   "metadata": {
    "collapsed": false
   },
   "outputs": [
    {
     "data": {
      "text/html": [
       "<div>\n",
       "<table border=\"1\" class=\"dataframe\">\n",
       "  <thead>\n",
       "    <tr style=\"text-align: right;\">\n",
       "      <th></th>\n",
       "      <th>A</th>\n",
       "      <th>B</th>\n",
       "      <th>C</th>\n",
       "      <th>D</th>\n",
       "    </tr>\n",
       "  </thead>\n",
       "  <tbody>\n",
       "    <tr>\n",
       "      <th>1</th>\n",
       "      <td>899</td>\n",
       "      <td>700.0</td>\n",
       "      <td>372.0</td>\n",
       "      <td>416.0</td>\n",
       "    </tr>\n",
       "    <tr>\n",
       "      <th>3</th>\n",
       "      <td>837</td>\n",
       "      <td>130.0</td>\n",
       "      <td>915.0</td>\n",
       "      <td>615.0</td>\n",
       "    </tr>\n",
       "    <tr>\n",
       "      <th>5</th>\n",
       "      <td>966</td>\n",
       "      <td>565.0</td>\n",
       "      <td>62.0</td>\n",
       "      <td>689.0</td>\n",
       "    </tr>\n",
       "  </tbody>\n",
       "</table>\n",
       "</div>"
      ],
      "text/plain": [
       "     A      B      C      D\n",
       "1  899  700.0  372.0  416.0\n",
       "3  837  130.0  915.0  615.0\n",
       "5  966  565.0   62.0  689.0"
      ]
     },
     "execution_count": 41,
     "metadata": {},
     "output_type": "execute_result"
    }
   ],
   "source": [
    "d.dropna()"
   ]
  },
  {
   "cell_type": "code",
   "execution_count": 42,
   "metadata": {
    "collapsed": false
   },
   "outputs": [
    {
     "data": {
      "text/html": [
       "<div>\n",
       "<table border=\"1\" class=\"dataframe\">\n",
       "  <thead>\n",
       "    <tr style=\"text-align: right;\">\n",
       "      <th></th>\n",
       "      <th>A</th>\n",
       "      <th>B</th>\n",
       "      <th>C</th>\n",
       "      <th>D</th>\n",
       "    </tr>\n",
       "  </thead>\n",
       "  <tbody>\n",
       "    <tr>\n",
       "      <th>0</th>\n",
       "      <td>919</td>\n",
       "      <td>NaN</td>\n",
       "      <td>572.0</td>\n",
       "      <td>554.0</td>\n",
       "    </tr>\n",
       "    <tr>\n",
       "      <th>1</th>\n",
       "      <td>899</td>\n",
       "      <td>700.0</td>\n",
       "      <td>372.0</td>\n",
       "      <td>416.0</td>\n",
       "    </tr>\n",
       "    <tr>\n",
       "      <th>2</th>\n",
       "      <td>828</td>\n",
       "      <td>535.0</td>\n",
       "      <td>NaN</td>\n",
       "      <td>759.0</td>\n",
       "    </tr>\n",
       "    <tr>\n",
       "      <th>3</th>\n",
       "      <td>837</td>\n",
       "      <td>130.0</td>\n",
       "      <td>915.0</td>\n",
       "      <td>615.0</td>\n",
       "    </tr>\n",
       "    <tr>\n",
       "      <th>4</th>\n",
       "      <td>149</td>\n",
       "      <td>66.0</td>\n",
       "      <td>232.0</td>\n",
       "      <td>NaN</td>\n",
       "    </tr>\n",
       "    <tr>\n",
       "      <th>5</th>\n",
       "      <td>966</td>\n",
       "      <td>565.0</td>\n",
       "      <td>62.0</td>\n",
       "      <td>689.0</td>\n",
       "    </tr>\n",
       "  </tbody>\n",
       "</table>\n",
       "</div>"
      ],
      "text/plain": [
       "     A      B      C      D\n",
       "0  919    NaN  572.0  554.0\n",
       "1  899  700.0  372.0  416.0\n",
       "2  828  535.0    NaN  759.0\n",
       "3  837  130.0  915.0  615.0\n",
       "4  149   66.0  232.0    NaN\n",
       "5  966  565.0   62.0  689.0"
      ]
     },
     "execution_count": 42,
     "metadata": {},
     "output_type": "execute_result"
    }
   ],
   "source": [
    "d"
   ]
  },
  {
   "cell_type": "code",
   "execution_count": 43,
   "metadata": {
    "collapsed": false
   },
   "outputs": [
    {
     "data": {
      "text/html": [
       "<div>\n",
       "<table border=\"1\" class=\"dataframe\">\n",
       "  <thead>\n",
       "    <tr style=\"text-align: right;\">\n",
       "      <th></th>\n",
       "      <th>A</th>\n",
       "      <th>B</th>\n",
       "      <th>C</th>\n",
       "      <th>D</th>\n",
       "    </tr>\n",
       "  </thead>\n",
       "  <tbody>\n",
       "    <tr>\n",
       "      <th>0</th>\n",
       "      <td>919</td>\n",
       "      <td>NaN</td>\n",
       "      <td>572.0</td>\n",
       "      <td>554.0</td>\n",
       "    </tr>\n",
       "    <tr>\n",
       "      <th>1</th>\n",
       "      <td>899</td>\n",
       "      <td>700.0</td>\n",
       "      <td>372.0</td>\n",
       "      <td>416.0</td>\n",
       "    </tr>\n",
       "    <tr>\n",
       "      <th>2</th>\n",
       "      <td>828</td>\n",
       "      <td>535.0</td>\n",
       "      <td>NaN</td>\n",
       "      <td>759.0</td>\n",
       "    </tr>\n",
       "  </tbody>\n",
       "</table>\n",
       "</div>"
      ],
      "text/plain": [
       "     A      B      C      D\n",
       "0  919    NaN  572.0  554.0\n",
       "1  899  700.0  372.0  416.0\n",
       "2  828  535.0    NaN  759.0"
      ]
     },
     "execution_count": 43,
     "metadata": {},
     "output_type": "execute_result"
    }
   ],
   "source": [
    "d.head(3)"
   ]
  },
  {
   "cell_type": "code",
   "execution_count": 44,
   "metadata": {
    "collapsed": false
   },
   "outputs": [
    {
     "data": {
      "text/html": [
       "<div>\n",
       "<table border=\"1\" class=\"dataframe\">\n",
       "  <thead>\n",
       "    <tr style=\"text-align: right;\">\n",
       "      <th></th>\n",
       "      <th>A</th>\n",
       "      <th>B</th>\n",
       "      <th>C</th>\n",
       "      <th>D</th>\n",
       "    </tr>\n",
       "  </thead>\n",
       "  <tbody>\n",
       "    <tr>\n",
       "      <th>4</th>\n",
       "      <td>149</td>\n",
       "      <td>66.0</td>\n",
       "      <td>232.0</td>\n",
       "      <td>NaN</td>\n",
       "    </tr>\n",
       "    <tr>\n",
       "      <th>5</th>\n",
       "      <td>966</td>\n",
       "      <td>565.0</td>\n",
       "      <td>62.0</td>\n",
       "      <td>689.0</td>\n",
       "    </tr>\n",
       "  </tbody>\n",
       "</table>\n",
       "</div>"
      ],
      "text/plain": [
       "     A      B      C      D\n",
       "4  149   66.0  232.0    NaN\n",
       "5  966  565.0   62.0  689.0"
      ]
     },
     "execution_count": 44,
     "metadata": {},
     "output_type": "execute_result"
    }
   ],
   "source": [
    "d.tail(2)"
   ]
  },
  {
   "cell_type": "code",
   "execution_count": 45,
   "metadata": {
    "collapsed": false
   },
   "outputs": [
    {
     "data": {
      "text/plain": [
       "A    0\n",
       "B    1\n",
       "C    1\n",
       "D    1\n",
       "dtype: int64"
      ]
     },
     "execution_count": 45,
     "metadata": {},
     "output_type": "execute_result"
    }
   ],
   "source": [
    "# this is very important to find number of missing values in each column\n",
    "d.isnull().sum()"
   ]
  },
  {
   "cell_type": "code",
   "execution_count": 46,
   "metadata": {
    "collapsed": false
   },
   "outputs": [
    {
     "data": {
      "text/plain": [
       "A    6\n",
       "B    5\n",
       "C    5\n",
       "D    5\n",
       "dtype: int64"
      ]
     },
     "execution_count": 46,
     "metadata": {},
     "output_type": "execute_result"
    }
   ],
   "source": [
    "d.notnull().sum()"
   ]
  },
  {
   "cell_type": "code",
   "execution_count": 47,
   "metadata": {
    "collapsed": false
   },
   "outputs": [
    {
     "data": {
      "text/html": [
       "<div>\n",
       "<table border=\"1\" class=\"dataframe\">\n",
       "  <thead>\n",
       "    <tr style=\"text-align: right;\">\n",
       "      <th></th>\n",
       "      <th>A</th>\n",
       "      <th>B</th>\n",
       "      <th>C</th>\n",
       "      <th>D</th>\n",
       "    </tr>\n",
       "  </thead>\n",
       "  <tbody>\n",
       "    <tr>\n",
       "      <th>0</th>\n",
       "      <td>919</td>\n",
       "      <td>NaN</td>\n",
       "      <td>572.0</td>\n",
       "      <td>554.0</td>\n",
       "    </tr>\n",
       "    <tr>\n",
       "      <th>1</th>\n",
       "      <td>899</td>\n",
       "      <td>700.0</td>\n",
       "      <td>372.0</td>\n",
       "      <td>416.0</td>\n",
       "    </tr>\n",
       "    <tr>\n",
       "      <th>2</th>\n",
       "      <td>828</td>\n",
       "      <td>535.0</td>\n",
       "      <td>NaN</td>\n",
       "      <td>759.0</td>\n",
       "    </tr>\n",
       "    <tr>\n",
       "      <th>3</th>\n",
       "      <td>837</td>\n",
       "      <td>130.0</td>\n",
       "      <td>915.0</td>\n",
       "      <td>615.0</td>\n",
       "    </tr>\n",
       "    <tr>\n",
       "      <th>4</th>\n",
       "      <td>149</td>\n",
       "      <td>66.0</td>\n",
       "      <td>232.0</td>\n",
       "      <td>NaN</td>\n",
       "    </tr>\n",
       "    <tr>\n",
       "      <th>5</th>\n",
       "      <td>966</td>\n",
       "      <td>565.0</td>\n",
       "      <td>62.0</td>\n",
       "      <td>689.0</td>\n",
       "    </tr>\n",
       "  </tbody>\n",
       "</table>\n",
       "</div>"
      ],
      "text/plain": [
       "     A      B      C      D\n",
       "0  919    NaN  572.0  554.0\n",
       "1  899  700.0  372.0  416.0\n",
       "2  828  535.0    NaN  759.0\n",
       "3  837  130.0  915.0  615.0\n",
       "4  149   66.0  232.0    NaN\n",
       "5  966  565.0   62.0  689.0"
      ]
     },
     "execution_count": 47,
     "metadata": {},
     "output_type": "execute_result"
    }
   ],
   "source": [
    "d"
   ]
  },
  {
   "cell_type": "code",
   "execution_count": 48,
   "metadata": {
    "collapsed": false
   },
   "outputs": [
    {
     "data": {
      "text/plain": [
       "0     True\n",
       "1    False\n",
       "2     True\n",
       "3    False\n",
       "4     True\n",
       "5    False\n",
       "dtype: bool"
      ]
     },
     "execution_count": 48,
     "metadata": {},
     "output_type": "execute_result"
    }
   ],
   "source": [
    "d.isnull().any(axis = 1)"
   ]
  },
  {
   "cell_type": "code",
   "execution_count": 65,
   "metadata": {
    "collapsed": false
   },
   "outputs": [
    {
     "data": {
      "text/plain": [
       "A    False\n",
       "B     True\n",
       "C     True\n",
       "D     True\n",
       "dtype: bool"
      ]
     },
     "execution_count": 65,
     "metadata": {},
     "output_type": "execute_result"
    }
   ],
   "source": [
    "d.isnull().any(axis = 0)"
   ]
  },
  {
   "cell_type": "code",
   "execution_count": 74,
   "metadata": {
    "collapsed": false
   },
   "outputs": [
    {
     "data": {
      "text/plain": [
       "A    False\n",
       "B     True\n",
       "C     True\n",
       "D     True\n",
       "dtype: bool"
      ]
     },
     "execution_count": 74,
     "metadata": {},
     "output_type": "execute_result"
    }
   ],
   "source": [
    "d.isnull().any()"
   ]
  },
  {
   "cell_type": "code",
   "execution_count": 75,
   "metadata": {
    "collapsed": false
   },
   "outputs": [
    {
     "data": {
      "text/plain": [
       "A    0\n",
       "B    1\n",
       "C    1\n",
       "D    1\n",
       "dtype: int64"
      ]
     },
     "execution_count": 75,
     "metadata": {},
     "output_type": "execute_result"
    }
   ],
   "source": [
    "d.isnull().sum()"
   ]
  },
  {
   "cell_type": "code",
   "execution_count": 71,
   "metadata": {
    "collapsed": false
   },
   "outputs": [
    {
     "data": {
      "text/plain": [
       "A    0\n",
       "B    1\n",
       "C    1\n",
       "D    1\n",
       "dtype: int64"
      ]
     },
     "execution_count": 71,
     "metadata": {},
     "output_type": "execute_result"
    }
   ],
   "source": [
    "d.isnull().sum(axis = 0)"
   ]
  },
  {
   "cell_type": "code",
   "execution_count": 73,
   "metadata": {
    "collapsed": false
   },
   "outputs": [
    {
     "data": {
      "text/plain": [
       "0    1\n",
       "1    0\n",
       "2    1\n",
       "3    0\n",
       "4    1\n",
       "5    0\n",
       "dtype: int64"
      ]
     },
     "execution_count": 73,
     "metadata": {},
     "output_type": "execute_result"
    }
   ],
   "source": [
    "d.isnull().sum(axis = 1)"
   ]
  },
  {
   "cell_type": "code",
   "execution_count": 66,
   "metadata": {
    "collapsed": false
   },
   "outputs": [
    {
     "data": {
      "text/plain": [
       "0    403\n",
       "1     93\n",
       "2     25\n",
       "3    742\n",
       "4    987\n",
       "5    918\n",
       "Name: A, dtype: int32"
      ]
     },
     "execution_count": 66,
     "metadata": {},
     "output_type": "execute_result"
    }
   ],
   "source": [
    "d['A']"
   ]
  },
  {
   "cell_type": "code",
   "execution_count": 52,
   "metadata": {
    "collapsed": true
   },
   "outputs": [],
   "source": [
    "d1 = {'one' : pd.Series([100., 200., 300.], index=['apple', 'ball', 'clock']),\n",
    "     'two' : pd.Series([111., 222., 333., 4444.], index=['apple', 'ball', 'cerill', 'dancy'])}"
   ]
  },
  {
   "cell_type": "code",
   "execution_count": 53,
   "metadata": {
    "collapsed": false
   },
   "outputs": [
    {
     "data": {
      "text/html": [
       "<div>\n",
       "<table border=\"1\" class=\"dataframe\">\n",
       "  <thead>\n",
       "    <tr style=\"text-align: right;\">\n",
       "      <th></th>\n",
       "      <th>0</th>\n",
       "      <th>1</th>\n",
       "      <th>2</th>\n",
       "      <th>3</th>\n",
       "    </tr>\n",
       "  </thead>\n",
       "  <tbody>\n",
       "    <tr>\n",
       "      <th>0</th>\n",
       "      <td>1</td>\n",
       "      <td>2</td>\n",
       "      <td>3</td>\n",
       "      <td>4</td>\n",
       "    </tr>\n",
       "    <tr>\n",
       "      <th>1</th>\n",
       "      <td>2344</td>\n",
       "      <td>55</td>\n",
       "      <td>55</td>\n",
       "      <td>54</td>\n",
       "    </tr>\n",
       "  </tbody>\n",
       "</table>\n",
       "</div>"
      ],
      "text/plain": [
       "      0   1   2   3\n",
       "0     1   2   3   4\n",
       "1  2344  55  55  54"
      ]
     },
     "execution_count": 53,
     "metadata": {},
     "output_type": "execute_result"
    }
   ],
   "source": [
    "d2= [[1,2,3,4],[2344,55,55,54]]\n",
    "pd.DataFrame(d2)"
   ]
  },
  {
   "cell_type": "code",
   "execution_count": 54,
   "metadata": {
    "collapsed": false
   },
   "outputs": [
    {
     "data": {
      "text/html": [
       "<div>\n",
       "<table border=\"1\" class=\"dataframe\">\n",
       "  <thead>\n",
       "    <tr style=\"text-align: right;\">\n",
       "      <th></th>\n",
       "      <th>one</th>\n",
       "      <th>two</th>\n",
       "    </tr>\n",
       "  </thead>\n",
       "  <tbody>\n",
       "    <tr>\n",
       "      <th>apple</th>\n",
       "      <td>100.0</td>\n",
       "      <td>111.0</td>\n",
       "    </tr>\n",
       "    <tr>\n",
       "      <th>ball</th>\n",
       "      <td>200.0</td>\n",
       "      <td>222.0</td>\n",
       "    </tr>\n",
       "    <tr>\n",
       "      <th>cerill</th>\n",
       "      <td>NaN</td>\n",
       "      <td>333.0</td>\n",
       "    </tr>\n",
       "    <tr>\n",
       "      <th>clock</th>\n",
       "      <td>300.0</td>\n",
       "      <td>NaN</td>\n",
       "    </tr>\n",
       "    <tr>\n",
       "      <th>dancy</th>\n",
       "      <td>NaN</td>\n",
       "      <td>4444.0</td>\n",
       "    </tr>\n",
       "  </tbody>\n",
       "</table>\n",
       "</div>"
      ],
      "text/plain": [
       "          one     two\n",
       "apple   100.0   111.0\n",
       "ball    200.0   222.0\n",
       "cerill    NaN   333.0\n",
       "clock   300.0     NaN\n",
       "dancy     NaN  4444.0"
      ]
     },
     "execution_count": 54,
     "metadata": {},
     "output_type": "execute_result"
    }
   ],
   "source": [
    "pd.DataFrame(d1)"
   ]
  },
  {
   "cell_type": "code",
   "execution_count": 55,
   "metadata": {
    "collapsed": false
   },
   "outputs": [
    {
     "data": {
      "text/plain": [
       "0    False\n",
       "1    False\n",
       "2    False\n",
       "3    False\n",
       "4    False\n",
       "5    False\n",
       "Name: A, dtype: bool"
      ]
     },
     "execution_count": 55,
     "metadata": {},
     "output_type": "execute_result"
    }
   ],
   "source": [
    "d.A.isnull()"
   ]
  },
  {
   "cell_type": "code",
   "execution_count": 58,
   "metadata": {
    "collapsed": false
   },
   "outputs": [
    {
     "data": {
      "text/html": [
       "<div>\n",
       "<table border=\"1\" class=\"dataframe\">\n",
       "  <thead>\n",
       "    <tr style=\"text-align: right;\">\n",
       "      <th></th>\n",
       "      <th>A</th>\n",
       "      <th>B</th>\n",
       "      <th>C</th>\n",
       "      <th>D</th>\n",
       "    </tr>\n",
       "  </thead>\n",
       "  <tbody>\n",
       "    <tr>\n",
       "      <th>0</th>\n",
       "      <td>919</td>\n",
       "      <td>NaN</td>\n",
       "      <td>572.0</td>\n",
       "      <td>554.0</td>\n",
       "    </tr>\n",
       "    <tr>\n",
       "      <th>1</th>\n",
       "      <td>899</td>\n",
       "      <td>700.0</td>\n",
       "      <td>372.0</td>\n",
       "      <td>416.0</td>\n",
       "    </tr>\n",
       "    <tr>\n",
       "      <th>2</th>\n",
       "      <td>828</td>\n",
       "      <td>535.0</td>\n",
       "      <td>NaN</td>\n",
       "      <td>759.0</td>\n",
       "    </tr>\n",
       "    <tr>\n",
       "      <th>3</th>\n",
       "      <td>837</td>\n",
       "      <td>130.0</td>\n",
       "      <td>915.0</td>\n",
       "      <td>615.0</td>\n",
       "    </tr>\n",
       "    <tr>\n",
       "      <th>4</th>\n",
       "      <td>149</td>\n",
       "      <td>66.0</td>\n",
       "      <td>232.0</td>\n",
       "      <td>NaN</td>\n",
       "    </tr>\n",
       "    <tr>\n",
       "      <th>5</th>\n",
       "      <td>966</td>\n",
       "      <td>565.0</td>\n",
       "      <td>62.0</td>\n",
       "      <td>689.0</td>\n",
       "    </tr>\n",
       "  </tbody>\n",
       "</table>\n",
       "</div>"
      ],
      "text/plain": [
       "     A      B      C      D\n",
       "0  919    NaN  572.0  554.0\n",
       "1  899  700.0  372.0  416.0\n",
       "2  828  535.0    NaN  759.0\n",
       "3  837  130.0  915.0  615.0\n",
       "4  149   66.0  232.0    NaN\n",
       "5  966  565.0   62.0  689.0"
      ]
     },
     "execution_count": 58,
     "metadata": {},
     "output_type": "execute_result"
    }
   ],
   "source": [
    "d"
   ]
  },
  {
   "cell_type": "code",
   "execution_count": 56,
   "metadata": {
    "collapsed": false
   },
   "outputs": [
    {
     "data": {
      "text/plain": [
       "1"
      ]
     },
     "execution_count": 56,
     "metadata": {},
     "output_type": "execute_result"
    }
   ],
   "source": [
    "d.B.isnull().sum()"
   ]
  },
  {
   "cell_type": "code",
   "execution_count": 59,
   "metadata": {
    "collapsed": false
   },
   "outputs": [
    {
     "data": {
      "text/html": [
       "<div>\n",
       "<table border=\"1\" class=\"dataframe\">\n",
       "  <thead>\n",
       "    <tr style=\"text-align: right;\">\n",
       "      <th></th>\n",
       "      <th>A</th>\n",
       "      <th>B</th>\n",
       "      <th>C</th>\n",
       "      <th>D</th>\n",
       "    </tr>\n",
       "  </thead>\n",
       "  <tbody>\n",
       "    <tr>\n",
       "      <th>0</th>\n",
       "      <td>919</td>\n",
       "      <td>NaN</td>\n",
       "      <td>572.0</td>\n",
       "      <td>554.0</td>\n",
       "    </tr>\n",
       "  </tbody>\n",
       "</table>\n",
       "</div>"
      ],
      "text/plain": [
       "     A   B      C      D\n",
       "0  919 NaN  572.0  554.0"
      ]
     },
     "execution_count": 59,
     "metadata": {},
     "output_type": "execute_result"
    }
   ],
   "source": [
    "# this is very important\n",
    "# this is to findout the place of the missing values\n",
    "d[d.B.isnull()]"
   ]
  },
  {
   "cell_type": "code",
   "execution_count": 60,
   "metadata": {
    "collapsed": false
   },
   "outputs": [
    {
     "name": "stdout",
     "output_type": "stream",
     "text": [
      "     A      B   C      D\n",
      "2  828  535.0 NaN  759.0\n"
     ]
    }
   ],
   "source": [
    "print d[d.C.isnull()]\n",
    "d.iloc[4,1] = np.nan"
   ]
  },
  {
   "cell_type": "code",
   "execution_count": 62,
   "metadata": {
    "collapsed": false
   },
   "outputs": [
    {
     "data": {
      "text/html": [
       "<div>\n",
       "<table border=\"1\" class=\"dataframe\">\n",
       "  <thead>\n",
       "    <tr style=\"text-align: right;\">\n",
       "      <th></th>\n",
       "      <th>A</th>\n",
       "      <th>B</th>\n",
       "      <th>C</th>\n",
       "      <th>D</th>\n",
       "    </tr>\n",
       "  </thead>\n",
       "  <tbody>\n",
       "    <tr>\n",
       "      <th>0</th>\n",
       "      <td>919</td>\n",
       "      <td>NaN</td>\n",
       "      <td>572.0</td>\n",
       "      <td>554.0</td>\n",
       "    </tr>\n",
       "    <tr>\n",
       "      <th>1</th>\n",
       "      <td>899</td>\n",
       "      <td>700.0</td>\n",
       "      <td>372.0</td>\n",
       "      <td>416.0</td>\n",
       "    </tr>\n",
       "    <tr>\n",
       "      <th>2</th>\n",
       "      <td>828</td>\n",
       "      <td>535.0</td>\n",
       "      <td>NaN</td>\n",
       "      <td>759.0</td>\n",
       "    </tr>\n",
       "    <tr>\n",
       "      <th>3</th>\n",
       "      <td>837</td>\n",
       "      <td>130.0</td>\n",
       "      <td>915.0</td>\n",
       "      <td>615.0</td>\n",
       "    </tr>\n",
       "    <tr>\n",
       "      <th>4</th>\n",
       "      <td>149</td>\n",
       "      <td>NaN</td>\n",
       "      <td>232.0</td>\n",
       "      <td>NaN</td>\n",
       "    </tr>\n",
       "    <tr>\n",
       "      <th>5</th>\n",
       "      <td>966</td>\n",
       "      <td>565.0</td>\n",
       "      <td>62.0</td>\n",
       "      <td>689.0</td>\n",
       "    </tr>\n",
       "  </tbody>\n",
       "</table>\n",
       "</div>"
      ],
      "text/plain": [
       "     A      B      C      D\n",
       "0  919    NaN  572.0  554.0\n",
       "1  899  700.0  372.0  416.0\n",
       "2  828  535.0    NaN  759.0\n",
       "3  837  130.0  915.0  615.0\n",
       "4  149    NaN  232.0    NaN\n",
       "5  966  565.0   62.0  689.0"
      ]
     },
     "execution_count": 62,
     "metadata": {},
     "output_type": "execute_result"
    }
   ],
   "source": [
    "d"
   ]
  },
  {
   "cell_type": "code",
   "execution_count": 65,
   "metadata": {
    "collapsed": false
   },
   "outputs": [
    {
     "data": {
      "text/html": [
       "<div>\n",
       "<table border=\"1\" class=\"dataframe\">\n",
       "  <thead>\n",
       "    <tr style=\"text-align: right;\">\n",
       "      <th></th>\n",
       "      <th>A</th>\n",
       "      <th>B</th>\n",
       "      <th>C</th>\n",
       "      <th>D</th>\n",
       "    </tr>\n",
       "  </thead>\n",
       "  <tbody>\n",
       "    <tr>\n",
       "      <th>0</th>\n",
       "      <td>False</td>\n",
       "      <td>True</td>\n",
       "      <td>False</td>\n",
       "      <td>False</td>\n",
       "    </tr>\n",
       "    <tr>\n",
       "      <th>1</th>\n",
       "      <td>False</td>\n",
       "      <td>False</td>\n",
       "      <td>False</td>\n",
       "      <td>False</td>\n",
       "    </tr>\n",
       "    <tr>\n",
       "      <th>2</th>\n",
       "      <td>False</td>\n",
       "      <td>False</td>\n",
       "      <td>True</td>\n",
       "      <td>False</td>\n",
       "    </tr>\n",
       "    <tr>\n",
       "      <th>3</th>\n",
       "      <td>False</td>\n",
       "      <td>False</td>\n",
       "      <td>False</td>\n",
       "      <td>False</td>\n",
       "    </tr>\n",
       "    <tr>\n",
       "      <th>4</th>\n",
       "      <td>False</td>\n",
       "      <td>True</td>\n",
       "      <td>False</td>\n",
       "      <td>True</td>\n",
       "    </tr>\n",
       "    <tr>\n",
       "      <th>5</th>\n",
       "      <td>False</td>\n",
       "      <td>False</td>\n",
       "      <td>False</td>\n",
       "      <td>False</td>\n",
       "    </tr>\n",
       "  </tbody>\n",
       "</table>\n",
       "</div>"
      ],
      "text/plain": [
       "       A      B      C      D\n",
       "0  False   True  False  False\n",
       "1  False  False  False  False\n",
       "2  False  False   True  False\n",
       "3  False  False  False  False\n",
       "4  False   True  False   True\n",
       "5  False  False  False  False"
      ]
     },
     "execution_count": 65,
     "metadata": {},
     "output_type": "execute_result"
    }
   ],
   "source": [
    "d.isnull()"
   ]
  },
  {
   "cell_type": "code",
   "execution_count": 66,
   "metadata": {
    "collapsed": false
   },
   "outputs": [
    {
     "data": {
      "text/html": [
       "<div>\n",
       "<table border=\"1\" class=\"dataframe\">\n",
       "  <thead>\n",
       "    <tr style=\"text-align: right;\">\n",
       "      <th></th>\n",
       "      <th>A</th>\n",
       "      <th>B</th>\n",
       "      <th>C</th>\n",
       "      <th>D</th>\n",
       "    </tr>\n",
       "  </thead>\n",
       "  <tbody>\n",
       "    <tr>\n",
       "      <th>4</th>\n",
       "      <td>149</td>\n",
       "      <td>NaN</td>\n",
       "      <td>232.0</td>\n",
       "      <td>NaN</td>\n",
       "    </tr>\n",
       "  </tbody>\n",
       "</table>\n",
       "</div>"
      ],
      "text/plain": [
       "     A   B      C   D\n",
       "4  149 NaN  232.0 NaN"
      ]
     },
     "execution_count": 66,
     "metadata": {},
     "output_type": "execute_result"
    }
   ],
   "source": [
    "d[d.D.isnull()]"
   ]
  },
  {
   "cell_type": "code",
   "execution_count": 85,
   "metadata": {
    "collapsed": false
   },
   "outputs": [
    {
     "data": {
      "text/html": [
       "<div>\n",
       "<table border=\"1\" class=\"dataframe\">\n",
       "  <thead>\n",
       "    <tr style=\"text-align: right;\">\n",
       "      <th></th>\n",
       "      <th>A</th>\n",
       "      <th>B</th>\n",
       "      <th>C</th>\n",
       "      <th>D</th>\n",
       "    </tr>\n",
       "  </thead>\n",
       "  <tbody>\n",
       "    <tr>\n",
       "      <th>4</th>\n",
       "      <td>987</td>\n",
       "      <td>NaN</td>\n",
       "      <td>384.0</td>\n",
       "      <td>NaN</td>\n",
       "    </tr>\n",
       "  </tbody>\n",
       "</table>\n",
       "</div>"
      ],
      "text/plain": [
       "     A   B      C   D\n",
       "4  987 NaN  384.0 NaN"
      ]
     },
     "execution_count": 85,
     "metadata": {},
     "output_type": "execute_result"
    }
   ],
   "source": [
    "# we can use this way too\n",
    "d[d['D'].isnull()]"
   ]
  },
  {
   "cell_type": "code",
   "execution_count": 86,
   "metadata": {
    "collapsed": false
   },
   "outputs": [
    {
     "data": {
      "text/html": [
       "<div>\n",
       "<table border=\"1\" class=\"dataframe\">\n",
       "  <thead>\n",
       "    <tr style=\"text-align: right;\">\n",
       "      <th></th>\n",
       "      <th>A</th>\n",
       "      <th>B</th>\n",
       "      <th>C</th>\n",
       "      <th>D</th>\n",
       "    </tr>\n",
       "  </thead>\n",
       "  <tbody>\n",
       "    <tr>\n",
       "      <th>0</th>\n",
       "      <td>403</td>\n",
       "      <td>NaN</td>\n",
       "      <td>388.0</td>\n",
       "      <td>922.0</td>\n",
       "    </tr>\n",
       "    <tr>\n",
       "      <th>4</th>\n",
       "      <td>987</td>\n",
       "      <td>NaN</td>\n",
       "      <td>384.0</td>\n",
       "      <td>NaN</td>\n",
       "    </tr>\n",
       "  </tbody>\n",
       "</table>\n",
       "</div>"
      ],
      "text/plain": [
       "     A   B      C      D\n",
       "0  403 NaN  388.0  922.0\n",
       "4  987 NaN  384.0    NaN"
      ]
     },
     "execution_count": 86,
     "metadata": {},
     "output_type": "execute_result"
    }
   ],
   "source": [
    "# now try 'B' column again\n",
    "d[d.B.isnull()]"
   ]
  },
  {
   "cell_type": "code",
   "execution_count": 88,
   "metadata": {
    "collapsed": false
   },
   "outputs": [
    {
     "data": {
      "text/html": [
       "<div>\n",
       "<table border=\"1\" class=\"dataframe\">\n",
       "  <thead>\n",
       "    <tr style=\"text-align: right;\">\n",
       "      <th></th>\n",
       "      <th>A</th>\n",
       "      <th>B</th>\n",
       "      <th>C</th>\n",
       "      <th>D</th>\n",
       "    </tr>\n",
       "  </thead>\n",
       "  <tbody>\n",
       "    <tr>\n",
       "      <th>1</th>\n",
       "      <td>93</td>\n",
       "      <td>515.0</td>\n",
       "      <td>761.0</td>\n",
       "      <td>314.0</td>\n",
       "    </tr>\n",
       "    <tr>\n",
       "      <th>3</th>\n",
       "      <td>742</td>\n",
       "      <td>926.0</td>\n",
       "      <td>738.0</td>\n",
       "      <td>593.0</td>\n",
       "    </tr>\n",
       "    <tr>\n",
       "      <th>5</th>\n",
       "      <td>918</td>\n",
       "      <td>352.0</td>\n",
       "      <td>22.0</td>\n",
       "      <td>962.0</td>\n",
       "    </tr>\n",
       "  </tbody>\n",
       "</table>\n",
       "</div>"
      ],
      "text/plain": [
       "     A      B      C      D\n",
       "1   93  515.0  761.0  314.0\n",
       "3  742  926.0  738.0  593.0\n",
       "5  918  352.0   22.0  962.0"
      ]
     },
     "execution_count": 88,
     "metadata": {},
     "output_type": "execute_result"
    }
   ],
   "source": [
    "# this is really usefull this can't be found on edx I got it in on data school\n",
    "# this is used to \"DROP\" the missing value rows by using the 'HOW'\n",
    "d.dropna(axis = 0,how = 'any')"
   ]
  },
  {
   "cell_type": "code",
   "execution_count": 67,
   "metadata": {
    "collapsed": false
   },
   "outputs": [
    {
     "data": {
      "text/html": [
       "<div>\n",
       "<table border=\"1\" class=\"dataframe\">\n",
       "  <thead>\n",
       "    <tr style=\"text-align: right;\">\n",
       "      <th></th>\n",
       "      <th>star_rating</th>\n",
       "      <th>title</th>\n",
       "      <th>content_rating</th>\n",
       "      <th>genre</th>\n",
       "      <th>duration</th>\n",
       "      <th>actors_list</th>\n",
       "    </tr>\n",
       "  </thead>\n",
       "  <tbody>\n",
       "    <tr>\n",
       "      <th>0</th>\n",
       "      <td>9.3</td>\n",
       "      <td>The Shawshank Redemption</td>\n",
       "      <td>R</td>\n",
       "      <td>Crime</td>\n",
       "      <td>142</td>\n",
       "      <td>[u'Tim Robbins', u'Morgan Freeman', u'Bob Gunt...</td>\n",
       "    </tr>\n",
       "    <tr>\n",
       "      <th>1</th>\n",
       "      <td>9.2</td>\n",
       "      <td>The Godfather</td>\n",
       "      <td>R</td>\n",
       "      <td>Crime</td>\n",
       "      <td>175</td>\n",
       "      <td>[u'Marlon Brando', u'Al Pacino', u'James Caan']</td>\n",
       "    </tr>\n",
       "    <tr>\n",
       "      <th>2</th>\n",
       "      <td>9.1</td>\n",
       "      <td>The Godfather: Part II</td>\n",
       "      <td>R</td>\n",
       "      <td>Crime</td>\n",
       "      <td>200</td>\n",
       "      <td>[u'Al Pacino', u'Robert De Niro', u'Robert Duv...</td>\n",
       "    </tr>\n",
       "    <tr>\n",
       "      <th>3</th>\n",
       "      <td>9.0</td>\n",
       "      <td>The Dark Knight</td>\n",
       "      <td>PG-13</td>\n",
       "      <td>Action</td>\n",
       "      <td>152</td>\n",
       "      <td>[u'Christian Bale', u'Heath Ledger', u'Aaron E...</td>\n",
       "    </tr>\n",
       "    <tr>\n",
       "      <th>4</th>\n",
       "      <td>8.9</td>\n",
       "      <td>Pulp Fiction</td>\n",
       "      <td>R</td>\n",
       "      <td>Crime</td>\n",
       "      <td>154</td>\n",
       "      <td>[u'John Travolta', u'Uma Thurman', u'Samuel L....</td>\n",
       "    </tr>\n",
       "  </tbody>\n",
       "</table>\n",
       "</div>"
      ],
      "text/plain": [
       "   star_rating                     title content_rating   genre  duration  \\\n",
       "0          9.3  The Shawshank Redemption              R   Crime       142   \n",
       "1          9.2             The Godfather              R   Crime       175   \n",
       "2          9.1    The Godfather: Part II              R   Crime       200   \n",
       "3          9.0           The Dark Knight          PG-13  Action       152   \n",
       "4          8.9              Pulp Fiction              R   Crime       154   \n",
       "\n",
       "                                         actors_list  \n",
       "0  [u'Tim Robbins', u'Morgan Freeman', u'Bob Gunt...  \n",
       "1    [u'Marlon Brando', u'Al Pacino', u'James Caan']  \n",
       "2  [u'Al Pacino', u'Robert De Niro', u'Robert Duv...  \n",
       "3  [u'Christian Bale', u'Heath Ledger', u'Aaron E...  \n",
       "4  [u'John Travolta', u'Uma Thurman', u'Samuel L....  "
      ]
     },
     "execution_count": 67,
     "metadata": {},
     "output_type": "execute_result"
    }
   ],
   "source": [
    "import pandas as pd\n",
    "movies = pd.read_csv(\"http://bit.ly//imdbratings\")\n",
    "movies.to_csv('D:\\python files\\pandas exercise\\movies.csv')\n",
    "movies.head()"
   ]
  },
  {
   "cell_type": "code",
   "execution_count": 68,
   "metadata": {
    "collapsed": false
   },
   "outputs": [
    {
     "data": {
      "text/html": [
       "<div>\n",
       "<table border=\"1\" class=\"dataframe\">\n",
       "  <thead>\n",
       "    <tr style=\"text-align: right;\">\n",
       "      <th></th>\n",
       "      <th>City</th>\n",
       "      <th>Colors Reported</th>\n",
       "      <th>Shape Reported</th>\n",
       "      <th>State</th>\n",
       "      <th>Time</th>\n",
       "    </tr>\n",
       "  </thead>\n",
       "  <tbody>\n",
       "    <tr>\n",
       "      <th>0</th>\n",
       "      <td>Ithaca</td>\n",
       "      <td>NaN</td>\n",
       "      <td>TRIANGLE</td>\n",
       "      <td>NY</td>\n",
       "      <td>6/1/1930 22:00</td>\n",
       "    </tr>\n",
       "    <tr>\n",
       "      <th>1</th>\n",
       "      <td>Willingboro</td>\n",
       "      <td>NaN</td>\n",
       "      <td>OTHER</td>\n",
       "      <td>NJ</td>\n",
       "      <td>6/30/1930 20:00</td>\n",
       "    </tr>\n",
       "    <tr>\n",
       "      <th>2</th>\n",
       "      <td>Holyoke</td>\n",
       "      <td>NaN</td>\n",
       "      <td>OVAL</td>\n",
       "      <td>CO</td>\n",
       "      <td>2/15/1931 14:00</td>\n",
       "    </tr>\n",
       "    <tr>\n",
       "      <th>3</th>\n",
       "      <td>Abilene</td>\n",
       "      <td>NaN</td>\n",
       "      <td>DISK</td>\n",
       "      <td>KS</td>\n",
       "      <td>6/1/1931 13:00</td>\n",
       "    </tr>\n",
       "    <tr>\n",
       "      <th>4</th>\n",
       "      <td>New York Worlds Fair</td>\n",
       "      <td>NaN</td>\n",
       "      <td>LIGHT</td>\n",
       "      <td>NY</td>\n",
       "      <td>4/18/1933 19:00</td>\n",
       "    </tr>\n",
       "  </tbody>\n",
       "</table>\n",
       "</div>"
      ],
      "text/plain": [
       "                   City Colors Reported Shape Reported State             Time\n",
       "0                Ithaca             NaN       TRIANGLE    NY   6/1/1930 22:00\n",
       "1           Willingboro             NaN          OTHER    NJ  6/30/1930 20:00\n",
       "2               Holyoke             NaN           OVAL    CO  2/15/1931 14:00\n",
       "3               Abilene             NaN           DISK    KS   6/1/1931 13:00\n",
       "4  New York Worlds Fair             NaN          LIGHT    NY  4/18/1933 19:00"
      ]
     },
     "execution_count": 68,
     "metadata": {},
     "output_type": "execute_result"
    }
   ],
   "source": [
    "ufo = pd.read_csv(\"http://bit.ly/uforeports\")\n",
    "ufo.to_csv('D:\\python files\\pandas exercise\\ufo.csv')\n",
    "ufo.head()"
   ]
  },
  {
   "cell_type": "code",
   "execution_count": 69,
   "metadata": {
    "collapsed": false
   },
   "outputs": [
    {
     "data": {
      "text/html": [
       "<div>\n",
       "<table border=\"1\" class=\"dataframe\">\n",
       "  <thead>\n",
       "    <tr style=\"text-align: right;\">\n",
       "      <th></th>\n",
       "      <th>City</th>\n",
       "      <th>Colors Reported</th>\n",
       "      <th>Shape Reported</th>\n",
       "      <th>State</th>\n",
       "      <th>Time</th>\n",
       "    </tr>\n",
       "  </thead>\n",
       "  <tbody>\n",
       "    <tr>\n",
       "      <th>18236</th>\n",
       "      <td>Grant Park</td>\n",
       "      <td>NaN</td>\n",
       "      <td>TRIANGLE</td>\n",
       "      <td>IL</td>\n",
       "      <td>12/31/2000 23:00</td>\n",
       "    </tr>\n",
       "    <tr>\n",
       "      <th>18237</th>\n",
       "      <td>Spirit Lake</td>\n",
       "      <td>NaN</td>\n",
       "      <td>DISK</td>\n",
       "      <td>IA</td>\n",
       "      <td>12/31/2000 23:00</td>\n",
       "    </tr>\n",
       "    <tr>\n",
       "      <th>18238</th>\n",
       "      <td>Eagle River</td>\n",
       "      <td>NaN</td>\n",
       "      <td>NaN</td>\n",
       "      <td>WI</td>\n",
       "      <td>12/31/2000 23:45</td>\n",
       "    </tr>\n",
       "    <tr>\n",
       "      <th>18239</th>\n",
       "      <td>Eagle River</td>\n",
       "      <td>RED</td>\n",
       "      <td>LIGHT</td>\n",
       "      <td>WI</td>\n",
       "      <td>12/31/2000 23:45</td>\n",
       "    </tr>\n",
       "    <tr>\n",
       "      <th>18240</th>\n",
       "      <td>Ybor</td>\n",
       "      <td>NaN</td>\n",
       "      <td>OVAL</td>\n",
       "      <td>FL</td>\n",
       "      <td>12/31/2000 23:59</td>\n",
       "    </tr>\n",
       "  </tbody>\n",
       "</table>\n",
       "</div>"
      ],
      "text/plain": [
       "              City Colors Reported Shape Reported State              Time\n",
       "18236   Grant Park             NaN       TRIANGLE    IL  12/31/2000 23:00\n",
       "18237  Spirit Lake             NaN           DISK    IA  12/31/2000 23:00\n",
       "18238  Eagle River             NaN            NaN    WI  12/31/2000 23:45\n",
       "18239  Eagle River             RED          LIGHT    WI  12/31/2000 23:45\n",
       "18240         Ybor             NaN           OVAL    FL  12/31/2000 23:59"
      ]
     },
     "execution_count": 69,
     "metadata": {},
     "output_type": "execute_result"
    }
   ],
   "source": [
    "ufo.tail()"
   ]
  },
  {
   "cell_type": "code",
   "execution_count": 70,
   "metadata": {
    "collapsed": false
   },
   "outputs": [
    {
     "data": {
      "text/plain": [
       "City                  25\n",
       "Colors Reported    15359\n",
       "Shape Reported      2644\n",
       "State                  0\n",
       "Time                   0\n",
       "dtype: int64"
      ]
     },
     "execution_count": 70,
     "metadata": {},
     "output_type": "execute_result"
    }
   ],
   "source": [
    "ufo.isnull().sum()"
   ]
  },
  {
   "cell_type": "code",
   "execution_count": 71,
   "metadata": {
    "collapsed": false
   },
   "outputs": [
    {
     "data": {
      "text/plain": [
       "0        1\n",
       "1        1\n",
       "2        1\n",
       "3        1\n",
       "4        1\n",
       "5        1\n",
       "6        1\n",
       "7        1\n",
       "8        1\n",
       "9        1\n",
       "10       1\n",
       "11       1\n",
       "12       0\n",
       "13       1\n",
       "14       1\n",
       "15       1\n",
       "16       2\n",
       "17       2\n",
       "18       1\n",
       "19       0\n",
       "20       1\n",
       "21       3\n",
       "22       2\n",
       "23       1\n",
       "24       1\n",
       "25       1\n",
       "26       1\n",
       "27       1\n",
       "28       1\n",
       "29       1\n",
       "        ..\n",
       "18211    1\n",
       "18212    1\n",
       "18213    0\n",
       "18214    1\n",
       "18215    1\n",
       "18216    0\n",
       "18217    1\n",
       "18218    1\n",
       "18219    1\n",
       "18220    0\n",
       "18221    1\n",
       "18222    1\n",
       "18223    2\n",
       "18224    1\n",
       "18225    1\n",
       "18226    1\n",
       "18227    1\n",
       "18228    1\n",
       "18229    1\n",
       "18230    1\n",
       "18231    1\n",
       "18232    2\n",
       "18233    0\n",
       "18234    1\n",
       "18235    2\n",
       "18236    1\n",
       "18237    1\n",
       "18238    2\n",
       "18239    0\n",
       "18240    1\n",
       "dtype: int64"
      ]
     },
     "execution_count": 71,
     "metadata": {},
     "output_type": "execute_result"
    }
   ],
   "source": [
    "ufo.isnull().sum(axis = 1)"
   ]
  },
  {
   "cell_type": "code",
   "execution_count": 16,
   "metadata": {
    "collapsed": false
   },
   "outputs": [
    {
     "data": {
      "text/html": [
       "<div>\n",
       "<table border=\"1\" class=\"dataframe\">\n",
       "  <thead>\n",
       "    <tr style=\"text-align: right;\">\n",
       "      <th></th>\n",
       "      <th>City</th>\n",
       "      <th>Colors Reported</th>\n",
       "      <th>Shape Reported</th>\n",
       "      <th>State</th>\n",
       "      <th>Time</th>\n",
       "    </tr>\n",
       "  </thead>\n",
       "  <tbody>\n",
       "    <tr>\n",
       "      <th>21</th>\n",
       "      <td>NaN</td>\n",
       "      <td>NaN</td>\n",
       "      <td>NaN</td>\n",
       "      <td>LA</td>\n",
       "      <td>8/15/1943 0:00</td>\n",
       "    </tr>\n",
       "    <tr>\n",
       "      <th>22</th>\n",
       "      <td>NaN</td>\n",
       "      <td>NaN</td>\n",
       "      <td>LIGHT</td>\n",
       "      <td>LA</td>\n",
       "      <td>8/15/1943 0:00</td>\n",
       "    </tr>\n",
       "    <tr>\n",
       "      <th>204</th>\n",
       "      <td>NaN</td>\n",
       "      <td>NaN</td>\n",
       "      <td>DISK</td>\n",
       "      <td>CA</td>\n",
       "      <td>7/15/1952 12:30</td>\n",
       "    </tr>\n",
       "    <tr>\n",
       "      <th>241</th>\n",
       "      <td>NaN</td>\n",
       "      <td>BLUE</td>\n",
       "      <td>DISK</td>\n",
       "      <td>MT</td>\n",
       "      <td>7/4/1953 14:00</td>\n",
       "    </tr>\n",
       "    <tr>\n",
       "      <th>613</th>\n",
       "      <td>NaN</td>\n",
       "      <td>NaN</td>\n",
       "      <td>DISK</td>\n",
       "      <td>NV</td>\n",
       "      <td>7/1/1960 12:00</td>\n",
       "    </tr>\n",
       "    <tr>\n",
       "      <th>1877</th>\n",
       "      <td>NaN</td>\n",
       "      <td>YELLOW</td>\n",
       "      <td>CIRCLE</td>\n",
       "      <td>AZ</td>\n",
       "      <td>8/15/1969 1:00</td>\n",
       "    </tr>\n",
       "    <tr>\n",
       "      <th>2013</th>\n",
       "      <td>NaN</td>\n",
       "      <td>NaN</td>\n",
       "      <td>NaN</td>\n",
       "      <td>NH</td>\n",
       "      <td>8/1/1970 9:30</td>\n",
       "    </tr>\n",
       "    <tr>\n",
       "      <th>2546</th>\n",
       "      <td>NaN</td>\n",
       "      <td>NaN</td>\n",
       "      <td>FIREBALL</td>\n",
       "      <td>OH</td>\n",
       "      <td>10/25/1973 23:30</td>\n",
       "    </tr>\n",
       "    <tr>\n",
       "      <th>3123</th>\n",
       "      <td>NaN</td>\n",
       "      <td>RED</td>\n",
       "      <td>TRIANGLE</td>\n",
       "      <td>WV</td>\n",
       "      <td>11/25/1975 23:00</td>\n",
       "    </tr>\n",
       "    <tr>\n",
       "      <th>4736</th>\n",
       "      <td>NaN</td>\n",
       "      <td>NaN</td>\n",
       "      <td>SPHERE</td>\n",
       "      <td>CA</td>\n",
       "      <td>6/23/1982 23:00</td>\n",
       "    </tr>\n",
       "    <tr>\n",
       "      <th>5269</th>\n",
       "      <td>NaN</td>\n",
       "      <td>NaN</td>\n",
       "      <td>NaN</td>\n",
       "      <td>AZ</td>\n",
       "      <td>6/30/1985 21:30</td>\n",
       "    </tr>\n",
       "    <tr>\n",
       "      <th>6735</th>\n",
       "      <td>NaN</td>\n",
       "      <td>NaN</td>\n",
       "      <td>FORMATION</td>\n",
       "      <td>TX</td>\n",
       "      <td>4/1/1992 2:00</td>\n",
       "    </tr>\n",
       "    <tr>\n",
       "      <th>7208</th>\n",
       "      <td>NaN</td>\n",
       "      <td>NaN</td>\n",
       "      <td>CIRCLE</td>\n",
       "      <td>MI</td>\n",
       "      <td>10/4/1993 17:30</td>\n",
       "    </tr>\n",
       "    <tr>\n",
       "      <th>8828</th>\n",
       "      <td>NaN</td>\n",
       "      <td>NaN</td>\n",
       "      <td>TRIANGLE</td>\n",
       "      <td>WA</td>\n",
       "      <td>10/30/1995 21:30</td>\n",
       "    </tr>\n",
       "    <tr>\n",
       "      <th>8967</th>\n",
       "      <td>NaN</td>\n",
       "      <td>NaN</td>\n",
       "      <td>VARIOUS</td>\n",
       "      <td>CA</td>\n",
       "      <td>12/8/1995 18:00</td>\n",
       "    </tr>\n",
       "    <tr>\n",
       "      <th>9273</th>\n",
       "      <td>NaN</td>\n",
       "      <td>NaN</td>\n",
       "      <td>TRIANGLE</td>\n",
       "      <td>OH</td>\n",
       "      <td>5/1/1996 3:00</td>\n",
       "    </tr>\n",
       "    <tr>\n",
       "      <th>9388</th>\n",
       "      <td>NaN</td>\n",
       "      <td>NaN</td>\n",
       "      <td>OVAL</td>\n",
       "      <td>CA</td>\n",
       "      <td>6/12/1996 12:00</td>\n",
       "    </tr>\n",
       "    <tr>\n",
       "      <th>9587</th>\n",
       "      <td>NaN</td>\n",
       "      <td>NaN</td>\n",
       "      <td>EGG</td>\n",
       "      <td>FL</td>\n",
       "      <td>8/24/1996 15:00</td>\n",
       "    </tr>\n",
       "    <tr>\n",
       "      <th>10399</th>\n",
       "      <td>NaN</td>\n",
       "      <td>NaN</td>\n",
       "      <td>TRIANGLE</td>\n",
       "      <td>IL</td>\n",
       "      <td>6/15/1997 23:00</td>\n",
       "    </tr>\n",
       "    <tr>\n",
       "      <th>11625</th>\n",
       "      <td>NaN</td>\n",
       "      <td>NaN</td>\n",
       "      <td>CIRCLE</td>\n",
       "      <td>TX</td>\n",
       "      <td>6/7/1998 7:00</td>\n",
       "    </tr>\n",
       "    <tr>\n",
       "      <th>12441</th>\n",
       "      <td>NaN</td>\n",
       "      <td>RED</td>\n",
       "      <td>FIREBALL</td>\n",
       "      <td>WA</td>\n",
       "      <td>10/26/1998 17:58</td>\n",
       "    </tr>\n",
       "    <tr>\n",
       "      <th>15767</th>\n",
       "      <td>NaN</td>\n",
       "      <td>NaN</td>\n",
       "      <td>RECTANGLE</td>\n",
       "      <td>NV</td>\n",
       "      <td>1/21/2000 11:30</td>\n",
       "    </tr>\n",
       "    <tr>\n",
       "      <th>15812</th>\n",
       "      <td>NaN</td>\n",
       "      <td>NaN</td>\n",
       "      <td>LIGHT</td>\n",
       "      <td>NV</td>\n",
       "      <td>2/2/2000 3:00</td>\n",
       "    </tr>\n",
       "    <tr>\n",
       "      <th>16054</th>\n",
       "      <td>NaN</td>\n",
       "      <td>GREEN</td>\n",
       "      <td>NaN</td>\n",
       "      <td>FL</td>\n",
       "      <td>3/11/2000 3:30</td>\n",
       "    </tr>\n",
       "    <tr>\n",
       "      <th>16608</th>\n",
       "      <td>NaN</td>\n",
       "      <td>NaN</td>\n",
       "      <td>SPHERE</td>\n",
       "      <td>NY</td>\n",
       "      <td>6/15/2000 15:00</td>\n",
       "    </tr>\n",
       "  </tbody>\n",
       "</table>\n",
       "</div>"
      ],
      "text/plain": [
       "      City Colors Reported Shape Reported State              Time\n",
       "21     NaN             NaN            NaN    LA    8/15/1943 0:00\n",
       "22     NaN             NaN          LIGHT    LA    8/15/1943 0:00\n",
       "204    NaN             NaN           DISK    CA   7/15/1952 12:30\n",
       "241    NaN            BLUE           DISK    MT    7/4/1953 14:00\n",
       "613    NaN             NaN           DISK    NV    7/1/1960 12:00\n",
       "1877   NaN          YELLOW         CIRCLE    AZ    8/15/1969 1:00\n",
       "2013   NaN             NaN            NaN    NH     8/1/1970 9:30\n",
       "2546   NaN             NaN       FIREBALL    OH  10/25/1973 23:30\n",
       "3123   NaN             RED       TRIANGLE    WV  11/25/1975 23:00\n",
       "4736   NaN             NaN         SPHERE    CA   6/23/1982 23:00\n",
       "5269   NaN             NaN            NaN    AZ   6/30/1985 21:30\n",
       "6735   NaN             NaN      FORMATION    TX     4/1/1992 2:00\n",
       "7208   NaN             NaN         CIRCLE    MI   10/4/1993 17:30\n",
       "8828   NaN             NaN       TRIANGLE    WA  10/30/1995 21:30\n",
       "8967   NaN             NaN        VARIOUS    CA   12/8/1995 18:00\n",
       "9273   NaN             NaN       TRIANGLE    OH     5/1/1996 3:00\n",
       "9388   NaN             NaN           OVAL    CA   6/12/1996 12:00\n",
       "9587   NaN             NaN            EGG    FL   8/24/1996 15:00\n",
       "10399  NaN             NaN       TRIANGLE    IL   6/15/1997 23:00\n",
       "11625  NaN             NaN         CIRCLE    TX     6/7/1998 7:00\n",
       "12441  NaN             RED       FIREBALL    WA  10/26/1998 17:58\n",
       "15767  NaN             NaN      RECTANGLE    NV   1/21/2000 11:30\n",
       "15812  NaN             NaN          LIGHT    NV     2/2/2000 3:00\n",
       "16054  NaN           GREEN            NaN    FL    3/11/2000 3:30\n",
       "16608  NaN             NaN         SPHERE    NY   6/15/2000 15:00"
      ]
     },
     "execution_count": 16,
     "metadata": {},
     "output_type": "execute_result"
    }
   ],
   "source": [
    "ufo[ufo['City'].isnull()]"
   ]
  },
  {
   "cell_type": "code",
   "execution_count": 23,
   "metadata": {
    "collapsed": false
   },
   "outputs": [
    {
     "data": {
      "text/plain": [
       "(18241, 5)"
      ]
     },
     "execution_count": 23,
     "metadata": {},
     "output_type": "execute_result"
    }
   ],
   "source": [
    "ufo.shape"
   ]
  },
  {
   "cell_type": "code",
   "execution_count": 19,
   "metadata": {
    "collapsed": false
   },
   "outputs": [
    {
     "data": {
      "text/plain": [
       "(2486, 5)"
      ]
     },
     "execution_count": 19,
     "metadata": {},
     "output_type": "execute_result"
    }
   ],
   "source": [
    "ufo.dropna(how = 'any').shape"
   ]
  },
  {
   "cell_type": "code",
   "execution_count": 21,
   "metadata": {
    "collapsed": false
   },
   "outputs": [
    {
     "data": {
      "text/plain": [
       "(2486, 5)"
      ]
     },
     "execution_count": 21,
     "metadata": {},
     "output_type": "execute_result"
    }
   ],
   "source": [
    "ufo.dropna().shape"
   ]
  },
  {
   "cell_type": "code",
   "execution_count": 36,
   "metadata": {
    "collapsed": false
   },
   "outputs": [
    {
     "ename": "SyntaxError",
     "evalue": "invalid syntax (<ipython-input-36-30552c343cce>, line 1)",
     "output_type": "error",
     "traceback": [
      "\u001b[0;36m  File \u001b[0;32m\"<ipython-input-36-30552c343cce>\"\u001b[0;36m, line \u001b[0;32m1\u001b[0m\n\u001b[0;31m    ufo.Colors Reported.isnull().sum()\u001b[0m\n\u001b[0m                      ^\u001b[0m\n\u001b[0;31mSyntaxError\u001b[0m\u001b[0;31m:\u001b[0m invalid syntax\n"
     ]
    }
   ],
   "source": [
    "# It is showing error better you go with '[Colors Reported]'\n",
    "ufo.Colors Reported.isnull().sum()\n"
   ]
  },
  {
   "cell_type": "code",
   "execution_count": 35,
   "metadata": {
    "collapsed": false
   },
   "outputs": [
    {
     "data": {
      "text/plain": [
       "25"
      ]
     },
     "execution_count": 35,
     "metadata": {},
     "output_type": "execute_result"
    }
   ],
   "source": [
    "ufo.City.isnull().sum()"
   ]
  },
  {
   "cell_type": "code",
   "execution_count": 38,
   "metadata": {
    "collapsed": false
   },
   "outputs": [],
   "source": [
    "ufo.columns = ufo.columns.str.replace(' ','_')"
   ]
  },
  {
   "cell_type": "code",
   "execution_count": 39,
   "metadata": {
    "collapsed": false
   },
   "outputs": [
    {
     "data": {
      "text/html": [
       "<div>\n",
       "<table border=\"1\" class=\"dataframe\">\n",
       "  <thead>\n",
       "    <tr style=\"text-align: right;\">\n",
       "      <th></th>\n",
       "      <th>City</th>\n",
       "      <th>Colors_Reported</th>\n",
       "      <th>Shape_Reported</th>\n",
       "      <th>State</th>\n",
       "      <th>Time</th>\n",
       "    </tr>\n",
       "  </thead>\n",
       "  <tbody>\n",
       "    <tr>\n",
       "      <th>0</th>\n",
       "      <td>Ithaca</td>\n",
       "      <td>NaN</td>\n",
       "      <td>TRIANGLE</td>\n",
       "      <td>NY</td>\n",
       "      <td>6/1/1930 22:00</td>\n",
       "    </tr>\n",
       "    <tr>\n",
       "      <th>1</th>\n",
       "      <td>Willingboro</td>\n",
       "      <td>NaN</td>\n",
       "      <td>OTHER</td>\n",
       "      <td>NJ</td>\n",
       "      <td>6/30/1930 20:00</td>\n",
       "    </tr>\n",
       "    <tr>\n",
       "      <th>2</th>\n",
       "      <td>Holyoke</td>\n",
       "      <td>NaN</td>\n",
       "      <td>OVAL</td>\n",
       "      <td>CO</td>\n",
       "      <td>2/15/1931 14:00</td>\n",
       "    </tr>\n",
       "    <tr>\n",
       "      <th>3</th>\n",
       "      <td>Abilene</td>\n",
       "      <td>NaN</td>\n",
       "      <td>DISK</td>\n",
       "      <td>KS</td>\n",
       "      <td>6/1/1931 13:00</td>\n",
       "    </tr>\n",
       "    <tr>\n",
       "      <th>4</th>\n",
       "      <td>New York Worlds Fair</td>\n",
       "      <td>NaN</td>\n",
       "      <td>LIGHT</td>\n",
       "      <td>NY</td>\n",
       "      <td>4/18/1933 19:00</td>\n",
       "    </tr>\n",
       "  </tbody>\n",
       "</table>\n",
       "</div>"
      ],
      "text/plain": [
       "                   City Colors_Reported Shape_Reported State             Time\n",
       "0                Ithaca             NaN       TRIANGLE    NY   6/1/1930 22:00\n",
       "1           Willingboro             NaN          OTHER    NJ  6/30/1930 20:00\n",
       "2               Holyoke             NaN           OVAL    CO  2/15/1931 14:00\n",
       "3               Abilene             NaN           DISK    KS   6/1/1931 13:00\n",
       "4  New York Worlds Fair             NaN          LIGHT    NY  4/18/1933 19:00"
      ]
     },
     "execution_count": 39,
     "metadata": {},
     "output_type": "execute_result"
    }
   ],
   "source": [
    "ufo.head()"
   ]
  },
  {
   "cell_type": "code",
   "execution_count": 42,
   "metadata": {
    "collapsed": false
   },
   "outputs": [
    {
     "data": {
      "text/plain": [
       "15359"
      ]
     },
     "execution_count": 42,
     "metadata": {},
     "output_type": "execute_result"
    }
   ],
   "source": [
    "# now it is working because of the \" _ \"\n",
    "ufo.Colors_Reported.isnull().sum()"
   ]
  },
  {
   "cell_type": "code",
   "execution_count": 45,
   "metadata": {
    "collapsed": false
   },
   "outputs": [
    {
     "data": {
      "text/html": [
       "<div>\n",
       "<table border=\"1\" class=\"dataframe\">\n",
       "  <thead>\n",
       "    <tr style=\"text-align: right;\">\n",
       "      <th></th>\n",
       "      <th>City</th>\n",
       "      <th>Shape_Reported</th>\n",
       "      <th>State</th>\n",
       "      <th>Time</th>\n",
       "    </tr>\n",
       "  </thead>\n",
       "  <tbody>\n",
       "    <tr>\n",
       "      <th>0</th>\n",
       "      <td>Ithaca</td>\n",
       "      <td>TRIANGLE</td>\n",
       "      <td>NY</td>\n",
       "      <td>6/1/1930 22:00</td>\n",
       "    </tr>\n",
       "    <tr>\n",
       "      <th>1</th>\n",
       "      <td>Willingboro</td>\n",
       "      <td>OTHER</td>\n",
       "      <td>NJ</td>\n",
       "      <td>6/30/1930 20:00</td>\n",
       "    </tr>\n",
       "    <tr>\n",
       "      <th>2</th>\n",
       "      <td>Holyoke</td>\n",
       "      <td>OVAL</td>\n",
       "      <td>CO</td>\n",
       "      <td>2/15/1931 14:00</td>\n",
       "    </tr>\n",
       "    <tr>\n",
       "      <th>3</th>\n",
       "      <td>Abilene</td>\n",
       "      <td>DISK</td>\n",
       "      <td>KS</td>\n",
       "      <td>6/1/1931 13:00</td>\n",
       "    </tr>\n",
       "    <tr>\n",
       "      <th>4</th>\n",
       "      <td>New York Worlds Fair</td>\n",
       "      <td>LIGHT</td>\n",
       "      <td>NY</td>\n",
       "      <td>4/18/1933 19:00</td>\n",
       "    </tr>\n",
       "  </tbody>\n",
       "</table>\n",
       "</div>"
      ],
      "text/plain": [
       "                   City Shape_Reported State             Time\n",
       "0                Ithaca       TRIANGLE    NY   6/1/1930 22:00\n",
       "1           Willingboro          OTHER    NJ  6/30/1930 20:00\n",
       "2               Holyoke           OVAL    CO  2/15/1931 14:00\n",
       "3               Abilene           DISK    KS   6/1/1931 13:00\n",
       "4  New York Worlds Fair          LIGHT    NY  4/18/1933 19:00"
      ]
     },
     "execution_count": 45,
     "metadata": {},
     "output_type": "execute_result"
    }
   ],
   "source": [
    "ufo.head().dropna(how  = 'all',axis = 1)"
   ]
  },
  {
   "cell_type": "code",
   "execution_count": 47,
   "metadata": {
    "collapsed": false
   },
   "outputs": [
    {
     "data": {
      "text/plain": [
       "(2877, 5)"
      ]
     },
     "execution_count": 47,
     "metadata": {},
     "output_type": "execute_result"
    }
   ],
   "source": [
    "ufo.dropna(subset = ['City','Colors_Reported'],how = 'any').shape"
   ]
  },
  {
   "cell_type": "code",
   "execution_count": 49,
   "metadata": {
    "collapsed": false
   },
   "outputs": [
    {
     "data": {
      "text/plain": [
       "(18221, 5)"
      ]
     },
     "execution_count": 49,
     "metadata": {},
     "output_type": "execute_result"
    }
   ],
   "source": [
    "ufo.dropna(subset = ['City','Colors_Reported'],how = 'all').shape"
   ]
  },
  {
   "cell_type": "code",
   "execution_count": 50,
   "metadata": {
    "collapsed": false
   },
   "outputs": [
    {
     "data": {
      "text/plain": [
       "(18241, 5)"
      ]
     },
     "execution_count": 50,
     "metadata": {},
     "output_type": "execute_result"
    }
   ],
   "source": [
    "ufo.shape"
   ]
  },
  {
   "cell_type": "code",
   "execution_count": 52,
   "metadata": {
    "collapsed": false
   },
   "outputs": [
    {
     "data": {
      "text/plain": [
       "(18241, 5)"
      ]
     },
     "execution_count": 52,
     "metadata": {},
     "output_type": "execute_result"
    }
   ],
   "source": [
    "ufo.dropna(how = 'all').shape"
   ]
  },
  {
   "cell_type": "code",
   "execution_count": 55,
   "metadata": {
    "collapsed": false
   },
   "outputs": [
    {
     "data": {
      "text/plain": [
       "(15576, 5)"
      ]
     },
     "execution_count": 55,
     "metadata": {},
     "output_type": "execute_result"
    }
   ],
   "source": [
    "ufo.dropna(subset = ['City','Shape_Reported'],how = 'any').shape"
   ]
  },
  {
   "cell_type": "code",
   "execution_count": 57,
   "metadata": {
    "collapsed": false
   },
   "outputs": [
    {
     "data": {
      "text/plain": [
       "(2490, 5)"
      ]
     },
     "execution_count": 57,
     "metadata": {},
     "output_type": "execute_result"
    }
   ],
   "source": [
    "ufo.dropna(subset = ['Shape_Reported','Colors_Reported'],how = 'any').shape"
   ]
  },
  {
   "cell_type": "code",
   "execution_count": 58,
   "metadata": {
    "collapsed": false
   },
   "outputs": [
    {
     "data": {
      "text/plain": [
       "LIGHT        2803\n",
       "DISK         2122\n",
       "TRIANGLE     1889\n",
       "OTHER        1402\n",
       "CIRCLE       1365\n",
       "SPHERE       1054\n",
       "FIREBALL     1039\n",
       "OVAL          845\n",
       "CIGAR         617\n",
       "FORMATION     434\n",
       "VARIOUS       333\n",
       "RECTANGLE     303\n",
       "CYLINDER      294\n",
       "CHEVRON       248\n",
       "DIAMOND       234\n",
       "EGG           197\n",
       "FLASH         188\n",
       "TEARDROP      119\n",
       "CONE           60\n",
       "CROSS          36\n",
       "DELTA           7\n",
       "ROUND           2\n",
       "CRESCENT        2\n",
       "PYRAMID         1\n",
       "DOME            1\n",
       "FLARE           1\n",
       "HEXAGON         1\n",
       "Name: Shape_Reported, dtype: int64"
      ]
     },
     "execution_count": 58,
     "metadata": {},
     "output_type": "execute_result"
    }
   ],
   "source": [
    "# this one if very very very important\n",
    "# the below example is so clear\n",
    "ufo.Shape_Reported.value_counts()"
   ]
  },
  {
   "cell_type": "code",
   "execution_count": 59,
   "metadata": {
    "collapsed": false
   },
   "outputs": [
    {
     "data": {
      "text/plain": [
       "LIGHT        2803\n",
       "NaN          2644\n",
       "DISK         2122\n",
       "TRIANGLE     1889\n",
       "OTHER        1402\n",
       "CIRCLE       1365\n",
       "SPHERE       1054\n",
       "FIREBALL     1039\n",
       "OVAL          845\n",
       "CIGAR         617\n",
       "FORMATION     434\n",
       "VARIOUS       333\n",
       "RECTANGLE     303\n",
       "CYLINDER      294\n",
       "CHEVRON       248\n",
       "DIAMOND       234\n",
       "EGG           197\n",
       "FLASH         188\n",
       "TEARDROP      119\n",
       "CONE           60\n",
       "CROSS          36\n",
       "DELTA           7\n",
       "ROUND           2\n",
       "CRESCENT        2\n",
       "DOME            1\n",
       "PYRAMID         1\n",
       "HEXAGON         1\n",
       "FLARE           1\n",
       "Name: Shape_Reported, dtype: int64"
      ]
     },
     "execution_count": 59,
     "metadata": {},
     "output_type": "execute_result"
    }
   ],
   "source": [
    "# It gives the values in the columns arranged in the desending order based on the number of occurences\n",
    "# here by using dropna it gives the nan value also\n",
    "ufo.Shape_Reported.value_counts(dropna = False)"
   ]
  },
  {
   "cell_type": "code",
   "execution_count": 60,
   "metadata": {
    "collapsed": true
   },
   "outputs": [],
   "source": [
    "# inplace usage is also very important\n",
    "ufo.Shape_Reported.fillna('Unknown',inplace = True)"
   ]
  },
  {
   "cell_type": "code",
   "execution_count": 62,
   "metadata": {
    "collapsed": false
   },
   "outputs": [
    {
     "data": {
      "text/plain": [
       "LIGHT        2803\n",
       "Unknown      2644\n",
       "DISK         2122\n",
       "TRIANGLE     1889\n",
       "OTHER        1402\n",
       "CIRCLE       1365\n",
       "SPHERE       1054\n",
       "FIREBALL     1039\n",
       "OVAL          845\n",
       "CIGAR         617\n",
       "FORMATION     434\n",
       "VARIOUS       333\n",
       "RECTANGLE     303\n",
       "CYLINDER      294\n",
       "CHEVRON       248\n",
       "DIAMOND       234\n",
       "EGG           197\n",
       "FLASH         188\n",
       "TEARDROP      119\n",
       "CONE           60\n",
       "CROSS          36\n",
       "DELTA           7\n",
       "ROUND           2\n",
       "CRESCENT        2\n",
       "DOME            1\n",
       "PYRAMID         1\n",
       "HEXAGON         1\n",
       "FLARE           1\n",
       "Name: Shape_Reported, dtype: int64"
      ]
     },
     "execution_count": 62,
     "metadata": {},
     "output_type": "execute_result"
    }
   ],
   "source": [
    "ufo.Shape_Reported.value_counts(dropna = False)"
   ]
  },
  {
   "cell_type": "code",
   "execution_count": 73,
   "metadata": {
    "collapsed": false
   },
   "outputs": [
    {
     "data": {
      "text/plain": [
       "<matplotlib.axes._subplots.AxesSubplot at 0xe748310>"
      ]
     },
     "execution_count": 73,
     "metadata": {},
     "output_type": "execute_result"
    },
    {
     "data": {
      "image/png": "[encoded data removed]",
      "text/plain": [
       "<matplotlib.figure.Figure at 0xe76c090>"
      ]
     },
     "metadata": {},
     "output_type": "display_data"
    }
   ],
   "source": [
    "movies.plot.bar()"
   ]
  },
  {
   "cell_type": "code",
   "execution_count": 67,
   "metadata": {
    "collapsed": false
   },
   "outputs": [],
   "source": [
    "import numpy as np\n",
    "df = pd.DataFrame(np.random.randint(100000, size = (10,5)),columns = ['base_pay','da','transport_allow','housing _allowance','pf'])"
   ]
  },
  {
   "cell_type": "code",
   "execution_count": 68,
   "metadata": {
    "collapsed": false
   },
   "outputs": [
    {
     "data": {
      "text/html": [
       "<div>\n",
       "<table border=\"1\" class=\"dataframe\">\n",
       "  <thead>\n",
       "    <tr style=\"text-align: right;\">\n",
       "      <th></th>\n",
       "      <th>base_pay</th>\n",
       "      <th>da</th>\n",
       "      <th>transport_allow</th>\n",
       "      <th>housing _allowance</th>\n",
       "      <th>pf</th>\n",
       "    </tr>\n",
       "  </thead>\n",
       "  <tbody>\n",
       "    <tr>\n",
       "      <th>0</th>\n",
       "      <td>52080</td>\n",
       "      <td>24452</td>\n",
       "      <td>14028</td>\n",
       "      <td>4819</td>\n",
       "      <td>88001</td>\n",
       "    </tr>\n",
       "    <tr>\n",
       "      <th>1</th>\n",
       "      <td>65216</td>\n",
       "      <td>47489</td>\n",
       "      <td>66621</td>\n",
       "      <td>67038</td>\n",
       "      <td>68011</td>\n",
       "    </tr>\n",
       "    <tr>\n",
       "      <th>2</th>\n",
       "      <td>79527</td>\n",
       "      <td>38426</td>\n",
       "      <td>92104</td>\n",
       "      <td>71627</td>\n",
       "      <td>71480</td>\n",
       "    </tr>\n",
       "    <tr>\n",
       "      <th>3</th>\n",
       "      <td>3782</td>\n",
       "      <td>55086</td>\n",
       "      <td>91049</td>\n",
       "      <td>31966</td>\n",
       "      <td>68336</td>\n",
       "    </tr>\n",
       "    <tr>\n",
       "      <th>4</th>\n",
       "      <td>92337</td>\n",
       "      <td>13503</td>\n",
       "      <td>74816</td>\n",
       "      <td>70229</td>\n",
       "      <td>59958</td>\n",
       "    </tr>\n",
       "    <tr>\n",
       "      <th>5</th>\n",
       "      <td>67822</td>\n",
       "      <td>79055</td>\n",
       "      <td>62429</td>\n",
       "      <td>25480</td>\n",
       "      <td>45766</td>\n",
       "    </tr>\n",
       "    <tr>\n",
       "      <th>6</th>\n",
       "      <td>39484</td>\n",
       "      <td>79542</td>\n",
       "      <td>57899</td>\n",
       "      <td>80170</td>\n",
       "      <td>61327</td>\n",
       "    </tr>\n",
       "    <tr>\n",
       "      <th>7</th>\n",
       "      <td>24817</td>\n",
       "      <td>16920</td>\n",
       "      <td>62562</td>\n",
       "      <td>40431</td>\n",
       "      <td>88710</td>\n",
       "    </tr>\n",
       "    <tr>\n",
       "      <th>8</th>\n",
       "      <td>53396</td>\n",
       "      <td>44756</td>\n",
       "      <td>35312</td>\n",
       "      <td>64644</td>\n",
       "      <td>190</td>\n",
       "    </tr>\n",
       "    <tr>\n",
       "      <th>9</th>\n",
       "      <td>23506</td>\n",
       "      <td>67486</td>\n",
       "      <td>22899</td>\n",
       "      <td>26239</td>\n",
       "      <td>30582</td>\n",
       "    </tr>\n",
       "  </tbody>\n",
       "</table>\n",
       "</div>"
      ],
      "text/plain": [
       "   base_pay     da  transport_allow  housing _allowance     pf\n",
       "0     52080  24452            14028                4819  88001\n",
       "1     65216  47489            66621               67038  68011\n",
       "2     79527  38426            92104               71627  71480\n",
       "3      3782  55086            91049               31966  68336\n",
       "4     92337  13503            74816               70229  59958\n",
       "5     67822  79055            62429               25480  45766\n",
       "6     39484  79542            57899               80170  61327\n",
       "7     24817  16920            62562               40431  88710\n",
       "8     53396  44756            35312               64644    190\n",
       "9     23506  67486            22899               26239  30582"
      ]
     },
     "execution_count": 68,
     "metadata": {},
     "output_type": "execute_result"
    }
   ],
   "source": [
    "df"
   ]
  },
  {
   "cell_type": "code",
   "execution_count": 69,
   "metadata": {
    "collapsed": true
   },
   "outputs": [],
   "source": [
    "df['Total_Pay'] = df['base_pay'] + df['da'] + df['transport_allow'] + df['housing _allowance'] - df['pf']"
   ]
  },
  {
   "cell_type": "code",
   "execution_count": 70,
   "metadata": {
    "collapsed": false
   },
   "outputs": [
    {
     "data": {
      "text/html": [
       "<div>\n",
       "<table border=\"1\" class=\"dataframe\">\n",
       "  <thead>\n",
       "    <tr style=\"text-align: right;\">\n",
       "      <th></th>\n",
       "      <th>base_pay</th>\n",
       "      <th>da</th>\n",
       "      <th>transport_allow</th>\n",
       "      <th>housing _allowance</th>\n",
       "      <th>pf</th>\n",
       "      <th>Total_Pay</th>\n",
       "    </tr>\n",
       "  </thead>\n",
       "  <tbody>\n",
       "    <tr>\n",
       "      <th>0</th>\n",
       "      <td>52080</td>\n",
       "      <td>24452</td>\n",
       "      <td>14028</td>\n",
       "      <td>4819</td>\n",
       "      <td>88001</td>\n",
       "      <td>7378</td>\n",
       "    </tr>\n",
       "    <tr>\n",
       "      <th>1</th>\n",
       "      <td>65216</td>\n",
       "      <td>47489</td>\n",
       "      <td>66621</td>\n",
       "      <td>67038</td>\n",
       "      <td>68011</td>\n",
       "      <td>178353</td>\n",
       "    </tr>\n",
       "    <tr>\n",
       "      <th>2</th>\n",
       "      <td>79527</td>\n",
       "      <td>38426</td>\n",
       "      <td>92104</td>\n",
       "      <td>71627</td>\n",
       "      <td>71480</td>\n",
       "      <td>210204</td>\n",
       "    </tr>\n",
       "    <tr>\n",
       "      <th>3</th>\n",
       "      <td>3782</td>\n",
       "      <td>55086</td>\n",
       "      <td>91049</td>\n",
       "      <td>31966</td>\n",
       "      <td>68336</td>\n",
       "      <td>113547</td>\n",
       "    </tr>\n",
       "    <tr>\n",
       "      <th>4</th>\n",
       "      <td>92337</td>\n",
       "      <td>13503</td>\n",
       "      <td>74816</td>\n",
       "      <td>70229</td>\n",
       "      <td>59958</td>\n",
       "      <td>190927</td>\n",
       "    </tr>\n",
       "    <tr>\n",
       "      <th>5</th>\n",
       "      <td>67822</td>\n",
       "      <td>79055</td>\n",
       "      <td>62429</td>\n",
       "      <td>25480</td>\n",
       "      <td>45766</td>\n",
       "      <td>189020</td>\n",
       "    </tr>\n",
       "    <tr>\n",
       "      <th>6</th>\n",
       "      <td>39484</td>\n",
       "      <td>79542</td>\n",
       "      <td>57899</td>\n",
       "      <td>80170</td>\n",
       "      <td>61327</td>\n",
       "      <td>195768</td>\n",
       "    </tr>\n",
       "    <tr>\n",
       "      <th>7</th>\n",
       "      <td>24817</td>\n",
       "      <td>16920</td>\n",
       "      <td>62562</td>\n",
       "      <td>40431</td>\n",
       "      <td>88710</td>\n",
       "      <td>56020</td>\n",
       "    </tr>\n",
       "    <tr>\n",
       "      <th>8</th>\n",
       "      <td>53396</td>\n",
       "      <td>44756</td>\n",
       "      <td>35312</td>\n",
       "      <td>64644</td>\n",
       "      <td>190</td>\n",
       "      <td>197918</td>\n",
       "    </tr>\n",
       "    <tr>\n",
       "      <th>9</th>\n",
       "      <td>23506</td>\n",
       "      <td>67486</td>\n",
       "      <td>22899</td>\n",
       "      <td>26239</td>\n",
       "      <td>30582</td>\n",
       "      <td>109548</td>\n",
       "    </tr>\n",
       "  </tbody>\n",
       "</table>\n",
       "</div>"
      ],
      "text/plain": [
       "   base_pay     da  transport_allow  housing _allowance     pf  Total_Pay\n",
       "0     52080  24452            14028                4819  88001       7378\n",
       "1     65216  47489            66621               67038  68011     178353\n",
       "2     79527  38426            92104               71627  71480     210204\n",
       "3      3782  55086            91049               31966  68336     113547\n",
       "4     92337  13503            74816               70229  59958     190927\n",
       "5     67822  79055            62429               25480  45766     189020\n",
       "6     39484  79542            57899               80170  61327     195768\n",
       "7     24817  16920            62562               40431  88710      56020\n",
       "8     53396  44756            35312               64644    190     197918\n",
       "9     23506  67486            22899               26239  30582     109548"
      ]
     },
     "execution_count": 70,
     "metadata": {},
     "output_type": "execute_result"
    }
   ],
   "source": [
    "df"
   ]
  },
  {
   "cell_type": "code",
   "execution_count": 72,
   "metadata": {
    "collapsed": false
   },
   "outputs": [
    {
     "data": {
      "text/plain": [
       "<matplotlib.axes._subplots.AxesSubplot at 0xe6ab070>"
      ]
     },
     "execution_count": 72,
     "metadata": {},
     "output_type": "execute_result"
    },
    {
     "data": {
      "image/png": "[encoded data removed]",
      "text/plain": [
       "<matplotlib.figure.Figure at 0xe6a0930>"
      ]
     },
     "metadata": {},
     "output_type": "display_data"
    }
   ],
   "source": [
    "%matplotlib inline\n",
    "df.plot.bar()"
   ]
  },
  {
   "cell_type": "code",
   "execution_count": 74,
   "metadata": {
    "collapsed": false
   },
   "outputs": [
    {
     "data": {
      "text/plain": [
       "<matplotlib.axes._subplots.AxesSubplot at 0xe0ca830>"
      ]
     },
     "execution_count": 74,
     "metadata": {},
     "output_type": "execute_result"
    },
    {
     "data": {
      "image/png": "[encoded data removed]",
      "text/plain": [
       "<matplotlib.figure.Figure at 0xe1e7ad0>"
      ]
     },
     "metadata": {},
     "output_type": "display_data"
    }
   ],
   "source": [
    "df.plot.box()"
   ]
  },
  {
   "cell_type": "code",
   "execution_count": 75,
   "metadata": {
    "collapsed": false
   },
   "outputs": [
    {
     "data": {
      "text/plain": [
       "<matplotlib.axes._subplots.AxesSubplot at 0xf1f26f0>"
      ]
     },
     "execution_count": 75,
     "metadata": {},
     "output_type": "execute_result"
    },
    {
     "data": {
      "image/png": "[encoded data removed]",
      "text/plain": [
       "<matplotlib.figure.Figure at 0xeeb8fd0>"
      ]
     },
     "metadata": {},
     "output_type": "display_data"
    }
   ],
   "source": [
    "df.plot.hist()"
   ]
  },
  {
   "cell_type": "code",
   "execution_count": 76,
   "metadata": {
    "collapsed": false
   },
   "outputs": [
    {
     "data": {
      "text/plain": [
       "<matplotlib.axes._subplots.AxesSubplot at 0x10d74c30>"
      ]
     },
     "execution_count": 76,
     "metadata": {},
     "output_type": "execute_result"
    },
    {
     "data": {
      "image/png": "[encoded data removed]",
      "text/plain": [
       "<matplotlib.figure.Figure at 0x10db32b0>"
      ]
     },
     "metadata": {},
     "output_type": "display_data"
    }
   ],
   "source": [
    "df.plot()"
   ]
  },
  {
   "cell_type": "code",
   "execution_count": 77,
   "metadata": {
    "collapsed": false
   },
   "outputs": [
    {
     "data": {
      "text/html": [
       "<div>\n",
       "<table border=\"1\" class=\"dataframe\">\n",
       "  <thead>\n",
       "    <tr style=\"text-align: right;\">\n",
       "      <th></th>\n",
       "      <th>star_rating</th>\n",
       "      <th>title</th>\n",
       "      <th>content_rating</th>\n",
       "      <th>genre</th>\n",
       "      <th>duration</th>\n",
       "      <th>actors_list</th>\n",
       "    </tr>\n",
       "  </thead>\n",
       "  <tbody>\n",
       "    <tr>\n",
       "      <th>0</th>\n",
       "      <td>9.3</td>\n",
       "      <td>The Shawshank Redemption</td>\n",
       "      <td>R</td>\n",
       "      <td>Crime</td>\n",
       "      <td>142</td>\n",
       "      <td>[u'Tim Robbins', u'Morgan Freeman', u'Bob Gunt...</td>\n",
       "    </tr>\n",
       "    <tr>\n",
       "      <th>1</th>\n",
       "      <td>9.2</td>\n",
       "      <td>The Godfather</td>\n",
       "      <td>R</td>\n",
       "      <td>Crime</td>\n",
       "      <td>175</td>\n",
       "      <td>[u'Marlon Brando', u'Al Pacino', u'James Caan']</td>\n",
       "    </tr>\n",
       "    <tr>\n",
       "      <th>2</th>\n",
       "      <td>9.1</td>\n",
       "      <td>The Godfather: Part II</td>\n",
       "      <td>R</td>\n",
       "      <td>Crime</td>\n",
       "      <td>200</td>\n",
       "      <td>[u'Al Pacino', u'Robert De Niro', u'Robert Duv...</td>\n",
       "    </tr>\n",
       "    <tr>\n",
       "      <th>3</th>\n",
       "      <td>9.0</td>\n",
       "      <td>The Dark Knight</td>\n",
       "      <td>PG-13</td>\n",
       "      <td>Action</td>\n",
       "      <td>152</td>\n",
       "      <td>[u'Christian Bale', u'Heath Ledger', u'Aaron E...</td>\n",
       "    </tr>\n",
       "    <tr>\n",
       "      <th>4</th>\n",
       "      <td>8.9</td>\n",
       "      <td>Pulp Fiction</td>\n",
       "      <td>R</td>\n",
       "      <td>Crime</td>\n",
       "      <td>154</td>\n",
       "      <td>[u'John Travolta', u'Uma Thurman', u'Samuel L....</td>\n",
       "    </tr>\n",
       "  </tbody>\n",
       "</table>\n",
       "</div>"
      ],
      "text/plain": [
       "   star_rating                     title content_rating   genre  duration  \\\n",
       "0          9.3  The Shawshank Redemption              R   Crime       142   \n",
       "1          9.2             The Godfather              R   Crime       175   \n",
       "2          9.1    The Godfather: Part II              R   Crime       200   \n",
       "3          9.0           The Dark Knight          PG-13  Action       152   \n",
       "4          8.9              Pulp Fiction              R   Crime       154   \n",
       "\n",
       "                                         actors_list  \n",
       "0  [u'Tim Robbins', u'Morgan Freeman', u'Bob Gunt...  \n",
       "1    [u'Marlon Brando', u'Al Pacino', u'James Caan']  \n",
       "2  [u'Al Pacino', u'Robert De Niro', u'Robert Duv...  \n",
       "3  [u'Christian Bale', u'Heath Ledger', u'Aaron E...  \n",
       "4  [u'John Travolta', u'Uma Thurman', u'Samuel L....  "
      ]
     },
     "execution_count": 77,
     "metadata": {},
     "output_type": "execute_result"
    }
   ],
   "source": [
    "movies.head()"
   ]
  },
  {
   "cell_type": "code",
   "execution_count": 93,
   "metadata": {
    "collapsed": false
   },
   "outputs": [
    {
     "data": {
      "text/plain": [
       "array([[<matplotlib.axes._subplots.AxesSubplot object at 0x142212D0>]], dtype=object)"
      ]
     },
     "execution_count": 93,
     "metadata": {},
     "output_type": "execute_result"
    },
    {
     "data": {
      "image/png": "[encoded data removed]",
      "text/plain": [
       "<matplotlib.figure.Figure at 0x1422a610>"
      ]
     },
     "metadata": {},
     "output_type": "display_data"
    }
   ],
   "source": [
    "movies.hist(column = 'star_rating',figsize= (15,10))"
   ]
  },
  {
   "cell_type": "code",
   "execution_count": 95,
   "metadata": {
    "collapsed": false
   },
   "outputs": [
    {
     "data": {
      "text/plain": [
       "<matplotlib.axes._subplots.AxesSubplot at 0x157a55d0>"
      ]
     },
     "execution_count": 95,
     "metadata": {},
     "output_type": "execute_result"
    },
    {
     "data": {
      "image/png": "[encoded data removed]",
      "text/plain": [
       "<matplotlib.figure.Figure at 0x157967f0>"
      ]
     },
     "metadata": {},
     "output_type": "display_data"
    }
   ],
   "source": [
    "movies.boxplot(column = 'star_rating',figsize= (20,10))"
   ]
  },
  {
   "cell_type": "code",
   "execution_count": 83,
   "metadata": {
    "collapsed": false
   },
   "outputs": [
    {
     "data": {
      "text/plain": [
       "7.6    124\n",
       "7.8    116\n",
       "7.7    113\n",
       "7.5    108\n",
       "8.1    103\n",
       "8.0     97\n",
       "7.9     75\n",
       "8.2     51\n",
       "7.4     49\n",
       "8.3     43\n",
       "8.4     37\n",
       "8.5     23\n",
       "8.6     15\n",
       "8.7     10\n",
       "8.9      6\n",
       "8.8      5\n",
       "9.3      1\n",
       "9.2      1\n",
       "9.1      1\n",
       "9.0      1\n",
       "Name: star_rating, dtype: int64"
      ]
     },
     "execution_count": 83,
     "metadata": {},
     "output_type": "execute_result"
    }
   ],
   "source": [
    "movies.star_rating.value_counts()"
   ]
  },
  {
   "cell_type": "code",
   "execution_count": 92,
   "metadata": {
    "collapsed": false
   },
   "outputs": [
    {
     "data": {
      "text/plain": [
       "array([[<matplotlib.axes._subplots.AxesSubplot object at 0x13DA00D0>]], dtype=object)"
      ]
     },
     "execution_count": 92,
     "metadata": {},
     "output_type": "execute_result"
    },
    {
     "data": {
      "image/png": "[encoded data removed]",
      "text/plain": [
       "<matplotlib.figure.Figure at 0x13ce33f0>"
      ]
     },
     "metadata": {},
     "output_type": "display_data"
    }
   ],
   "source": [
    "df.hist(column ='Total_Pay',figsize = (10,10))"
   ]
  },
  {
   "cell_type": "code",
   "execution_count": 91,
   "metadata": {
    "collapsed": false
   },
   "outputs": [
    {
     "data": {
      "text/plain": [
       "<matplotlib.axes._subplots.AxesSubplot at 0x13ded650>"
      ]
     },
     "execution_count": 91,
     "metadata": {},
     "output_type": "execute_result"
    },
    {
     "data": {
      "image/png": "[encoded data removed]",
      "text/plain": [
       "<matplotlib.figure.Figure at 0x13dfa510>"
      ]
     },
     "metadata": {},
     "output_type": "display_data"
    }
   ],
   "source": [
    "df.boxplot(column ='Total_Pay',figsize = (15,20))"
   ]
  },
  {
   "cell_type": "code",
   "execution_count": 96,
   "metadata": {
    "collapsed": false
   },
   "outputs": [
    {
     "data": {
      "text/html": [
       "<div>\n",
       "<table border=\"1\" class=\"dataframe\">\n",
       "  <thead>\n",
       "    <tr style=\"text-align: right;\">\n",
       "      <th></th>\n",
       "      <th>star_rating</th>\n",
       "      <th>duration</th>\n",
       "    </tr>\n",
       "  </thead>\n",
       "  <tbody>\n",
       "    <tr>\n",
       "      <th>count</th>\n",
       "      <td>979.000000</td>\n",
       "      <td>979.000000</td>\n",
       "    </tr>\n",
       "    <tr>\n",
       "      <th>mean</th>\n",
       "      <td>7.889785</td>\n",
       "      <td>120.979571</td>\n",
       "    </tr>\n",
       "    <tr>\n",
       "      <th>std</th>\n",
       "      <td>0.336069</td>\n",
       "      <td>26.218010</td>\n",
       "    </tr>\n",
       "    <tr>\n",
       "      <th>min</th>\n",
       "      <td>7.400000</td>\n",
       "      <td>64.000000</td>\n",
       "    </tr>\n",
       "    <tr>\n",
       "      <th>25%</th>\n",
       "      <td>7.600000</td>\n",
       "      <td>102.000000</td>\n",
       "    </tr>\n",
       "    <tr>\n",
       "      <th>50%</th>\n",
       "      <td>7.800000</td>\n",
       "      <td>117.000000</td>\n",
       "    </tr>\n",
       "    <tr>\n",
       "      <th>75%</th>\n",
       "      <td>8.100000</td>\n",
       "      <td>134.000000</td>\n",
       "    </tr>\n",
       "    <tr>\n",
       "      <th>max</th>\n",
       "      <td>9.300000</td>\n",
       "      <td>242.000000</td>\n",
       "    </tr>\n",
       "  </tbody>\n",
       "</table>\n",
       "</div>"
      ],
      "text/plain": [
       "       star_rating    duration\n",
       "count   979.000000  979.000000\n",
       "mean      7.889785  120.979571\n",
       "std       0.336069   26.218010\n",
       "min       7.400000   64.000000\n",
       "25%       7.600000  102.000000\n",
       "50%       7.800000  117.000000\n",
       "75%       8.100000  134.000000\n",
       "max       9.300000  242.000000"
      ]
     },
     "execution_count": 96,
     "metadata": {},
     "output_type": "execute_result"
    }
   ],
   "source": [
    "movies.describe()"
   ]
  },
  {
   "cell_type": "code",
   "execution_count": 104,
   "metadata": {
    "collapsed": false
   },
   "outputs": [
    {
     "data": {
      "text/html": [
       "<div>\n",
       "<table border=\"1\" class=\"dataframe\">\n",
       "  <thead>\n",
       "    <tr style=\"text-align: right;\">\n",
       "      <th></th>\n",
       "      <th>star_rating</th>\n",
       "      <th>title</th>\n",
       "      <th>content_rating</th>\n",
       "      <th>genre</th>\n",
       "      <th>duration</th>\n",
       "      <th>actors_list</th>\n",
       "    </tr>\n",
       "  </thead>\n",
       "  <tbody>\n",
       "    <tr>\n",
       "      <th>3</th>\n",
       "      <td>9.0</td>\n",
       "      <td>The Dark Knight</td>\n",
       "      <td>PG-13</td>\n",
       "      <td>Action</td>\n",
       "      <td>152</td>\n",
       "      <td>[u'Christian Bale', u'Heath Ledger', u'Aaron E...</td>\n",
       "    </tr>\n",
       "    <tr>\n",
       "      <th>36</th>\n",
       "      <td>8.6</td>\n",
       "      <td>Saving Private Ryan</td>\n",
       "      <td>R</td>\n",
       "      <td>Action</td>\n",
       "      <td>169</td>\n",
       "      <td>[u'Tom Hanks', u'Matt Damon', u'Tom Sizemore']</td>\n",
       "    </tr>\n",
       "    <tr>\n",
       "      <th>43</th>\n",
       "      <td>8.5</td>\n",
       "      <td>The Dark Knight Rises</td>\n",
       "      <td>PG-13</td>\n",
       "      <td>Action</td>\n",
       "      <td>165</td>\n",
       "      <td>[u'Christian Bale', u'Tom Hardy', u'Anne Hatha...</td>\n",
       "    </tr>\n",
       "    <tr>\n",
       "      <th>44</th>\n",
       "      <td>8.5</td>\n",
       "      <td>Gladiator</td>\n",
       "      <td>R</td>\n",
       "      <td>Action</td>\n",
       "      <td>155</td>\n",
       "      <td>[u'Russell Crowe', u'Joaquin Phoenix', u'Conni...</td>\n",
       "    </tr>\n",
       "    <tr>\n",
       "      <th>82</th>\n",
       "      <td>8.4</td>\n",
       "      <td>Braveheart</td>\n",
       "      <td>R</td>\n",
       "      <td>Action</td>\n",
       "      <td>177</td>\n",
       "      <td>[u'Mel Gibson', u'Sophie Marceau', u'Patrick M...</td>\n",
       "    </tr>\n",
       "    <tr>\n",
       "      <th>129</th>\n",
       "      <td>8.3</td>\n",
       "      <td>Ran</td>\n",
       "      <td>R</td>\n",
       "      <td>Action</td>\n",
       "      <td>162</td>\n",
       "      <td>[u'Tatsuya Nakadai', u'Akira Terao', u'Jinpach...</td>\n",
       "    </tr>\n",
       "    <tr>\n",
       "      <th>135</th>\n",
       "      <td>8.3</td>\n",
       "      <td>Heat</td>\n",
       "      <td>R</td>\n",
       "      <td>Action</td>\n",
       "      <td>170</td>\n",
       "      <td>[u'Al Pacino', u'Robert De Niro', u'Val Kilmer']</td>\n",
       "    </tr>\n",
       "    <tr>\n",
       "      <th>385</th>\n",
       "      <td>8.0</td>\n",
       "      <td>Spartacus</td>\n",
       "      <td>PG-13</td>\n",
       "      <td>Action</td>\n",
       "      <td>197</td>\n",
       "      <td>[u'Kirk Douglas', u'Laurence Olivier', u'Jean ...</td>\n",
       "    </tr>\n",
       "    <tr>\n",
       "      <th>433</th>\n",
       "      <td>7.9</td>\n",
       "      <td>Avatar</td>\n",
       "      <td>PG-13</td>\n",
       "      <td>Action</td>\n",
       "      <td>162</td>\n",
       "      <td>[u'Sam Worthington', u'Zoe Saldana', u'Sigourn...</td>\n",
       "    </tr>\n",
       "    <tr>\n",
       "      <th>534</th>\n",
       "      <td>7.8</td>\n",
       "      <td>The Longest Day</td>\n",
       "      <td>G</td>\n",
       "      <td>Action</td>\n",
       "      <td>178</td>\n",
       "      <td>[u'John Wayne', u'Robert Ryan', u'Richard Burt...</td>\n",
       "    </tr>\n",
       "    <tr>\n",
       "      <th>613</th>\n",
       "      <td>7.7</td>\n",
       "      <td>The Last Samurai</td>\n",
       "      <td>R</td>\n",
       "      <td>Action</td>\n",
       "      <td>154</td>\n",
       "      <td>[u'Tom Cruise', u'Ken Watanabe', u'Billy Conno...</td>\n",
       "    </tr>\n",
       "    <tr>\n",
       "      <th>649</th>\n",
       "      <td>7.7</td>\n",
       "      <td>Where Eagles Dare</td>\n",
       "      <td>NaN</td>\n",
       "      <td>Action</td>\n",
       "      <td>158</td>\n",
       "      <td>[u'Richard Burton', u'Clint Eastwood', u'Mary ...</td>\n",
       "    </tr>\n",
       "    <tr>\n",
       "      <th>671</th>\n",
       "      <td>7.7</td>\n",
       "      <td>Grindhouse</td>\n",
       "      <td>R</td>\n",
       "      <td>Action</td>\n",
       "      <td>191</td>\n",
       "      <td>[u'Kurt Russell', u'Rose McGowan', u'Danny Tre...</td>\n",
       "    </tr>\n",
       "    <tr>\n",
       "      <th>684</th>\n",
       "      <td>7.7</td>\n",
       "      <td>The Big Blue</td>\n",
       "      <td>PG-13</td>\n",
       "      <td>Action</td>\n",
       "      <td>168</td>\n",
       "      <td>[u'Jean-Marc Barr', u'Jean Reno', u'Rosanna Ar...</td>\n",
       "    </tr>\n",
       "    <tr>\n",
       "      <th>707</th>\n",
       "      <td>7.6</td>\n",
       "      <td>Watchmen</td>\n",
       "      <td>R</td>\n",
       "      <td>Action</td>\n",
       "      <td>162</td>\n",
       "      <td>[u'Jackie Earle Haley', u'Patrick Wilson', u'C...</td>\n",
       "    </tr>\n",
       "    <tr>\n",
       "      <th>767</th>\n",
       "      <td>7.6</td>\n",
       "      <td>It's a Mad, Mad, Mad, Mad World</td>\n",
       "      <td>APPROVED</td>\n",
       "      <td>Action</td>\n",
       "      <td>205</td>\n",
       "      <td>[u'Spencer Tracy', u'Milton Berle', u'Ethel Me...</td>\n",
       "    </tr>\n",
       "  </tbody>\n",
       "</table>\n",
       "</div>"
      ],
      "text/plain": [
       "     star_rating                            title content_rating   genre  \\\n",
       "3            9.0                  The Dark Knight          PG-13  Action   \n",
       "36           8.6              Saving Private Ryan              R  Action   \n",
       "43           8.5            The Dark Knight Rises          PG-13  Action   \n",
       "44           8.5                        Gladiator              R  Action   \n",
       "82           8.4                       Braveheart              R  Action   \n",
       "129          8.3                              Ran              R  Action   \n",
       "135          8.3                             Heat              R  Action   \n",
       "385          8.0                        Spartacus          PG-13  Action   \n",
       "433          7.9                           Avatar          PG-13  Action   \n",
       "534          7.8                  The Longest Day              G  Action   \n",
       "613          7.7                 The Last Samurai              R  Action   \n",
       "649          7.7                Where Eagles Dare            NaN  Action   \n",
       "671          7.7                       Grindhouse              R  Action   \n",
       "684          7.7                     The Big Blue          PG-13  Action   \n",
       "707          7.6                         Watchmen              R  Action   \n",
       "767          7.6  It's a Mad, Mad, Mad, Mad World       APPROVED  Action   \n",
       "\n",
       "     duration                                        actors_list  \n",
       "3         152  [u'Christian Bale', u'Heath Ledger', u'Aaron E...  \n",
       "36        169     [u'Tom Hanks', u'Matt Damon', u'Tom Sizemore']  \n",
       "43        165  [u'Christian Bale', u'Tom Hardy', u'Anne Hatha...  \n",
       "44        155  [u'Russell Crowe', u'Joaquin Phoenix', u'Conni...  \n",
       "82        177  [u'Mel Gibson', u'Sophie Marceau', u'Patrick M...  \n",
       "129       162  [u'Tatsuya Nakadai', u'Akira Terao', u'Jinpach...  \n",
       "135       170   [u'Al Pacino', u'Robert De Niro', u'Val Kilmer']  \n",
       "385       197  [u'Kirk Douglas', u'Laurence Olivier', u'Jean ...  \n",
       "433       162  [u'Sam Worthington', u'Zoe Saldana', u'Sigourn...  \n",
       "534       178  [u'John Wayne', u'Robert Ryan', u'Richard Burt...  \n",
       "613       154  [u'Tom Cruise', u'Ken Watanabe', u'Billy Conno...  \n",
       "649       158  [u'Richard Burton', u'Clint Eastwood', u'Mary ...  \n",
       "671       191  [u'Kurt Russell', u'Rose McGowan', u'Danny Tre...  \n",
       "684       168  [u'Jean-Marc Barr', u'Jean Reno', u'Rosanna Ar...  \n",
       "707       162  [u'Jackie Earle Haley', u'Patrick Wilson', u'C...  \n",
       "767       205  [u'Spencer Tracy', u'Milton Berle', u'Ethel Me...  "
      ]
     },
     "execution_count": 104,
     "metadata": {},
     "output_type": "execute_result"
    }
   ],
   "source": [
    "movies[(movies.duration > 150) & (movies.genre == 'Action')]movies[(movies.duration > 150) & (movies.genre == 'Action')]"
   ]
  },
  {
   "cell_type": "code",
   "execution_count": 17,
   "metadata": {
    "collapsed": false
   },
   "outputs": [
    {
     "data": {
      "text/html": [
       "<div>\n",
       "<table border=\"1\" class=\"dataframe\">\n",
       "  <thead>\n",
       "    <tr style=\"text-align: right;\">\n",
       "      <th></th>\n",
       "      <th>Unnamed: 0</th>\n",
       "      <th>star_rating</th>\n",
       "      <th>title</th>\n",
       "      <th>content_rating</th>\n",
       "      <th>genre</th>\n",
       "      <th>duration</th>\n",
       "      <th>actors_list</th>\n",
       "    </tr>\n",
       "  </thead>\n",
       "  <tbody>\n",
       "    <tr>\n",
       "      <th>3</th>\n",
       "      <td>3</td>\n",
       "      <td>9.0</td>\n",
       "      <td>The Dark Knight</td>\n",
       "      <td>PG-13</td>\n",
       "      <td>Action</td>\n",
       "      <td>152</td>\n",
       "      <td>[u'Christian Bale', u'Heath Ledger', u'Aaron E...</td>\n",
       "    </tr>\n",
       "    <tr>\n",
       "      <th>11</th>\n",
       "      <td>11</td>\n",
       "      <td>8.8</td>\n",
       "      <td>Inception</td>\n",
       "      <td>PG-13</td>\n",
       "      <td>Action</td>\n",
       "      <td>148</td>\n",
       "      <td>[u'Leonardo DiCaprio', u'Joseph Gordon-Levitt'...</td>\n",
       "    </tr>\n",
       "    <tr>\n",
       "      <th>12</th>\n",
       "      <td>12</td>\n",
       "      <td>8.8</td>\n",
       "      <td>Star Wars: Episode V - The Empire Strikes Back</td>\n",
       "      <td>PG</td>\n",
       "      <td>Action</td>\n",
       "      <td>124</td>\n",
       "      <td>[u'Mark Hamill', u'Harrison Ford', u'Carrie Fi...</td>\n",
       "    </tr>\n",
       "    <tr>\n",
       "      <th>19</th>\n",
       "      <td>19</td>\n",
       "      <td>8.7</td>\n",
       "      <td>Star Wars</td>\n",
       "      <td>PG</td>\n",
       "      <td>Action</td>\n",
       "      <td>121</td>\n",
       "      <td>[u'Mark Hamill', u'Harrison Ford', u'Carrie Fi...</td>\n",
       "    </tr>\n",
       "    <tr>\n",
       "      <th>20</th>\n",
       "      <td>20</td>\n",
       "      <td>8.7</td>\n",
       "      <td>The Matrix</td>\n",
       "      <td>R</td>\n",
       "      <td>Action</td>\n",
       "      <td>136</td>\n",
       "      <td>[u'Keanu Reeves', u'Laurence Fishburne', u'Car...</td>\n",
       "    </tr>\n",
       "    <tr>\n",
       "      <th>36</th>\n",
       "      <td>36</td>\n",
       "      <td>8.6</td>\n",
       "      <td>Saving Private Ryan</td>\n",
       "      <td>R</td>\n",
       "      <td>Action</td>\n",
       "      <td>169</td>\n",
       "      <td>[u'Tom Hanks', u'Matt Damon', u'Tom Sizemore']</td>\n",
       "    </tr>\n",
       "    <tr>\n",
       "      <th>37</th>\n",
       "      <td>37</td>\n",
       "      <td>8.6</td>\n",
       "      <td>Raiders of the Lost Ark</td>\n",
       "      <td>PG</td>\n",
       "      <td>Action</td>\n",
       "      <td>115</td>\n",
       "      <td>[u'Harrison Ford', u'Karen Allen', u'Paul Free...</td>\n",
       "    </tr>\n",
       "    <tr>\n",
       "      <th>43</th>\n",
       "      <td>43</td>\n",
       "      <td>8.5</td>\n",
       "      <td>The Dark Knight Rises</td>\n",
       "      <td>PG-13</td>\n",
       "      <td>Action</td>\n",
       "      <td>165</td>\n",
       "      <td>[u'Christian Bale', u'Tom Hardy', u'Anne Hatha...</td>\n",
       "    </tr>\n",
       "    <tr>\n",
       "      <th>44</th>\n",
       "      <td>44</td>\n",
       "      <td>8.5</td>\n",
       "      <td>Gladiator</td>\n",
       "      <td>R</td>\n",
       "      <td>Action</td>\n",
       "      <td>155</td>\n",
       "      <td>[u'Russell Crowe', u'Joaquin Phoenix', u'Conni...</td>\n",
       "    </tr>\n",
       "    <tr>\n",
       "      <th>45</th>\n",
       "      <td>45</td>\n",
       "      <td>8.5</td>\n",
       "      <td>Terminator 2: Judgment Day</td>\n",
       "      <td>R</td>\n",
       "      <td>Action</td>\n",
       "      <td>137</td>\n",
       "      <td>[u'Arnold Schwarzenegger', u'Linda Hamilton', ...</td>\n",
       "    </tr>\n",
       "    <tr>\n",
       "      <th>75</th>\n",
       "      <td>75</td>\n",
       "      <td>8.4</td>\n",
       "      <td>Aliens</td>\n",
       "      <td>R</td>\n",
       "      <td>Action</td>\n",
       "      <td>137</td>\n",
       "      <td>[u'Sigourney Weaver', u'Michael Biehn', u'Carr...</td>\n",
       "    </tr>\n",
       "    <tr>\n",
       "      <th>80</th>\n",
       "      <td>80</td>\n",
       "      <td>8.4</td>\n",
       "      <td>Star Wars: Episode VI - Return of the Jedi</td>\n",
       "      <td>PG</td>\n",
       "      <td>Action</td>\n",
       "      <td>134</td>\n",
       "      <td>[u'Mark Hamill', u'Harrison Ford', u'Carrie Fi...</td>\n",
       "    </tr>\n",
       "    <tr>\n",
       "      <th>82</th>\n",
       "      <td>82</td>\n",
       "      <td>8.4</td>\n",
       "      <td>Braveheart</td>\n",
       "      <td>R</td>\n",
       "      <td>Action</td>\n",
       "      <td>177</td>\n",
       "      <td>[u'Mel Gibson', u'Sophie Marceau', u'Patrick M...</td>\n",
       "    </tr>\n",
       "    <tr>\n",
       "      <th>96</th>\n",
       "      <td>96</td>\n",
       "      <td>8.4</td>\n",
       "      <td>Yojimbo</td>\n",
       "      <td>UNRATED</td>\n",
       "      <td>Action</td>\n",
       "      <td>110</td>\n",
       "      <td>[u'Toshir\\xf4 Mifune', u'Eijir\\xf4 T\\xf4no', u...</td>\n",
       "    </tr>\n",
       "    <tr>\n",
       "      <th>100</th>\n",
       "      <td>100</td>\n",
       "      <td>8.3</td>\n",
       "      <td>The Treasure of the Sierra Madre</td>\n",
       "      <td>NOT RATED</td>\n",
       "      <td>Action</td>\n",
       "      <td>126</td>\n",
       "      <td>[u'Humphrey Bogart', u'Walter Huston', u'Tim H...</td>\n",
       "    </tr>\n",
       "    <tr>\n",
       "      <th>113</th>\n",
       "      <td>113</td>\n",
       "      <td>8.3</td>\n",
       "      <td>Batman Begins</td>\n",
       "      <td>PG-13</td>\n",
       "      <td>Action</td>\n",
       "      <td>140</td>\n",
       "      <td>[u'Christian Bale', u'Michael Caine', u'Ken Wa...</td>\n",
       "    </tr>\n",
       "    <tr>\n",
       "      <th>118</th>\n",
       "      <td>118</td>\n",
       "      <td>8.3</td>\n",
       "      <td>Indiana Jones and the Last Crusade</td>\n",
       "      <td>PG-13</td>\n",
       "      <td>Action</td>\n",
       "      <td>127</td>\n",
       "      <td>[u'Harrison Ford', u'Sean Connery', u'Alison D...</td>\n",
       "    </tr>\n",
       "    <tr>\n",
       "      <th>123</th>\n",
       "      <td>123</td>\n",
       "      <td>8.3</td>\n",
       "      <td>The General</td>\n",
       "      <td>UNRATED</td>\n",
       "      <td>Action</td>\n",
       "      <td>107</td>\n",
       "      <td>[u'Buster Keaton', u'Marion Mack', u'Glen Cave...</td>\n",
       "    </tr>\n",
       "    <tr>\n",
       "      <th>129</th>\n",
       "      <td>129</td>\n",
       "      <td>8.3</td>\n",
       "      <td>Ran</td>\n",
       "      <td>R</td>\n",
       "      <td>Action</td>\n",
       "      <td>162</td>\n",
       "      <td>[u'Tatsuya Nakadai', u'Akira Terao', u'Jinpach...</td>\n",
       "    </tr>\n",
       "    <tr>\n",
       "      <th>135</th>\n",
       "      <td>135</td>\n",
       "      <td>8.3</td>\n",
       "      <td>Heat</td>\n",
       "      <td>R</td>\n",
       "      <td>Action</td>\n",
       "      <td>170</td>\n",
       "      <td>[u'Al Pacino', u'Robert De Niro', u'Val Kilmer']</td>\n",
       "    </tr>\n",
       "    <tr>\n",
       "      <th>138</th>\n",
       "      <td>138</td>\n",
       "      <td>8.3</td>\n",
       "      <td>Die Hard</td>\n",
       "      <td>R</td>\n",
       "      <td>Action</td>\n",
       "      <td>131</td>\n",
       "      <td>[u'Bruce Willis', u'Alan Rickman', u'Bonnie Be...</td>\n",
       "    </tr>\n",
       "    <tr>\n",
       "      <th>152</th>\n",
       "      <td>152</td>\n",
       "      <td>8.2</td>\n",
       "      <td>V for Vendetta</td>\n",
       "      <td>R</td>\n",
       "      <td>Action</td>\n",
       "      <td>132</td>\n",
       "      <td>[u'Hugo Weaving', u'Natalie Portman', u'Rupert...</td>\n",
       "    </tr>\n",
       "    <tr>\n",
       "      <th>163</th>\n",
       "      <td>163</td>\n",
       "      <td>8.2</td>\n",
       "      <td>Rush</td>\n",
       "      <td>R</td>\n",
       "      <td>Action</td>\n",
       "      <td>123</td>\n",
       "      <td>[u'Daniel Br\\xfchl', u'Chris Hemsworth', u'Oli...</td>\n",
       "    </tr>\n",
       "    <tr>\n",
       "      <th>173</th>\n",
       "      <td>173</td>\n",
       "      <td>8.2</td>\n",
       "      <td>Tae Guk Gi: The Brotherhood of War</td>\n",
       "      <td>R</td>\n",
       "      <td>Action</td>\n",
       "      <td>140</td>\n",
       "      <td>[u'Dong-gun Jang', u'Bin Won', u'Eun-ju Lee']</td>\n",
       "    </tr>\n",
       "    <tr>\n",
       "      <th>177</th>\n",
       "      <td>177</td>\n",
       "      <td>8.2</td>\n",
       "      <td>The Avengers</td>\n",
       "      <td>PG-13</td>\n",
       "      <td>Action</td>\n",
       "      <td>143</td>\n",
       "      <td>[u'Robert Downey Jr.', u'Chris Evans', u'Scarl...</td>\n",
       "    </tr>\n",
       "    <tr>\n",
       "      <th>194</th>\n",
       "      <td>194</td>\n",
       "      <td>8.1</td>\n",
       "      <td>Kingsman: The Secret Service</td>\n",
       "      <td>R</td>\n",
       "      <td>Action</td>\n",
       "      <td>129</td>\n",
       "      <td>[u'Colin Firth', u'Taron Egerton', u'Samuel L....</td>\n",
       "    </tr>\n",
       "    <tr>\n",
       "      <th>196</th>\n",
       "      <td>196</td>\n",
       "      <td>8.1</td>\n",
       "      <td>Guardians of the Galaxy</td>\n",
       "      <td>PG-13</td>\n",
       "      <td>Action</td>\n",
       "      <td>121</td>\n",
       "      <td>[u'Chris Pratt', u'Vin Diesel', u'Bradley Coop...</td>\n",
       "    </tr>\n",
       "    <tr>\n",
       "      <th>198</th>\n",
       "      <td>198</td>\n",
       "      <td>8.1</td>\n",
       "      <td>Kill Bill: Vol. 1</td>\n",
       "      <td>R</td>\n",
       "      <td>Action</td>\n",
       "      <td>111</td>\n",
       "      <td>[u'Uma Thurman', u'David Carradine', u'Daryl H...</td>\n",
       "    </tr>\n",
       "    <tr>\n",
       "      <th>235</th>\n",
       "      <td>235</td>\n",
       "      <td>8.1</td>\n",
       "      <td>Yip Man</td>\n",
       "      <td>R</td>\n",
       "      <td>Action</td>\n",
       "      <td>106</td>\n",
       "      <td>[u'Donnie Yen', u'Simon Yam', u'Siu-Wong Fan']</td>\n",
       "    </tr>\n",
       "    <tr>\n",
       "      <th>239</th>\n",
       "      <td>239</td>\n",
       "      <td>8.1</td>\n",
       "      <td>Elite Squad: The Enemy Within</td>\n",
       "      <td>UNRATED</td>\n",
       "      <td>Action</td>\n",
       "      <td>115</td>\n",
       "      <td>[u'Wagner Moura', u'Irandhir Santos', u'Andr\\x...</td>\n",
       "    </tr>\n",
       "    <tr>\n",
       "      <th>240</th>\n",
       "      <td>240</td>\n",
       "      <td>8.1</td>\n",
       "      <td>The Bourne Ultimatum</td>\n",
       "      <td>PG-13</td>\n",
       "      <td>Action</td>\n",
       "      <td>115</td>\n",
       "      <td>[u'Matt Damon', u'\\xc9dgar Ram\\xedrez', u'Joan...</td>\n",
       "    </tr>\n",
       "    <tr>\n",
       "      <th>248</th>\n",
       "      <td>248</td>\n",
       "      <td>8.1</td>\n",
       "      <td>X-Men: Days of Future Past</td>\n",
       "      <td>PG-13</td>\n",
       "      <td>Action</td>\n",
       "      <td>131</td>\n",
       "      <td>[u'Patrick Stewart', u'Ian McKellen', u'Hugh J...</td>\n",
       "    </tr>\n",
       "    <tr>\n",
       "      <th>261</th>\n",
       "      <td>261</td>\n",
       "      <td>8.1</td>\n",
       "      <td>Elite Squad</td>\n",
       "      <td>R</td>\n",
       "      <td>Action</td>\n",
       "      <td>115</td>\n",
       "      <td>[u'Wagner Moura', u'Andr\\xe9 Ramiro', u'Caio J...</td>\n",
       "    </tr>\n",
       "    <tr>\n",
       "      <th>268</th>\n",
       "      <td>268</td>\n",
       "      <td>8.1</td>\n",
       "      <td>The Raid 2</td>\n",
       "      <td>R</td>\n",
       "      <td>Action</td>\n",
       "      <td>150</td>\n",
       "      <td>[u'Iko Uwais', u'Yayan Ruhian', u'Arifin Putra']</td>\n",
       "    </tr>\n",
       "    <tr>\n",
       "      <th>276</th>\n",
       "      <td>276</td>\n",
       "      <td>8.1</td>\n",
       "      <td>A Fistful of Dollars</td>\n",
       "      <td>R</td>\n",
       "      <td>Action</td>\n",
       "      <td>99</td>\n",
       "      <td>[u'Clint Eastwood', u'Gian Maria Volont\\xe9', ...</td>\n",
       "    </tr>\n",
       "    <tr>\n",
       "      <th>281</th>\n",
       "      <td>281</td>\n",
       "      <td>8.1</td>\n",
       "      <td>The Terminator</td>\n",
       "      <td>R</td>\n",
       "      <td>Action</td>\n",
       "      <td>107</td>\n",
       "      <td>[u'Arnold Schwarzenegger', u'Linda Hamilton', ...</td>\n",
       "    </tr>\n",
       "    <tr>\n",
       "      <th>296</th>\n",
       "      <td>296</td>\n",
       "      <td>8.1</td>\n",
       "      <td>The Wild Bunch</td>\n",
       "      <td>R</td>\n",
       "      <td>Action</td>\n",
       "      <td>145</td>\n",
       "      <td>[u'William Holden', u'Ernest Borgnine', u'Robe...</td>\n",
       "    </tr>\n",
       "  </tbody>\n",
       "</table>\n",
       "</div>"
      ],
      "text/plain": [
       "     Unnamed: 0  star_rating                                           title  \\\n",
       "3             3          9.0                                 The Dark Knight   \n",
       "11           11          8.8                                       Inception   \n",
       "12           12          8.8  Star Wars: Episode V - The Empire Strikes Back   \n",
       "19           19          8.7                                       Star Wars   \n",
       "20           20          8.7                                      The Matrix   \n",
       "36           36          8.6                             Saving Private Ryan   \n",
       "37           37          8.6                         Raiders of the Lost Ark   \n",
       "43           43          8.5                           The Dark Knight Rises   \n",
       "44           44          8.5                                       Gladiator   \n",
       "45           45          8.5                      Terminator 2: Judgment Day   \n",
       "75           75          8.4                                          Aliens   \n",
       "80           80          8.4      Star Wars: Episode VI - Return of the Jedi   \n",
       "82           82          8.4                                      Braveheart   \n",
       "96           96          8.4                                         Yojimbo   \n",
       "100         100          8.3                The Treasure of the Sierra Madre   \n",
       "113         113          8.3                                   Batman Begins   \n",
       "118         118          8.3              Indiana Jones and the Last Crusade   \n",
       "123         123          8.3                                     The General   \n",
       "129         129          8.3                                             Ran   \n",
       "135         135          8.3                                            Heat   \n",
       "138         138          8.3                                        Die Hard   \n",
       "152         152          8.2                                  V for Vendetta   \n",
       "163         163          8.2                                            Rush   \n",
       "173         173          8.2              Tae Guk Gi: The Brotherhood of War   \n",
       "177         177          8.2                                    The Avengers   \n",
       "194         194          8.1                    Kingsman: The Secret Service   \n",
       "196         196          8.1                         Guardians of the Galaxy   \n",
       "198         198          8.1                               Kill Bill: Vol. 1   \n",
       "235         235          8.1                                         Yip Man   \n",
       "239         239          8.1                   Elite Squad: The Enemy Within   \n",
       "240         240          8.1                            The Bourne Ultimatum   \n",
       "248         248          8.1                      X-Men: Days of Future Past   \n",
       "261         261          8.1                                     Elite Squad   \n",
       "268         268          8.1                                      The Raid 2   \n",
       "276         276          8.1                            A Fistful of Dollars   \n",
       "281         281          8.1                                  The Terminator   \n",
       "296         296          8.1                                  The Wild Bunch   \n",
       "\n",
       "    content_rating   genre  duration  \\\n",
       "3            PG-13  Action       152   \n",
       "11           PG-13  Action       148   \n",
       "12              PG  Action       124   \n",
       "19              PG  Action       121   \n",
       "20               R  Action       136   \n",
       "36               R  Action       169   \n",
       "37              PG  Action       115   \n",
       "43           PG-13  Action       165   \n",
       "44               R  Action       155   \n",
       "45               R  Action       137   \n",
       "75               R  Action       137   \n",
       "80              PG  Action       134   \n",
       "82               R  Action       177   \n",
       "96         UNRATED  Action       110   \n",
       "100      NOT RATED  Action       126   \n",
       "113          PG-13  Action       140   \n",
       "118          PG-13  Action       127   \n",
       "123        UNRATED  Action       107   \n",
       "129              R  Action       162   \n",
       "135              R  Action       170   \n",
       "138              R  Action       131   \n",
       "152              R  Action       132   \n",
       "163              R  Action       123   \n",
       "173              R  Action       140   \n",
       "177          PG-13  Action       143   \n",
       "194              R  Action       129   \n",
       "196          PG-13  Action       121   \n",
       "198              R  Action       111   \n",
       "235              R  Action       106   \n",
       "239        UNRATED  Action       115   \n",
       "240          PG-13  Action       115   \n",
       "248          PG-13  Action       131   \n",
       "261              R  Action       115   \n",
       "268              R  Action       150   \n",
       "276              R  Action        99   \n",
       "281              R  Action       107   \n",
       "296              R  Action       145   \n",
       "\n",
       "                                           actors_list  \n",
       "3    [u'Christian Bale', u'Heath Ledger', u'Aaron E...  \n",
       "11   [u'Leonardo DiCaprio', u'Joseph Gordon-Levitt'...  \n",
       "12   [u'Mark Hamill', u'Harrison Ford', u'Carrie Fi...  \n",
       "19   [u'Mark Hamill', u'Harrison Ford', u'Carrie Fi...  \n",
       "20   [u'Keanu Reeves', u'Laurence Fishburne', u'Car...  \n",
       "36      [u'Tom Hanks', u'Matt Damon', u'Tom Sizemore']  \n",
       "37   [u'Harrison Ford', u'Karen Allen', u'Paul Free...  \n",
       "43   [u'Christian Bale', u'Tom Hardy', u'Anne Hatha...  \n",
       "44   [u'Russell Crowe', u'Joaquin Phoenix', u'Conni...  \n",
       "45   [u'Arnold Schwarzenegger', u'Linda Hamilton', ...  \n",
       "75   [u'Sigourney Weaver', u'Michael Biehn', u'Carr...  \n",
       "80   [u'Mark Hamill', u'Harrison Ford', u'Carrie Fi...  \n",
       "82   [u'Mel Gibson', u'Sophie Marceau', u'Patrick M...  \n",
       "96   [u'Toshir\\xf4 Mifune', u'Eijir\\xf4 T\\xf4no', u...  \n",
       "100  [u'Humphrey Bogart', u'Walter Huston', u'Tim H...  \n",
       "113  [u'Christian Bale', u'Michael Caine', u'Ken Wa...  \n",
       "118  [u'Harrison Ford', u'Sean Connery', u'Alison D...  \n",
       "123  [u'Buster Keaton', u'Marion Mack', u'Glen Cave...  \n",
       "129  [u'Tatsuya Nakadai', u'Akira Terao', u'Jinpach...  \n",
       "135   [u'Al Pacino', u'Robert De Niro', u'Val Kilmer']  \n",
       "138  [u'Bruce Willis', u'Alan Rickman', u'Bonnie Be...  \n",
       "152  [u'Hugo Weaving', u'Natalie Portman', u'Rupert...  \n",
       "163  [u'Daniel Br\\xfchl', u'Chris Hemsworth', u'Oli...  \n",
       "173      [u'Dong-gun Jang', u'Bin Won', u'Eun-ju Lee']  \n",
       "177  [u'Robert Downey Jr.', u'Chris Evans', u'Scarl...  \n",
       "194  [u'Colin Firth', u'Taron Egerton', u'Samuel L....  \n",
       "196  [u'Chris Pratt', u'Vin Diesel', u'Bradley Coop...  \n",
       "198  [u'Uma Thurman', u'David Carradine', u'Daryl H...  \n",
       "235     [u'Donnie Yen', u'Simon Yam', u'Siu-Wong Fan']  \n",
       "239  [u'Wagner Moura', u'Irandhir Santos', u'Andr\\x...  \n",
       "240  [u'Matt Damon', u'\\xc9dgar Ram\\xedrez', u'Joan...  \n",
       "248  [u'Patrick Stewart', u'Ian McKellen', u'Hugh J...  \n",
       "261  [u'Wagner Moura', u'Andr\\xe9 Ramiro', u'Caio J...  \n",
       "268   [u'Iko Uwais', u'Yayan Ruhian', u'Arifin Putra']  \n",
       "276  [u'Clint Eastwood', u'Gian Maria Volont\\xe9', ...  \n",
       "281  [u'Arnold Schwarzenegger', u'Linda Hamilton', ...  \n",
       "296  [u'William Holden', u'Ernest Borgnine', u'Robe...  "
      ]
     },
     "execution_count": 17,
     "metadata": {},
     "output_type": "execute_result"
    }
   ],
   "source": [
    "movies[(movies.star_rating > 8) & (movies.genre == 'Action')]"
   ]
  },
  {
   "cell_type": "code",
   "execution_count": 100,
   "metadata": {
    "collapsed": false
   },
   "outputs": [
    {
     "data": {
      "text/plain": [
       "(979, 6)"
      ]
     },
     "execution_count": 100,
     "metadata": {},
     "output_type": "execute_result"
    }
   ],
   "source": [
    "movies.shape"
   ]
  },
  {
   "cell_type": "code",
   "execution_count": 105,
   "metadata": {
    "collapsed": false
   },
   "outputs": [
    {
     "data": {
      "text/html": [
       "<div>\n",
       "<table border=\"1\" class=\"dataframe\">\n",
       "  <thead>\n",
       "    <tr style=\"text-align: right;\">\n",
       "      <th></th>\n",
       "      <th>star_rating</th>\n",
       "      <th>title</th>\n",
       "      <th>content_rating</th>\n",
       "      <th>genre</th>\n",
       "      <th>duration</th>\n",
       "      <th>actors_list</th>\n",
       "    </tr>\n",
       "  </thead>\n",
       "  <tbody>\n",
       "    <tr>\n",
       "      <th>25</th>\n",
       "      <td>8.6</td>\n",
       "      <td>Life Is Beautiful</td>\n",
       "      <td>PG-13</td>\n",
       "      <td>Comedy</td>\n",
       "      <td>116</td>\n",
       "      <td>[u'Roberto Benigni', u'Nicoletta Braschi', u'G...</td>\n",
       "    </tr>\n",
       "    <tr>\n",
       "      <th>29</th>\n",
       "      <td>8.6</td>\n",
       "      <td>City Lights</td>\n",
       "      <td>PASSED</td>\n",
       "      <td>Comedy</td>\n",
       "      <td>87</td>\n",
       "      <td>[u'Charles Chaplin', u'Virginia Cherrill', u'F...</td>\n",
       "    </tr>\n",
       "    <tr>\n",
       "      <th>35</th>\n",
       "      <td>8.6</td>\n",
       "      <td>Modern Times</td>\n",
       "      <td>G</td>\n",
       "      <td>Comedy</td>\n",
       "      <td>87</td>\n",
       "      <td>[u'Charles Chaplin', u'Paulette Goddard', u'He...</td>\n",
       "    </tr>\n",
       "    <tr>\n",
       "      <th>48</th>\n",
       "      <td>8.5</td>\n",
       "      <td>Dr. Strangelove or: How I Learned to Stop Worr...</td>\n",
       "      <td>PG</td>\n",
       "      <td>Comedy</td>\n",
       "      <td>95</td>\n",
       "      <td>[u'Peter Sellers', u'George C. Scott', u'Sterl...</td>\n",
       "    </tr>\n",
       "    <tr>\n",
       "      <th>52</th>\n",
       "      <td>8.5</td>\n",
       "      <td>The Great Dictator</td>\n",
       "      <td>APPROVED</td>\n",
       "      <td>Comedy</td>\n",
       "      <td>125</td>\n",
       "      <td>[u'Charles Chaplin', u'Paulette Goddard', u'Ja...</td>\n",
       "    </tr>\n",
       "    <tr>\n",
       "      <th>60</th>\n",
       "      <td>8.5</td>\n",
       "      <td>3 Idiots</td>\n",
       "      <td>PG-13</td>\n",
       "      <td>Comedy</td>\n",
       "      <td>170</td>\n",
       "      <td>[u'Aamir Khan', u'Madhavan', u'Mona Singh']</td>\n",
       "    </tr>\n",
       "    <tr>\n",
       "      <th>66</th>\n",
       "      <td>8.4</td>\n",
       "      <td>Munna Bhai M.B.B.S.</td>\n",
       "      <td>NOT RATED</td>\n",
       "      <td>Comedy</td>\n",
       "      <td>156</td>\n",
       "      <td>[u'Sunil Dutt', u'Sanjay Dutt', u'Arshad Warsi']</td>\n",
       "    </tr>\n",
       "    <tr>\n",
       "      <th>70</th>\n",
       "      <td>8.4</td>\n",
       "      <td>Amelie</td>\n",
       "      <td>R</td>\n",
       "      <td>Comedy</td>\n",
       "      <td>122</td>\n",
       "      <td>[u'Audrey Tautou', u'Mathieu Kassovitz', u'Ruf...</td>\n",
       "    </tr>\n",
       "    <tr>\n",
       "      <th>88</th>\n",
       "      <td>8.4</td>\n",
       "      <td>The Kid</td>\n",
       "      <td>NOT RATED</td>\n",
       "      <td>Comedy</td>\n",
       "      <td>68</td>\n",
       "      <td>[u'Charles Chaplin', u'Edna Purviance', u'Jack...</td>\n",
       "    </tr>\n",
       "    <tr>\n",
       "      <th>93</th>\n",
       "      <td>8.4</td>\n",
       "      <td>Dilwale Dulhania Le Jayenge</td>\n",
       "      <td>NOT RATED</td>\n",
       "      <td>Comedy</td>\n",
       "      <td>181</td>\n",
       "      <td>[u'Shah Rukh Khan', u'Kajol', u'Amrish Puri']</td>\n",
       "    </tr>\n",
       "    <tr>\n",
       "      <th>94</th>\n",
       "      <td>8.4</td>\n",
       "      <td>Singin' in the Rain</td>\n",
       "      <td>APPROVED</td>\n",
       "      <td>Comedy</td>\n",
       "      <td>103</td>\n",
       "      <td>[u'Gene Kelly', u\"Donald O'Connor\", u'Debbie R...</td>\n",
       "    </tr>\n",
       "    <tr>\n",
       "      <th>97</th>\n",
       "      <td>8.4</td>\n",
       "      <td>The Sting</td>\n",
       "      <td>PG</td>\n",
       "      <td>Comedy</td>\n",
       "      <td>129</td>\n",
       "      <td>[u'Paul Newman', u'Robert Redford', u'Robert S...</td>\n",
       "    </tr>\n",
       "    <tr>\n",
       "      <th>103</th>\n",
       "      <td>8.3</td>\n",
       "      <td>The Apartment</td>\n",
       "      <td>APPROVED</td>\n",
       "      <td>Comedy</td>\n",
       "      <td>125</td>\n",
       "      <td>[u'Jack Lemmon', u'Shirley MacLaine', u'Fred M...</td>\n",
       "    </tr>\n",
       "    <tr>\n",
       "      <th>106</th>\n",
       "      <td>8.3</td>\n",
       "      <td>Snatch.</td>\n",
       "      <td>R</td>\n",
       "      <td>Comedy</td>\n",
       "      <td>102</td>\n",
       "      <td>[u'Jason Statham', u'Brad Pitt', u'Benicio Del...</td>\n",
       "    </tr>\n",
       "    <tr>\n",
       "      <th>109</th>\n",
       "      <td>8.3</td>\n",
       "      <td>Dil Chahta Hai</td>\n",
       "      <td>NOT RATED</td>\n",
       "      <td>Comedy</td>\n",
       "      <td>183</td>\n",
       "      <td>[u'Aamir Khan', u'Saif Ali Khan', u'Akshaye Kh...</td>\n",
       "    </tr>\n",
       "    <tr>\n",
       "      <th>111</th>\n",
       "      <td>8.3</td>\n",
       "      <td>Some Like It Hot</td>\n",
       "      <td>NOT RATED</td>\n",
       "      <td>Comedy</td>\n",
       "      <td>120</td>\n",
       "      <td>[u'Marilyn Monroe', u'Tony Curtis', u'Jack Lem...</td>\n",
       "    </tr>\n",
       "    <tr>\n",
       "      <th>144</th>\n",
       "      <td>8.2</td>\n",
       "      <td>It Happened One Night</td>\n",
       "      <td>UNRATED</td>\n",
       "      <td>Comedy</td>\n",
       "      <td>105</td>\n",
       "      <td>[u'Clark Gable', u'Claudette Colbert', u'Walte...</td>\n",
       "    </tr>\n",
       "    <tr>\n",
       "      <th>151</th>\n",
       "      <td>8.2</td>\n",
       "      <td>Lock, Stock and Two Smoking Barrels</td>\n",
       "      <td>R</td>\n",
       "      <td>Comedy</td>\n",
       "      <td>107</td>\n",
       "      <td>[u'Jason Flemyng', u'Dexter Fletcher', u'Nick ...</td>\n",
       "    </tr>\n",
       "    <tr>\n",
       "      <th>153</th>\n",
       "      <td>8.2</td>\n",
       "      <td>The Big Lebowski</td>\n",
       "      <td>R</td>\n",
       "      <td>Comedy</td>\n",
       "      <td>117</td>\n",
       "      <td>[u'Jeff Bridges', u'John Goodman', u'Julianne ...</td>\n",
       "    </tr>\n",
       "    <tr>\n",
       "      <th>155</th>\n",
       "      <td>8.2</td>\n",
       "      <td>Relatos salvajes</td>\n",
       "      <td>R</td>\n",
       "      <td>Comedy</td>\n",
       "      <td>122</td>\n",
       "      <td>[u'Dar\\xedo Grandinetti', u'Mar\\xeda Marull', ...</td>\n",
       "    </tr>\n",
       "    <tr>\n",
       "      <th>165</th>\n",
       "      <td>8.2</td>\n",
       "      <td>My Sassy Girl</td>\n",
       "      <td>NOT RATED</td>\n",
       "      <td>Comedy</td>\n",
       "      <td>123</td>\n",
       "      <td>[u'Tae-hyun Cha', u'Gianna Jun', u'In-mun Kim']</td>\n",
       "    </tr>\n",
       "    <tr>\n",
       "      <th>183</th>\n",
       "      <td>8.2</td>\n",
       "      <td>Underground</td>\n",
       "      <td>NOT RATED</td>\n",
       "      <td>Comedy</td>\n",
       "      <td>167</td>\n",
       "      <td>[u'Predrag Manojlovic', u'Lazar Ristovski', u'...</td>\n",
       "    </tr>\n",
       "    <tr>\n",
       "      <th>189</th>\n",
       "      <td>8.2</td>\n",
       "      <td>Black Cat, White Cat</td>\n",
       "      <td>R</td>\n",
       "      <td>Comedy</td>\n",
       "      <td>127</td>\n",
       "      <td>[u'Bajram Severdzan', u'Srdjan Todorovic', u'B...</td>\n",
       "    </tr>\n",
       "    <tr>\n",
       "      <th>190</th>\n",
       "      <td>8.2</td>\n",
       "      <td>Life of Brian</td>\n",
       "      <td>R</td>\n",
       "      <td>Comedy</td>\n",
       "      <td>94</td>\n",
       "      <td>[u'Graham Chapman', u'John Cleese', u'Michael ...</td>\n",
       "    </tr>\n",
       "    <tr>\n",
       "      <th>208</th>\n",
       "      <td>8.1</td>\n",
       "      <td>Annie Hall</td>\n",
       "      <td>PG</td>\n",
       "      <td>Comedy</td>\n",
       "      <td>93</td>\n",
       "      <td>[u'Woody Allen', u'Diane Keaton', u'Tony Rober...</td>\n",
       "    </tr>\n",
       "    <tr>\n",
       "      <th>231</th>\n",
       "      <td>8.1</td>\n",
       "      <td>La Dolce Vita</td>\n",
       "      <td>NOT RATED</td>\n",
       "      <td>Comedy</td>\n",
       "      <td>174</td>\n",
       "      <td>[u'Marcello Mastroianni', u'Anita Ekberg', u'A...</td>\n",
       "    </tr>\n",
       "    <tr>\n",
       "      <th>246</th>\n",
       "      <td>8.1</td>\n",
       "      <td>Stalag 17</td>\n",
       "      <td>NOT RATED</td>\n",
       "      <td>Comedy</td>\n",
       "      <td>120</td>\n",
       "      <td>[u'William Holden', u'Don Taylor', u'Otto Prem...</td>\n",
       "    </tr>\n",
       "    <tr>\n",
       "      <th>252</th>\n",
       "      <td>8.1</td>\n",
       "      <td>Arsenic and Old Lace</td>\n",
       "      <td>NOT RATED</td>\n",
       "      <td>Comedy</td>\n",
       "      <td>118</td>\n",
       "      <td>[u'Cary Grant', u'Priscilla Lane', u'Raymond M...</td>\n",
       "    </tr>\n",
       "    <tr>\n",
       "      <th>254</th>\n",
       "      <td>8.1</td>\n",
       "      <td>Roman Holiday</td>\n",
       "      <td>NOT RATED</td>\n",
       "      <td>Comedy</td>\n",
       "      <td>118</td>\n",
       "      <td>[u'Gregory Peck', u'Audrey Hepburn', u'Eddie A...</td>\n",
       "    </tr>\n",
       "    <tr>\n",
       "      <th>255</th>\n",
       "      <td>8.1</td>\n",
       "      <td>The Philadelphia Story</td>\n",
       "      <td>NOT RATED</td>\n",
       "      <td>Comedy</td>\n",
       "      <td>112</td>\n",
       "      <td>[u'Cary Grant', u'Katharine Hepburn', u'James ...</td>\n",
       "    </tr>\n",
       "    <tr>\n",
       "      <th>...</th>\n",
       "      <td>...</td>\n",
       "      <td>...</td>\n",
       "      <td>...</td>\n",
       "      <td>...</td>\n",
       "      <td>...</td>\n",
       "      <td>...</td>\n",
       "    </tr>\n",
       "    <tr>\n",
       "      <th>650</th>\n",
       "      <td>7.7</td>\n",
       "      <td>Dazed and Confused</td>\n",
       "      <td>R</td>\n",
       "      <td>Comedy</td>\n",
       "      <td>102</td>\n",
       "      <td>[u'Jason London', u'Wiley Wiggins', u'Matthew ...</td>\n",
       "    </tr>\n",
       "    <tr>\n",
       "      <th>663</th>\n",
       "      <td>7.7</td>\n",
       "      <td>After Hours</td>\n",
       "      <td>R</td>\n",
       "      <td>Comedy</td>\n",
       "      <td>97</td>\n",
       "      <td>[u'Griffin Dunne', u'Rosanna Arquette', u'Vern...</td>\n",
       "    </tr>\n",
       "    <tr>\n",
       "      <th>667</th>\n",
       "      <td>7.7</td>\n",
       "      <td>Midnight in Paris</td>\n",
       "      <td>PG-13</td>\n",
       "      <td>Comedy</td>\n",
       "      <td>94</td>\n",
       "      <td>[u'Owen Wilson', u'Rachel McAdams', u'Kathy Ba...</td>\n",
       "    </tr>\n",
       "    <tr>\n",
       "      <th>668</th>\n",
       "      <td>7.7</td>\n",
       "      <td>The Muppet Christmas Carol</td>\n",
       "      <td>G</td>\n",
       "      <td>Comedy</td>\n",
       "      <td>85</td>\n",
       "      <td>[u'Michael Caine', u'Dave Goelz', u'Steve Whit...</td>\n",
       "    </tr>\n",
       "    <tr>\n",
       "      <th>692</th>\n",
       "      <td>7.7</td>\n",
       "      <td>MASH</td>\n",
       "      <td>R</td>\n",
       "      <td>Comedy</td>\n",
       "      <td>116</td>\n",
       "      <td>[u'Donald Sutherland', u'Elliott Gould', u'Tom...</td>\n",
       "    </tr>\n",
       "    <tr>\n",
       "      <th>693</th>\n",
       "      <td>7.7</td>\n",
       "      <td>The Player</td>\n",
       "      <td>R</td>\n",
       "      <td>Comedy</td>\n",
       "      <td>124</td>\n",
       "      <td>[u'Tim Robbins', u'Greta Scacchi', u'Fred Ward']</td>\n",
       "    </tr>\n",
       "    <tr>\n",
       "      <th>696</th>\n",
       "      <td>7.7</td>\n",
       "      <td>Stranger Than Fiction</td>\n",
       "      <td>PG-13</td>\n",
       "      <td>Comedy</td>\n",
       "      <td>113</td>\n",
       "      <td>[u'Will Ferrell', u'Emma Thompson', u'Dustin H...</td>\n",
       "    </tr>\n",
       "    <tr>\n",
       "      <th>710</th>\n",
       "      <td>7.6</td>\n",
       "      <td>Superbad</td>\n",
       "      <td>R</td>\n",
       "      <td>Comedy</td>\n",
       "      <td>113</td>\n",
       "      <td>[u'Michael Cera', u'Jonah Hill', u'Christopher...</td>\n",
       "    </tr>\n",
       "    <tr>\n",
       "      <th>712</th>\n",
       "      <td>7.6</td>\n",
       "      <td>The Royal Tenenbaums</td>\n",
       "      <td>R</td>\n",
       "      <td>Comedy</td>\n",
       "      <td>110</td>\n",
       "      <td>[u'Gene Hackman', u'Gwyneth Paltrow', u'Anjeli...</td>\n",
       "    </tr>\n",
       "    <tr>\n",
       "      <th>714</th>\n",
       "      <td>7.6</td>\n",
       "      <td>Thank You for Smoking</td>\n",
       "      <td>R</td>\n",
       "      <td>Comedy</td>\n",
       "      <td>92</td>\n",
       "      <td>[u'Aaron Eckhart', u'Cameron Bright', u'Maria ...</td>\n",
       "    </tr>\n",
       "    <tr>\n",
       "      <th>715</th>\n",
       "      <td>7.6</td>\n",
       "      <td>Man Bites Dog</td>\n",
       "      <td>NC-17</td>\n",
       "      <td>Comedy</td>\n",
       "      <td>95</td>\n",
       "      <td>[u'Beno\\xeet Poelvoorde', u'Jacqueline Poelvoo...</td>\n",
       "    </tr>\n",
       "    <tr>\n",
       "      <th>719</th>\n",
       "      <td>7.6</td>\n",
       "      <td>When Harry Met Sally...</td>\n",
       "      <td>R</td>\n",
       "      <td>Comedy</td>\n",
       "      <td>96</td>\n",
       "      <td>[u'Billy Crystal', u'Meg Ryan', u'Carrie Fisher']</td>\n",
       "    </tr>\n",
       "    <tr>\n",
       "      <th>723</th>\n",
       "      <td>7.6</td>\n",
       "      <td>Animal House</td>\n",
       "      <td>R</td>\n",
       "      <td>Comedy</td>\n",
       "      <td>109</td>\n",
       "      <td>[u'John Belushi', u'Karen Allen', u'Tom Hulce']</td>\n",
       "    </tr>\n",
       "    <tr>\n",
       "      <th>735</th>\n",
       "      <td>7.6</td>\n",
       "      <td>The Naked Gun: From the Files of Police Squad!</td>\n",
       "      <td>PG-13</td>\n",
       "      <td>Comedy</td>\n",
       "      <td>85</td>\n",
       "      <td>[u'Leslie Nielsen', u'Priscilla Presley', u'O....</td>\n",
       "    </tr>\n",
       "    <tr>\n",
       "      <th>737</th>\n",
       "      <td>7.6</td>\n",
       "      <td>The Party</td>\n",
       "      <td>PG</td>\n",
       "      <td>Comedy</td>\n",
       "      <td>99</td>\n",
       "      <td>[u'Peter Sellers', u'Claudine Longet', u'Natal...</td>\n",
       "    </tr>\n",
       "    <tr>\n",
       "      <th>738</th>\n",
       "      <td>7.6</td>\n",
       "      <td>Army of Darkness</td>\n",
       "      <td>R</td>\n",
       "      <td>Comedy</td>\n",
       "      <td>81</td>\n",
       "      <td>[u'Bruce Campbell', u'Embeth Davidtz', u'Marcu...</td>\n",
       "    </tr>\n",
       "    <tr>\n",
       "      <th>741</th>\n",
       "      <td>7.6</td>\n",
       "      <td>Volver</td>\n",
       "      <td>R</td>\n",
       "      <td>Comedy</td>\n",
       "      <td>121</td>\n",
       "      <td>[u'Pen\\xe9lope Cruz', u'Carmen Maura', u'Lola ...</td>\n",
       "    </tr>\n",
       "    <tr>\n",
       "      <th>750</th>\n",
       "      <td>7.6</td>\n",
       "      <td>A Fish Called Wanda</td>\n",
       "      <td>R</td>\n",
       "      <td>Comedy</td>\n",
       "      <td>108</td>\n",
       "      <td>[u'John Cleese', u'Jamie Lee Curtis', u'Kevin ...</td>\n",
       "    </tr>\n",
       "    <tr>\n",
       "      <th>752</th>\n",
       "      <td>7.6</td>\n",
       "      <td>Garden State</td>\n",
       "      <td>R</td>\n",
       "      <td>Comedy</td>\n",
       "      <td>102</td>\n",
       "      <td>[u'Zach Braff', u'Peter Sarsgaard', u'Natalie ...</td>\n",
       "    </tr>\n",
       "    <tr>\n",
       "      <th>771</th>\n",
       "      <td>7.6</td>\n",
       "      <td>Braindead</td>\n",
       "      <td>R</td>\n",
       "      <td>Comedy</td>\n",
       "      <td>104</td>\n",
       "      <td>[u'Timothy Balme', u'Diana Pe\\xf1alver', u'Eli...</td>\n",
       "    </tr>\n",
       "    <tr>\n",
       "      <th>772</th>\n",
       "      <td>7.6</td>\n",
       "      <td>Secondhand Lions</td>\n",
       "      <td>PG</td>\n",
       "      <td>Comedy</td>\n",
       "      <td>109</td>\n",
       "      <td>[u'Haley Joel Osment', u'Michael Caine', u'Rob...</td>\n",
       "    </tr>\n",
       "    <tr>\n",
       "      <th>781</th>\n",
       "      <td>7.6</td>\n",
       "      <td>An American Werewolf in London</td>\n",
       "      <td>R</td>\n",
       "      <td>Comedy</td>\n",
       "      <td>97</td>\n",
       "      <td>[u'David Naughton', u'Jenny Agutter', u'Joe Be...</td>\n",
       "    </tr>\n",
       "    <tr>\n",
       "      <th>783</th>\n",
       "      <td>7.6</td>\n",
       "      <td>Tucker and Dale vs. Evil</td>\n",
       "      <td>R</td>\n",
       "      <td>Comedy</td>\n",
       "      <td>89</td>\n",
       "      <td>[u'Tyler Labine', u'Alan Tudyk', u'Katrina Bow...</td>\n",
       "    </tr>\n",
       "    <tr>\n",
       "      <th>791</th>\n",
       "      <td>7.6</td>\n",
       "      <td>Sideways</td>\n",
       "      <td>R</td>\n",
       "      <td>Comedy</td>\n",
       "      <td>126</td>\n",
       "      <td>[u'Paul Giamatti', u'Thomas Haden Church', u'V...</td>\n",
       "    </tr>\n",
       "    <tr>\n",
       "      <th>792</th>\n",
       "      <td>7.6</td>\n",
       "      <td>High Fidelity</td>\n",
       "      <td>R</td>\n",
       "      <td>Comedy</td>\n",
       "      <td>113</td>\n",
       "      <td>[u'John Cusack', u'Iben Hjejle', u'Todd Louiso']</td>\n",
       "    </tr>\n",
       "    <tr>\n",
       "      <th>793</th>\n",
       "      <td>7.6</td>\n",
       "      <td>The Meaning of Life</td>\n",
       "      <td>R</td>\n",
       "      <td>Comedy</td>\n",
       "      <td>107</td>\n",
       "      <td>[u'John Cleese', u'Terry Gilliam', u'Eric Idle']</td>\n",
       "    </tr>\n",
       "    <tr>\n",
       "      <th>798</th>\n",
       "      <td>7.6</td>\n",
       "      <td>Planes, Trains &amp; Automobiles</td>\n",
       "      <td>R</td>\n",
       "      <td>Comedy</td>\n",
       "      <td>93</td>\n",
       "      <td>[u'Steve Martin', u'John Candy', u'Laila Robins']</td>\n",
       "    </tr>\n",
       "    <tr>\n",
       "      <th>806</th>\n",
       "      <td>7.6</td>\n",
       "      <td>Juno</td>\n",
       "      <td>PG-13</td>\n",
       "      <td>Comedy</td>\n",
       "      <td>96</td>\n",
       "      <td>[u'Ellen Page', u'Michael Cera', u'Jennifer Ga...</td>\n",
       "    </tr>\n",
       "    <tr>\n",
       "      <th>808</th>\n",
       "      <td>7.6</td>\n",
       "      <td>The Fisher King</td>\n",
       "      <td>R</td>\n",
       "      <td>Comedy</td>\n",
       "      <td>137</td>\n",
       "      <td>[u'Jeff Bridges', u'Robin Williams', u'Adam Br...</td>\n",
       "    </tr>\n",
       "    <tr>\n",
       "      <th>821</th>\n",
       "      <td>7.6</td>\n",
       "      <td>Christmas Vacation</td>\n",
       "      <td>PG-13</td>\n",
       "      <td>Comedy</td>\n",
       "      <td>97</td>\n",
       "      <td>[u'Chevy Chase', u\"Beverly D'Angelo\", u'Juliet...</td>\n",
       "    </tr>\n",
       "  </tbody>\n",
       "</table>\n",
       "<p>127 rows × 6 columns</p>\n",
       "</div>"
      ],
      "text/plain": [
       "     star_rating                                              title  \\\n",
       "25           8.6                                  Life Is Beautiful   \n",
       "29           8.6                                        City Lights   \n",
       "35           8.6                                       Modern Times   \n",
       "48           8.5  Dr. Strangelove or: How I Learned to Stop Worr...   \n",
       "52           8.5                                 The Great Dictator   \n",
       "60           8.5                                           3 Idiots   \n",
       "66           8.4                                Munna Bhai M.B.B.S.   \n",
       "70           8.4                                             Amelie   \n",
       "88           8.4                                            The Kid   \n",
       "93           8.4                        Dilwale Dulhania Le Jayenge   \n",
       "94           8.4                                Singin' in the Rain   \n",
       "97           8.4                                          The Sting   \n",
       "103          8.3                                      The Apartment   \n",
       "106          8.3                                            Snatch.   \n",
       "109          8.3                                     Dil Chahta Hai   \n",
       "111          8.3                                   Some Like It Hot   \n",
       "144          8.2                              It Happened One Night   \n",
       "151          8.2                Lock, Stock and Two Smoking Barrels   \n",
       "153          8.2                                   The Big Lebowski   \n",
       "155          8.2                                   Relatos salvajes   \n",
       "165          8.2                                      My Sassy Girl   \n",
       "183          8.2                                        Underground   \n",
       "189          8.2                               Black Cat, White Cat   \n",
       "190          8.2                                      Life of Brian   \n",
       "208          8.1                                         Annie Hall   \n",
       "231          8.1                                      La Dolce Vita   \n",
       "246          8.1                                          Stalag 17   \n",
       "252          8.1                               Arsenic and Old Lace   \n",
       "254          8.1                                      Roman Holiday   \n",
       "255          8.1                             The Philadelphia Story   \n",
       "..           ...                                                ...   \n",
       "650          7.7                                 Dazed and Confused   \n",
       "663          7.7                                        After Hours   \n",
       "667          7.7                                  Midnight in Paris   \n",
       "668          7.7                         The Muppet Christmas Carol   \n",
       "692          7.7                                               MASH   \n",
       "693          7.7                                         The Player   \n",
       "696          7.7                              Stranger Than Fiction   \n",
       "710          7.6                                           Superbad   \n",
       "712          7.6                               The Royal Tenenbaums   \n",
       "714          7.6                              Thank You for Smoking   \n",
       "715          7.6                                      Man Bites Dog   \n",
       "719          7.6                            When Harry Met Sally...   \n",
       "723          7.6                                       Animal House   \n",
       "735          7.6     The Naked Gun: From the Files of Police Squad!   \n",
       "737          7.6                                          The Party   \n",
       "738          7.6                                   Army of Darkness   \n",
       "741          7.6                                             Volver   \n",
       "750          7.6                                A Fish Called Wanda   \n",
       "752          7.6                                       Garden State   \n",
       "771          7.6                                          Braindead   \n",
       "772          7.6                                   Secondhand Lions   \n",
       "781          7.6                     An American Werewolf in London   \n",
       "783          7.6                           Tucker and Dale vs. Evil   \n",
       "791          7.6                                           Sideways   \n",
       "792          7.6                                      High Fidelity   \n",
       "793          7.6                                The Meaning of Life   \n",
       "798          7.6                       Planes, Trains & Automobiles   \n",
       "806          7.6                                               Juno   \n",
       "808          7.6                                    The Fisher King   \n",
       "821          7.6                                 Christmas Vacation   \n",
       "\n",
       "    content_rating   genre  duration  \\\n",
       "25           PG-13  Comedy       116   \n",
       "29          PASSED  Comedy        87   \n",
       "35               G  Comedy        87   \n",
       "48              PG  Comedy        95   \n",
       "52        APPROVED  Comedy       125   \n",
       "60           PG-13  Comedy       170   \n",
       "66       NOT RATED  Comedy       156   \n",
       "70               R  Comedy       122   \n",
       "88       NOT RATED  Comedy        68   \n",
       "93       NOT RATED  Comedy       181   \n",
       "94        APPROVED  Comedy       103   \n",
       "97              PG  Comedy       129   \n",
       "103       APPROVED  Comedy       125   \n",
       "106              R  Comedy       102   \n",
       "109      NOT RATED  Comedy       183   \n",
       "111      NOT RATED  Comedy       120   \n",
       "144        UNRATED  Comedy       105   \n",
       "151              R  Comedy       107   \n",
       "153              R  Comedy       117   \n",
       "155              R  Comedy       122   \n",
       "165      NOT RATED  Comedy       123   \n",
       "183      NOT RATED  Comedy       167   \n",
       "189              R  Comedy       127   \n",
       "190              R  Comedy        94   \n",
       "208             PG  Comedy        93   \n",
       "231      NOT RATED  Comedy       174   \n",
       "246      NOT RATED  Comedy       120   \n",
       "252      NOT RATED  Comedy       118   \n",
       "254      NOT RATED  Comedy       118   \n",
       "255      NOT RATED  Comedy       112   \n",
       "..             ...     ...       ...   \n",
       "650              R  Comedy       102   \n",
       "663              R  Comedy        97   \n",
       "667          PG-13  Comedy        94   \n",
       "668              G  Comedy        85   \n",
       "692              R  Comedy       116   \n",
       "693              R  Comedy       124   \n",
       "696          PG-13  Comedy       113   \n",
       "710              R  Comedy       113   \n",
       "712              R  Comedy       110   \n",
       "714              R  Comedy        92   \n",
       "715          NC-17  Comedy        95   \n",
       "719              R  Comedy        96   \n",
       "723              R  Comedy       109   \n",
       "735          PG-13  Comedy        85   \n",
       "737             PG  Comedy        99   \n",
       "738              R  Comedy        81   \n",
       "741              R  Comedy       121   \n",
       "750              R  Comedy       108   \n",
       "752              R  Comedy       102   \n",
       "771              R  Comedy       104   \n",
       "772             PG  Comedy       109   \n",
       "781              R  Comedy        97   \n",
       "783              R  Comedy        89   \n",
       "791              R  Comedy       126   \n",
       "792              R  Comedy       113   \n",
       "793              R  Comedy       107   \n",
       "798              R  Comedy        93   \n",
       "806          PG-13  Comedy        96   \n",
       "808              R  Comedy       137   \n",
       "821          PG-13  Comedy        97   \n",
       "\n",
       "                                           actors_list  \n",
       "25   [u'Roberto Benigni', u'Nicoletta Braschi', u'G...  \n",
       "29   [u'Charles Chaplin', u'Virginia Cherrill', u'F...  \n",
       "35   [u'Charles Chaplin', u'Paulette Goddard', u'He...  \n",
       "48   [u'Peter Sellers', u'George C. Scott', u'Sterl...  \n",
       "52   [u'Charles Chaplin', u'Paulette Goddard', u'Ja...  \n",
       "60         [u'Aamir Khan', u'Madhavan', u'Mona Singh']  \n",
       "66    [u'Sunil Dutt', u'Sanjay Dutt', u'Arshad Warsi']  \n",
       "70   [u'Audrey Tautou', u'Mathieu Kassovitz', u'Ruf...  \n",
       "88   [u'Charles Chaplin', u'Edna Purviance', u'Jack...  \n",
       "93       [u'Shah Rukh Khan', u'Kajol', u'Amrish Puri']  \n",
       "94   [u'Gene Kelly', u\"Donald O'Connor\", u'Debbie R...  \n",
       "97   [u'Paul Newman', u'Robert Redford', u'Robert S...  \n",
       "103  [u'Jack Lemmon', u'Shirley MacLaine', u'Fred M...  \n",
       "106  [u'Jason Statham', u'Brad Pitt', u'Benicio Del...  \n",
       "109  [u'Aamir Khan', u'Saif Ali Khan', u'Akshaye Kh...  \n",
       "111  [u'Marilyn Monroe', u'Tony Curtis', u'Jack Lem...  \n",
       "144  [u'Clark Gable', u'Claudette Colbert', u'Walte...  \n",
       "151  [u'Jason Flemyng', u'Dexter Fletcher', u'Nick ...  \n",
       "153  [u'Jeff Bridges', u'John Goodman', u'Julianne ...  \n",
       "155  [u'Dar\\xedo Grandinetti', u'Mar\\xeda Marull', ...  \n",
       "165    [u'Tae-hyun Cha', u'Gianna Jun', u'In-mun Kim']  \n",
       "183  [u'Predrag Manojlovic', u'Lazar Ristovski', u'...  \n",
       "189  [u'Bajram Severdzan', u'Srdjan Todorovic', u'B...  \n",
       "190  [u'Graham Chapman', u'John Cleese', u'Michael ...  \n",
       "208  [u'Woody Allen', u'Diane Keaton', u'Tony Rober...  \n",
       "231  [u'Marcello Mastroianni', u'Anita Ekberg', u'A...  \n",
       "246  [u'William Holden', u'Don Taylor', u'Otto Prem...  \n",
       "252  [u'Cary Grant', u'Priscilla Lane', u'Raymond M...  \n",
       "254  [u'Gregory Peck', u'Audrey Hepburn', u'Eddie A...  \n",
       "255  [u'Cary Grant', u'Katharine Hepburn', u'James ...  \n",
       "..                                                 ...  \n",
       "650  [u'Jason London', u'Wiley Wiggins', u'Matthew ...  \n",
       "663  [u'Griffin Dunne', u'Rosanna Arquette', u'Vern...  \n",
       "667  [u'Owen Wilson', u'Rachel McAdams', u'Kathy Ba...  \n",
       "668  [u'Michael Caine', u'Dave Goelz', u'Steve Whit...  \n",
       "692  [u'Donald Sutherland', u'Elliott Gould', u'Tom...  \n",
       "693   [u'Tim Robbins', u'Greta Scacchi', u'Fred Ward']  \n",
       "696  [u'Will Ferrell', u'Emma Thompson', u'Dustin H...  \n",
       "710  [u'Michael Cera', u'Jonah Hill', u'Christopher...  \n",
       "712  [u'Gene Hackman', u'Gwyneth Paltrow', u'Anjeli...  \n",
       "714  [u'Aaron Eckhart', u'Cameron Bright', u'Maria ...  \n",
       "715  [u'Beno\\xeet Poelvoorde', u'Jacqueline Poelvoo...  \n",
       "719  [u'Billy Crystal', u'Meg Ryan', u'Carrie Fisher']  \n",
       "723    [u'John Belushi', u'Karen Allen', u'Tom Hulce']  \n",
       "735  [u'Leslie Nielsen', u'Priscilla Presley', u'O....  \n",
       "737  [u'Peter Sellers', u'Claudine Longet', u'Natal...  \n",
       "738  [u'Bruce Campbell', u'Embeth Davidtz', u'Marcu...  \n",
       "741  [u'Pen\\xe9lope Cruz', u'Carmen Maura', u'Lola ...  \n",
       "750  [u'John Cleese', u'Jamie Lee Curtis', u'Kevin ...  \n",
       "752  [u'Zach Braff', u'Peter Sarsgaard', u'Natalie ...  \n",
       "771  [u'Timothy Balme', u'Diana Pe\\xf1alver', u'Eli...  \n",
       "772  [u'Haley Joel Osment', u'Michael Caine', u'Rob...  \n",
       "781  [u'David Naughton', u'Jenny Agutter', u'Joe Be...  \n",
       "783  [u'Tyler Labine', u'Alan Tudyk', u'Katrina Bow...  \n",
       "791  [u'Paul Giamatti', u'Thomas Haden Church', u'V...  \n",
       "792   [u'John Cusack', u'Iben Hjejle', u'Todd Louiso']  \n",
       "793   [u'John Cleese', u'Terry Gilliam', u'Eric Idle']  \n",
       "798  [u'Steve Martin', u'John Candy', u'Laila Robins']  \n",
       "806  [u'Ellen Page', u'Michael Cera', u'Jennifer Ga...  \n",
       "808  [u'Jeff Bridges', u'Robin Williams', u'Adam Br...  \n",
       "821  [u'Chevy Chase', u\"Beverly D'Angelo\", u'Juliet...  \n",
       "\n",
       "[127 rows x 6 columns]"
      ]
     },
     "execution_count": 105,
     "metadata": {},
     "output_type": "execute_result"
    }
   ],
   "source": [
    "movies[(movies.star_rating > 7.5) & (movies.genre  == 'Comedy')]"
   ]
  },
  {
   "cell_type": "code",
   "execution_count": 18,
   "metadata": {
    "collapsed": false
   },
   "outputs": [
    {
     "data": {
      "text/plain": [
       "Unnamed: 0        0\n",
       "star_rating       0\n",
       "title             0\n",
       "content_rating    3\n",
       "genre             0\n",
       "duration          0\n",
       "actors_list       0\n",
       "dtype: int64"
      ]
     },
     "execution_count": 18,
     "metadata": {},
     "output_type": "execute_result"
    }
   ],
   "source": [
    "movies.isnull().sum()"
   ]
  },
  {
   "cell_type": "code",
   "execution_count": 29,
   "metadata": {
    "collapsed": false
   },
   "outputs": [
    {
     "data": {
      "text/html": [
       "<div>\n",
       "<table border=\"1\" class=\"dataframe\">\n",
       "  <thead>\n",
       "    <tr style=\"text-align: right;\">\n",
       "      <th></th>\n",
       "      <th>Unnamed: 0</th>\n",
       "      <th>star_rating</th>\n",
       "      <th>title</th>\n",
       "      <th>content_rating</th>\n",
       "      <th>genre</th>\n",
       "      <th>duration</th>\n",
       "      <th>actors_list</th>\n",
       "    </tr>\n",
       "  </thead>\n",
       "  <tbody>\n",
       "    <tr>\n",
       "      <th>0</th>\n",
       "      <td>0</td>\n",
       "      <td>9.3</td>\n",
       "      <td>The Shawshank Redemption</td>\n",
       "      <td>R</td>\n",
       "      <td>Crime</td>\n",
       "      <td>142</td>\n",
       "      <td>[u'Tim Robbins', u'Morgan Freeman', u'Bob Gunt...</td>\n",
       "    </tr>\n",
       "    <tr>\n",
       "      <th>1</th>\n",
       "      <td>1</td>\n",
       "      <td>9.2</td>\n",
       "      <td>The Godfather</td>\n",
       "      <td>R</td>\n",
       "      <td>Crime</td>\n",
       "      <td>175</td>\n",
       "      <td>[u'Marlon Brando', u'Al Pacino', u'James Caan']</td>\n",
       "    </tr>\n",
       "    <tr>\n",
       "      <th>2</th>\n",
       "      <td>2</td>\n",
       "      <td>9.1</td>\n",
       "      <td>The Godfather: Part II</td>\n",
       "      <td>R</td>\n",
       "      <td>Crime</td>\n",
       "      <td>200</td>\n",
       "      <td>[u'Al Pacino', u'Robert De Niro', u'Robert Duv...</td>\n",
       "    </tr>\n",
       "    <tr>\n",
       "      <th>3</th>\n",
       "      <td>3</td>\n",
       "      <td>9.0</td>\n",
       "      <td>The Dark Knight</td>\n",
       "      <td>PG-13</td>\n",
       "      <td>Action</td>\n",
       "      <td>152</td>\n",
       "      <td>[u'Christian Bale', u'Heath Ledger', u'Aaron E...</td>\n",
       "    </tr>\n",
       "    <tr>\n",
       "      <th>4</th>\n",
       "      <td>4</td>\n",
       "      <td>8.9</td>\n",
       "      <td>Pulp Fiction</td>\n",
       "      <td>R</td>\n",
       "      <td>Crime</td>\n",
       "      <td>154</td>\n",
       "      <td>[u'John Travolta', u'Uma Thurman', u'Samuel L....</td>\n",
       "    </tr>\n",
       "  </tbody>\n",
       "</table>\n",
       "</div>"
      ],
      "text/plain": [
       "   Unnamed: 0  star_rating                     title content_rating   genre  \\\n",
       "0           0          9.3  The Shawshank Redemption              R   Crime   \n",
       "1           1          9.2             The Godfather              R   Crime   \n",
       "2           2          9.1    The Godfather: Part II              R   Crime   \n",
       "3           3          9.0           The Dark Knight          PG-13  Action   \n",
       "4           4          8.9              Pulp Fiction              R   Crime   \n",
       "\n",
       "   duration                                        actors_list  \n",
       "0       142  [u'Tim Robbins', u'Morgan Freeman', u'Bob Gunt...  \n",
       "1       175    [u'Marlon Brando', u'Al Pacino', u'James Caan']  \n",
       "2       200  [u'Al Pacino', u'Robert De Niro', u'Robert Duv...  \n",
       "3       152  [u'Christian Bale', u'Heath Ledger', u'Aaron E...  \n",
       "4       154  [u'John Travolta', u'Uma Thurman', u'Samuel L....  "
      ]
     },
     "execution_count": 29,
     "metadata": {},
     "output_type": "execute_result"
    }
   ],
   "source": [
    "import pandas as pd\n",
    "movies = pd.read_csv(\"D:\\python files\\pandas exercise\\movies.csv\")\n",
    "movies.head()"
   ]
  },
  {
   "cell_type": "code",
   "execution_count": 19,
   "metadata": {
    "collapsed": false
   },
   "outputs": [
    {
     "data": {
      "text/html": [
       "<div>\n",
       "<table border=\"1\" class=\"dataframe\">\n",
       "  <thead>\n",
       "    <tr style=\"text-align: right;\">\n",
       "      <th></th>\n",
       "      <th>Unnamed: 0</th>\n",
       "      <th>City</th>\n",
       "      <th>Colors Reported</th>\n",
       "      <th>Shape Reported</th>\n",
       "      <th>State</th>\n",
       "      <th>Time</th>\n",
       "    </tr>\n",
       "  </thead>\n",
       "  <tbody>\n",
       "    <tr>\n",
       "      <th>18239</th>\n",
       "      <td>18239</td>\n",
       "      <td>Eagle River</td>\n",
       "      <td>RED</td>\n",
       "      <td>LIGHT</td>\n",
       "      <td>WI</td>\n",
       "      <td>12/31/2000 23:45</td>\n",
       "    </tr>\n",
       "    <tr>\n",
       "      <th>18240</th>\n",
       "      <td>18240</td>\n",
       "      <td>Ybor</td>\n",
       "      <td>NaN</td>\n",
       "      <td>OVAL</td>\n",
       "      <td>FL</td>\n",
       "      <td>12/31/2000 23:59</td>\n",
       "    </tr>\n",
       "  </tbody>\n",
       "</table>\n",
       "</div>"
      ],
      "text/plain": [
       "       Unnamed: 0         City Colors Reported Shape Reported State  \\\n",
       "18239       18239  Eagle River             RED          LIGHT    WI   \n",
       "18240       18240         Ybor             NaN           OVAL    FL   \n",
       "\n",
       "                   Time  \n",
       "18239  12/31/2000 23:45  \n",
       "18240  12/31/2000 23:59  "
      ]
     },
     "execution_count": 19,
     "metadata": {},
     "output_type": "execute_result"
    }
   ],
   "source": [
    "ufo = pd.read_csv(\"D:\\python files\\pandas exercise\\ufo.csv\")\n",
    "ufo.tail(2)"
   ]
  },
  {
   "cell_type": "code",
   "execution_count": 3,
   "metadata": {
    "collapsed": true
   },
   "outputs": [],
   "source": [
    "d = [{'a':12,'b':23,'c':45},{'b':34,'c':23,'e':54}]\n",
    "df = pd.DataFrame(d)"
   ]
  },
  {
   "cell_type": "code",
   "execution_count": 4,
   "metadata": {
    "collapsed": false
   },
   "outputs": [
    {
     "data": {
      "text/html": [
       "<div>\n",
       "<table border=\"1\" class=\"dataframe\">\n",
       "  <thead>\n",
       "    <tr style=\"text-align: right;\">\n",
       "      <th></th>\n",
       "      <th>a</th>\n",
       "      <th>b</th>\n",
       "      <th>c</th>\n",
       "      <th>e</th>\n",
       "    </tr>\n",
       "  </thead>\n",
       "  <tbody>\n",
       "    <tr>\n",
       "      <th>0</th>\n",
       "      <td>12.0</td>\n",
       "      <td>23</td>\n",
       "      <td>45</td>\n",
       "      <td>NaN</td>\n",
       "    </tr>\n",
       "    <tr>\n",
       "      <th>1</th>\n",
       "      <td>NaN</td>\n",
       "      <td>34</td>\n",
       "      <td>23</td>\n",
       "      <td>54.0</td>\n",
       "    </tr>\n",
       "  </tbody>\n",
       "</table>\n",
       "</div>"
      ],
      "text/plain": [
       "      a   b   c     e\n",
       "0  12.0  23  45   NaN\n",
       "1   NaN  34  23  54.0"
      ]
     },
     "execution_count": 4,
     "metadata": {},
     "output_type": "execute_result"
    }
   ],
   "source": [
    "df"
   ]
  },
  {
   "cell_type": "code",
   "execution_count": 15,
   "metadata": {
    "collapsed": false
   },
   "outputs": [],
   "source": [
    "#from this way we can add columns\n",
    "df.insert(5,'f',df['e'] -5)"
   ]
  },
  {
   "cell_type": "code",
   "execution_count": 16,
   "metadata": {
    "collapsed": false
   },
   "outputs": [
    {
     "data": {
      "text/html": [
       "<div>\n",
       "<table border=\"1\" class=\"dataframe\">\n",
       "  <thead>\n",
       "    <tr style=\"text-align: right;\">\n",
       "      <th></th>\n",
       "      <th>a</th>\n",
       "      <th>b</th>\n",
       "      <th>c</th>\n",
       "      <th>d</th>\n",
       "      <th>e</th>\n",
       "      <th>f</th>\n",
       "    </tr>\n",
       "  </thead>\n",
       "  <tbody>\n",
       "    <tr>\n",
       "      <th>0</th>\n",
       "      <td>12.0</td>\n",
       "      <td>23</td>\n",
       "      <td>45</td>\n",
       "      <td>NaN</td>\n",
       "      <td>NaN</td>\n",
       "      <td>NaN</td>\n",
       "    </tr>\n",
       "    <tr>\n",
       "      <th>1</th>\n",
       "      <td>NaN</td>\n",
       "      <td>34</td>\n",
       "      <td>23</td>\n",
       "      <td>49.0</td>\n",
       "      <td>54.0</td>\n",
       "      <td>49.0</td>\n",
       "    </tr>\n",
       "  </tbody>\n",
       "</table>\n",
       "</div>"
      ],
      "text/plain": [
       "      a   b   c     d     e     f\n",
       "0  12.0  23  45   NaN   NaN   NaN\n",
       "1   NaN  34  23  49.0  54.0  49.0"
      ]
     },
     "execution_count": 16,
     "metadata": {},
     "output_type": "execute_result"
    }
   ],
   "source": [
    "df"
   ]
  },
  {
   "cell_type": "code",
   "execution_count": 17,
   "metadata": {
    "collapsed": false
   },
   "outputs": [
    {
     "data": {
      "text/plain": [
       "a    12.0\n",
       "b    23.0\n",
       "c    45.0\n",
       "d     NaN\n",
       "e     NaN\n",
       "f     NaN\n",
       "Name: 0, dtype: float64"
      ]
     },
     "execution_count": 17,
     "metadata": {},
     "output_type": "execute_result"
    }
   ],
   "source": [
    "# very important we can also add rows using the following method\n",
    "df.iloc[0]"
   ]
  },
  {
   "cell_type": "code",
   "execution_count": 21,
   "metadata": {
    "collapsed": false
   },
   "outputs": [],
   "source": [
    "# very important we can also add rows using the following method\n",
    "# by using 'iloc' you can only change the existing rows you can't add new one\n",
    "df.iloc[0] = [4,5,4,6,5,4]"
   ]
  },
  {
   "cell_type": "code",
   "execution_count": 22,
   "metadata": {
    "collapsed": false
   },
   "outputs": [
    {
     "data": {
      "text/html": [
       "<div>\n",
       "<table border=\"1\" class=\"dataframe\">\n",
       "  <thead>\n",
       "    <tr style=\"text-align: right;\">\n",
       "      <th></th>\n",
       "      <th>a</th>\n",
       "      <th>b</th>\n",
       "      <th>c</th>\n",
       "      <th>d</th>\n",
       "      <th>e</th>\n",
       "      <th>f</th>\n",
       "    </tr>\n",
       "  </thead>\n",
       "  <tbody>\n",
       "    <tr>\n",
       "      <th>0</th>\n",
       "      <td>4.0</td>\n",
       "      <td>5</td>\n",
       "      <td>4</td>\n",
       "      <td>6.0</td>\n",
       "      <td>5.0</td>\n",
       "      <td>4.0</td>\n",
       "    </tr>\n",
       "    <tr>\n",
       "      <th>1</th>\n",
       "      <td>NaN</td>\n",
       "      <td>34</td>\n",
       "      <td>23</td>\n",
       "      <td>49.0</td>\n",
       "      <td>54.0</td>\n",
       "      <td>49.0</td>\n",
       "    </tr>\n",
       "  </tbody>\n",
       "</table>\n",
       "</div>"
      ],
      "text/plain": [
       "     a   b   c     d     e     f\n",
       "0  4.0   5   4   6.0   5.0   4.0\n",
       "1  NaN  34  23  49.0  54.0  49.0"
      ]
     },
     "execution_count": 22,
     "metadata": {},
     "output_type": "execute_result"
    }
   ],
   "source": [
    "df"
   ]
  },
  {
   "cell_type": "code",
   "execution_count": 25,
   "metadata": {
    "collapsed": false
   },
   "outputs": [],
   "source": [
    "# To add new row one have use 'loc' not 'iloc\n",
    "df.loc[2] = [3,4,None,4,4,None]"
   ]
  },
  {
   "cell_type": "code",
   "execution_count": 26,
   "metadata": {
    "collapsed": false
   },
   "outputs": [
    {
     "data": {
      "text/html": [
       "<div>\n",
       "<table border=\"1\" class=\"dataframe\">\n",
       "  <thead>\n",
       "    <tr style=\"text-align: right;\">\n",
       "      <th></th>\n",
       "      <th>a</th>\n",
       "      <th>b</th>\n",
       "      <th>c</th>\n",
       "      <th>d</th>\n",
       "      <th>e</th>\n",
       "      <th>f</th>\n",
       "    </tr>\n",
       "  </thead>\n",
       "  <tbody>\n",
       "    <tr>\n",
       "      <th>0</th>\n",
       "      <td>4.0</td>\n",
       "      <td>5.0</td>\n",
       "      <td>4.0</td>\n",
       "      <td>6.0</td>\n",
       "      <td>5.0</td>\n",
       "      <td>4.0</td>\n",
       "    </tr>\n",
       "    <tr>\n",
       "      <th>1</th>\n",
       "      <td>NaN</td>\n",
       "      <td>34.0</td>\n",
       "      <td>23.0</td>\n",
       "      <td>49.0</td>\n",
       "      <td>54.0</td>\n",
       "      <td>49.0</td>\n",
       "    </tr>\n",
       "    <tr>\n",
       "      <th>2</th>\n",
       "      <td>3.0</td>\n",
       "      <td>4.0</td>\n",
       "      <td>NaN</td>\n",
       "      <td>4.0</td>\n",
       "      <td>4.0</td>\n",
       "      <td>NaN</td>\n",
       "    </tr>\n",
       "  </tbody>\n",
       "</table>\n",
       "</div>"
      ],
      "text/plain": [
       "     a     b     c     d     e     f\n",
       "0  4.0   5.0   4.0   6.0   5.0   4.0\n",
       "1  NaN  34.0  23.0  49.0  54.0  49.0\n",
       "2  3.0   4.0   NaN   4.0   4.0   NaN"
      ]
     },
     "execution_count": 26,
     "metadata": {},
     "output_type": "execute_result"
    }
   ],
   "source": [
    "df"
   ]
  },
  {
   "cell_type": "code",
   "execution_count": 20,
   "metadata": {
    "collapsed": false
   },
   "outputs": [],
   "source": [
    "import numpy as np\n",
    "df = pd.DataFrame(np.random.randn(7,4),columns = ['A','B','C','D'])"
   ]
  },
  {
   "cell_type": "code",
   "execution_count": 21,
   "metadata": {
    "collapsed": false
   },
   "outputs": [
    {
     "data": {
      "text/html": [
       "<div>\n",
       "<table border=\"1\" class=\"dataframe\">\n",
       "  <thead>\n",
       "    <tr style=\"text-align: right;\">\n",
       "      <th></th>\n",
       "      <th>A</th>\n",
       "      <th>B</th>\n",
       "      <th>C</th>\n",
       "      <th>D</th>\n",
       "    </tr>\n",
       "  </thead>\n",
       "  <tbody>\n",
       "    <tr>\n",
       "      <th>0</th>\n",
       "      <td>0.412398</td>\n",
       "      <td>0.862930</td>\n",
       "      <td>0.247084</td>\n",
       "      <td>-0.138764</td>\n",
       "    </tr>\n",
       "    <tr>\n",
       "      <th>1</th>\n",
       "      <td>-0.651623</td>\n",
       "      <td>-0.005779</td>\n",
       "      <td>-0.273800</td>\n",
       "      <td>-0.731875</td>\n",
       "    </tr>\n",
       "    <tr>\n",
       "      <th>2</th>\n",
       "      <td>-1.885716</td>\n",
       "      <td>-0.889732</td>\n",
       "      <td>-2.609650</td>\n",
       "      <td>-1.207283</td>\n",
       "    </tr>\n",
       "    <tr>\n",
       "      <th>3</th>\n",
       "      <td>1.074365</td>\n",
       "      <td>-0.536535</td>\n",
       "      <td>0.610667</td>\n",
       "      <td>-0.194889</td>\n",
       "    </tr>\n",
       "    <tr>\n",
       "      <th>4</th>\n",
       "      <td>-1.220847</td>\n",
       "      <td>-0.987002</td>\n",
       "      <td>0.926314</td>\n",
       "      <td>0.069788</td>\n",
       "    </tr>\n",
       "    <tr>\n",
       "      <th>5</th>\n",
       "      <td>-0.004079</td>\n",
       "      <td>0.814290</td>\n",
       "      <td>-0.936041</td>\n",
       "      <td>-0.460930</td>\n",
       "    </tr>\n",
       "    <tr>\n",
       "      <th>6</th>\n",
       "      <td>-1.168044</td>\n",
       "      <td>1.945873</td>\n",
       "      <td>1.386048</td>\n",
       "      <td>-1.356144</td>\n",
       "    </tr>\n",
       "  </tbody>\n",
       "</table>\n",
       "</div>"
      ],
      "text/plain": [
       "          A         B         C         D\n",
       "0  0.412398  0.862930  0.247084 -0.138764\n",
       "1 -0.651623 -0.005779 -0.273800 -0.731875\n",
       "2 -1.885716 -0.889732 -2.609650 -1.207283\n",
       "3  1.074365 -0.536535  0.610667 -0.194889\n",
       "4 -1.220847 -0.987002  0.926314  0.069788\n",
       "5 -0.004079  0.814290 -0.936041 -0.460930\n",
       "6 -1.168044  1.945873  1.386048 -1.356144"
      ]
     },
     "execution_count": 21,
     "metadata": {},
     "output_type": "execute_result"
    }
   ],
   "source": [
    "df"
   ]
  },
  {
   "cell_type": "code",
   "execution_count": 22,
   "metadata": {
    "collapsed": false
   },
   "outputs": [
    {
     "data": {
      "text/html": [
       "<div>\n",
       "<table border=\"1\" class=\"dataframe\">\n",
       "  <thead>\n",
       "    <tr style=\"text-align: right;\">\n",
       "      <th></th>\n",
       "      <th>A</th>\n",
       "      <th>B</th>\n",
       "      <th>C</th>\n",
       "      <th>D</th>\n",
       "    </tr>\n",
       "  </thead>\n",
       "  <tbody>\n",
       "    <tr>\n",
       "      <th>0</th>\n",
       "      <td>0.920802</td>\n",
       "      <td>-0.837192</td>\n",
       "      <td>-1.003253</td>\n",
       "      <td>-2.478099</td>\n",
       "    </tr>\n",
       "    <tr>\n",
       "      <th>1</th>\n",
       "      <td>-1.063406</td>\n",
       "      <td>-1.214252</td>\n",
       "      <td>1.002083</td>\n",
       "      <td>1.830571</td>\n",
       "    </tr>\n",
       "    <tr>\n",
       "      <th>2</th>\n",
       "      <td>1.040251</td>\n",
       "      <td>0.439962</td>\n",
       "      <td>-0.297445</td>\n",
       "      <td>0.138918</td>\n",
       "    </tr>\n",
       "    <tr>\n",
       "      <th>3</th>\n",
       "      <td>-1.620835</td>\n",
       "      <td>0.088944</td>\n",
       "      <td>-2.412124</td>\n",
       "      <td>-1.127894</td>\n",
       "    </tr>\n",
       "    <tr>\n",
       "      <th>4</th>\n",
       "      <td>1.183717</td>\n",
       "      <td>2.169830</td>\n",
       "      <td>-0.922140</td>\n",
       "      <td>-1.677250</td>\n",
       "    </tr>\n",
       "    <tr>\n",
       "      <th>5</th>\n",
       "      <td>1.371685</td>\n",
       "      <td>0.431749</td>\n",
       "      <td>-1.295665</td>\n",
       "      <td>-1.578058</td>\n",
       "    </tr>\n",
       "  </tbody>\n",
       "</table>\n",
       "</div>"
      ],
      "text/plain": [
       "          A         B         C         D\n",
       "0  0.920802 -0.837192 -1.003253 -2.478099\n",
       "1 -1.063406 -1.214252  1.002083  1.830571\n",
       "2  1.040251  0.439962 -0.297445  0.138918\n",
       "3 -1.620835  0.088944 -2.412124 -1.127894\n",
       "4  1.183717  2.169830 -0.922140 -1.677250\n",
       "5  1.371685  0.431749 -1.295665 -1.578058"
      ]
     },
     "execution_count": 22,
     "metadata": {},
     "output_type": "execute_result"
    }
   ],
   "source": [
    "d"
   ]
  },
  {
   "cell_type": "code",
   "execution_count": 25,
   "metadata": {
    "collapsed": false
   },
   "outputs": [
    {
     "data": {
      "text/html": [
       "<div>\n",
       "<table border=\"1\" class=\"dataframe\">\n",
       "  <thead>\n",
       "    <tr style=\"text-align: right;\">\n",
       "      <th></th>\n",
       "      <th>A</th>\n",
       "      <th>C</th>\n",
       "    </tr>\n",
       "  </thead>\n",
       "  <tbody>\n",
       "    <tr>\n",
       "      <th>0</th>\n",
       "      <td>0.920802</td>\n",
       "      <td>-1.003253</td>\n",
       "    </tr>\n",
       "    <tr>\n",
       "      <th>1</th>\n",
       "      <td>-1.063406</td>\n",
       "      <td>1.002083</td>\n",
       "    </tr>\n",
       "    <tr>\n",
       "      <th>2</th>\n",
       "      <td>1.040251</td>\n",
       "      <td>-0.297445</td>\n",
       "    </tr>\n",
       "    <tr>\n",
       "      <th>3</th>\n",
       "      <td>-1.620835</td>\n",
       "      <td>-2.412124</td>\n",
       "    </tr>\n",
       "    <tr>\n",
       "      <th>4</th>\n",
       "      <td>1.183717</td>\n",
       "      <td>-0.922140</td>\n",
       "    </tr>\n",
       "    <tr>\n",
       "      <th>5</th>\n",
       "      <td>1.371685</td>\n",
       "      <td>-1.295665</td>\n",
       "    </tr>\n",
       "  </tbody>\n",
       "</table>\n",
       "</div>"
      ],
      "text/plain": [
       "          A         C\n",
       "0  0.920802 -1.003253\n",
       "1 -1.063406  1.002083\n",
       "2  1.040251 -0.297445\n",
       "3 -1.620835 -2.412124\n",
       "4  1.183717 -0.922140\n",
       "5  1.371685 -1.295665"
      ]
     },
     "execution_count": 25,
     "metadata": {},
     "output_type": "execute_result"
    }
   ],
   "source": [
    "pd.DataFrame(d,columns = ['A','C'])"
   ]
  },
  {
   "cell_type": "code",
   "execution_count": 36,
   "metadata": {
    "collapsed": false
   },
   "outputs": [
    {
     "data": {
      "text/html": [
       "<div>\n",
       "<table border=\"1\" class=\"dataframe\">\n",
       "  <thead>\n",
       "    <tr style=\"text-align: right;\">\n",
       "      <th></th>\n",
       "      <th>A</th>\n",
       "      <th>D</th>\n",
       "    </tr>\n",
       "  </thead>\n",
       "  <tbody>\n",
       "    <tr>\n",
       "      <th>0</th>\n",
       "      <td>1.010098</td>\n",
       "      <td>-0.058014</td>\n",
       "    </tr>\n",
       "    <tr>\n",
       "      <th>1</th>\n",
       "      <td>-0.857402</td>\n",
       "      <td>-0.379477</td>\n",
       "    </tr>\n",
       "    <tr>\n",
       "      <th>2</th>\n",
       "      <td>0.771034</td>\n",
       "      <td>-2.165535</td>\n",
       "    </tr>\n",
       "    <tr>\n",
       "      <th>3</th>\n",
       "      <td>0.142081</td>\n",
       "      <td>-0.584310</td>\n",
       "    </tr>\n",
       "    <tr>\n",
       "      <th>4</th>\n",
       "      <td>-0.308745</td>\n",
       "      <td>-0.906011</td>\n",
       "    </tr>\n",
       "    <tr>\n",
       "      <th>5</th>\n",
       "      <td>1.089876</td>\n",
       "      <td>0.174140</td>\n",
       "    </tr>\n",
       "    <tr>\n",
       "      <th>6</th>\n",
       "      <td>-1.219748</td>\n",
       "      <td>0.687999</td>\n",
       "    </tr>\n",
       "  </tbody>\n",
       "</table>\n",
       "</div>"
      ],
      "text/plain": [
       "          A         D\n",
       "0  1.010098 -0.058014\n",
       "1 -0.857402 -0.379477\n",
       "2  0.771034 -2.165535\n",
       "3  0.142081 -0.584310\n",
       "4 -0.308745 -0.906011\n",
       "5  1.089876  0.174140\n",
       "6 -1.219748  0.687999"
      ]
     },
     "execution_count": 36,
     "metadata": {},
     "output_type": "execute_result"
    }
   ],
   "source": [
    "df[['A','D']]"
   ]
  },
  {
   "cell_type": "code",
   "execution_count": 38,
   "metadata": {
    "collapsed": false
   },
   "outputs": [
    {
     "data": {
      "text/html": [
       "<div>\n",
       "<table border=\"1\" class=\"dataframe\">\n",
       "  <thead>\n",
       "    <tr style=\"text-align: right;\">\n",
       "      <th></th>\n",
       "      <th>A</th>\n",
       "      <th>B</th>\n",
       "      <th>C</th>\n",
       "      <th>D</th>\n",
       "    </tr>\n",
       "  </thead>\n",
       "  <tbody>\n",
       "    <tr>\n",
       "      <th>0</th>\n",
       "      <td>1.010098</td>\n",
       "      <td>-1.351314</td>\n",
       "      <td>-0.653842</td>\n",
       "      <td>-0.058014</td>\n",
       "    </tr>\n",
       "    <tr>\n",
       "      <th>1</th>\n",
       "      <td>-0.857402</td>\n",
       "      <td>1.367543</td>\n",
       "      <td>0.194806</td>\n",
       "      <td>-0.379477</td>\n",
       "    </tr>\n",
       "    <tr>\n",
       "      <th>2</th>\n",
       "      <td>0.771034</td>\n",
       "      <td>-0.719700</td>\n",
       "      <td>-0.008619</td>\n",
       "      <td>-2.165535</td>\n",
       "    </tr>\n",
       "    <tr>\n",
       "      <th>3</th>\n",
       "      <td>0.142081</td>\n",
       "      <td>-0.690760</td>\n",
       "      <td>-1.132140</td>\n",
       "      <td>-0.584310</td>\n",
       "    </tr>\n",
       "    <tr>\n",
       "      <th>4</th>\n",
       "      <td>-0.308745</td>\n",
       "      <td>-1.151834</td>\n",
       "      <td>0.681545</td>\n",
       "      <td>-0.906011</td>\n",
       "    </tr>\n",
       "    <tr>\n",
       "      <th>5</th>\n",
       "      <td>1.089876</td>\n",
       "      <td>1.030194</td>\n",
       "      <td>1.941172</td>\n",
       "      <td>0.174140</td>\n",
       "    </tr>\n",
       "    <tr>\n",
       "      <th>6</th>\n",
       "      <td>-1.219748</td>\n",
       "      <td>0.873757</td>\n",
       "      <td>0.630122</td>\n",
       "      <td>0.687999</td>\n",
       "    </tr>\n",
       "  </tbody>\n",
       "</table>\n",
       "</div>"
      ],
      "text/plain": [
       "          A         B         C         D\n",
       "0  1.010098 -1.351314 -0.653842 -0.058014\n",
       "1 -0.857402  1.367543  0.194806 -0.379477\n",
       "2  0.771034 -0.719700 -0.008619 -2.165535\n",
       "3  0.142081 -0.690760 -1.132140 -0.584310\n",
       "4 -0.308745 -1.151834  0.681545 -0.906011\n",
       "5  1.089876  1.030194  1.941172  0.174140\n",
       "6 -1.219748  0.873757  0.630122  0.687999"
      ]
     },
     "execution_count": 38,
     "metadata": {},
     "output_type": "execute_result"
    }
   ],
   "source": [
    "df"
   ]
  },
  {
   "cell_type": "code",
   "execution_count": 43,
   "metadata": {
    "collapsed": false
   },
   "outputs": [
    {
     "data": {
      "text/html": [
       "<div>\n",
       "<table border=\"1\" class=\"dataframe\">\n",
       "  <thead>\n",
       "    <tr style=\"text-align: right;\">\n",
       "      <th></th>\n",
       "      <th>A</th>\n",
       "      <th>B</th>\n",
       "      <th>C</th>\n",
       "      <th>D</th>\n",
       "    </tr>\n",
       "  </thead>\n",
       "  <tbody>\n",
       "    <tr>\n",
       "      <th>0</th>\n",
       "      <td>1.010098</td>\n",
       "      <td>-1.351314</td>\n",
       "      <td>-0.653842</td>\n",
       "      <td>-0.058014</td>\n",
       "    </tr>\n",
       "    <tr>\n",
       "      <th>2</th>\n",
       "      <td>0.771034</td>\n",
       "      <td>-0.719700</td>\n",
       "      <td>-0.008619</td>\n",
       "      <td>-2.165535</td>\n",
       "    </tr>\n",
       "    <tr>\n",
       "      <th>3</th>\n",
       "      <td>0.142081</td>\n",
       "      <td>-0.690760</td>\n",
       "      <td>-1.132140</td>\n",
       "      <td>-0.584310</td>\n",
       "    </tr>\n",
       "    <tr>\n",
       "      <th>4</th>\n",
       "      <td>-0.308745</td>\n",
       "      <td>-1.151834</td>\n",
       "      <td>0.681545</td>\n",
       "      <td>-0.906011</td>\n",
       "    </tr>\n",
       "    <tr>\n",
       "      <th>5</th>\n",
       "      <td>1.089876</td>\n",
       "      <td>1.030194</td>\n",
       "      <td>1.941172</td>\n",
       "      <td>0.174140</td>\n",
       "    </tr>\n",
       "    <tr>\n",
       "      <th>6</th>\n",
       "      <td>-1.219748</td>\n",
       "      <td>0.873757</td>\n",
       "      <td>0.630122</td>\n",
       "      <td>0.687999</td>\n",
       "    </tr>\n",
       "  </tbody>\n",
       "</table>\n",
       "</div>"
      ],
      "text/plain": [
       "          A         B         C         D\n",
       "0  1.010098 -1.351314 -0.653842 -0.058014\n",
       "2  0.771034 -0.719700 -0.008619 -2.165535\n",
       "3  0.142081 -0.690760 -1.132140 -0.584310\n",
       "4 -0.308745 -1.151834  0.681545 -0.906011\n",
       "5  1.089876  1.030194  1.941172  0.174140\n",
       "6 -1.219748  0.873757  0.630122  0.687999"
      ]
     },
     "execution_count": 43,
     "metadata": {},
     "output_type": "execute_result"
    }
   ],
   "source": [
    "# here we can explore the usage of the 'drop' it is different from 'dropna'\n",
    "df.drop(df.index[[1]])"
   ]
  },
  {
   "cell_type": "code",
   "execution_count": 44,
   "metadata": {
    "collapsed": false
   },
   "outputs": [
    {
     "data": {
      "text/html": [
       "<div>\n",
       "<table border=\"1\" class=\"dataframe\">\n",
       "  <thead>\n",
       "    <tr style=\"text-align: right;\">\n",
       "      <th></th>\n",
       "      <th>A</th>\n",
       "      <th>B</th>\n",
       "      <th>C</th>\n",
       "      <th>D</th>\n",
       "    </tr>\n",
       "  </thead>\n",
       "  <tbody>\n",
       "    <tr>\n",
       "      <th>0</th>\n",
       "      <td>1.010098</td>\n",
       "      <td>-1.351314</td>\n",
       "      <td>-0.653842</td>\n",
       "      <td>-0.058014</td>\n",
       "    </tr>\n",
       "    <tr>\n",
       "      <th>1</th>\n",
       "      <td>-0.857402</td>\n",
       "      <td>1.367543</td>\n",
       "      <td>0.194806</td>\n",
       "      <td>-0.379477</td>\n",
       "    </tr>\n",
       "    <tr>\n",
       "      <th>2</th>\n",
       "      <td>0.771034</td>\n",
       "      <td>-0.719700</td>\n",
       "      <td>-0.008619</td>\n",
       "      <td>-2.165535</td>\n",
       "    </tr>\n",
       "    <tr>\n",
       "      <th>3</th>\n",
       "      <td>0.142081</td>\n",
       "      <td>-0.690760</td>\n",
       "      <td>-1.132140</td>\n",
       "      <td>-0.584310</td>\n",
       "    </tr>\n",
       "    <tr>\n",
       "      <th>4</th>\n",
       "      <td>-0.308745</td>\n",
       "      <td>-1.151834</td>\n",
       "      <td>0.681545</td>\n",
       "      <td>-0.906011</td>\n",
       "    </tr>\n",
       "    <tr>\n",
       "      <th>5</th>\n",
       "      <td>1.089876</td>\n",
       "      <td>1.030194</td>\n",
       "      <td>1.941172</td>\n",
       "      <td>0.174140</td>\n",
       "    </tr>\n",
       "    <tr>\n",
       "      <th>6</th>\n",
       "      <td>-1.219748</td>\n",
       "      <td>0.873757</td>\n",
       "      <td>0.630122</td>\n",
       "      <td>0.687999</td>\n",
       "    </tr>\n",
       "  </tbody>\n",
       "</table>\n",
       "</div>"
      ],
      "text/plain": [
       "          A         B         C         D\n",
       "0  1.010098 -1.351314 -0.653842 -0.058014\n",
       "1 -0.857402  1.367543  0.194806 -0.379477\n",
       "2  0.771034 -0.719700 -0.008619 -2.165535\n",
       "3  0.142081 -0.690760 -1.132140 -0.584310\n",
       "4 -0.308745 -1.151834  0.681545 -0.906011\n",
       "5  1.089876  1.030194  1.941172  0.174140\n",
       "6 -1.219748  0.873757  0.630122  0.687999"
      ]
     },
     "execution_count": 44,
     "metadata": {},
     "output_type": "execute_result"
    }
   ],
   "source": [
    "df"
   ]
  },
  {
   "cell_type": "code",
   "execution_count": 49,
   "metadata": {
    "collapsed": false
   },
   "outputs": [],
   "source": [
    "df = df.drop(df.index[[1]])"
   ]
  },
  {
   "cell_type": "code",
   "execution_count": 50,
   "metadata": {
    "collapsed": false
   },
   "outputs": [
    {
     "data": {
      "text/html": [
       "<div>\n",
       "<table border=\"1\" class=\"dataframe\">\n",
       "  <thead>\n",
       "    <tr style=\"text-align: right;\">\n",
       "      <th></th>\n",
       "      <th>A</th>\n",
       "      <th>B</th>\n",
       "      <th>C</th>\n",
       "      <th>D</th>\n",
       "    </tr>\n",
       "  </thead>\n",
       "  <tbody>\n",
       "    <tr>\n",
       "      <th>0</th>\n",
       "      <td>1.010098</td>\n",
       "      <td>-1.351314</td>\n",
       "      <td>-0.653842</td>\n",
       "      <td>-0.058014</td>\n",
       "    </tr>\n",
       "    <tr>\n",
       "      <th>2</th>\n",
       "      <td>0.771034</td>\n",
       "      <td>-0.719700</td>\n",
       "      <td>-0.008619</td>\n",
       "      <td>-2.165535</td>\n",
       "    </tr>\n",
       "    <tr>\n",
       "      <th>3</th>\n",
       "      <td>0.142081</td>\n",
       "      <td>-0.690760</td>\n",
       "      <td>-1.132140</td>\n",
       "      <td>-0.584310</td>\n",
       "    </tr>\n",
       "    <tr>\n",
       "      <th>4</th>\n",
       "      <td>-0.308745</td>\n",
       "      <td>-1.151834</td>\n",
       "      <td>0.681545</td>\n",
       "      <td>-0.906011</td>\n",
       "    </tr>\n",
       "    <tr>\n",
       "      <th>5</th>\n",
       "      <td>1.089876</td>\n",
       "      <td>1.030194</td>\n",
       "      <td>1.941172</td>\n",
       "      <td>0.174140</td>\n",
       "    </tr>\n",
       "    <tr>\n",
       "      <th>6</th>\n",
       "      <td>-1.219748</td>\n",
       "      <td>0.873757</td>\n",
       "      <td>0.630122</td>\n",
       "      <td>0.687999</td>\n",
       "    </tr>\n",
       "  </tbody>\n",
       "</table>\n",
       "</div>"
      ],
      "text/plain": [
       "          A         B         C         D\n",
       "0  1.010098 -1.351314 -0.653842 -0.058014\n",
       "2  0.771034 -0.719700 -0.008619 -2.165535\n",
       "3  0.142081 -0.690760 -1.132140 -0.584310\n",
       "4 -0.308745 -1.151834  0.681545 -0.906011\n",
       "5  1.089876  1.030194  1.941172  0.174140\n",
       "6 -1.219748  0.873757  0.630122  0.687999"
      ]
     },
     "execution_count": 50,
     "metadata": {},
     "output_type": "execute_result"
    }
   ],
   "source": [
    "df"
   ]
  },
  {
   "cell_type": "code",
   "execution_count": 51,
   "metadata": {
    "collapsed": true
   },
   "outputs": [],
   "source": [
    "del df['C']"
   ]
  },
  {
   "cell_type": "code",
   "execution_count": 52,
   "metadata": {
    "collapsed": false
   },
   "outputs": [
    {
     "data": {
      "text/html": [
       "<div>\n",
       "<table border=\"1\" class=\"dataframe\">\n",
       "  <thead>\n",
       "    <tr style=\"text-align: right;\">\n",
       "      <th></th>\n",
       "      <th>A</th>\n",
       "      <th>B</th>\n",
       "      <th>D</th>\n",
       "    </tr>\n",
       "  </thead>\n",
       "  <tbody>\n",
       "    <tr>\n",
       "      <th>0</th>\n",
       "      <td>1.010098</td>\n",
       "      <td>-1.351314</td>\n",
       "      <td>-0.058014</td>\n",
       "    </tr>\n",
       "    <tr>\n",
       "      <th>2</th>\n",
       "      <td>0.771034</td>\n",
       "      <td>-0.719700</td>\n",
       "      <td>-2.165535</td>\n",
       "    </tr>\n",
       "    <tr>\n",
       "      <th>3</th>\n",
       "      <td>0.142081</td>\n",
       "      <td>-0.690760</td>\n",
       "      <td>-0.584310</td>\n",
       "    </tr>\n",
       "    <tr>\n",
       "      <th>4</th>\n",
       "      <td>-0.308745</td>\n",
       "      <td>-1.151834</td>\n",
       "      <td>-0.906011</td>\n",
       "    </tr>\n",
       "    <tr>\n",
       "      <th>5</th>\n",
       "      <td>1.089876</td>\n",
       "      <td>1.030194</td>\n",
       "      <td>0.174140</td>\n",
       "    </tr>\n",
       "    <tr>\n",
       "      <th>6</th>\n",
       "      <td>-1.219748</td>\n",
       "      <td>0.873757</td>\n",
       "      <td>0.687999</td>\n",
       "    </tr>\n",
       "  </tbody>\n",
       "</table>\n",
       "</div>"
      ],
      "text/plain": [
       "          A         B         D\n",
       "0  1.010098 -1.351314 -0.058014\n",
       "2  0.771034 -0.719700 -2.165535\n",
       "3  0.142081 -0.690760 -0.584310\n",
       "4 -0.308745 -1.151834 -0.906011\n",
       "5  1.089876  1.030194  0.174140\n",
       "6 -1.219748  0.873757  0.687999"
      ]
     },
     "execution_count": 52,
     "metadata": {},
     "output_type": "execute_result"
    }
   ],
   "source": [
    "df"
   ]
  },
  {
   "cell_type": "code",
   "execution_count": 60,
   "metadata": {
    "collapsed": false
   },
   "outputs": [
    {
     "data": {
      "text/html": [
       "<div>\n",
       "<table border=\"1\" class=\"dataframe\">\n",
       "  <thead>\n",
       "    <tr style=\"text-align: right;\">\n",
       "      <th></th>\n",
       "      <th>A</th>\n",
       "      <th>B</th>\n",
       "      <th>D</th>\n",
       "    </tr>\n",
       "  </thead>\n",
       "  <tbody>\n",
       "    <tr>\n",
       "      <th>0</th>\n",
       "      <td>1.010098</td>\n",
       "      <td>-1.351314</td>\n",
       "      <td>-0.058014</td>\n",
       "    </tr>\n",
       "    <tr>\n",
       "      <th>0</th>\n",
       "      <td>1.010098</td>\n",
       "      <td>-1.351314</td>\n",
       "      <td>-0.058014</td>\n",
       "    </tr>\n",
       "    <tr>\n",
       "      <th>2</th>\n",
       "      <td>0.771034</td>\n",
       "      <td>-0.719700</td>\n",
       "      <td>-2.165535</td>\n",
       "    </tr>\n",
       "    <tr>\n",
       "      <th>2</th>\n",
       "      <td>0.771034</td>\n",
       "      <td>-0.719700</td>\n",
       "      <td>-2.165535</td>\n",
       "    </tr>\n",
       "    <tr>\n",
       "      <th>3</th>\n",
       "      <td>0.142081</td>\n",
       "      <td>-0.690760</td>\n",
       "      <td>-0.584310</td>\n",
       "    </tr>\n",
       "    <tr>\n",
       "      <th>2</th>\n",
       "      <td>0.771034</td>\n",
       "      <td>-0.719700</td>\n",
       "      <td>-2.165535</td>\n",
       "    </tr>\n",
       "  </tbody>\n",
       "</table>\n",
       "</div>"
      ],
      "text/plain": [
       "          A         B         D\n",
       "0  1.010098 -1.351314 -0.058014\n",
       "0  1.010098 -1.351314 -0.058014\n",
       "2  0.771034 -0.719700 -2.165535\n",
       "2  0.771034 -0.719700 -2.165535\n",
       "3  0.142081 -0.690760 -0.584310\n",
       "2  0.771034 -0.719700 -2.165535"
      ]
     },
     "execution_count": 60,
     "metadata": {},
     "output_type": "execute_result"
    }
   ],
   "source": [
    "df.reindex([0,0,2,2,3,2])"
   ]
  },
  {
   "cell_type": "code",
   "execution_count": 62,
   "metadata": {
    "collapsed": false
   },
   "outputs": [
    {
     "data": {
      "text/plain": [
       "A   -0.308745\n",
       "B   -1.151834\n",
       "D   -0.906011\n",
       "Name: 4, dtype: float64"
      ]
     },
     "execution_count": 62,
     "metadata": {},
     "output_type": "execute_result"
    }
   ],
   "source": [
    "df.iloc[3]"
   ]
  },
  {
   "cell_type": "code",
   "execution_count": 63,
   "metadata": {
    "collapsed": false
   },
   "outputs": [
    {
     "data": {
      "text/html": [
       "<div>\n",
       "<table border=\"1\" class=\"dataframe\">\n",
       "  <thead>\n",
       "    <tr style=\"text-align: right;\">\n",
       "      <th></th>\n",
       "      <th>Unnamed: 0</th>\n",
       "      <th>star_rating</th>\n",
       "      <th>title</th>\n",
       "      <th>content_rating</th>\n",
       "      <th>genre</th>\n",
       "      <th>duration</th>\n",
       "      <th>actors_list</th>\n",
       "    </tr>\n",
       "  </thead>\n",
       "  <tbody>\n",
       "    <tr>\n",
       "      <th>0</th>\n",
       "      <td>0</td>\n",
       "      <td>9.3</td>\n",
       "      <td>The Shawshank Redemption</td>\n",
       "      <td>R</td>\n",
       "      <td>Crime</td>\n",
       "      <td>142</td>\n",
       "      <td>[u'Tim Robbins', u'Morgan Freeman', u'Bob Gunt...</td>\n",
       "    </tr>\n",
       "    <tr>\n",
       "      <th>1</th>\n",
       "      <td>1</td>\n",
       "      <td>9.2</td>\n",
       "      <td>The Godfather</td>\n",
       "      <td>R</td>\n",
       "      <td>Crime</td>\n",
       "      <td>175</td>\n",
       "      <td>[u'Marlon Brando', u'Al Pacino', u'James Caan']</td>\n",
       "    </tr>\n",
       "    <tr>\n",
       "      <th>2</th>\n",
       "      <td>2</td>\n",
       "      <td>9.1</td>\n",
       "      <td>The Godfather: Part II</td>\n",
       "      <td>R</td>\n",
       "      <td>Crime</td>\n",
       "      <td>200</td>\n",
       "      <td>[u'Al Pacino', u'Robert De Niro', u'Robert Duv...</td>\n",
       "    </tr>\n",
       "    <tr>\n",
       "      <th>3</th>\n",
       "      <td>3</td>\n",
       "      <td>9.0</td>\n",
       "      <td>The Dark Knight</td>\n",
       "      <td>PG-13</td>\n",
       "      <td>Action</td>\n",
       "      <td>152</td>\n",
       "      <td>[u'Christian Bale', u'Heath Ledger', u'Aaron E...</td>\n",
       "    </tr>\n",
       "    <tr>\n",
       "      <th>4</th>\n",
       "      <td>4</td>\n",
       "      <td>8.9</td>\n",
       "      <td>Pulp Fiction</td>\n",
       "      <td>R</td>\n",
       "      <td>Crime</td>\n",
       "      <td>154</td>\n",
       "      <td>[u'John Travolta', u'Uma Thurman', u'Samuel L....</td>\n",
       "    </tr>\n",
       "  </tbody>\n",
       "</table>\n",
       "</div>"
      ],
      "text/plain": [
       "   Unnamed: 0  star_rating                     title content_rating   genre  \\\n",
       "0           0          9.3  The Shawshank Redemption              R   Crime   \n",
       "1           1          9.2             The Godfather              R   Crime   \n",
       "2           2          9.1    The Godfather: Part II              R   Crime   \n",
       "3           3          9.0           The Dark Knight          PG-13  Action   \n",
       "4           4          8.9              Pulp Fiction              R   Crime   \n",
       "\n",
       "   duration                                        actors_list  \n",
       "0       142  [u'Tim Robbins', u'Morgan Freeman', u'Bob Gunt...  \n",
       "1       175    [u'Marlon Brando', u'Al Pacino', u'James Caan']  \n",
       "2       200  [u'Al Pacino', u'Robert De Niro', u'Robert Duv...  \n",
       "3       152  [u'Christian Bale', u'Heath Ledger', u'Aaron E...  \n",
       "4       154  [u'John Travolta', u'Uma Thurman', u'Samuel L....  "
      ]
     },
     "execution_count": 63,
     "metadata": {},
     "output_type": "execute_result"
    }
   ],
   "source": [
    "movies.head()"
   ]
  },
  {
   "cell_type": "code",
   "execution_count": 64,
   "metadata": {
    "collapsed": false
   },
   "outputs": [
    {
     "data": {
      "text/plain": [
       "Unnamed: 0                                                        3\n",
       "star_rating                                                       9\n",
       "title                                               The Dark Knight\n",
       "content_rating                                                PG-13\n",
       "genre                                                        Action\n",
       "duration                                                        152\n",
       "actors_list       [u'Christian Bale', u'Heath Ledger', u'Aaron E...\n",
       "Name: 3, dtype: object"
      ]
     },
     "execution_count": 64,
     "metadata": {},
     "output_type": "execute_result"
    }
   ],
   "source": [
    "movies.iloc[3]"
   ]
  },
  {
   "cell_type": "code",
   "execution_count": 66,
   "metadata": {
    "collapsed": false
   },
   "outputs": [
    {
     "data": {
      "text/plain": [
       "<pandas.core.groupby.DataFrameGroupBy object at 0x06FA5210>"
      ]
     },
     "execution_count": 66,
     "metadata": {},
     "output_type": "execute_result"
    }
   ],
   "source": [
    "movies.groupby('star_rating')"
   ]
  },
  {
   "cell_type": "code",
   "execution_count": 26,
   "metadata": {
    "collapsed": false
   },
   "outputs": [
    {
     "data": {
      "text/html": [
       "<div>\n",
       "<table border=\"1\" class=\"dataframe\">\n",
       "  <thead>\n",
       "    <tr style=\"text-align: right;\">\n",
       "      <th></th>\n",
       "      <th>userId</th>\n",
       "      <th>movieId</th>\n",
       "      <th>tag</th>\n",
       "      <th>timestamp</th>\n",
       "    </tr>\n",
       "  </thead>\n",
       "  <tbody>\n",
       "    <tr>\n",
       "      <th>0</th>\n",
       "      <td>18</td>\n",
       "      <td>4141</td>\n",
       "      <td>Mark Waters</td>\n",
       "      <td>1240597180</td>\n",
       "    </tr>\n",
       "    <tr>\n",
       "      <th>1</th>\n",
       "      <td>65</td>\n",
       "      <td>208</td>\n",
       "      <td>dark hero</td>\n",
       "      <td>1368150078</td>\n",
       "    </tr>\n",
       "    <tr>\n",
       "      <th>2</th>\n",
       "      <td>65</td>\n",
       "      <td>353</td>\n",
       "      <td>dark hero</td>\n",
       "      <td>1368150079</td>\n",
       "    </tr>\n",
       "    <tr>\n",
       "      <th>3</th>\n",
       "      <td>65</td>\n",
       "      <td>521</td>\n",
       "      <td>noir thriller</td>\n",
       "      <td>1368149983</td>\n",
       "    </tr>\n",
       "    <tr>\n",
       "      <th>4</th>\n",
       "      <td>65</td>\n",
       "      <td>592</td>\n",
       "      <td>dark hero</td>\n",
       "      <td>1368150078</td>\n",
       "    </tr>\n",
       "  </tbody>\n",
       "</table>\n",
       "</div>"
      ],
      "text/plain": [
       "   userId  movieId            tag   timestamp\n",
       "0      18     4141    Mark Waters  1240597180\n",
       "1      65      208      dark hero  1368150078\n",
       "2      65      353      dark hero  1368150079\n",
       "3      65      521  noir thriller  1368149983\n",
       "4      65      592      dark hero  1368150078"
      ]
     },
     "execution_count": 26,
     "metadata": {},
     "output_type": "execute_result"
    }
   ],
   "source": [
    "import pandas as pd\n",
    "tags = pd.read_csv(R\"D:\\python files\\pandas exercise\\tags.csv\")\n",
    "tags.head()"
   ]
  },
  {
   "cell_type": "code",
   "execution_count": 27,
   "metadata": {
    "collapsed": false
   },
   "outputs": [
    {
     "data": {
      "text/html": [
       "<div>\n",
       "<table border=\"1\" class=\"dataframe\">\n",
       "  <thead>\n",
       "    <tr style=\"text-align: right;\">\n",
       "      <th></th>\n",
       "      <th>movieId</th>\n",
       "      <th>title</th>\n",
       "      <th>genres</th>\n",
       "    </tr>\n",
       "  </thead>\n",
       "  <tbody>\n",
       "    <tr>\n",
       "      <th>0</th>\n",
       "      <td>1</td>\n",
       "      <td>Toy Story (1995)</td>\n",
       "      <td>Adventure|Animation|Children|Comedy|Fantasy</td>\n",
       "    </tr>\n",
       "    <tr>\n",
       "      <th>1</th>\n",
       "      <td>2</td>\n",
       "      <td>Jumanji (1995)</td>\n",
       "      <td>Adventure|Children|Fantasy</td>\n",
       "    </tr>\n",
       "    <tr>\n",
       "      <th>2</th>\n",
       "      <td>3</td>\n",
       "      <td>Grumpier Old Men (1995)</td>\n",
       "      <td>Comedy|Romance</td>\n",
       "    </tr>\n",
       "    <tr>\n",
       "      <th>3</th>\n",
       "      <td>4</td>\n",
       "      <td>Waiting to Exhale (1995)</td>\n",
       "      <td>Comedy|Drama|Romance</td>\n",
       "    </tr>\n",
       "    <tr>\n",
       "      <th>4</th>\n",
       "      <td>5</td>\n",
       "      <td>Father of the Bride Part II (1995)</td>\n",
       "      <td>Comedy</td>\n",
       "    </tr>\n",
       "  </tbody>\n",
       "</table>\n",
       "</div>"
      ],
      "text/plain": [
       "   movieId                               title  \\\n",
       "0        1                    Toy Story (1995)   \n",
       "1        2                      Jumanji (1995)   \n",
       "2        3             Grumpier Old Men (1995)   \n",
       "3        4            Waiting to Exhale (1995)   \n",
       "4        5  Father of the Bride Part II (1995)   \n",
       "\n",
       "                                        genres  \n",
       "0  Adventure|Animation|Children|Comedy|Fantasy  \n",
       "1                   Adventure|Children|Fantasy  \n",
       "2                               Comedy|Romance  \n",
       "3                         Comedy|Drama|Romance  \n",
       "4                                       Comedy  "
      ]
     },
     "execution_count": 27,
     "metadata": {},
     "output_type": "execute_result"
    }
   ],
   "source": [
    "edx_movies = pd.read_csv(\"D:\\python files\\pandas exercise\\edx_movies.csv\")\n",
    "edx_movies.head()"
   ]
  },
  {
   "cell_type": "code",
   "execution_count": 28,
   "metadata": {
    "collapsed": false
   },
   "outputs": [
    {
     "data": {
      "text/html": [
       "<div>\n",
       "<table border=\"1\" class=\"dataframe\">\n",
       "  <thead>\n",
       "    <tr style=\"text-align: right;\">\n",
       "      <th></th>\n",
       "      <th>userId</th>\n",
       "      <th>movieId</th>\n",
       "      <th>rating</th>\n",
       "      <th>timestamp</th>\n",
       "    </tr>\n",
       "  </thead>\n",
       "  <tbody>\n",
       "    <tr>\n",
       "      <th>1999995</th>\n",
       "      <td>13567</td>\n",
       "      <td>59725</td>\n",
       "      <td>3.5</td>\n",
       "      <td>1262994714</td>\n",
       "    </tr>\n",
       "    <tr>\n",
       "      <th>1999996</th>\n",
       "      <td>13567</td>\n",
       "      <td>63062</td>\n",
       "      <td>5.0</td>\n",
       "      <td>1262764337</td>\n",
       "    </tr>\n",
       "    <tr>\n",
       "      <th>1999997</th>\n",
       "      <td>13567</td>\n",
       "      <td>64957</td>\n",
       "      <td>5.0</td>\n",
       "      <td>1262764172</td>\n",
       "    </tr>\n",
       "    <tr>\n",
       "      <th>1999998</th>\n",
       "      <td>13567</td>\n",
       "      <td>65216</td>\n",
       "      <td>4.5</td>\n",
       "      <td>1262994367</td>\n",
       "    </tr>\n",
       "    <tr>\n",
       "      <th>1999999</th>\n",
       "      <td>13567</td>\n",
       "      <td>66203</td>\n",
       "      <td>4.0</td>\n",
       "      <td>1262994418</td>\n",
       "    </tr>\n",
       "  </tbody>\n",
       "</table>\n",
       "</div>"
      ],
      "text/plain": [
       "         userId  movieId  rating   timestamp\n",
       "1999995   13567    59725     3.5  1262994714\n",
       "1999996   13567    63062     5.0  1262764337\n",
       "1999997   13567    64957     5.0  1262764172\n",
       "1999998   13567    65216     4.5  1262994367\n",
       "1999999   13567    66203     4.0  1262994418"
      ]
     },
     "execution_count": 28,
     "metadata": {},
     "output_type": "execute_result"
    }
   ],
   "source": [
    "ratings = pd.read_csv(R\"D:\\python files\\pandas exercise\\ratings.csv\",nrows = 2000000)\n",
    "ratings.tail()"
   ]
  },
  {
   "cell_type": "code",
   "execution_count": 7,
   "metadata": {
    "collapsed": false
   },
   "outputs": [
    {
     "data": {
      "text/plain": [
       "0      Mark Waters\n",
       "1        dark hero\n",
       "2        dark hero\n",
       "3    noir thriller\n",
       "4        dark hero\n",
       "Name: tag, dtype: object"
      ]
     },
     "execution_count": 7,
     "metadata": {},
     "output_type": "execute_result"
    }
   ],
   "source": [
    "tags['tag'].head()"
   ]
  },
  {
   "cell_type": "code",
   "execution_count": 9,
   "metadata": {
    "collapsed": false
   },
   "outputs": [
    {
     "data": {
      "text/html": [
       "<div>\n",
       "<table border=\"1\" class=\"dataframe\">\n",
       "  <thead>\n",
       "    <tr style=\"text-align: right;\">\n",
       "      <th></th>\n",
       "      <th>title</th>\n",
       "      <th>genres</th>\n",
       "    </tr>\n",
       "  </thead>\n",
       "  <tbody>\n",
       "    <tr>\n",
       "      <th>0</th>\n",
       "      <td>Toy Story (1995)</td>\n",
       "      <td>Adventure|Animation|Children|Comedy|Fantasy</td>\n",
       "    </tr>\n",
       "    <tr>\n",
       "      <th>1</th>\n",
       "      <td>Jumanji (1995)</td>\n",
       "      <td>Adventure|Children|Fantasy</td>\n",
       "    </tr>\n",
       "    <tr>\n",
       "      <th>2</th>\n",
       "      <td>Grumpier Old Men (1995)</td>\n",
       "      <td>Comedy|Romance</td>\n",
       "    </tr>\n",
       "    <tr>\n",
       "      <th>3</th>\n",
       "      <td>Waiting to Exhale (1995)</td>\n",
       "      <td>Comedy|Drama|Romance</td>\n",
       "    </tr>\n",
       "    <tr>\n",
       "      <th>4</th>\n",
       "      <td>Father of the Bride Part II (1995)</td>\n",
       "      <td>Comedy</td>\n",
       "    </tr>\n",
       "  </tbody>\n",
       "</table>\n",
       "</div>"
      ],
      "text/plain": [
       "                                title  \\\n",
       "0                    Toy Story (1995)   \n",
       "1                      Jumanji (1995)   \n",
       "2             Grumpier Old Men (1995)   \n",
       "3            Waiting to Exhale (1995)   \n",
       "4  Father of the Bride Part II (1995)   \n",
       "\n",
       "                                        genres  \n",
       "0  Adventure|Animation|Children|Comedy|Fantasy  \n",
       "1                   Adventure|Children|Fantasy  \n",
       "2                               Comedy|Romance  \n",
       "3                         Comedy|Drama|Romance  \n",
       "4                                       Comedy  "
      ]
     },
     "execution_count": 9,
     "metadata": {},
     "output_type": "execute_result"
    }
   ],
   "source": [
    "edx_movies[['title','genres']].head()"
   ]
  },
  {
   "cell_type": "code",
   "execution_count": 12,
   "metadata": {
    "collapsed": false
   },
   "outputs": [
    {
     "data": {
      "text/plain": [
       "(27278, 3)"
      ]
     },
     "execution_count": 12,
     "metadata": {},
     "output_type": "execute_result"
    }
   ],
   "source": [
    "edx_movies.shape"
   ]
  },
  {
   "cell_type": "code",
   "execution_count": 13,
   "metadata": {
    "collapsed": false
   },
   "outputs": [
    {
     "data": {
      "text/html": [
       "<div>\n",
       "<table border=\"1\" class=\"dataframe\">\n",
       "  <thead>\n",
       "    <tr style=\"text-align: right;\">\n",
       "      <th></th>\n",
       "      <th>movieId</th>\n",
       "      <th>title</th>\n",
       "      <th>genres</th>\n",
       "    </tr>\n",
       "  </thead>\n",
       "  <tbody>\n",
       "    <tr>\n",
       "      <th>2388</th>\n",
       "      <td>2473</td>\n",
       "      <td>Soul Man (1986)</td>\n",
       "      <td>Comedy</td>\n",
       "    </tr>\n",
       "    <tr>\n",
       "      <th>2389</th>\n",
       "      <td>2474</td>\n",
       "      <td>Color of Money, The (1986)</td>\n",
       "      <td>Drama</td>\n",
       "    </tr>\n",
       "    <tr>\n",
       "      <th>2390</th>\n",
       "      <td>2475</td>\n",
       "      <td>52 Pick-Up (1986)</td>\n",
       "      <td>Action|Mystery|Thriller</td>\n",
       "    </tr>\n",
       "    <tr>\n",
       "      <th>2391</th>\n",
       "      <td>2476</td>\n",
       "      <td>Heartbreak Ridge (1986)</td>\n",
       "      <td>Action|War</td>\n",
       "    </tr>\n",
       "    <tr>\n",
       "      <th>2392</th>\n",
       "      <td>2477</td>\n",
       "      <td>Firewalker (1986)</td>\n",
       "      <td>Adventure</td>\n",
       "    </tr>\n",
       "    <tr>\n",
       "      <th>2393</th>\n",
       "      <td>2478</td>\n",
       "      <td>¡Three Amigos! (1986)</td>\n",
       "      <td>Comedy|Western</td>\n",
       "    </tr>\n",
       "    <tr>\n",
       "      <th>2394</th>\n",
       "      <td>2479</td>\n",
       "      <td>Gloria (1999)</td>\n",
       "      <td>Drama|Thriller</td>\n",
       "    </tr>\n",
       "    <tr>\n",
       "      <th>2395</th>\n",
       "      <td>2480</td>\n",
       "      <td>Dry Cleaning (Nettoyage à sec) (1997)</td>\n",
       "      <td>Drama</td>\n",
       "    </tr>\n",
       "    <tr>\n",
       "      <th>2396</th>\n",
       "      <td>2481</td>\n",
       "      <td>My Name Is Joe (1998)</td>\n",
       "      <td>Drama|Romance</td>\n",
       "    </tr>\n",
       "    <tr>\n",
       "      <th>2397</th>\n",
       "      <td>2482</td>\n",
       "      <td>Still Crazy (1998)</td>\n",
       "      <td>Comedy|Romance</td>\n",
       "    </tr>\n",
       "    <tr>\n",
       "      <th>2398</th>\n",
       "      <td>2483</td>\n",
       "      <td>Day of the Beast, The (Día de la Bestia, El) (...</td>\n",
       "      <td>Adventure|Comedy|Thriller</td>\n",
       "    </tr>\n",
       "    <tr>\n",
       "      <th>2399</th>\n",
       "      <td>2484</td>\n",
       "      <td>Tinseltown (1997)</td>\n",
       "      <td>Comedy|Crime|Drama</td>\n",
       "    </tr>\n",
       "    <tr>\n",
       "      <th>2400</th>\n",
       "      <td>2485</td>\n",
       "      <td>She's All That (1999)</td>\n",
       "      <td>Comedy|Romance</td>\n",
       "    </tr>\n",
       "    <tr>\n",
       "      <th>2401</th>\n",
       "      <td>2486</td>\n",
       "      <td>24 Hour Woman, The (1998)</td>\n",
       "      <td>Comedy|Drama</td>\n",
       "    </tr>\n",
       "    <tr>\n",
       "      <th>2402</th>\n",
       "      <td>2487</td>\n",
       "      <td>Blood, Guts, Bullets and Octane (1998)</td>\n",
       "      <td>Action|Comedy</td>\n",
       "    </tr>\n",
       "    <tr>\n",
       "      <th>2403</th>\n",
       "      <td>2488</td>\n",
       "      <td>Peeping Tom (1960)</td>\n",
       "      <td>Drama|Horror|Thriller</td>\n",
       "    </tr>\n",
       "    <tr>\n",
       "      <th>2404</th>\n",
       "      <td>2489</td>\n",
       "      <td>Spanish Fly (1998)</td>\n",
       "      <td>Drama</td>\n",
       "    </tr>\n",
       "    <tr>\n",
       "      <th>2405</th>\n",
       "      <td>2490</td>\n",
       "      <td>Payback (1999)</td>\n",
       "      <td>Action|Thriller</td>\n",
       "    </tr>\n",
       "    <tr>\n",
       "      <th>2406</th>\n",
       "      <td>2491</td>\n",
       "      <td>Simply Irresistible (1999)</td>\n",
       "      <td>Comedy|Romance</td>\n",
       "    </tr>\n",
       "    <tr>\n",
       "      <th>2407</th>\n",
       "      <td>2492</td>\n",
       "      <td>20 Dates (1998)</td>\n",
       "      <td>Comedy|Romance</td>\n",
       "    </tr>\n",
       "    <tr>\n",
       "      <th>2408</th>\n",
       "      <td>2493</td>\n",
       "      <td>Harmonists, The (1997)</td>\n",
       "      <td>Drama</td>\n",
       "    </tr>\n",
       "    <tr>\n",
       "      <th>2409</th>\n",
       "      <td>2494</td>\n",
       "      <td>Last Days, The (1998)</td>\n",
       "      <td>Documentary</td>\n",
       "    </tr>\n",
       "    <tr>\n",
       "      <th>2410</th>\n",
       "      <td>2495</td>\n",
       "      <td>Fantastic Planet, The (Planète sauvage, La) (1...</td>\n",
       "      <td>Animation|Sci-Fi</td>\n",
       "    </tr>\n",
       "    <tr>\n",
       "      <th>2411</th>\n",
       "      <td>2496</td>\n",
       "      <td>Blast from the Past (1999)</td>\n",
       "      <td>Comedy|Romance</td>\n",
       "    </tr>\n",
       "    <tr>\n",
       "      <th>2412</th>\n",
       "      <td>2497</td>\n",
       "      <td>Message in a Bottle (1999)</td>\n",
       "      <td>Romance</td>\n",
       "    </tr>\n",
       "    <tr>\n",
       "      <th>2413</th>\n",
       "      <td>2498</td>\n",
       "      <td>My Favorite Martian (1999)</td>\n",
       "      <td>Comedy|Sci-Fi</td>\n",
       "    </tr>\n",
       "    <tr>\n",
       "      <th>2414</th>\n",
       "      <td>2499</td>\n",
       "      <td>God Said 'Ha!' (1998)</td>\n",
       "      <td>Comedy</td>\n",
       "    </tr>\n",
       "    <tr>\n",
       "      <th>2415</th>\n",
       "      <td>2500</td>\n",
       "      <td>Jawbreaker (1999)</td>\n",
       "      <td>Comedy</td>\n",
       "    </tr>\n",
       "    <tr>\n",
       "      <th>2416</th>\n",
       "      <td>2501</td>\n",
       "      <td>October Sky (1999)</td>\n",
       "      <td>Drama</td>\n",
       "    </tr>\n",
       "    <tr>\n",
       "      <th>2417</th>\n",
       "      <td>2502</td>\n",
       "      <td>Office Space (1999)</td>\n",
       "      <td>Comedy|Crime</td>\n",
       "    </tr>\n",
       "    <tr>\n",
       "      <th>...</th>\n",
       "      <td>...</td>\n",
       "      <td>...</td>\n",
       "      <td>...</td>\n",
       "    </tr>\n",
       "    <tr>\n",
       "      <th>6459</th>\n",
       "      <td>6569</td>\n",
       "      <td>Hotel (2001)</td>\n",
       "      <td>Comedy</td>\n",
       "    </tr>\n",
       "    <tr>\n",
       "      <th>6460</th>\n",
       "      <td>6570</td>\n",
       "      <td>Lucía, Lucía (Hija del caníbal, La) (2003)</td>\n",
       "      <td>Comedy|Drama</td>\n",
       "    </tr>\n",
       "    <tr>\n",
       "      <th>6461</th>\n",
       "      <td>6571</td>\n",
       "      <td>Mondays in the Sun (Lunes al sol, Los) (2002)</td>\n",
       "      <td>Drama</td>\n",
       "    </tr>\n",
       "    <tr>\n",
       "      <th>6462</th>\n",
       "      <td>6572</td>\n",
       "      <td>Scorched (2003)</td>\n",
       "      <td>Comedy|Crime</td>\n",
       "    </tr>\n",
       "    <tr>\n",
       "      <th>6463</th>\n",
       "      <td>6573</td>\n",
       "      <td>Avanti! (1972)</td>\n",
       "      <td>Comedy|Drama</td>\n",
       "    </tr>\n",
       "    <tr>\n",
       "      <th>6464</th>\n",
       "      <td>6574</td>\n",
       "      <td>Eve of Destruction (1991)</td>\n",
       "      <td>Action|Sci-Fi|Thriller</td>\n",
       "    </tr>\n",
       "    <tr>\n",
       "      <th>6465</th>\n",
       "      <td>6575</td>\n",
       "      <td>Gator (1976)</td>\n",
       "      <td>Action|Drama</td>\n",
       "    </tr>\n",
       "    <tr>\n",
       "      <th>6466</th>\n",
       "      <td>6576</td>\n",
       "      <td>Juggernaut (1974)</td>\n",
       "      <td>Action|Thriller</td>\n",
       "    </tr>\n",
       "    <tr>\n",
       "      <th>6467</th>\n",
       "      <td>6577</td>\n",
       "      <td>Kickboxer 2: The Road Back (1991)</td>\n",
       "      <td>Action|Drama</td>\n",
       "    </tr>\n",
       "    <tr>\n",
       "      <th>6468</th>\n",
       "      <td>6578</td>\n",
       "      <td>Kiss Me, Stupid (1964)</td>\n",
       "      <td>Comedy</td>\n",
       "    </tr>\n",
       "    <tr>\n",
       "      <th>6469</th>\n",
       "      <td>6579</td>\n",
       "      <td>One, Two, Three (1961)</td>\n",
       "      <td>Comedy</td>\n",
       "    </tr>\n",
       "    <tr>\n",
       "      <th>6470</th>\n",
       "      <td>6580</td>\n",
       "      <td>Possible Loves (Amores Possíveis) (2000)</td>\n",
       "      <td>Comedy|Romance</td>\n",
       "    </tr>\n",
       "    <tr>\n",
       "      <th>6471</th>\n",
       "      <td>6581</td>\n",
       "      <td>Private Life of Sherlock Holmes, The (1970)</td>\n",
       "      <td>Comedy|Drama|Mystery</td>\n",
       "    </tr>\n",
       "    <tr>\n",
       "      <th>6472</th>\n",
       "      <td>6582</td>\n",
       "      <td>Remo Williams: The Adventure Begins (1985)</td>\n",
       "      <td>Action|Comedy|Crime|Thriller</td>\n",
       "    </tr>\n",
       "    <tr>\n",
       "      <th>6473</th>\n",
       "      <td>6583</td>\n",
       "      <td>Blood of Heroes, The (Salute of the Jugger, Th...</td>\n",
       "      <td>Action|Sci-Fi</td>\n",
       "    </tr>\n",
       "    <tr>\n",
       "      <th>6474</th>\n",
       "      <td>6584</td>\n",
       "      <td>What's Up, Tiger Lily? (1966)</td>\n",
       "      <td>Adventure|Comedy|Crime|Thriller</td>\n",
       "    </tr>\n",
       "    <tr>\n",
       "      <th>6475</th>\n",
       "      <td>6585</td>\n",
       "      <td>White Lightning (1973)</td>\n",
       "      <td>Action|Crime|Drama</td>\n",
       "    </tr>\n",
       "    <tr>\n",
       "      <th>6476</th>\n",
       "      <td>6586</td>\n",
       "      <td>American Wedding (American Pie 3) (2003)</td>\n",
       "      <td>Comedy</td>\n",
       "    </tr>\n",
       "    <tr>\n",
       "      <th>6477</th>\n",
       "      <td>6587</td>\n",
       "      <td>Gigli (2003)</td>\n",
       "      <td>Comedy|Crime|Romance</td>\n",
       "    </tr>\n",
       "    <tr>\n",
       "      <th>6478</th>\n",
       "      <td>6588</td>\n",
       "      <td>And Now... Ladies and Gentlemen... (2002)</td>\n",
       "      <td>Romance|Thriller</td>\n",
       "    </tr>\n",
       "    <tr>\n",
       "      <th>6479</th>\n",
       "      <td>6589</td>\n",
       "      <td>Boys Life 4: Four Play (2003)</td>\n",
       "      <td>Comedy|Drama</td>\n",
       "    </tr>\n",
       "    <tr>\n",
       "      <th>6480</th>\n",
       "      <td>6590</td>\n",
       "      <td>I'll Be There (2003)</td>\n",
       "      <td>Comedy|Musical|Romance</td>\n",
       "    </tr>\n",
       "    <tr>\n",
       "      <th>6481</th>\n",
       "      <td>6591</td>\n",
       "      <td>Magdalene Sisters, The (2002)</td>\n",
       "      <td>Drama</td>\n",
       "    </tr>\n",
       "    <tr>\n",
       "      <th>6482</th>\n",
       "      <td>6592</td>\n",
       "      <td>Secret Lives of Dentists, The (2002)</td>\n",
       "      <td>Drama</td>\n",
       "    </tr>\n",
       "    <tr>\n",
       "      <th>6483</th>\n",
       "      <td>6593</td>\n",
       "      <td>Freaky Friday (2003)</td>\n",
       "      <td>Children|Comedy|Fantasy</td>\n",
       "    </tr>\n",
       "    <tr>\n",
       "      <th>6484</th>\n",
       "      <td>6594</td>\n",
       "      <td>Seaside (Bord de Mer) (2002)</td>\n",
       "      <td>Drama</td>\n",
       "    </tr>\n",
       "    <tr>\n",
       "      <th>6485</th>\n",
       "      <td>6595</td>\n",
       "      <td>S.W.A.T. (2003)</td>\n",
       "      <td>Action|Thriller</td>\n",
       "    </tr>\n",
       "    <tr>\n",
       "      <th>6486</th>\n",
       "      <td>6596</td>\n",
       "      <td>Divorce, Le (2003)</td>\n",
       "      <td>Comedy|Drama|Romance</td>\n",
       "    </tr>\n",
       "    <tr>\n",
       "      <th>6487</th>\n",
       "      <td>6597</td>\n",
       "      <td>Princess Blade, The (Shura Yukihime) (2001)</td>\n",
       "      <td>Action|Sci-Fi</td>\n",
       "    </tr>\n",
       "    <tr>\n",
       "      <th>6488</th>\n",
       "      <td>6598</td>\n",
       "      <td>Step Into Liquid (2002)</td>\n",
       "      <td>Documentary</td>\n",
       "    </tr>\n",
       "  </tbody>\n",
       "</table>\n",
       "<p>4101 rows × 3 columns</p>\n",
       "</div>"
      ],
      "text/plain": [
       "      movieId                                              title  \\\n",
       "2388     2473                                    Soul Man (1986)   \n",
       "2389     2474                         Color of Money, The (1986)   \n",
       "2390     2475                                  52 Pick-Up (1986)   \n",
       "2391     2476                            Heartbreak Ridge (1986)   \n",
       "2392     2477                                  Firewalker (1986)   \n",
       "2393     2478                              ¡Three Amigos! (1986)   \n",
       "2394     2479                                      Gloria (1999)   \n",
       "2395     2480              Dry Cleaning (Nettoyage à sec) (1997)   \n",
       "2396     2481                              My Name Is Joe (1998)   \n",
       "2397     2482                                 Still Crazy (1998)   \n",
       "2398     2483  Day of the Beast, The (Día de la Bestia, El) (...   \n",
       "2399     2484                                  Tinseltown (1997)   \n",
       "2400     2485                              She's All That (1999)   \n",
       "2401     2486                          24 Hour Woman, The (1998)   \n",
       "2402     2487             Blood, Guts, Bullets and Octane (1998)   \n",
       "2403     2488                                 Peeping Tom (1960)   \n",
       "2404     2489                                 Spanish Fly (1998)   \n",
       "2405     2490                                     Payback (1999)   \n",
       "2406     2491                         Simply Irresistible (1999)   \n",
       "2407     2492                                    20 Dates (1998)   \n",
       "2408     2493                             Harmonists, The (1997)   \n",
       "2409     2494                              Last Days, The (1998)   \n",
       "2410     2495  Fantastic Planet, The (Planète sauvage, La) (1...   \n",
       "2411     2496                         Blast from the Past (1999)   \n",
       "2412     2497                         Message in a Bottle (1999)   \n",
       "2413     2498                         My Favorite Martian (1999)   \n",
       "2414     2499                              God Said 'Ha!' (1998)   \n",
       "2415     2500                                  Jawbreaker (1999)   \n",
       "2416     2501                                 October Sky (1999)   \n",
       "2417     2502                                Office Space (1999)   \n",
       "...       ...                                                ...   \n",
       "6459     6569                                       Hotel (2001)   \n",
       "6460     6570         Lucía, Lucía (Hija del caníbal, La) (2003)   \n",
       "6461     6571      Mondays in the Sun (Lunes al sol, Los) (2002)   \n",
       "6462     6572                                    Scorched (2003)   \n",
       "6463     6573                                     Avanti! (1972)   \n",
       "6464     6574                          Eve of Destruction (1991)   \n",
       "6465     6575                                       Gator (1976)   \n",
       "6466     6576                                  Juggernaut (1974)   \n",
       "6467     6577                  Kickboxer 2: The Road Back (1991)   \n",
       "6468     6578                             Kiss Me, Stupid (1964)   \n",
       "6469     6579                             One, Two, Three (1961)   \n",
       "6470     6580           Possible Loves (Amores Possíveis) (2000)   \n",
       "6471     6581        Private Life of Sherlock Holmes, The (1970)   \n",
       "6472     6582         Remo Williams: The Adventure Begins (1985)   \n",
       "6473     6583  Blood of Heroes, The (Salute of the Jugger, Th...   \n",
       "6474     6584                      What's Up, Tiger Lily? (1966)   \n",
       "6475     6585                             White Lightning (1973)   \n",
       "6476     6586           American Wedding (American Pie 3) (2003)   \n",
       "6477     6587                                       Gigli (2003)   \n",
       "6478     6588          And Now... Ladies and Gentlemen... (2002)   \n",
       "6479     6589                      Boys Life 4: Four Play (2003)   \n",
       "6480     6590                               I'll Be There (2003)   \n",
       "6481     6591                      Magdalene Sisters, The (2002)   \n",
       "6482     6592               Secret Lives of Dentists, The (2002)   \n",
       "6483     6593                               Freaky Friday (2003)   \n",
       "6484     6594                       Seaside (Bord de Mer) (2002)   \n",
       "6485     6595                                    S.W.A.T. (2003)   \n",
       "6486     6596                                 Divorce, Le (2003)   \n",
       "6487     6597        Princess Blade, The (Shura Yukihime) (2001)   \n",
       "6488     6598                            Step Into Liquid (2002)   \n",
       "\n",
       "                               genres  \n",
       "2388                           Comedy  \n",
       "2389                            Drama  \n",
       "2390          Action|Mystery|Thriller  \n",
       "2391                       Action|War  \n",
       "2392                        Adventure  \n",
       "2393                   Comedy|Western  \n",
       "2394                   Drama|Thriller  \n",
       "2395                            Drama  \n",
       "2396                    Drama|Romance  \n",
       "2397                   Comedy|Romance  \n",
       "2398        Adventure|Comedy|Thriller  \n",
       "2399               Comedy|Crime|Drama  \n",
       "2400                   Comedy|Romance  \n",
       "2401                     Comedy|Drama  \n",
       "2402                    Action|Comedy  \n",
       "2403            Drama|Horror|Thriller  \n",
       "2404                            Drama  \n",
       "2405                  Action|Thriller  \n",
       "2406                   Comedy|Romance  \n",
       "2407                   Comedy|Romance  \n",
       "2408                            Drama  \n",
       "2409                      Documentary  \n",
       "2410                 Animation|Sci-Fi  \n",
       "2411                   Comedy|Romance  \n",
       "2412                          Romance  \n",
       "2413                    Comedy|Sci-Fi  \n",
       "2414                           Comedy  \n",
       "2415                           Comedy  \n",
       "2416                            Drama  \n",
       "2417                     Comedy|Crime  \n",
       "...                               ...  \n",
       "6459                           Comedy  \n",
       "6460                     Comedy|Drama  \n",
       "6461                            Drama  \n",
       "6462                     Comedy|Crime  \n",
       "6463                     Comedy|Drama  \n",
       "6464           Action|Sci-Fi|Thriller  \n",
       "6465                     Action|Drama  \n",
       "6466                  Action|Thriller  \n",
       "6467                     Action|Drama  \n",
       "6468                           Comedy  \n",
       "6469                           Comedy  \n",
       "6470                   Comedy|Romance  \n",
       "6471             Comedy|Drama|Mystery  \n",
       "6472     Action|Comedy|Crime|Thriller  \n",
       "6473                    Action|Sci-Fi  \n",
       "6474  Adventure|Comedy|Crime|Thriller  \n",
       "6475               Action|Crime|Drama  \n",
       "6476                           Comedy  \n",
       "6477             Comedy|Crime|Romance  \n",
       "6478                 Romance|Thriller  \n",
       "6479                     Comedy|Drama  \n",
       "6480           Comedy|Musical|Romance  \n",
       "6481                            Drama  \n",
       "6482                            Drama  \n",
       "6483          Children|Comedy|Fantasy  \n",
       "6484                            Drama  \n",
       "6485                  Action|Thriller  \n",
       "6486             Comedy|Drama|Romance  \n",
       "6487                    Action|Sci-Fi  \n",
       "6488                      Documentary  \n",
       "\n",
       "[4101 rows x 3 columns]"
      ]
     },
     "execution_count": 13,
     "metadata": {},
     "output_type": "execute_result"
    }
   ],
   "source": [
    "edx_movies[2388:6489]"
   ]
  },
  {
   "cell_type": "code",
   "execution_count": 14,
   "metadata": {
    "collapsed": false
   },
   "outputs": [
    {
     "data": {
      "text/html": [
       "<div>\n",
       "<table border=\"1\" class=\"dataframe\">\n",
       "  <thead>\n",
       "    <tr style=\"text-align: right;\">\n",
       "      <th></th>\n",
       "      <th>Unnamed: 0</th>\n",
       "      <th>star_rating</th>\n",
       "      <th>title</th>\n",
       "      <th>content_rating</th>\n",
       "      <th>genre</th>\n",
       "      <th>duration</th>\n",
       "      <th>actors_list</th>\n",
       "    </tr>\n",
       "  </thead>\n",
       "  <tbody>\n",
       "    <tr>\n",
       "      <th>21</th>\n",
       "      <td>21</td>\n",
       "      <td>8.7</td>\n",
       "      <td>City of God</td>\n",
       "      <td>R</td>\n",
       "      <td>Crime</td>\n",
       "      <td>130</td>\n",
       "      <td>[u'Alexandre Rodrigues', u'Matheus Nachtergael...</td>\n",
       "    </tr>\n",
       "    <tr>\n",
       "      <th>36</th>\n",
       "      <td>36</td>\n",
       "      <td>8.6</td>\n",
       "      <td>Saving Private Ryan</td>\n",
       "      <td>R</td>\n",
       "      <td>Action</td>\n",
       "      <td>169</td>\n",
       "      <td>[u'Tom Hanks', u'Matt Damon', u'Tom Sizemore']</td>\n",
       "    </tr>\n",
       "    <tr>\n",
       "      <th>51</th>\n",
       "      <td>51</td>\n",
       "      <td>8.5</td>\n",
       "      <td>Apocalypse Now</td>\n",
       "      <td>R</td>\n",
       "      <td>Drama</td>\n",
       "      <td>153</td>\n",
       "      <td>[u'Martin Sheen', u'Marlon Brando', u'Robert D...</td>\n",
       "    </tr>\n",
       "    <tr>\n",
       "      <th>66</th>\n",
       "      <td>66</td>\n",
       "      <td>8.4</td>\n",
       "      <td>Munna Bhai M.B.B.S.</td>\n",
       "      <td>NOT RATED</td>\n",
       "      <td>Comedy</td>\n",
       "      <td>156</td>\n",
       "      <td>[u'Sunil Dutt', u'Sanjay Dutt', u'Arshad Warsi']</td>\n",
       "    </tr>\n",
       "    <tr>\n",
       "      <th>81</th>\n",
       "      <td>81</td>\n",
       "      <td>8.4</td>\n",
       "      <td>Toy Story 3</td>\n",
       "      <td>G</td>\n",
       "      <td>Animation</td>\n",
       "      <td>103</td>\n",
       "      <td>[u'Tom Hanks', u'Tim Allen', u'Joan Cusack']</td>\n",
       "    </tr>\n",
       "    <tr>\n",
       "      <th>96</th>\n",
       "      <td>96</td>\n",
       "      <td>8.4</td>\n",
       "      <td>Yojimbo</td>\n",
       "      <td>UNRATED</td>\n",
       "      <td>Action</td>\n",
       "      <td>110</td>\n",
       "      <td>[u'Toshir\\xf4 Mifune', u'Eijir\\xf4 T\\xf4no', u...</td>\n",
       "    </tr>\n",
       "    <tr>\n",
       "      <th>111</th>\n",
       "      <td>111</td>\n",
       "      <td>8.3</td>\n",
       "      <td>Some Like It Hot</td>\n",
       "      <td>NOT RATED</td>\n",
       "      <td>Comedy</td>\n",
       "      <td>120</td>\n",
       "      <td>[u'Marilyn Monroe', u'Tony Curtis', u'Jack Lem...</td>\n",
       "    </tr>\n",
       "    <tr>\n",
       "      <th>126</th>\n",
       "      <td>126</td>\n",
       "      <td>8.3</td>\n",
       "      <td>Up</td>\n",
       "      <td>PG</td>\n",
       "      <td>Animation</td>\n",
       "      <td>96</td>\n",
       "      <td>[u'Edward Asner', u'Jordan Nagai', u'John Ratz...</td>\n",
       "    </tr>\n",
       "    <tr>\n",
       "      <th>141</th>\n",
       "      <td>141</td>\n",
       "      <td>8.3</td>\n",
       "      <td>The Secret in Their Eyes</td>\n",
       "      <td>R</td>\n",
       "      <td>Drama</td>\n",
       "      <td>129</td>\n",
       "      <td>[u'Ricardo Dar\\xedn', u'Soledad Villamil', u'P...</td>\n",
       "    </tr>\n",
       "    <tr>\n",
       "      <th>156</th>\n",
       "      <td>156</td>\n",
       "      <td>8.2</td>\n",
       "      <td>Casino</td>\n",
       "      <td>R</td>\n",
       "      <td>Biography</td>\n",
       "      <td>178</td>\n",
       "      <td>[u'Robert De Niro', u'Sharon Stone', u'Joe Pes...</td>\n",
       "    </tr>\n",
       "    <tr>\n",
       "      <th>171</th>\n",
       "      <td>171</td>\n",
       "      <td>8.2</td>\n",
       "      <td>Dial M for Murder</td>\n",
       "      <td>PG</td>\n",
       "      <td>Crime</td>\n",
       "      <td>105</td>\n",
       "      <td>[u'Ray Milland', u'Grace Kelly', u'Robert Cumm...</td>\n",
       "    </tr>\n",
       "    <tr>\n",
       "      <th>186</th>\n",
       "      <td>186</td>\n",
       "      <td>8.2</td>\n",
       "      <td>The Thing</td>\n",
       "      <td>R</td>\n",
       "      <td>Horror</td>\n",
       "      <td>109</td>\n",
       "      <td>[u'Kurt Russell', u'Wilford Brimley', u'Keith ...</td>\n",
       "    </tr>\n",
       "    <tr>\n",
       "      <th>201</th>\n",
       "      <td>201</td>\n",
       "      <td>8.1</td>\n",
       "      <td>12 Years a Slave</td>\n",
       "      <td>R</td>\n",
       "      <td>Biography</td>\n",
       "      <td>134</td>\n",
       "      <td>[u'Chiwetel Ejiofor', u'Michael Kenneth Willia...</td>\n",
       "    </tr>\n",
       "    <tr>\n",
       "      <th>216</th>\n",
       "      <td>216</td>\n",
       "      <td>8.1</td>\n",
       "      <td>Sin City</td>\n",
       "      <td>R</td>\n",
       "      <td>Crime</td>\n",
       "      <td>124</td>\n",
       "      <td>[u'Mickey Rourke', u'Clive Owen', u'Bruce Will...</td>\n",
       "    </tr>\n",
       "    <tr>\n",
       "      <th>231</th>\n",
       "      <td>231</td>\n",
       "      <td>8.1</td>\n",
       "      <td>La Dolce Vita</td>\n",
       "      <td>NOT RATED</td>\n",
       "      <td>Comedy</td>\n",
       "      <td>174</td>\n",
       "      <td>[u'Marcello Mastroianni', u'Anita Ekberg', u'A...</td>\n",
       "    </tr>\n",
       "    <tr>\n",
       "      <th>246</th>\n",
       "      <td>246</td>\n",
       "      <td>8.1</td>\n",
       "      <td>Stalag 17</td>\n",
       "      <td>NOT RATED</td>\n",
       "      <td>Comedy</td>\n",
       "      <td>120</td>\n",
       "      <td>[u'William Holden', u'Don Taylor', u'Otto Prem...</td>\n",
       "    </tr>\n",
       "    <tr>\n",
       "      <th>261</th>\n",
       "      <td>261</td>\n",
       "      <td>8.1</td>\n",
       "      <td>Elite Squad</td>\n",
       "      <td>R</td>\n",
       "      <td>Action</td>\n",
       "      <td>115</td>\n",
       "      <td>[u'Wagner Moura', u'Andr\\xe9 Ramiro', u'Caio J...</td>\n",
       "    </tr>\n",
       "  </tbody>\n",
       "</table>\n",
       "</div>"
      ],
      "text/plain": [
       "     Unnamed: 0  star_rating                     title content_rating  \\\n",
       "21           21          8.7               City of God              R   \n",
       "36           36          8.6       Saving Private Ryan              R   \n",
       "51           51          8.5            Apocalypse Now              R   \n",
       "66           66          8.4       Munna Bhai M.B.B.S.      NOT RATED   \n",
       "81           81          8.4               Toy Story 3              G   \n",
       "96           96          8.4                   Yojimbo        UNRATED   \n",
       "111         111          8.3          Some Like It Hot      NOT RATED   \n",
       "126         126          8.3                        Up             PG   \n",
       "141         141          8.3  The Secret in Their Eyes              R   \n",
       "156         156          8.2                    Casino              R   \n",
       "171         171          8.2         Dial M for Murder             PG   \n",
       "186         186          8.2                 The Thing              R   \n",
       "201         201          8.1          12 Years a Slave              R   \n",
       "216         216          8.1                  Sin City              R   \n",
       "231         231          8.1             La Dolce Vita      NOT RATED   \n",
       "246         246          8.1                 Stalag 17      NOT RATED   \n",
       "261         261          8.1               Elite Squad              R   \n",
       "\n",
       "         genre  duration                                        actors_list  \n",
       "21       Crime       130  [u'Alexandre Rodrigues', u'Matheus Nachtergael...  \n",
       "36      Action       169     [u'Tom Hanks', u'Matt Damon', u'Tom Sizemore']  \n",
       "51       Drama       153  [u'Martin Sheen', u'Marlon Brando', u'Robert D...  \n",
       "66      Comedy       156   [u'Sunil Dutt', u'Sanjay Dutt', u'Arshad Warsi']  \n",
       "81   Animation       103       [u'Tom Hanks', u'Tim Allen', u'Joan Cusack']  \n",
       "96      Action       110  [u'Toshir\\xf4 Mifune', u'Eijir\\xf4 T\\xf4no', u...  \n",
       "111     Comedy       120  [u'Marilyn Monroe', u'Tony Curtis', u'Jack Lem...  \n",
       "126  Animation        96  [u'Edward Asner', u'Jordan Nagai', u'John Ratz...  \n",
       "141      Drama       129  [u'Ricardo Dar\\xedn', u'Soledad Villamil', u'P...  \n",
       "156  Biography       178  [u'Robert De Niro', u'Sharon Stone', u'Joe Pes...  \n",
       "171      Crime       105  [u'Ray Milland', u'Grace Kelly', u'Robert Cumm...  \n",
       "186     Horror       109  [u'Kurt Russell', u'Wilford Brimley', u'Keith ...  \n",
       "201  Biography       134  [u'Chiwetel Ejiofor', u'Michael Kenneth Willia...  \n",
       "216      Crime       124  [u'Mickey Rourke', u'Clive Owen', u'Bruce Will...  \n",
       "231     Comedy       174  [u'Marcello Mastroianni', u'Anita Ekberg', u'A...  \n",
       "246     Comedy       120  [u'William Holden', u'Don Taylor', u'Otto Prem...  \n",
       "261     Action       115  [u'Wagner Moura', u'Andr\\xe9 Ramiro', u'Caio J...  "
      ]
     },
     "execution_count": 14,
     "metadata": {},
     "output_type": "execute_result"
    }
   ],
   "source": [
    "movies[21:270:15]"
   ]
  },
  {
   "cell_type": "code",
   "execution_count": 53,
   "metadata": {
    "collapsed": false
   },
   "outputs": [
    {
     "data": {
      "text/plain": [
       "sci-fi             3384\n",
       "based on a book    3281\n",
       "atmospheric        2917\n",
       "comedy             2779\n",
       "action             2657\n",
       "surreal            2427\n",
       "BD-R               2334\n",
       "twist ending       2323\n",
       "funny              2072\n",
       "dystopia           1991\n",
       "Name: tag, dtype: int64"
      ]
     },
     "execution_count": 53,
     "metadata": {},
     "output_type": "execute_result"
    }
   ],
   "source": [
    "tags.tag.value_counts()\n",
    "tag_counts = tags['tag'].value_counts()\n",
    "tag_counts[:10]"
   ]
  },
  {
   "cell_type": "code",
   "execution_count": 54,
   "metadata": {
    "collapsed": false
   },
   "outputs": [
    {
     "data": {
      "text/plain": [
       "<matplotlib.axes._subplots.AxesSubplot at 0x10c4ae70>"
      ]
     },
     "execution_count": 54,
     "metadata": {},
     "output_type": "execute_result"
    },
    {
     "data": {
      "image/png": "[encoded data removed]",
      "text/plain": [
       "<matplotlib.figure.Figure at 0x10c4a550>"
      ]
     },
     "metadata": {},
     "output_type": "display_data"
    }
   ],
   "source": [
    "%matplotlib inline\n",
    "tag_counts[:10].plot(kind = 'bar',figsize = (15,10))"
   ]
  },
  {
   "cell_type": "code",
   "execution_count": 64,
   "metadata": {
    "collapsed": false
   },
   "outputs": [
    {
     "data": {
      "text/plain": [
       "<matplotlib.axes._subplots.AxesSubplot at 0xab43610>"
      ]
     },
     "execution_count": 64,
     "metadata": {},
     "output_type": "execute_result"
    },
    {
     "data": {
      "image/png": "[encoded data removed]",
      "text/plain": [
       "<matplotlib.figure.Figure at 0x10c33750>"
      ]
     },
     "metadata": {},
     "output_type": "display_data"
    }
   ],
   "source": [
    "\n",
    "movies_r = movies['star_rating'].value_counts()\n",
    "movies_r.iloc[:10].plot.bar(figsize=(18,9))"
   ]
  },
  {
   "cell_type": "code",
   "execution_count": 45,
   "metadata": {
    "collapsed": false
   },
   "outputs": [
    {
     "data": {
      "text/html": [
       "<div>\n",
       "<table border=\"1\" class=\"dataframe\">\n",
       "  <thead>\n",
       "    <tr style=\"text-align: right;\">\n",
       "      <th></th>\n",
       "      <th>Unnamed: 0</th>\n",
       "      <th>star_rating</th>\n",
       "      <th>title</th>\n",
       "      <th>content_rating</th>\n",
       "      <th>genre</th>\n",
       "      <th>duration</th>\n",
       "      <th>actors_list</th>\n",
       "    </tr>\n",
       "  </thead>\n",
       "  <tbody>\n",
       "    <tr>\n",
       "      <th>0</th>\n",
       "      <td>0</td>\n",
       "      <td>9.3</td>\n",
       "      <td>The Shawshank Redemption</td>\n",
       "      <td>R</td>\n",
       "      <td>Crime</td>\n",
       "      <td>142</td>\n",
       "      <td>[u'Tim Robbins', u'Morgan Freeman', u'Bob Gunt...</td>\n",
       "    </tr>\n",
       "    <tr>\n",
       "      <th>1</th>\n",
       "      <td>1</td>\n",
       "      <td>9.2</td>\n",
       "      <td>The Godfather</td>\n",
       "      <td>R</td>\n",
       "      <td>Crime</td>\n",
       "      <td>175</td>\n",
       "      <td>[u'Marlon Brando', u'Al Pacino', u'James Caan']</td>\n",
       "    </tr>\n",
       "    <tr>\n",
       "      <th>2</th>\n",
       "      <td>2</td>\n",
       "      <td>9.1</td>\n",
       "      <td>The Godfather: Part II</td>\n",
       "      <td>R</td>\n",
       "      <td>Crime</td>\n",
       "      <td>200</td>\n",
       "      <td>[u'Al Pacino', u'Robert De Niro', u'Robert Duv...</td>\n",
       "    </tr>\n",
       "    <tr>\n",
       "      <th>3</th>\n",
       "      <td>3</td>\n",
       "      <td>9.0</td>\n",
       "      <td>The Dark Knight</td>\n",
       "      <td>PG-13</td>\n",
       "      <td>Action</td>\n",
       "      <td>152</td>\n",
       "      <td>[u'Christian Bale', u'Heath Ledger', u'Aaron E...</td>\n",
       "    </tr>\n",
       "    <tr>\n",
       "      <th>4</th>\n",
       "      <td>4</td>\n",
       "      <td>8.9</td>\n",
       "      <td>Pulp Fiction</td>\n",
       "      <td>R</td>\n",
       "      <td>Crime</td>\n",
       "      <td>154</td>\n",
       "      <td>[u'John Travolta', u'Uma Thurman', u'Samuel L....</td>\n",
       "    </tr>\n",
       "  </tbody>\n",
       "</table>\n",
       "</div>"
      ],
      "text/plain": [
       "   Unnamed: 0  star_rating                     title content_rating   genre  \\\n",
       "0           0          9.3  The Shawshank Redemption              R   Crime   \n",
       "1           1          9.2             The Godfather              R   Crime   \n",
       "2           2          9.1    The Godfather: Part II              R   Crime   \n",
       "3           3          9.0           The Dark Knight          PG-13  Action   \n",
       "4           4          8.9              Pulp Fiction              R   Crime   \n",
       "\n",
       "   duration                                        actors_list  \n",
       "0       142  [u'Tim Robbins', u'Morgan Freeman', u'Bob Gunt...  \n",
       "1       175    [u'Marlon Brando', u'Al Pacino', u'James Caan']  \n",
       "2       200  [u'Al Pacino', u'Robert De Niro', u'Robert Duv...  \n",
       "3       152  [u'Christian Bale', u'Heath Ledger', u'Aaron E...  \n",
       "4       154  [u'John Travolta', u'Uma Thurman', u'Samuel L....  "
      ]
     },
     "execution_count": 45,
     "metadata": {},
     "output_type": "execute_result"
    }
   ],
   "source": [
    "movies.head()"
   ]
  },
  {
   "cell_type": "code",
   "execution_count": 65,
   "metadata": {
    "collapsed": false
   },
   "outputs": [
    {
     "data": {
      "text/plain": [
       "<matplotlib.axes._subplots.AxesSubplot at 0xab58730>"
      ]
     },
     "execution_count": 65,
     "metadata": {},
     "output_type": "execute_result"
    },
    {
     "data": {
      "image/png": "[encoded data removed]",
      "text/plain": [
       "<matplotlib.figure.Figure at 0xab64710>"
      ]
     },
     "metadata": {},
     "output_type": "display_data"
    }
   ],
   "source": [
    "movie_counts = movies.genre.value_counts()\n",
    "movie_counts[:10].plot(kind = 'bar',figsize= (18,9))"
   ]
  },
  {
   "cell_type": "code",
   "execution_count": 31,
   "metadata": {
    "collapsed": false
   },
   "outputs": [
    {
     "data": {
      "text/plain": [
       "4.0    557816\n",
       "3.0    432669\n",
       "5.0    285563\n",
       "3.5    217863\n",
       "4.5    151291\n",
       "2.0    146105\n",
       "2.5     89328\n",
       "1.0     68420\n",
       "1.5     27518\n",
       "0.5     23427\n",
       "Name: rating, dtype: int64"
      ]
     },
     "execution_count": 31,
     "metadata": {},
     "output_type": "execute_result"
    }
   ],
   "source": [
    "ratings.rating.value_counts()"
   ]
  },
  {
   "cell_type": "code",
   "execution_count": 32,
   "metadata": {
    "collapsed": false
   },
   "outputs": [
    {
     "data": {
      "text/plain": [
       "count    2.000000e+06\n",
       "mean     3.518678e+00\n",
       "std      1.050556e+00\n",
       "min      5.000000e-01\n",
       "25%      3.000000e+00\n",
       "50%      3.500000e+00\n",
       "75%      4.000000e+00\n",
       "max      5.000000e+00\n",
       "Name: rating, dtype: float64"
      ]
     },
     "execution_count": 32,
     "metadata": {},
     "output_type": "execute_result"
    }
   ],
   "source": [
    "ratings.rating.describe()"
   ]
  },
  {
   "cell_type": "markdown",
   "metadata": {},
   "source": [
    "# Filtering rows"
   ]
  },
  {
   "cell_type": "code",
   "execution_count": 37,
   "metadata": {
    "collapsed": false
   },
   "outputs": [
    {
     "data": {
      "text/html": [
       "<div>\n",
       "<table border=\"1\" class=\"dataframe\">\n",
       "  <thead>\n",
       "    <tr style=\"text-align: right;\">\n",
       "      <th></th>\n",
       "      <th>userId</th>\n",
       "      <th>movieId</th>\n",
       "      <th>rating</th>\n",
       "      <th>timestamp</th>\n",
       "    </tr>\n",
       "  </thead>\n",
       "  <tbody>\n",
       "    <tr>\n",
       "      <th>1999970</th>\n",
       "      <td>13567</td>\n",
       "      <td>2329</td>\n",
       "      <td>5.0</td>\n",
       "      <td>1262994680</td>\n",
       "    </tr>\n",
       "    <tr>\n",
       "      <th>1999971</th>\n",
       "      <td>13567</td>\n",
       "      <td>2394</td>\n",
       "      <td>5.0</td>\n",
       "      <td>1262763175</td>\n",
       "    </tr>\n",
       "    <tr>\n",
       "      <th>1999973</th>\n",
       "      <td>13567</td>\n",
       "      <td>2798</td>\n",
       "      <td>5.0</td>\n",
       "      <td>1262764221</td>\n",
       "    </tr>\n",
       "    <tr>\n",
       "      <th>1999974</th>\n",
       "      <td>13567</td>\n",
       "      <td>3113</td>\n",
       "      <td>5.0</td>\n",
       "      <td>1262763913</td>\n",
       "    </tr>\n",
       "    <tr>\n",
       "      <th>1999975</th>\n",
       "      <td>13567</td>\n",
       "      <td>3178</td>\n",
       "      <td>4.5</td>\n",
       "      <td>1262764031</td>\n",
       "    </tr>\n",
       "    <tr>\n",
       "      <th>1999986</th>\n",
       "      <td>13567</td>\n",
       "      <td>8972</td>\n",
       "      <td>4.5</td>\n",
       "      <td>1262764073</td>\n",
       "    </tr>\n",
       "    <tr>\n",
       "      <th>1999992</th>\n",
       "      <td>13567</td>\n",
       "      <td>58559</td>\n",
       "      <td>5.0</td>\n",
       "      <td>1262994213</td>\n",
       "    </tr>\n",
       "    <tr>\n",
       "      <th>1999996</th>\n",
       "      <td>13567</td>\n",
       "      <td>63062</td>\n",
       "      <td>5.0</td>\n",
       "      <td>1262764337</td>\n",
       "    </tr>\n",
       "    <tr>\n",
       "      <th>1999997</th>\n",
       "      <td>13567</td>\n",
       "      <td>64957</td>\n",
       "      <td>5.0</td>\n",
       "      <td>1262764172</td>\n",
       "    </tr>\n",
       "    <tr>\n",
       "      <th>1999998</th>\n",
       "      <td>13567</td>\n",
       "      <td>65216</td>\n",
       "      <td>4.5</td>\n",
       "      <td>1262994367</td>\n",
       "    </tr>\n",
       "  </tbody>\n",
       "</table>\n",
       "</div>"
      ],
      "text/plain": [
       "         userId  movieId  rating   timestamp\n",
       "1999970   13567     2329     5.0  1262994680\n",
       "1999971   13567     2394     5.0  1262763175\n",
       "1999973   13567     2798     5.0  1262764221\n",
       "1999974   13567     3113     5.0  1262763913\n",
       "1999975   13567     3178     4.5  1262764031\n",
       "1999986   13567     8972     4.5  1262764073\n",
       "1999992   13567    58559     5.0  1262994213\n",
       "1999996   13567    63062     5.0  1262764337\n",
       "1999997   13567    64957     5.0  1262764172\n",
       "1999998   13567    65216     4.5  1262994367"
      ]
     },
     "execution_count": 37,
     "metadata": {},
     "output_type": "execute_result"
    }
   ],
   "source": [
    "is_highly_rated = ratings['rating'] >= 4.5\n",
    "ratings[is_highly_rated][-10:]"
   ]
  },
  {
   "cell_type": "code",
   "execution_count": 40,
   "metadata": {
    "collapsed": false
   },
   "outputs": [
    {
     "data": {
      "text/html": [
       "<div>\n",
       "<table border=\"1\" class=\"dataframe\">\n",
       "  <thead>\n",
       "    <tr style=\"text-align: right;\">\n",
       "      <th></th>\n",
       "      <th>userId</th>\n",
       "      <th>movieId</th>\n",
       "      <th>rating</th>\n",
       "      <th>timestamp</th>\n",
       "    </tr>\n",
       "  </thead>\n",
       "  <tbody>\n",
       "    <tr>\n",
       "      <th>1999970</th>\n",
       "      <td>13567</td>\n",
       "      <td>2329</td>\n",
       "      <td>5.0</td>\n",
       "      <td>1262994680</td>\n",
       "    </tr>\n",
       "    <tr>\n",
       "      <th>1999971</th>\n",
       "      <td>13567</td>\n",
       "      <td>2394</td>\n",
       "      <td>5.0</td>\n",
       "      <td>1262763175</td>\n",
       "    </tr>\n",
       "    <tr>\n",
       "      <th>1999973</th>\n",
       "      <td>13567</td>\n",
       "      <td>2798</td>\n",
       "      <td>5.0</td>\n",
       "      <td>1262764221</td>\n",
       "    </tr>\n",
       "    <tr>\n",
       "      <th>1999974</th>\n",
       "      <td>13567</td>\n",
       "      <td>3113</td>\n",
       "      <td>5.0</td>\n",
       "      <td>1262763913</td>\n",
       "    </tr>\n",
       "    <tr>\n",
       "      <th>1999975</th>\n",
       "      <td>13567</td>\n",
       "      <td>3178</td>\n",
       "      <td>4.5</td>\n",
       "      <td>1262764031</td>\n",
       "    </tr>\n",
       "    <tr>\n",
       "      <th>1999986</th>\n",
       "      <td>13567</td>\n",
       "      <td>8972</td>\n",
       "      <td>4.5</td>\n",
       "      <td>1262764073</td>\n",
       "    </tr>\n",
       "    <tr>\n",
       "      <th>1999992</th>\n",
       "      <td>13567</td>\n",
       "      <td>58559</td>\n",
       "      <td>5.0</td>\n",
       "      <td>1262994213</td>\n",
       "    </tr>\n",
       "    <tr>\n",
       "      <th>1999996</th>\n",
       "      <td>13567</td>\n",
       "      <td>63062</td>\n",
       "      <td>5.0</td>\n",
       "      <td>1262764337</td>\n",
       "    </tr>\n",
       "    <tr>\n",
       "      <th>1999997</th>\n",
       "      <td>13567</td>\n",
       "      <td>64957</td>\n",
       "      <td>5.0</td>\n",
       "      <td>1262764172</td>\n",
       "    </tr>\n",
       "    <tr>\n",
       "      <th>1999998</th>\n",
       "      <td>13567</td>\n",
       "      <td>65216</td>\n",
       "      <td>4.5</td>\n",
       "      <td>1262994367</td>\n",
       "    </tr>\n",
       "  </tbody>\n",
       "</table>\n",
       "</div>"
      ],
      "text/plain": [
       "         userId  movieId  rating   timestamp\n",
       "1999970   13567     2329     5.0  1262994680\n",
       "1999971   13567     2394     5.0  1262763175\n",
       "1999973   13567     2798     5.0  1262764221\n",
       "1999974   13567     3113     5.0  1262763913\n",
       "1999975   13567     3178     4.5  1262764031\n",
       "1999986   13567     8972     4.5  1262764073\n",
       "1999992   13567    58559     5.0  1262994213\n",
       "1999996   13567    63062     5.0  1262764337\n",
       "1999997   13567    64957     5.0  1262764172\n",
       "1999998   13567    65216     4.5  1262994367"
      ]
     },
     "execution_count": 40,
     "metadata": {},
     "output_type": "execute_result"
    }
   ],
   "source": [
    "#both are same\n",
    "ratings[ratings['rating'] >= 4.5][-10:]"
   ]
  },
  {
   "cell_type": "code",
   "execution_count": 42,
   "metadata": {
    "collapsed": false
   },
   "outputs": [
    {
     "data": {
      "text/plain": [
       "count       979\n",
       "unique       16\n",
       "top       Drama\n",
       "freq        278\n",
       "Name: genre, dtype: object"
      ]
     },
     "execution_count": 42,
     "metadata": {},
     "output_type": "execute_result"
    }
   ],
   "source": [
    "movies.genre.describe()"
   ]
  },
  {
   "cell_type": "code",
   "execution_count": 47,
   "metadata": {
    "collapsed": false
   },
   "outputs": [
    {
     "data": {
      "text/html": [
       "<div>\n",
       "<table border=\"1\" class=\"dataframe\">\n",
       "  <thead>\n",
       "    <tr style=\"text-align: right;\">\n",
       "      <th></th>\n",
       "      <th>Unnamed: 0</th>\n",
       "      <th>star_rating</th>\n",
       "      <th>title</th>\n",
       "      <th>content_rating</th>\n",
       "      <th>genre</th>\n",
       "      <th>duration</th>\n",
       "      <th>actors_list</th>\n",
       "    </tr>\n",
       "  </thead>\n",
       "  <tbody>\n",
       "    <tr>\n",
       "      <th>317</th>\n",
       "      <td>317</td>\n",
       "      <td>8.0</td>\n",
       "      <td>Dawn of the Dead</td>\n",
       "      <td>UNRATED</td>\n",
       "      <td>Horror</td>\n",
       "      <td>127</td>\n",
       "      <td>[u'David Emge', u'Ken Foree', u'Scott H. Reini...</td>\n",
       "    </tr>\n",
       "    <tr>\n",
       "      <th>322</th>\n",
       "      <td>322</td>\n",
       "      <td>8.0</td>\n",
       "      <td>The Exorcist</td>\n",
       "      <td>R</td>\n",
       "      <td>Horror</td>\n",
       "      <td>122</td>\n",
       "      <td>[u'Ellen Burstyn', u'Max von Sydow', u'Linda B...</td>\n",
       "    </tr>\n",
       "    <tr>\n",
       "      <th>330</th>\n",
       "      <td>330</td>\n",
       "      <td>8.0</td>\n",
       "      <td>Nosferatu</td>\n",
       "      <td>UNRATED</td>\n",
       "      <td>Horror</td>\n",
       "      <td>81</td>\n",
       "      <td>[u'Max Schreck', u'Greta Schr\\xf6der', u'Ruth ...</td>\n",
       "    </tr>\n",
       "    <tr>\n",
       "      <th>351</th>\n",
       "      <td>351</td>\n",
       "      <td>8.0</td>\n",
       "      <td>Frankenstein</td>\n",
       "      <td>UNRATED</td>\n",
       "      <td>Horror</td>\n",
       "      <td>70</td>\n",
       "      <td>[u'Colin Clive', u'Mae Clarke', u'Boris Karloff']</td>\n",
       "    </tr>\n",
       "    <tr>\n",
       "      <th>353</th>\n",
       "      <td>353</td>\n",
       "      <td>8.0</td>\n",
       "      <td>Night of the Living Dead</td>\n",
       "      <td>UNRATED</td>\n",
       "      <td>Horror</td>\n",
       "      <td>96</td>\n",
       "      <td>[u'Duane Jones', u\"Judith O'Dea\", u'Karl Hardm...</td>\n",
       "    </tr>\n",
       "    <tr>\n",
       "      <th>405</th>\n",
       "      <td>405</td>\n",
       "      <td>7.9</td>\n",
       "      <td>The Bride of Frankenstein</td>\n",
       "      <td>NOT RATED</td>\n",
       "      <td>Horror</td>\n",
       "      <td>75</td>\n",
       "      <td>[u'Boris Karloff', u'Elsa Lanchester', u'Colin...</td>\n",
       "    </tr>\n",
       "    <tr>\n",
       "      <th>513</th>\n",
       "      <td>513</td>\n",
       "      <td>7.8</td>\n",
       "      <td>Invasion of the Body Snatchers</td>\n",
       "      <td>APPROVED</td>\n",
       "      <td>Horror</td>\n",
       "      <td>80</td>\n",
       "      <td>[u'Kevin McCarthy', u'Dana Wynter', u'Larry Ga...</td>\n",
       "    </tr>\n",
       "    <tr>\n",
       "      <th>572</th>\n",
       "      <td>572</td>\n",
       "      <td>7.8</td>\n",
       "      <td>The Birds</td>\n",
       "      <td>PG-13</td>\n",
       "      <td>Horror</td>\n",
       "      <td>119</td>\n",
       "      <td>[u'Rod Taylor', u'Tippi Hedren', u'Suzanne Ple...</td>\n",
       "    </tr>\n",
       "    <tr>\n",
       "      <th>655</th>\n",
       "      <td>655</td>\n",
       "      <td>7.7</td>\n",
       "      <td>Saw</td>\n",
       "      <td>R</td>\n",
       "      <td>Horror</td>\n",
       "      <td>103</td>\n",
       "      <td>[u'Cary Elwes', u'Leigh Whannell', u'Danny Glo...</td>\n",
       "    </tr>\n",
       "    <tr>\n",
       "      <th>688</th>\n",
       "      <td>688</td>\n",
       "      <td>7.7</td>\n",
       "      <td>The Wicker Man</td>\n",
       "      <td>R</td>\n",
       "      <td>Horror</td>\n",
       "      <td>88</td>\n",
       "      <td>[u'Edward Woodward', u'Christopher Lee', u'Dia...</td>\n",
       "    </tr>\n",
       "  </tbody>\n",
       "</table>\n",
       "</div>"
      ],
      "text/plain": [
       "     Unnamed: 0  star_rating                           title content_rating  \\\n",
       "317         317          8.0                Dawn of the Dead        UNRATED   \n",
       "322         322          8.0                    The Exorcist              R   \n",
       "330         330          8.0                       Nosferatu        UNRATED   \n",
       "351         351          8.0                    Frankenstein        UNRATED   \n",
       "353         353          8.0        Night of the Living Dead        UNRATED   \n",
       "405         405          7.9       The Bride of Frankenstein      NOT RATED   \n",
       "513         513          7.8  Invasion of the Body Snatchers       APPROVED   \n",
       "572         572          7.8                       The Birds          PG-13   \n",
       "655         655          7.7                             Saw              R   \n",
       "688         688          7.7                  The Wicker Man              R   \n",
       "\n",
       "      genre  duration                                        actors_list  \n",
       "317  Horror       127  [u'David Emge', u'Ken Foree', u'Scott H. Reini...  \n",
       "322  Horror       122  [u'Ellen Burstyn', u'Max von Sydow', u'Linda B...  \n",
       "330  Horror        81  [u'Max Schreck', u'Greta Schr\\xf6der', u'Ruth ...  \n",
       "351  Horror        70  [u'Colin Clive', u'Mae Clarke', u'Boris Karloff']  \n",
       "353  Horror        96  [u'Duane Jones', u\"Judith O'Dea\", u'Karl Hardm...  \n",
       "405  Horror        75  [u'Boris Karloff', u'Elsa Lanchester', u'Colin...  \n",
       "513  Horror        80  [u'Kevin McCarthy', u'Dana Wynter', u'Larry Ga...  \n",
       "572  Horror       119  [u'Rod Taylor', u'Tippi Hedren', u'Suzanne Ple...  \n",
       "655  Horror       103  [u'Cary Elwes', u'Leigh Whannell', u'Danny Glo...  \n",
       "688  Horror        88  [u'Edward Woodward', u'Christopher Lee', u'Dia...  "
      ]
     },
     "execution_count": 47,
     "metadata": {},
     "output_type": "execute_result"
    }
   ],
   "source": [
    " movies[movies.genre == 'Horror'][5:15]"
   ]
  },
  {
   "cell_type": "code",
   "execution_count": 51,
   "metadata": {
    "collapsed": false
   },
   "outputs": [
    {
     "data": {
      "text/html": [
       "<div>\n",
       "<table border=\"1\" class=\"dataframe\">\n",
       "  <thead>\n",
       "    <tr style=\"text-align: right;\">\n",
       "      <th></th>\n",
       "      <th>Unnamed: 0</th>\n",
       "      <th>star_rating</th>\n",
       "      <th>title</th>\n",
       "      <th>content_rating</th>\n",
       "      <th>genre</th>\n",
       "      <th>duration</th>\n",
       "      <th>actors_list</th>\n",
       "    </tr>\n",
       "  </thead>\n",
       "  <tbody>\n",
       "    <tr>\n",
       "      <th>317</th>\n",
       "      <td>317</td>\n",
       "      <td>8.0</td>\n",
       "      <td>Dawn of the Dead</td>\n",
       "      <td>UNRATED</td>\n",
       "      <td>Horror</td>\n",
       "      <td>127</td>\n",
       "      <td>[u'David Emge', u'Ken Foree', u'Scott H. Reini...</td>\n",
       "    </tr>\n",
       "    <tr>\n",
       "      <th>322</th>\n",
       "      <td>322</td>\n",
       "      <td>8.0</td>\n",
       "      <td>The Exorcist</td>\n",
       "      <td>R</td>\n",
       "      <td>Horror</td>\n",
       "      <td>122</td>\n",
       "      <td>[u'Ellen Burstyn', u'Max von Sydow', u'Linda B...</td>\n",
       "    </tr>\n",
       "    <tr>\n",
       "      <th>330</th>\n",
       "      <td>330</td>\n",
       "      <td>8.0</td>\n",
       "      <td>Nosferatu</td>\n",
       "      <td>UNRATED</td>\n",
       "      <td>Horror</td>\n",
       "      <td>81</td>\n",
       "      <td>[u'Max Schreck', u'Greta Schr\\xf6der', u'Ruth ...</td>\n",
       "    </tr>\n",
       "    <tr>\n",
       "      <th>351</th>\n",
       "      <td>351</td>\n",
       "      <td>8.0</td>\n",
       "      <td>Frankenstein</td>\n",
       "      <td>UNRATED</td>\n",
       "      <td>Horror</td>\n",
       "      <td>70</td>\n",
       "      <td>[u'Colin Clive', u'Mae Clarke', u'Boris Karloff']</td>\n",
       "    </tr>\n",
       "    <tr>\n",
       "      <th>353</th>\n",
       "      <td>353</td>\n",
       "      <td>8.0</td>\n",
       "      <td>Night of the Living Dead</td>\n",
       "      <td>UNRATED</td>\n",
       "      <td>Horror</td>\n",
       "      <td>96</td>\n",
       "      <td>[u'Duane Jones', u\"Judith O'Dea\", u'Karl Hardm...</td>\n",
       "    </tr>\n",
       "    <tr>\n",
       "      <th>405</th>\n",
       "      <td>405</td>\n",
       "      <td>7.9</td>\n",
       "      <td>The Bride of Frankenstein</td>\n",
       "      <td>NOT RATED</td>\n",
       "      <td>Horror</td>\n",
       "      <td>75</td>\n",
       "      <td>[u'Boris Karloff', u'Elsa Lanchester', u'Colin...</td>\n",
       "    </tr>\n",
       "    <tr>\n",
       "      <th>513</th>\n",
       "      <td>513</td>\n",
       "      <td>7.8</td>\n",
       "      <td>Invasion of the Body Snatchers</td>\n",
       "      <td>APPROVED</td>\n",
       "      <td>Horror</td>\n",
       "      <td>80</td>\n",
       "      <td>[u'Kevin McCarthy', u'Dana Wynter', u'Larry Ga...</td>\n",
       "    </tr>\n",
       "    <tr>\n",
       "      <th>572</th>\n",
       "      <td>572</td>\n",
       "      <td>7.8</td>\n",
       "      <td>The Birds</td>\n",
       "      <td>PG-13</td>\n",
       "      <td>Horror</td>\n",
       "      <td>119</td>\n",
       "      <td>[u'Rod Taylor', u'Tippi Hedren', u'Suzanne Ple...</td>\n",
       "    </tr>\n",
       "    <tr>\n",
       "      <th>655</th>\n",
       "      <td>655</td>\n",
       "      <td>7.7</td>\n",
       "      <td>Saw</td>\n",
       "      <td>R</td>\n",
       "      <td>Horror</td>\n",
       "      <td>103</td>\n",
       "      <td>[u'Cary Elwes', u'Leigh Whannell', u'Danny Glo...</td>\n",
       "    </tr>\n",
       "    <tr>\n",
       "      <th>688</th>\n",
       "      <td>688</td>\n",
       "      <td>7.7</td>\n",
       "      <td>The Wicker Man</td>\n",
       "      <td>R</td>\n",
       "      <td>Horror</td>\n",
       "      <td>88</td>\n",
       "      <td>[u'Edward Woodward', u'Christopher Lee', u'Dia...</td>\n",
       "    </tr>\n",
       "  </tbody>\n",
       "</table>\n",
       "</div>"
      ],
      "text/plain": [
       "     Unnamed: 0  star_rating                           title content_rating  \\\n",
       "317         317          8.0                Dawn of the Dead        UNRATED   \n",
       "322         322          8.0                    The Exorcist              R   \n",
       "330         330          8.0                       Nosferatu        UNRATED   \n",
       "351         351          8.0                    Frankenstein        UNRATED   \n",
       "353         353          8.0        Night of the Living Dead        UNRATED   \n",
       "405         405          7.9       The Bride of Frankenstein      NOT RATED   \n",
       "513         513          7.8  Invasion of the Body Snatchers       APPROVED   \n",
       "572         572          7.8                       The Birds          PG-13   \n",
       "655         655          7.7                             Saw              R   \n",
       "688         688          7.7                  The Wicker Man              R   \n",
       "\n",
       "      genre  duration                                        actors_list  \n",
       "317  Horror       127  [u'David Emge', u'Ken Foree', u'Scott H. Reini...  \n",
       "322  Horror       122  [u'Ellen Burstyn', u'Max von Sydow', u'Linda B...  \n",
       "330  Horror        81  [u'Max Schreck', u'Greta Schr\\xf6der', u'Ruth ...  \n",
       "351  Horror        70  [u'Colin Clive', u'Mae Clarke', u'Boris Karloff']  \n",
       "353  Horror        96  [u'Duane Jones', u\"Judith O'Dea\", u'Karl Hardm...  \n",
       "405  Horror        75  [u'Boris Karloff', u'Elsa Lanchester', u'Colin...  \n",
       "513  Horror        80  [u'Kevin McCarthy', u'Dana Wynter', u'Larry Ga...  \n",
       "572  Horror       119  [u'Rod Taylor', u'Tippi Hedren', u'Suzanne Ple...  \n",
       "655  Horror       103  [u'Cary Elwes', u'Leigh Whannell', u'Danny Glo...  \n",
       "688  Horror        88  [u'Edward Woodward', u'Christopher Lee', u'Dia...  "
      ]
     },
     "execution_count": 51,
     "metadata": {},
     "output_type": "execute_result"
    }
   ],
   "source": [
    "is_horror = movies.genre.str.contains('Horror')\n",
    "movies[is_horror][5:15]"
   ]
  },
  {
   "cell_type": "code",
   "execution_count": 50,
   "metadata": {
    "collapsed": false
   },
   "outputs": [
    {
     "data": {
      "text/html": [
       "<div>\n",
       "<table border=\"1\" class=\"dataframe\">\n",
       "  <thead>\n",
       "    <tr style=\"text-align: right;\">\n",
       "      <th></th>\n",
       "      <th>Unnamed: 0</th>\n",
       "      <th>star_rating</th>\n",
       "      <th>title</th>\n",
       "      <th>content_rating</th>\n",
       "      <th>genre</th>\n",
       "      <th>duration</th>\n",
       "      <th>actors_list</th>\n",
       "    </tr>\n",
       "  </thead>\n",
       "  <tbody>\n",
       "    <tr>\n",
       "      <th>317</th>\n",
       "      <td>317</td>\n",
       "      <td>8.0</td>\n",
       "      <td>Dawn of the Dead</td>\n",
       "      <td>UNRATED</td>\n",
       "      <td>Horror</td>\n",
       "      <td>127</td>\n",
       "      <td>[u'David Emge', u'Ken Foree', u'Scott H. Reini...</td>\n",
       "    </tr>\n",
       "    <tr>\n",
       "      <th>322</th>\n",
       "      <td>322</td>\n",
       "      <td>8.0</td>\n",
       "      <td>The Exorcist</td>\n",
       "      <td>R</td>\n",
       "      <td>Horror</td>\n",
       "      <td>122</td>\n",
       "      <td>[u'Ellen Burstyn', u'Max von Sydow', u'Linda B...</td>\n",
       "    </tr>\n",
       "    <tr>\n",
       "      <th>330</th>\n",
       "      <td>330</td>\n",
       "      <td>8.0</td>\n",
       "      <td>Nosferatu</td>\n",
       "      <td>UNRATED</td>\n",
       "      <td>Horror</td>\n",
       "      <td>81</td>\n",
       "      <td>[u'Max Schreck', u'Greta Schr\\xf6der', u'Ruth ...</td>\n",
       "    </tr>\n",
       "  </tbody>\n",
       "</table>\n",
       "</div>"
      ],
      "text/plain": [
       "     Unnamed: 0  star_rating             title content_rating   genre  \\\n",
       "317         317          8.0  Dawn of the Dead        UNRATED  Horror   \n",
       "322         322          8.0      The Exorcist              R  Horror   \n",
       "330         330          8.0         Nosferatu        UNRATED  Horror   \n",
       "\n",
       "     duration                                        actors_list  \n",
       "317       127  [u'David Emge', u'Ken Foree', u'Scott H. Reini...  \n",
       "322       122  [u'Ellen Burstyn', u'Max von Sydow', u'Linda B...  \n",
       "330        81  [u'Max Schreck', u'Greta Schr\\xf6der', u'Ruth ...  "
      ]
     },
     "execution_count": 50,
     "metadata": {},
     "output_type": "execute_result"
    }
   ],
   "source": [
    "movies[movies.genre == 'Horror'][5:15].head(3)"
   ]
  },
  {
   "cell_type": "code",
   "execution_count": 54,
   "metadata": {
    "collapsed": false
   },
   "outputs": [
    {
     "data": {
      "text/html": [
       "<div>\n",
       "<table border=\"1\" class=\"dataframe\">\n",
       "  <thead>\n",
       "    <tr style=\"text-align: right;\">\n",
       "      <th></th>\n",
       "      <th>Unnamed: 0</th>\n",
       "      <th>star_rating</th>\n",
       "      <th>title</th>\n",
       "      <th>content_rating</th>\n",
       "      <th>genre</th>\n",
       "      <th>duration</th>\n",
       "      <th>actors_list</th>\n",
       "    </tr>\n",
       "  </thead>\n",
       "  <tbody>\n",
       "    <tr>\n",
       "      <th>317</th>\n",
       "      <td>317</td>\n",
       "      <td>8.0</td>\n",
       "      <td>Dawn of the Dead</td>\n",
       "      <td>UNRATED</td>\n",
       "      <td>Horror</td>\n",
       "      <td>127</td>\n",
       "      <td>[u'David Emge', u'Ken Foree', u'Scott H. Reini...</td>\n",
       "    </tr>\n",
       "    <tr>\n",
       "      <th>322</th>\n",
       "      <td>322</td>\n",
       "      <td>8.0</td>\n",
       "      <td>The Exorcist</td>\n",
       "      <td>R</td>\n",
       "      <td>Horror</td>\n",
       "      <td>122</td>\n",
       "      <td>[u'Ellen Burstyn', u'Max von Sydow', u'Linda B...</td>\n",
       "    </tr>\n",
       "    <tr>\n",
       "      <th>330</th>\n",
       "      <td>330</td>\n",
       "      <td>8.0</td>\n",
       "      <td>Nosferatu</td>\n",
       "      <td>UNRATED</td>\n",
       "      <td>Horror</td>\n",
       "      <td>81</td>\n",
       "      <td>[u'Max Schreck', u'Greta Schr\\xf6der', u'Ruth ...</td>\n",
       "    </tr>\n",
       "  </tbody>\n",
       "</table>\n",
       "</div>"
      ],
      "text/plain": [
       "     Unnamed: 0  star_rating             title content_rating   genre  \\\n",
       "317         317          8.0  Dawn of the Dead        UNRATED  Horror   \n",
       "322         322          8.0      The Exorcist              R  Horror   \n",
       "330         330          8.0         Nosferatu        UNRATED  Horror   \n",
       "\n",
       "     duration                                        actors_list  \n",
       "317       127  [u'David Emge', u'Ken Foree', u'Scott H. Reini...  \n",
       "322       122  [u'Ellen Burstyn', u'Max von Sydow', u'Linda B...  \n",
       "330        81  [u'Max Schreck', u'Greta Schr\\xf6der', u'Ruth ...  "
      ]
     },
     "execution_count": 54,
     "metadata": {},
     "output_type": "execute_result"
    }
   ],
   "source": [
    "movies[is_horror][5:15].head(3)"
   ]
  },
  {
   "cell_type": "markdown",
   "metadata": {},
   "source": [
    "# group by and aggregate"
   ]
  },
  {
   "cell_type": "code",
   "execution_count": 42,
   "metadata": {
    "collapsed": false
   },
   "outputs": [
    {
     "data": {
      "text/html": [
       "<div>\n",
       "<table border=\"1\" class=\"dataframe\">\n",
       "  <thead>\n",
       "    <tr style=\"text-align: right;\">\n",
       "      <th></th>\n",
       "      <th>userId</th>\n",
       "      <th>movieId</th>\n",
       "      <th>rating</th>\n",
       "      <th>timestamp</th>\n",
       "    </tr>\n",
       "  </thead>\n",
       "  <tbody>\n",
       "    <tr>\n",
       "      <th>0</th>\n",
       "      <td>1</td>\n",
       "      <td>2</td>\n",
       "      <td>3.5</td>\n",
       "      <td>1112486027</td>\n",
       "    </tr>\n",
       "    <tr>\n",
       "      <th>1</th>\n",
       "      <td>1</td>\n",
       "      <td>29</td>\n",
       "      <td>3.5</td>\n",
       "      <td>1112484676</td>\n",
       "    </tr>\n",
       "    <tr>\n",
       "      <th>2</th>\n",
       "      <td>1</td>\n",
       "      <td>32</td>\n",
       "      <td>3.5</td>\n",
       "      <td>1112484819</td>\n",
       "    </tr>\n",
       "    <tr>\n",
       "      <th>3</th>\n",
       "      <td>1</td>\n",
       "      <td>47</td>\n",
       "      <td>3.5</td>\n",
       "      <td>1112484727</td>\n",
       "    </tr>\n",
       "    <tr>\n",
       "      <th>4</th>\n",
       "      <td>1</td>\n",
       "      <td>50</td>\n",
       "      <td>3.5</td>\n",
       "      <td>1112484580</td>\n",
       "    </tr>\n",
       "  </tbody>\n",
       "</table>\n",
       "</div>"
      ],
      "text/plain": [
       "   userId  movieId  rating   timestamp\n",
       "0       1        2     3.5  1112486027\n",
       "1       1       29     3.5  1112484676\n",
       "2       1       32     3.5  1112484819\n",
       "3       1       47     3.5  1112484727\n",
       "4       1       50     3.5  1112484580"
      ]
     },
     "execution_count": 42,
     "metadata": {},
     "output_type": "execute_result"
    }
   ],
   "source": [
    "ratings.head()"
   ]
  },
  {
   "cell_type": "code",
   "execution_count": 43,
   "metadata": {
    "collapsed": false
   },
   "outputs": [
    {
     "data": {
      "text/plain": [
       "296       6688\n",
       "356       6599\n",
       "593       6222\n",
       "318       6199\n",
       "480       5943\n",
       "260       5443\n",
       "110       5329\n",
       "589       5267\n",
       "2571      5105\n",
       "527       4969\n",
       "457       4960\n",
       "1         4883\n",
       "150       4773\n",
       "780       4711\n",
       "1210      4692\n",
       "50        4661\n",
       "592       4580\n",
       "1196      4556\n",
       "2858      4480\n",
       "32        4431\n",
       "1198      4372\n",
       "590       4359\n",
       "608       4342\n",
       "380       4303\n",
       "47        4275\n",
       "377       4185\n",
       "1270      4139\n",
       "588       4135\n",
       "858       4113\n",
       "2959      3930\n",
       "          ... \n",
       "27344        1\n",
       "88299        1\n",
       "88572        1\n",
       "74226        1\n",
       "26074        1\n",
       "79344        1\n",
       "72929        1\n",
       "52443        1\n",
       "99054        1\n",
       "116668       1\n",
       "49615        1\n",
       "69856        1\n",
       "95147        1\n",
       "55199        1\n",
       "121324       1\n",
       "27347        1\n",
       "106421       1\n",
       "118254       1\n",
       "77298        1\n",
       "87549        1\n",
       "27093        1\n",
       "69372        1\n",
       "89846        1\n",
       "106222       1\n",
       "81825        1\n",
       "77731        1\n",
       "99568        1\n",
       "72931        1\n",
       "98217        1\n",
       "108696       1\n",
       "Name: movieId, dtype: int64"
      ]
     },
     "execution_count": 43,
     "metadata": {},
     "output_type": "execute_result"
    }
   ],
   "source": [
    "ratings.movieId.value_counts()"
   ]
  },
  {
   "cell_type": "code",
   "execution_count": 48,
   "metadata": {
    "collapsed": false
   },
   "outputs": [],
   "source": [
    "# It is a very important concept but very easy one\n",
    "ratings_count = ratings[['movieId','rating']].groupby('rating').count()"
   ]
  },
  {
   "cell_type": "code",
   "execution_count": 50,
   "metadata": {
    "collapsed": true
   },
   "outputs": [],
   "source": [
    "ratings_count = ratings[['rating','movieId']].groupby('rating').count()"
   ]
  },
  {
   "cell_type": "code",
   "execution_count": 51,
   "metadata": {
    "collapsed": false
   },
   "outputs": [
    {
     "data": {
      "text/html": [
       "<div>\n",
       "<table border=\"1\" class=\"dataframe\">\n",
       "  <thead>\n",
       "    <tr style=\"text-align: right;\">\n",
       "      <th></th>\n",
       "      <th>movieId</th>\n",
       "    </tr>\n",
       "    <tr>\n",
       "      <th>rating</th>\n",
       "      <th></th>\n",
       "    </tr>\n",
       "  </thead>\n",
       "  <tbody>\n",
       "    <tr>\n",
       "      <th>0.5</th>\n",
       "      <td>23427</td>\n",
       "    </tr>\n",
       "    <tr>\n",
       "      <th>1.0</th>\n",
       "      <td>68421</td>\n",
       "    </tr>\n",
       "    <tr>\n",
       "      <th>1.5</th>\n",
       "      <td>27518</td>\n",
       "    </tr>\n",
       "    <tr>\n",
       "      <th>2.0</th>\n",
       "      <td>146106</td>\n",
       "    </tr>\n",
       "    <tr>\n",
       "      <th>2.5</th>\n",
       "      <td>89329</td>\n",
       "    </tr>\n",
       "    <tr>\n",
       "      <th>3.0</th>\n",
       "      <td>432674</td>\n",
       "    </tr>\n",
       "    <tr>\n",
       "      <th>3.5</th>\n",
       "      <td>217865</td>\n",
       "    </tr>\n",
       "    <tr>\n",
       "      <th>4.0</th>\n",
       "      <td>557825</td>\n",
       "    </tr>\n",
       "    <tr>\n",
       "      <th>4.5</th>\n",
       "      <td>151293</td>\n",
       "    </tr>\n",
       "    <tr>\n",
       "      <th>5.0</th>\n",
       "      <td>285568</td>\n",
       "    </tr>\n",
       "  </tbody>\n",
       "</table>\n",
       "</div>"
      ],
      "text/plain": [
       "        movieId\n",
       "rating         \n",
       "0.5       23427\n",
       "1.0       68421\n",
       "1.5       27518\n",
       "2.0      146106\n",
       "2.5       89329\n",
       "3.0      432674\n",
       "3.5      217865\n",
       "4.0      557825\n",
       "4.5      151293\n",
       "5.0      285568"
      ]
     },
     "execution_count": 51,
     "metadata": {},
     "output_type": "execute_result"
    }
   ],
   "source": [
    "ratings_count"
   ]
  },
  {
   "cell_type": "code",
   "execution_count": 45,
   "metadata": {
    "collapsed": false
   },
   "outputs": [
    {
     "data": {
      "text/plain": [
       "4.0    557825\n",
       "3.0    432674\n",
       "5.0    285568\n",
       "3.5    217865\n",
       "4.5    151293\n",
       "2.0    146106\n",
       "2.5     89329\n",
       "1.0     68421\n",
       "1.5     27518\n",
       "0.5     23427\n",
       "Name: rating, dtype: int64"
      ]
     },
     "execution_count": 45,
     "metadata": {},
     "output_type": "execute_result"
    }
   ],
   "source": [
    "ratings.rating.value_counts()"
   ]
  },
  {
   "cell_type": "code",
   "execution_count": 53,
   "metadata": {
    "collapsed": true
   },
   "outputs": [],
   "source": [
    "ratings_count = ratings[['rating','movieId']].groupby('movieId').count()"
   ]
  },
  {
   "cell_type": "code",
   "execution_count": 54,
   "metadata": {
    "collapsed": false
   },
   "outputs": [
    {
     "data": {
      "text/html": [
       "<div>\n",
       "<table border=\"1\" class=\"dataframe\">\n",
       "  <thead>\n",
       "    <tr style=\"text-align: right;\">\n",
       "      <th></th>\n",
       "      <th>rating</th>\n",
       "    </tr>\n",
       "    <tr>\n",
       "      <th>movieId</th>\n",
       "      <th></th>\n",
       "    </tr>\n",
       "  </thead>\n",
       "  <tbody>\n",
       "    <tr>\n",
       "      <th>1</th>\n",
       "      <td>4883</td>\n",
       "    </tr>\n",
       "    <tr>\n",
       "      <th>2</th>\n",
       "      <td>2209</td>\n",
       "    </tr>\n",
       "    <tr>\n",
       "      <th>3</th>\n",
       "      <td>1256</td>\n",
       "    </tr>\n",
       "    <tr>\n",
       "      <th>4</th>\n",
       "      <td>272</td>\n",
       "    </tr>\n",
       "    <tr>\n",
       "      <th>5</th>\n",
       "      <td>1227</td>\n",
       "    </tr>\n",
       "    <tr>\n",
       "      <th>6</th>\n",
       "      <td>2390</td>\n",
       "    </tr>\n",
       "    <tr>\n",
       "      <th>7</th>\n",
       "      <td>1290</td>\n",
       "    </tr>\n",
       "    <tr>\n",
       "      <th>8</th>\n",
       "      <td>148</td>\n",
       "    </tr>\n",
       "    <tr>\n",
       "      <th>9</th>\n",
       "      <td>379</td>\n",
       "    </tr>\n",
       "    <tr>\n",
       "      <th>10</th>\n",
       "      <td>2900</td>\n",
       "    </tr>\n",
       "    <tr>\n",
       "      <th>11</th>\n",
       "      <td>1735</td>\n",
       "    </tr>\n",
       "    <tr>\n",
       "      <th>12</th>\n",
       "      <td>373</td>\n",
       "    </tr>\n",
       "    <tr>\n",
       "      <th>13</th>\n",
       "      <td>148</td>\n",
       "    </tr>\n",
       "    <tr>\n",
       "      <th>14</th>\n",
       "      <td>580</td>\n",
       "    </tr>\n",
       "    <tr>\n",
       "      <th>15</th>\n",
       "      <td>297</td>\n",
       "    </tr>\n",
       "    <tr>\n",
       "      <th>16</th>\n",
       "      <td>1800</td>\n",
       "    </tr>\n",
       "    <tr>\n",
       "      <th>17</th>\n",
       "      <td>2092</td>\n",
       "    </tr>\n",
       "    <tr>\n",
       "      <th>18</th>\n",
       "      <td>501</td>\n",
       "    </tr>\n",
       "    <tr>\n",
       "      <th>19</th>\n",
       "      <td>2055</td>\n",
       "    </tr>\n",
       "    <tr>\n",
       "      <th>20</th>\n",
       "      <td>376</td>\n",
       "    </tr>\n",
       "    <tr>\n",
       "      <th>21</th>\n",
       "      <td>2382</td>\n",
       "    </tr>\n",
       "    <tr>\n",
       "      <th>22</th>\n",
       "      <td>1011</td>\n",
       "    </tr>\n",
       "    <tr>\n",
       "      <th>23</th>\n",
       "      <td>393</td>\n",
       "    </tr>\n",
       "    <tr>\n",
       "      <th>24</th>\n",
       "      <td>816</td>\n",
       "    </tr>\n",
       "    <tr>\n",
       "      <th>25</th>\n",
       "      <td>2103</td>\n",
       "    </tr>\n",
       "    <tr>\n",
       "      <th>26</th>\n",
       "      <td>234</td>\n",
       "    </tr>\n",
       "    <tr>\n",
       "      <th>27</th>\n",
       "      <td>166</td>\n",
       "    </tr>\n",
       "    <tr>\n",
       "      <th>28</th>\n",
       "      <td>312</td>\n",
       "    </tr>\n",
       "    <tr>\n",
       "      <th>29</th>\n",
       "      <td>897</td>\n",
       "    </tr>\n",
       "    <tr>\n",
       "      <th>30</th>\n",
       "      <td>102</td>\n",
       "    </tr>\n",
       "    <tr>\n",
       "      <th>...</th>\n",
       "      <td>...</td>\n",
       "    </tr>\n",
       "    <tr>\n",
       "      <th>128991</th>\n",
       "      <td>1</td>\n",
       "    </tr>\n",
       "    <tr>\n",
       "      <th>129030</th>\n",
       "      <td>1</td>\n",
       "    </tr>\n",
       "    <tr>\n",
       "      <th>129034</th>\n",
       "      <td>1</td>\n",
       "    </tr>\n",
       "    <tr>\n",
       "      <th>129036</th>\n",
       "      <td>1</td>\n",
       "    </tr>\n",
       "    <tr>\n",
       "      <th>129068</th>\n",
       "      <td>1</td>\n",
       "    </tr>\n",
       "    <tr>\n",
       "      <th>129233</th>\n",
       "      <td>1</td>\n",
       "    </tr>\n",
       "    <tr>\n",
       "      <th>129235</th>\n",
       "      <td>1</td>\n",
       "    </tr>\n",
       "    <tr>\n",
       "      <th>129303</th>\n",
       "      <td>1</td>\n",
       "    </tr>\n",
       "    <tr>\n",
       "      <th>129350</th>\n",
       "      <td>1</td>\n",
       "    </tr>\n",
       "    <tr>\n",
       "      <th>129354</th>\n",
       "      <td>1</td>\n",
       "    </tr>\n",
       "    <tr>\n",
       "      <th>129428</th>\n",
       "      <td>4</td>\n",
       "    </tr>\n",
       "    <tr>\n",
       "      <th>129530</th>\n",
       "      <td>1</td>\n",
       "    </tr>\n",
       "    <tr>\n",
       "      <th>129659</th>\n",
       "      <td>1</td>\n",
       "    </tr>\n",
       "    <tr>\n",
       "      <th>129707</th>\n",
       "      <td>1</td>\n",
       "    </tr>\n",
       "    <tr>\n",
       "      <th>129786</th>\n",
       "      <td>1</td>\n",
       "    </tr>\n",
       "    <tr>\n",
       "      <th>129788</th>\n",
       "      <td>1</td>\n",
       "    </tr>\n",
       "    <tr>\n",
       "      <th>129822</th>\n",
       "      <td>1</td>\n",
       "    </tr>\n",
       "    <tr>\n",
       "      <th>129857</th>\n",
       "      <td>1</td>\n",
       "    </tr>\n",
       "    <tr>\n",
       "      <th>130052</th>\n",
       "      <td>1</td>\n",
       "    </tr>\n",
       "    <tr>\n",
       "      <th>130069</th>\n",
       "      <td>1</td>\n",
       "    </tr>\n",
       "    <tr>\n",
       "      <th>130073</th>\n",
       "      <td>3</td>\n",
       "    </tr>\n",
       "    <tr>\n",
       "      <th>130075</th>\n",
       "      <td>1</td>\n",
       "    </tr>\n",
       "    <tr>\n",
       "      <th>130219</th>\n",
       "      <td>1</td>\n",
       "    </tr>\n",
       "    <tr>\n",
       "      <th>130462</th>\n",
       "      <td>1</td>\n",
       "    </tr>\n",
       "    <tr>\n",
       "      <th>130490</th>\n",
       "      <td>2</td>\n",
       "    </tr>\n",
       "    <tr>\n",
       "      <th>130496</th>\n",
       "      <td>1</td>\n",
       "    </tr>\n",
       "    <tr>\n",
       "      <th>130512</th>\n",
       "      <td>1</td>\n",
       "    </tr>\n",
       "    <tr>\n",
       "      <th>130642</th>\n",
       "      <td>1</td>\n",
       "    </tr>\n",
       "    <tr>\n",
       "      <th>130644</th>\n",
       "      <td>1</td>\n",
       "    </tr>\n",
       "    <tr>\n",
       "      <th>130768</th>\n",
       "      <td>1</td>\n",
       "    </tr>\n",
       "  </tbody>\n",
       "</table>\n",
       "<p>16715 rows × 1 columns</p>\n",
       "</div>"
      ],
      "text/plain": [
       "         rating\n",
       "movieId        \n",
       "1          4883\n",
       "2          2209\n",
       "3          1256\n",
       "4           272\n",
       "5          1227\n",
       "6          2390\n",
       "7          1290\n",
       "8           148\n",
       "9           379\n",
       "10         2900\n",
       "11         1735\n",
       "12          373\n",
       "13          148\n",
       "14          580\n",
       "15          297\n",
       "16         1800\n",
       "17         2092\n",
       "18          501\n",
       "19         2055\n",
       "20          376\n",
       "21         2382\n",
       "22         1011\n",
       "23          393\n",
       "24          816\n",
       "25         2103\n",
       "26          234\n",
       "27          166\n",
       "28          312\n",
       "29          897\n",
       "30          102\n",
       "...         ...\n",
       "128991        1\n",
       "129030        1\n",
       "129034        1\n",
       "129036        1\n",
       "129068        1\n",
       "129233        1\n",
       "129235        1\n",
       "129303        1\n",
       "129350        1\n",
       "129354        1\n",
       "129428        4\n",
       "129530        1\n",
       "129659        1\n",
       "129707        1\n",
       "129786        1\n",
       "129788        1\n",
       "129822        1\n",
       "129857        1\n",
       "130052        1\n",
       "130069        1\n",
       "130073        3\n",
       "130075        1\n",
       "130219        1\n",
       "130462        1\n",
       "130490        2\n",
       "130496        1\n",
       "130512        1\n",
       "130642        1\n",
       "130644        1\n",
       "130768        1\n",
       "\n",
       "[16715 rows x 1 columns]"
      ]
     },
     "execution_count": 54,
     "metadata": {},
     "output_type": "execute_result"
    }
   ],
   "source": [
    "ratings_count"
   ]
  },
  {
   "cell_type": "code",
   "execution_count": 37,
   "metadata": {
    "collapsed": false
   },
   "outputs": [
    {
     "data": {
      "text/plain": [
       "movieId    557816\n",
       "Name: 4.0, dtype: int64"
      ]
     },
     "execution_count": 37,
     "metadata": {},
     "output_type": "execute_result"
    }
   ],
   "source": [
    "ratings_count.iloc[7]"
   ]
  },
  {
   "cell_type": "code",
   "execution_count": 38,
   "metadata": {
    "collapsed": false
   },
   "outputs": [
    {
     "data": {
      "text/html": [
       "<div>\n",
       "<table border=\"1\" class=\"dataframe\">\n",
       "  <thead>\n",
       "    <tr style=\"text-align: right;\">\n",
       "      <th></th>\n",
       "      <th>movieId</th>\n",
       "    </tr>\n",
       "    <tr>\n",
       "      <th>rating</th>\n",
       "      <th></th>\n",
       "    </tr>\n",
       "  </thead>\n",
       "  <tbody>\n",
       "    <tr>\n",
       "      <th>3.0</th>\n",
       "      <td>432669</td>\n",
       "    </tr>\n",
       "    <tr>\n",
       "      <th>3.5</th>\n",
       "      <td>217863</td>\n",
       "    </tr>\n",
       "    <tr>\n",
       "      <th>4.0</th>\n",
       "      <td>557816</td>\n",
       "    </tr>\n",
       "    <tr>\n",
       "      <th>4.5</th>\n",
       "      <td>151291</td>\n",
       "    </tr>\n",
       "    <tr>\n",
       "      <th>5.0</th>\n",
       "      <td>285563</td>\n",
       "    </tr>\n",
       "  </tbody>\n",
       "</table>\n",
       "</div>"
      ],
      "text/plain": [
       "        movieId\n",
       "rating         \n",
       "3.0      432669\n",
       "3.5      217863\n",
       "4.0      557816\n",
       "4.5      151291\n",
       "5.0      285563"
      ]
     },
     "execution_count": 38,
     "metadata": {},
     "output_type": "execute_result"
    }
   ],
   "source": [
    "ratings_count[3:7]"
   ]
  },
  {
   "cell_type": "code",
   "execution_count": 16,
   "metadata": {
    "collapsed": false
   },
   "outputs": [
    {
     "data": {
      "text/plain": [
       "4.0    557816\n",
       "3.0    432669\n",
       "5.0    285563\n",
       "3.5    217863\n",
       "4.5    151291\n",
       "2.0    146105\n",
       "2.5     89328\n",
       "1.0     68420\n",
       "1.5     27518\n",
       "0.5     23427\n",
       "Name: rating, dtype: int64"
      ]
     },
     "execution_count": 16,
     "metadata": {},
     "output_type": "execute_result"
    }
   ],
   "source": [
    "ratings.rating.value_counts()"
   ]
  },
  {
   "cell_type": "code",
   "execution_count": 15,
   "metadata": {
    "collapsed": false
   },
   "outputs": [
    {
     "data": {
      "text/plain": [
       "296       6688\n",
       "356       6599\n",
       "593       6221\n",
       "318       6199\n",
       "480       5943\n",
       "260       5443\n",
       "110       5329\n",
       "589       5267\n",
       "2571      5105\n",
       "527       4969\n",
       "457       4960\n",
       "1         4883\n",
       "150       4773\n",
       "780       4711\n",
       "1210      4692\n",
       "50        4661\n",
       "592       4580\n",
       "1196      4556\n",
       "2858      4480\n",
       "32        4431\n",
       "1198      4372\n",
       "590       4359\n",
       "608       4342\n",
       "380       4303\n",
       "47        4275\n",
       "377       4185\n",
       "1270      4139\n",
       "588       4135\n",
       "858       4113\n",
       "2959      3930\n",
       "          ... \n",
       "27344        1\n",
       "88299        1\n",
       "88572        1\n",
       "74226        1\n",
       "26074        1\n",
       "79344        1\n",
       "72929        1\n",
       "52443        1\n",
       "99054        1\n",
       "116668       1\n",
       "49615        1\n",
       "69856        1\n",
       "95147        1\n",
       "55199        1\n",
       "121324       1\n",
       "27347        1\n",
       "106421       1\n",
       "118254       1\n",
       "77298        1\n",
       "87549        1\n",
       "27093        1\n",
       "69372        1\n",
       "89846        1\n",
       "106222       1\n",
       "81825        1\n",
       "77731        1\n",
       "99568        1\n",
       "72931        1\n",
       "98217        1\n",
       "108696       1\n",
       "Name: movieId, dtype: int64"
      ]
     },
     "execution_count": 15,
     "metadata": {},
     "output_type": "execute_result"
    }
   ],
   "source": [
    "ratings.movieId.value_counts()"
   ]
  },
  {
   "cell_type": "code",
   "execution_count": 25,
   "metadata": {
    "collapsed": false
   },
   "outputs": [
    {
     "data": {
      "text/html": [
       "<div>\n",
       "<table border=\"1\" class=\"dataframe\">\n",
       "  <thead>\n",
       "    <tr style=\"text-align: right;\">\n",
       "      <th></th>\n",
       "      <th>rating</th>\n",
       "    </tr>\n",
       "    <tr>\n",
       "      <th>movieId</th>\n",
       "      <th></th>\n",
       "    </tr>\n",
       "  </thead>\n",
       "  <tbody>\n",
       "    <tr>\n",
       "      <th>130496</th>\n",
       "      <td>1.5</td>\n",
       "    </tr>\n",
       "    <tr>\n",
       "      <th>130512</th>\n",
       "      <td>3.5</td>\n",
       "    </tr>\n",
       "    <tr>\n",
       "      <th>130642</th>\n",
       "      <td>3.0</td>\n",
       "    </tr>\n",
       "    <tr>\n",
       "      <th>130644</th>\n",
       "      <td>5.0</td>\n",
       "    </tr>\n",
       "    <tr>\n",
       "      <th>130768</th>\n",
       "      <td>2.5</td>\n",
       "    </tr>\n",
       "  </tbody>\n",
       "</table>\n",
       "</div>"
      ],
      "text/plain": [
       "         rating\n",
       "movieId        \n",
       "130496      1.5\n",
       "130512      3.5\n",
       "130642      3.0\n",
       "130644      5.0\n",
       "130768      2.5"
      ]
     },
     "execution_count": 25,
     "metadata": {},
     "output_type": "execute_result"
    }
   ],
   "source": [
    "average_rating= ratings[['movieId','rating']].groupby('movieId').mean()\n",
    "average_rating.tail()"
   ]
  },
  {
   "cell_type": "code",
   "execution_count": 29,
   "metadata": {
    "collapsed": false
   },
   "outputs": [
    {
     "data": {
      "text/html": [
       "<div>\n",
       "<table border=\"1\" class=\"dataframe\">\n",
       "  <thead>\n",
       "    <tr style=\"text-align: right;\">\n",
       "      <th></th>\n",
       "      <th>rating</th>\n",
       "    </tr>\n",
       "    <tr>\n",
       "      <th>movieId</th>\n",
       "      <th></th>\n",
       "    </tr>\n",
       "  </thead>\n",
       "  <tbody>\n",
       "    <tr>\n",
       "      <th>1</th>\n",
       "      <td>3.927504</td>\n",
       "    </tr>\n",
       "    <tr>\n",
       "      <th>2</th>\n",
       "      <td>3.226347</td>\n",
       "    </tr>\n",
       "    <tr>\n",
       "      <th>3</th>\n",
       "      <td>3.157245</td>\n",
       "    </tr>\n",
       "    <tr>\n",
       "      <th>4</th>\n",
       "      <td>2.952206</td>\n",
       "    </tr>\n",
       "    <tr>\n",
       "      <th>5</th>\n",
       "      <td>3.096985</td>\n",
       "    </tr>\n",
       "  </tbody>\n",
       "</table>\n",
       "</div>"
      ],
      "text/plain": [
       "           rating\n",
       "movieId          \n",
       "1        3.927504\n",
       "2        3.226347\n",
       "3        3.157245\n",
       "4        2.952206\n",
       "5        3.096985"
      ]
     },
     "execution_count": 29,
     "metadata": {},
     "output_type": "execute_result"
    }
   ],
   "source": [
    "average_rating.head()"
   ]
  },
  {
   "cell_type": "code",
   "execution_count": 22,
   "metadata": {
    "collapsed": false
   },
   "outputs": [
    {
     "data": {
      "text/plain": [
       "4.0    557816\n",
       "3.0    432669\n",
       "5.0    285563\n",
       "3.5    217863\n",
       "4.5    151291\n",
       "2.0    146105\n",
       "2.5     89328\n",
       "1.0     68420\n",
       "1.5     27518\n",
       "0.5     23427\n",
       "Name: rating, dtype: int64"
      ]
     },
     "execution_count": 22,
     "metadata": {},
     "output_type": "execute_result"
    }
   ],
   "source": [
    "ratings.rating.value_counts()"
   ]
  },
  {
   "cell_type": "code",
   "execution_count": 26,
   "metadata": {
    "collapsed": false
   },
   "outputs": [
    {
     "data": {
      "text/html": [
       "<div>\n",
       "<table border=\"1\" class=\"dataframe\">\n",
       "  <thead>\n",
       "    <tr style=\"text-align: right;\">\n",
       "      <th></th>\n",
       "      <th>rating</th>\n",
       "    </tr>\n",
       "    <tr>\n",
       "      <th>movieId</th>\n",
       "      <th></th>\n",
       "    </tr>\n",
       "  </thead>\n",
       "  <tbody>\n",
       "    <tr>\n",
       "      <th>1</th>\n",
       "      <td>3.927504</td>\n",
       "    </tr>\n",
       "    <tr>\n",
       "      <th>2</th>\n",
       "      <td>3.226347</td>\n",
       "    </tr>\n",
       "    <tr>\n",
       "      <th>3</th>\n",
       "      <td>3.157245</td>\n",
       "    </tr>\n",
       "    <tr>\n",
       "      <th>4</th>\n",
       "      <td>2.952206</td>\n",
       "    </tr>\n",
       "    <tr>\n",
       "      <th>5</th>\n",
       "      <td>3.096985</td>\n",
       "    </tr>\n",
       "  </tbody>\n",
       "</table>\n",
       "</div>"
      ],
      "text/plain": [
       "           rating\n",
       "movieId          \n",
       "1        3.927504\n",
       "2        3.226347\n",
       "3        3.157245\n",
       "4        2.952206\n",
       "5        3.096985"
      ]
     },
     "execution_count": 26,
     "metadata": {},
     "output_type": "execute_result"
    }
   ],
   "source": [
    "average_rating.head()"
   ]
  },
  {
   "cell_type": "code",
   "execution_count": 28,
   "metadata": {
    "collapsed": false
   },
   "outputs": [
    {
     "data": {
      "text/html": [
       "<div>\n",
       "<table border=\"1\" class=\"dataframe\">\n",
       "  <thead>\n",
       "    <tr style=\"text-align: right;\">\n",
       "      <th></th>\n",
       "      <th>rating</th>\n",
       "    </tr>\n",
       "    <tr>\n",
       "      <th>movieId</th>\n",
       "      <th></th>\n",
       "    </tr>\n",
       "  </thead>\n",
       "  <tbody>\n",
       "    <tr>\n",
       "      <th>1</th>\n",
       "      <td>4883</td>\n",
       "    </tr>\n",
       "    <tr>\n",
       "      <th>2</th>\n",
       "      <td>2209</td>\n",
       "    </tr>\n",
       "    <tr>\n",
       "      <th>3</th>\n",
       "      <td>1256</td>\n",
       "    </tr>\n",
       "    <tr>\n",
       "      <th>4</th>\n",
       "      <td>272</td>\n",
       "    </tr>\n",
       "    <tr>\n",
       "      <th>5</th>\n",
       "      <td>1227</td>\n",
       "    </tr>\n",
       "    <tr>\n",
       "      <th>6</th>\n",
       "      <td>2390</td>\n",
       "    </tr>\n",
       "    <tr>\n",
       "      <th>7</th>\n",
       "      <td>1290</td>\n",
       "    </tr>\n",
       "    <tr>\n",
       "      <th>8</th>\n",
       "      <td>148</td>\n",
       "    </tr>\n",
       "    <tr>\n",
       "      <th>9</th>\n",
       "      <td>379</td>\n",
       "    </tr>\n",
       "    <tr>\n",
       "      <th>10</th>\n",
       "      <td>2900</td>\n",
       "    </tr>\n",
       "  </tbody>\n",
       "</table>\n",
       "</div>"
      ],
      "text/plain": [
       "         rating\n",
       "movieId        \n",
       "1          4883\n",
       "2          2209\n",
       "3          1256\n",
       "4           272\n",
       "5          1227\n",
       "6          2390\n",
       "7          1290\n",
       "8           148\n",
       "9           379\n",
       "10         2900"
      ]
     },
     "execution_count": 28,
     "metadata": {},
     "output_type": "execute_result"
    }
   ],
   "source": [
    "movie_count = ratings[['movieId','rating']].groupby('movieId').count()\n",
    "movie_count.head(10)"
   ]
  },
  {
   "cell_type": "code",
   "execution_count": 56,
   "metadata": {
    "collapsed": false
   },
   "outputs": [
    {
     "data": {
      "text/html": [
       "<div>\n",
       "<table border=\"1\" class=\"dataframe\">\n",
       "  <thead>\n",
       "    <tr style=\"text-align: right;\">\n",
       "      <th></th>\n",
       "      <th>rating</th>\n",
       "    </tr>\n",
       "    <tr>\n",
       "      <th>movieId</th>\n",
       "      <th></th>\n",
       "    </tr>\n",
       "  </thead>\n",
       "  <tbody>\n",
       "    <tr>\n",
       "      <th>1</th>\n",
       "      <td>3.927504</td>\n",
       "    </tr>\n",
       "    <tr>\n",
       "      <th>2</th>\n",
       "      <td>3.226347</td>\n",
       "    </tr>\n",
       "    <tr>\n",
       "      <th>3</th>\n",
       "      <td>3.157245</td>\n",
       "    </tr>\n",
       "    <tr>\n",
       "      <th>4</th>\n",
       "      <td>2.952206</td>\n",
       "    </tr>\n",
       "    <tr>\n",
       "      <th>5</th>\n",
       "      <td>3.096985</td>\n",
       "    </tr>\n",
       "    <tr>\n",
       "      <th>6</th>\n",
       "      <td>3.834100</td>\n",
       "    </tr>\n",
       "    <tr>\n",
       "      <th>7</th>\n",
       "      <td>3.370930</td>\n",
       "    </tr>\n",
       "    <tr>\n",
       "      <th>8</th>\n",
       "      <td>3.219595</td>\n",
       "    </tr>\n",
       "    <tr>\n",
       "      <th>9</th>\n",
       "      <td>2.941953</td>\n",
       "    </tr>\n",
       "    <tr>\n",
       "      <th>10</th>\n",
       "      <td>3.406724</td>\n",
       "    </tr>\n",
       "  </tbody>\n",
       "</table>\n",
       "</div>"
      ],
      "text/plain": [
       "           rating\n",
       "movieId          \n",
       "1        3.927504\n",
       "2        3.226347\n",
       "3        3.157245\n",
       "4        2.952206\n",
       "5        3.096985\n",
       "6        3.834100\n",
       "7        3.370930\n",
       "8        3.219595\n",
       "9        2.941953\n",
       "10       3.406724"
      ]
     },
     "execution_count": 56,
     "metadata": {},
     "output_type": "execute_result"
    }
   ],
   "source": [
    "movie_count = ratings[['movieId','rating']].groupby('movieId').mean()\n",
    "movie_count.head(10)"
   ]
  },
  {
   "cell_type": "code",
   "execution_count": 67,
   "metadata": {
    "collapsed": false
   },
   "outputs": [
    {
     "data": {
      "text/html": [
       "<div>\n",
       "<table border=\"1\" class=\"dataframe\">\n",
       "  <thead>\n",
       "    <tr style=\"text-align: right;\">\n",
       "      <th></th>\n",
       "      <th>star_rating</th>\n",
       "    </tr>\n",
       "    <tr>\n",
       "      <th>genre</th>\n",
       "      <th></th>\n",
       "    </tr>\n",
       "  </thead>\n",
       "  <tbody>\n",
       "    <tr>\n",
       "      <th>Action</th>\n",
       "      <td>7.884559</td>\n",
       "    </tr>\n",
       "    <tr>\n",
       "      <th>Adventure</th>\n",
       "      <td>7.933333</td>\n",
       "    </tr>\n",
       "    <tr>\n",
       "      <th>Animation</th>\n",
       "      <td>7.914516</td>\n",
       "    </tr>\n",
       "    <tr>\n",
       "      <th>Biography</th>\n",
       "      <td>7.862338</td>\n",
       "    </tr>\n",
       "    <tr>\n",
       "      <th>Comedy</th>\n",
       "      <td>7.822436</td>\n",
       "    </tr>\n",
       "    <tr>\n",
       "      <th>Crime</th>\n",
       "      <td>7.916935</td>\n",
       "    </tr>\n",
       "    <tr>\n",
       "      <th>Drama</th>\n",
       "      <td>7.902518</td>\n",
       "    </tr>\n",
       "    <tr>\n",
       "      <th>Family</th>\n",
       "      <td>7.850000</td>\n",
       "    </tr>\n",
       "    <tr>\n",
       "      <th>Fantasy</th>\n",
       "      <td>7.700000</td>\n",
       "    </tr>\n",
       "    <tr>\n",
       "      <th>Film-Noir</th>\n",
       "      <td>8.033333</td>\n",
       "    </tr>\n",
       "    <tr>\n",
       "      <th>History</th>\n",
       "      <td>8.000000</td>\n",
       "    </tr>\n",
       "    <tr>\n",
       "      <th>Horror</th>\n",
       "      <td>7.806897</td>\n",
       "    </tr>\n",
       "    <tr>\n",
       "      <th>Mystery</th>\n",
       "      <td>7.975000</td>\n",
       "    </tr>\n",
       "    <tr>\n",
       "      <th>Sci-Fi</th>\n",
       "      <td>7.920000</td>\n",
       "    </tr>\n",
       "    <tr>\n",
       "      <th>Thriller</th>\n",
       "      <td>7.680000</td>\n",
       "    </tr>\n",
       "    <tr>\n",
       "      <th>Western</th>\n",
       "      <td>8.255556</td>\n",
       "    </tr>\n",
       "  </tbody>\n",
       "</table>\n",
       "</div>"
      ],
      "text/plain": [
       "           star_rating\n",
       "genre                 \n",
       "Action        7.884559\n",
       "Adventure     7.933333\n",
       "Animation     7.914516\n",
       "Biography     7.862338\n",
       "Comedy        7.822436\n",
       "Crime         7.916935\n",
       "Drama         7.902518\n",
       "Family        7.850000\n",
       "Fantasy       7.700000\n",
       "Film-Noir     8.033333\n",
       "History       8.000000\n",
       "Horror        7.806897\n",
       "Mystery       7.975000\n",
       "Sci-Fi        7.920000\n",
       "Thriller      7.680000\n",
       "Western       8.255556"
      ]
     },
     "execution_count": 67,
     "metadata": {},
     "output_type": "execute_result"
    }
   ],
   "source": [
    "rat_ave = movies[['genre','star_rating']].groupby('genre').mean()\n",
    "rat_ave"
   ]
  },
  {
   "cell_type": "code",
   "execution_count": 30,
   "metadata": {
    "collapsed": false
   },
   "outputs": [
    {
     "data": {
      "text/html": [
       "<div>\n",
       "<table border=\"1\" class=\"dataframe\">\n",
       "  <thead>\n",
       "    <tr style=\"text-align: right;\">\n",
       "      <th></th>\n",
       "      <th>Unnamed: 0</th>\n",
       "      <th>star_rating</th>\n",
       "      <th>title</th>\n",
       "      <th>content_rating</th>\n",
       "      <th>genre</th>\n",
       "      <th>duration</th>\n",
       "      <th>actors_list</th>\n",
       "    </tr>\n",
       "  </thead>\n",
       "  <tbody>\n",
       "    <tr>\n",
       "      <th>0</th>\n",
       "      <td>0</td>\n",
       "      <td>9.3</td>\n",
       "      <td>The Shawshank Redemption</td>\n",
       "      <td>R</td>\n",
       "      <td>Crime</td>\n",
       "      <td>142</td>\n",
       "      <td>[u'Tim Robbins', u'Morgan Freeman', u'Bob Gunt...</td>\n",
       "    </tr>\n",
       "    <tr>\n",
       "      <th>1</th>\n",
       "      <td>1</td>\n",
       "      <td>9.2</td>\n",
       "      <td>The Godfather</td>\n",
       "      <td>R</td>\n",
       "      <td>Crime</td>\n",
       "      <td>175</td>\n",
       "      <td>[u'Marlon Brando', u'Al Pacino', u'James Caan']</td>\n",
       "    </tr>\n",
       "    <tr>\n",
       "      <th>2</th>\n",
       "      <td>2</td>\n",
       "      <td>9.1</td>\n",
       "      <td>The Godfather: Part II</td>\n",
       "      <td>R</td>\n",
       "      <td>Crime</td>\n",
       "      <td>200</td>\n",
       "      <td>[u'Al Pacino', u'Robert De Niro', u'Robert Duv...</td>\n",
       "    </tr>\n",
       "    <tr>\n",
       "      <th>3</th>\n",
       "      <td>3</td>\n",
       "      <td>9.0</td>\n",
       "      <td>The Dark Knight</td>\n",
       "      <td>PG-13</td>\n",
       "      <td>Action</td>\n",
       "      <td>152</td>\n",
       "      <td>[u'Christian Bale', u'Heath Ledger', u'Aaron E...</td>\n",
       "    </tr>\n",
       "    <tr>\n",
       "      <th>4</th>\n",
       "      <td>4</td>\n",
       "      <td>8.9</td>\n",
       "      <td>Pulp Fiction</td>\n",
       "      <td>R</td>\n",
       "      <td>Crime</td>\n",
       "      <td>154</td>\n",
       "      <td>[u'John Travolta', u'Uma Thurman', u'Samuel L....</td>\n",
       "    </tr>\n",
       "  </tbody>\n",
       "</table>\n",
       "</div>"
      ],
      "text/plain": [
       "   Unnamed: 0  star_rating                     title content_rating   genre  \\\n",
       "0           0          9.3  The Shawshank Redemption              R   Crime   \n",
       "1           1          9.2             The Godfather              R   Crime   \n",
       "2           2          9.1    The Godfather: Part II              R   Crime   \n",
       "3           3          9.0           The Dark Knight          PG-13  Action   \n",
       "4           4          8.9              Pulp Fiction              R   Crime   \n",
       "\n",
       "   duration                                        actors_list  \n",
       "0       142  [u'Tim Robbins', u'Morgan Freeman', u'Bob Gunt...  \n",
       "1       175    [u'Marlon Brando', u'Al Pacino', u'James Caan']  \n",
       "2       200  [u'Al Pacino', u'Robert De Niro', u'Robert Duv...  \n",
       "3       152  [u'Christian Bale', u'Heath Ledger', u'Aaron E...  \n",
       "4       154  [u'John Travolta', u'Uma Thurman', u'Samuel L....  "
      ]
     },
     "execution_count": 30,
     "metadata": {},
     "output_type": "execute_result"
    }
   ],
   "source": [
    "movies.head()"
   ]
  },
  {
   "cell_type": "code",
   "execution_count": 32,
   "metadata": {
    "collapsed": false
   },
   "outputs": [
    {
     "data": {
      "text/html": [
       "<div>\n",
       "<table border=\"1\" class=\"dataframe\">\n",
       "  <thead>\n",
       "    <tr style=\"text-align: right;\">\n",
       "      <th></th>\n",
       "      <th>star_rating</th>\n",
       "    </tr>\n",
       "    <tr>\n",
       "      <th>genre</th>\n",
       "      <th></th>\n",
       "    </tr>\n",
       "  </thead>\n",
       "  <tbody>\n",
       "    <tr>\n",
       "      <th>Action</th>\n",
       "      <td>7.884559</td>\n",
       "    </tr>\n",
       "    <tr>\n",
       "      <th>Adventure</th>\n",
       "      <td>7.933333</td>\n",
       "    </tr>\n",
       "    <tr>\n",
       "      <th>Animation</th>\n",
       "      <td>7.914516</td>\n",
       "    </tr>\n",
       "    <tr>\n",
       "      <th>Biography</th>\n",
       "      <td>7.862338</td>\n",
       "    </tr>\n",
       "    <tr>\n",
       "      <th>Comedy</th>\n",
       "      <td>7.822436</td>\n",
       "    </tr>\n",
       "    <tr>\n",
       "      <th>Crime</th>\n",
       "      <td>7.916935</td>\n",
       "    </tr>\n",
       "    <tr>\n",
       "      <th>Drama</th>\n",
       "      <td>7.902518</td>\n",
       "    </tr>\n",
       "    <tr>\n",
       "      <th>Family</th>\n",
       "      <td>7.850000</td>\n",
       "    </tr>\n",
       "    <tr>\n",
       "      <th>Fantasy</th>\n",
       "      <td>7.700000</td>\n",
       "    </tr>\n",
       "    <tr>\n",
       "      <th>Film-Noir</th>\n",
       "      <td>8.033333</td>\n",
       "    </tr>\n",
       "  </tbody>\n",
       "</table>\n",
       "</div>"
      ],
      "text/plain": [
       "           star_rating\n",
       "genre                 \n",
       "Action        7.884559\n",
       "Adventure     7.933333\n",
       "Animation     7.914516\n",
       "Biography     7.862338\n",
       "Comedy        7.822436\n",
       "Crime         7.916935\n",
       "Drama         7.902518\n",
       "Family        7.850000\n",
       "Fantasy       7.700000\n",
       "Film-Noir     8.033333"
      ]
     },
     "execution_count": 32,
     "metadata": {},
     "output_type": "execute_result"
    }
   ],
   "source": [
    "movies[['star_rating','genre']].groupby('genre').mean().head(10)"
   ]
  },
  {
   "cell_type": "code",
   "execution_count": 35,
   "metadata": {
    "collapsed": false
   },
   "outputs": [
    {
     "data": {
      "text/html": [
       "<div>\n",
       "<table border=\"1\" class=\"dataframe\">\n",
       "  <thead>\n",
       "    <tr style=\"text-align: right;\">\n",
       "      <th></th>\n",
       "      <th>star_rating</th>\n",
       "    </tr>\n",
       "    <tr>\n",
       "      <th>genre</th>\n",
       "      <th></th>\n",
       "    </tr>\n",
       "  </thead>\n",
       "  <tbody>\n",
       "    <tr>\n",
       "      <th>Action</th>\n",
       "      <td>136</td>\n",
       "    </tr>\n",
       "    <tr>\n",
       "      <th>Adventure</th>\n",
       "      <td>75</td>\n",
       "    </tr>\n",
       "    <tr>\n",
       "      <th>Animation</th>\n",
       "      <td>62</td>\n",
       "    </tr>\n",
       "    <tr>\n",
       "      <th>Biography</th>\n",
       "      <td>77</td>\n",
       "    </tr>\n",
       "    <tr>\n",
       "      <th>Comedy</th>\n",
       "      <td>156</td>\n",
       "    </tr>\n",
       "    <tr>\n",
       "      <th>Crime</th>\n",
       "      <td>124</td>\n",
       "    </tr>\n",
       "    <tr>\n",
       "      <th>Drama</th>\n",
       "      <td>278</td>\n",
       "    </tr>\n",
       "    <tr>\n",
       "      <th>Family</th>\n",
       "      <td>2</td>\n",
       "    </tr>\n",
       "    <tr>\n",
       "      <th>Fantasy</th>\n",
       "      <td>1</td>\n",
       "    </tr>\n",
       "    <tr>\n",
       "      <th>Film-Noir</th>\n",
       "      <td>3</td>\n",
       "    </tr>\n",
       "    <tr>\n",
       "      <th>History</th>\n",
       "      <td>1</td>\n",
       "    </tr>\n",
       "    <tr>\n",
       "      <th>Horror</th>\n",
       "      <td>29</td>\n",
       "    </tr>\n",
       "    <tr>\n",
       "      <th>Mystery</th>\n",
       "      <td>16</td>\n",
       "    </tr>\n",
       "    <tr>\n",
       "      <th>Sci-Fi</th>\n",
       "      <td>5</td>\n",
       "    </tr>\n",
       "    <tr>\n",
       "      <th>Thriller</th>\n",
       "      <td>5</td>\n",
       "    </tr>\n",
       "    <tr>\n",
       "      <th>Western</th>\n",
       "      <td>9</td>\n",
       "    </tr>\n",
       "  </tbody>\n",
       "</table>\n",
       "</div>"
      ],
      "text/plain": [
       "           star_rating\n",
       "genre                 \n",
       "Action             136\n",
       "Adventure           75\n",
       "Animation           62\n",
       "Biography           77\n",
       "Comedy             156\n",
       "Crime              124\n",
       "Drama              278\n",
       "Family               2\n",
       "Fantasy              1\n",
       "Film-Noir            3\n",
       "History              1\n",
       "Horror              29\n",
       "Mystery             16\n",
       "Sci-Fi               5\n",
       "Thriller             5\n",
       "Western              9"
      ]
     },
     "execution_count": 35,
     "metadata": {},
     "output_type": "execute_result"
    }
   ],
   "source": [
    "movies[['star_rating','genre']].groupby('genre').count()"
   ]
  },
  {
   "cell_type": "code",
   "execution_count": 36,
   "metadata": {
    "collapsed": false
   },
   "outputs": [
    {
     "ename": "DataError",
     "evalue": "No numeric types to aggregate",
     "output_type": "error",
     "traceback": [
      "\u001b[0;31m---------------------------------------------------------------------------\u001b[0m",
      "\u001b[0;31mDataError\u001b[0m                                 Traceback (most recent call last)",
      "\u001b[0;32m<ipython-input-36-52fb7c69cd93>\u001b[0m in \u001b[0;36m<module>\u001b[0;34m()\u001b[0m\n\u001b[0;32m----> 1\u001b[0;31m \u001b[0mmovies\u001b[0m\u001b[1;33m[\u001b[0m\u001b[1;33m[\u001b[0m\u001b[1;34m'star_rating'\u001b[0m\u001b[1;33m,\u001b[0m\u001b[1;34m'genre'\u001b[0m\u001b[1;33m]\u001b[0m\u001b[1;33m]\u001b[0m\u001b[1;33m.\u001b[0m\u001b[0mgroupby\u001b[0m\u001b[1;33m(\u001b[0m\u001b[1;34m'star_rating'\u001b[0m\u001b[1;33m)\u001b[0m\u001b[1;33m.\u001b[0m\u001b[0mmean\u001b[0m\u001b[1;33m(\u001b[0m\u001b[1;33m)\u001b[0m\u001b[1;33m\u001b[0m\u001b[0m\n\u001b[0m",
      "\u001b[0;32mD:\\algorithms\\anaconda\\lib\\site-packages\\pandas\\core\\groupby.pyc\u001b[0m in \u001b[0;36mmean\u001b[0;34m(self, *args, **kwargs)\u001b[0m\n\u001b[1;32m   1017\u001b[0m         \u001b[0mnv\u001b[0m\u001b[1;33m.\u001b[0m\u001b[0mvalidate_groupby_func\u001b[0m\u001b[1;33m(\u001b[0m\u001b[1;34m'mean'\u001b[0m\u001b[1;33m,\u001b[0m \u001b[0margs\u001b[0m\u001b[1;33m,\u001b[0m \u001b[0mkwargs\u001b[0m\u001b[1;33m)\u001b[0m\u001b[1;33m\u001b[0m\u001b[0m\n\u001b[1;32m   1018\u001b[0m         \u001b[1;32mtry\u001b[0m\u001b[1;33m:\u001b[0m\u001b[1;33m\u001b[0m\u001b[0m\n\u001b[0;32m-> 1019\u001b[0;31m             \u001b[1;32mreturn\u001b[0m \u001b[0mself\u001b[0m\u001b[1;33m.\u001b[0m\u001b[0m_cython_agg_general\u001b[0m\u001b[1;33m(\u001b[0m\u001b[1;34m'mean'\u001b[0m\u001b[1;33m)\u001b[0m\u001b[1;33m\u001b[0m\u001b[0m\n\u001b[0m\u001b[1;32m   1020\u001b[0m         \u001b[1;32mexcept\u001b[0m \u001b[0mGroupByError\u001b[0m\u001b[1;33m:\u001b[0m\u001b[1;33m\u001b[0m\u001b[0m\n\u001b[1;32m   1021\u001b[0m             \u001b[1;32mraise\u001b[0m\u001b[1;33m\u001b[0m\u001b[0m\n",
      "\u001b[0;32mD:\\algorithms\\anaconda\\lib\\site-packages\\pandas\\core\\groupby.pyc\u001b[0m in \u001b[0;36m_cython_agg_general\u001b[0;34m(self, how, numeric_only)\u001b[0m\n\u001b[1;32m   3125\u001b[0m     \u001b[1;32mdef\u001b[0m \u001b[0m_cython_agg_general\u001b[0m\u001b[1;33m(\u001b[0m\u001b[0mself\u001b[0m\u001b[1;33m,\u001b[0m \u001b[0mhow\u001b[0m\u001b[1;33m,\u001b[0m \u001b[0mnumeric_only\u001b[0m\u001b[1;33m=\u001b[0m\u001b[0mTrue\u001b[0m\u001b[1;33m)\u001b[0m\u001b[1;33m:\u001b[0m\u001b[1;33m\u001b[0m\u001b[0m\n\u001b[1;32m   3126\u001b[0m         new_items, new_blocks = self._cython_agg_blocks(\n\u001b[0;32m-> 3127\u001b[0;31m             how, numeric_only=numeric_only)\n\u001b[0m\u001b[1;32m   3128\u001b[0m         \u001b[1;32mreturn\u001b[0m \u001b[0mself\u001b[0m\u001b[1;33m.\u001b[0m\u001b[0m_wrap_agged_blocks\u001b[0m\u001b[1;33m(\u001b[0m\u001b[0mnew_items\u001b[0m\u001b[1;33m,\u001b[0m \u001b[0mnew_blocks\u001b[0m\u001b[1;33m)\u001b[0m\u001b[1;33m\u001b[0m\u001b[0m\n\u001b[1;32m   3129\u001b[0m \u001b[1;33m\u001b[0m\u001b[0m\n",
      "\u001b[0;32mD:\\algorithms\\anaconda\\lib\\site-packages\\pandas\\core\\groupby.pyc\u001b[0m in \u001b[0;36m_cython_agg_blocks\u001b[0;34m(self, how, numeric_only)\u001b[0m\n\u001b[1;32m   3171\u001b[0m \u001b[1;33m\u001b[0m\u001b[0m\n\u001b[1;32m   3172\u001b[0m         \u001b[1;32mif\u001b[0m \u001b[0mlen\u001b[0m\u001b[1;33m(\u001b[0m\u001b[0mnew_blocks\u001b[0m\u001b[1;33m)\u001b[0m \u001b[1;33m==\u001b[0m \u001b[1;36m0\u001b[0m\u001b[1;33m:\u001b[0m\u001b[1;33m\u001b[0m\u001b[0m\n\u001b[0;32m-> 3173\u001b[0;31m             \u001b[1;32mraise\u001b[0m \u001b[0mDataError\u001b[0m\u001b[1;33m(\u001b[0m\u001b[1;34m'No numeric types to aggregate'\u001b[0m\u001b[1;33m)\u001b[0m\u001b[1;33m\u001b[0m\u001b[0m\n\u001b[0m\u001b[1;32m   3174\u001b[0m \u001b[1;33m\u001b[0m\u001b[0m\n\u001b[1;32m   3175\u001b[0m         \u001b[1;32mreturn\u001b[0m \u001b[0mdata\u001b[0m\u001b[1;33m.\u001b[0m\u001b[0mitems\u001b[0m\u001b[1;33m,\u001b[0m \u001b[0mnew_blocks\u001b[0m\u001b[1;33m\u001b[0m\u001b[0m\n",
      "\u001b[0;31mDataError\u001b[0m: No numeric types to aggregate"
     ]
    }
   ],
   "source": [
    "# It shows error because the genre is not a number\n",
    "movies[['star_rating','genre']].groupby('star_rating').mean()"
   ]
  },
  {
   "cell_type": "code",
   "execution_count": 39,
   "metadata": {
    "collapsed": false
   },
   "outputs": [
    {
     "data": {
      "text/html": [
       "<div>\n",
       "<table border=\"1\" class=\"dataframe\">\n",
       "  <thead>\n",
       "    <tr style=\"text-align: right;\">\n",
       "      <th></th>\n",
       "      <th>genre</th>\n",
       "    </tr>\n",
       "    <tr>\n",
       "      <th>star_rating</th>\n",
       "      <th></th>\n",
       "    </tr>\n",
       "  </thead>\n",
       "  <tbody>\n",
       "    <tr>\n",
       "      <th>7.4</th>\n",
       "      <td>49</td>\n",
       "    </tr>\n",
       "    <tr>\n",
       "      <th>7.5</th>\n",
       "      <td>108</td>\n",
       "    </tr>\n",
       "    <tr>\n",
       "      <th>7.6</th>\n",
       "      <td>124</td>\n",
       "    </tr>\n",
       "    <tr>\n",
       "      <th>7.7</th>\n",
       "      <td>113</td>\n",
       "    </tr>\n",
       "    <tr>\n",
       "      <th>7.8</th>\n",
       "      <td>116</td>\n",
       "    </tr>\n",
       "    <tr>\n",
       "      <th>7.9</th>\n",
       "      <td>75</td>\n",
       "    </tr>\n",
       "    <tr>\n",
       "      <th>8.0</th>\n",
       "      <td>97</td>\n",
       "    </tr>\n",
       "    <tr>\n",
       "      <th>8.1</th>\n",
       "      <td>103</td>\n",
       "    </tr>\n",
       "    <tr>\n",
       "      <th>8.2</th>\n",
       "      <td>51</td>\n",
       "    </tr>\n",
       "    <tr>\n",
       "      <th>8.3</th>\n",
       "      <td>43</td>\n",
       "    </tr>\n",
       "    <tr>\n",
       "      <th>8.4</th>\n",
       "      <td>37</td>\n",
       "    </tr>\n",
       "    <tr>\n",
       "      <th>8.5</th>\n",
       "      <td>23</td>\n",
       "    </tr>\n",
       "    <tr>\n",
       "      <th>8.6</th>\n",
       "      <td>15</td>\n",
       "    </tr>\n",
       "    <tr>\n",
       "      <th>8.7</th>\n",
       "      <td>10</td>\n",
       "    </tr>\n",
       "    <tr>\n",
       "      <th>8.8</th>\n",
       "      <td>5</td>\n",
       "    </tr>\n",
       "    <tr>\n",
       "      <th>8.9</th>\n",
       "      <td>6</td>\n",
       "    </tr>\n",
       "    <tr>\n",
       "      <th>9.0</th>\n",
       "      <td>1</td>\n",
       "    </tr>\n",
       "    <tr>\n",
       "      <th>9.1</th>\n",
       "      <td>1</td>\n",
       "    </tr>\n",
       "    <tr>\n",
       "      <th>9.2</th>\n",
       "      <td>1</td>\n",
       "    </tr>\n",
       "    <tr>\n",
       "      <th>9.3</th>\n",
       "      <td>1</td>\n",
       "    </tr>\n",
       "  </tbody>\n",
       "</table>\n",
       "</div>"
      ],
      "text/plain": [
       "             genre\n",
       "star_rating       \n",
       "7.4             49\n",
       "7.5            108\n",
       "7.6            124\n",
       "7.7            113\n",
       "7.8            116\n",
       "7.9             75\n",
       "8.0             97\n",
       "8.1            103\n",
       "8.2             51\n",
       "8.3             43\n",
       "8.4             37\n",
       "8.5             23\n",
       "8.6             15\n",
       "8.7             10\n",
       "8.8              5\n",
       "8.9              6\n",
       "9.0              1\n",
       "9.1              1\n",
       "9.2              1\n",
       "9.3              1"
      ]
     },
     "execution_count": 39,
     "metadata": {},
     "output_type": "execute_result"
    }
   ],
   "source": [
    "movies[['star_rating','genre']].groupby('star_rating').count()"
   ]
  },
  {
   "cell_type": "markdown",
   "metadata": {},
   "source": [
    "# Pandas: Merging DataFrames"
   ]
  },
  {
   "cell_type": "code",
   "execution_count": 68,
   "metadata": {
    "collapsed": false
   },
   "outputs": [],
   "source": [
    "import pandas as pd\n",
    "df1 = pd.DataFrame({'city':['chennai','mumbai','banglore'],'temperature': [30,39,45]})"
   ]
  },
  {
   "cell_type": "code",
   "execution_count": 69,
   "metadata": {
    "collapsed": false
   },
   "outputs": [
    {
     "data": {
      "text/html": [
       "<div>\n",
       "<table border=\"1\" class=\"dataframe\">\n",
       "  <thead>\n",
       "    <tr style=\"text-align: right;\">\n",
       "      <th></th>\n",
       "      <th>city</th>\n",
       "      <th>temperature</th>\n",
       "    </tr>\n",
       "  </thead>\n",
       "  <tbody>\n",
       "    <tr>\n",
       "      <th>0</th>\n",
       "      <td>chennai</td>\n",
       "      <td>30</td>\n",
       "    </tr>\n",
       "    <tr>\n",
       "      <th>1</th>\n",
       "      <td>mumbai</td>\n",
       "      <td>39</td>\n",
       "    </tr>\n",
       "    <tr>\n",
       "      <th>2</th>\n",
       "      <td>banglore</td>\n",
       "      <td>45</td>\n",
       "    </tr>\n",
       "  </tbody>\n",
       "</table>\n",
       "</div>"
      ],
      "text/plain": [
       "       city  temperature\n",
       "0   chennai           30\n",
       "1    mumbai           39\n",
       "2  banglore           45"
      ]
     },
     "execution_count": 69,
     "metadata": {},
     "output_type": "execute_result"
    }
   ],
   "source": [
    "df1"
   ]
  },
  {
   "cell_type": "code",
   "execution_count": 70,
   "metadata": {
    "collapsed": true
   },
   "outputs": [],
   "source": [
    "df2 = pd.DataFrame({'city':['chennai','mumbai','banglore'],'humidity': [30,39,45]})"
   ]
  },
  {
   "cell_type": "code",
   "execution_count": 71,
   "metadata": {
    "collapsed": false
   },
   "outputs": [
    {
     "data": {
      "text/html": [
       "<div>\n",
       "<table border=\"1\" class=\"dataframe\">\n",
       "  <thead>\n",
       "    <tr style=\"text-align: right;\">\n",
       "      <th></th>\n",
       "      <th>city</th>\n",
       "      <th>humidity</th>\n",
       "    </tr>\n",
       "  </thead>\n",
       "  <tbody>\n",
       "    <tr>\n",
       "      <th>0</th>\n",
       "      <td>chennai</td>\n",
       "      <td>30</td>\n",
       "    </tr>\n",
       "    <tr>\n",
       "      <th>1</th>\n",
       "      <td>mumbai</td>\n",
       "      <td>39</td>\n",
       "    </tr>\n",
       "    <tr>\n",
       "      <th>2</th>\n",
       "      <td>banglore</td>\n",
       "      <td>45</td>\n",
       "    </tr>\n",
       "  </tbody>\n",
       "</table>\n",
       "</div>"
      ],
      "text/plain": [
       "       city  humidity\n",
       "0   chennai        30\n",
       "1    mumbai        39\n",
       "2  banglore        45"
      ]
     },
     "execution_count": 71,
     "metadata": {},
     "output_type": "execute_result"
    }
   ],
   "source": [
    "df2"
   ]
  },
  {
   "cell_type": "code",
   "execution_count": 72,
   "metadata": {
    "collapsed": false
   },
   "outputs": [
    {
     "data": {
      "text/html": [
       "<div>\n",
       "<table border=\"1\" class=\"dataframe\">\n",
       "  <thead>\n",
       "    <tr style=\"text-align: right;\">\n",
       "      <th></th>\n",
       "      <th>city</th>\n",
       "      <th>temperature</th>\n",
       "      <th>humidity</th>\n",
       "    </tr>\n",
       "  </thead>\n",
       "  <tbody>\n",
       "    <tr>\n",
       "      <th>0</th>\n",
       "      <td>chennai</td>\n",
       "      <td>30</td>\n",
       "      <td>30</td>\n",
       "    </tr>\n",
       "    <tr>\n",
       "      <th>1</th>\n",
       "      <td>mumbai</td>\n",
       "      <td>39</td>\n",
       "      <td>39</td>\n",
       "    </tr>\n",
       "    <tr>\n",
       "      <th>2</th>\n",
       "      <td>banglore</td>\n",
       "      <td>45</td>\n",
       "      <td>45</td>\n",
       "    </tr>\n",
       "  </tbody>\n",
       "</table>\n",
       "</div>"
      ],
      "text/plain": [
       "       city  temperature  humidity\n",
       "0   chennai           30        30\n",
       "1    mumbai           39        39\n",
       "2  banglore           45        45"
      ]
     },
     "execution_count": 72,
     "metadata": {},
     "output_type": "execute_result"
    }
   ],
   "source": [
    "df3 = pd.merge(df1,df2,on = 'city')\n",
    "df3"
   ]
  },
  {
   "cell_type": "code",
   "execution_count": 21,
   "metadata": {
    "collapsed": false
   },
   "outputs": [
    {
     "data": {
      "text/html": [
       "<div>\n",
       "<table border=\"1\" class=\"dataframe\">\n",
       "  <thead>\n",
       "    <tr style=\"text-align: right;\">\n",
       "      <th></th>\n",
       "      <th>HPI</th>\n",
       "      <th>Int_rate</th>\n",
       "      <th>US_GDP_Thousands</th>\n",
       "    </tr>\n",
       "  </thead>\n",
       "  <tbody>\n",
       "    <tr>\n",
       "      <th>0</th>\n",
       "      <td>80</td>\n",
       "      <td>2</td>\n",
       "      <td>50</td>\n",
       "    </tr>\n",
       "    <tr>\n",
       "      <th>1</th>\n",
       "      <td>85</td>\n",
       "      <td>3</td>\n",
       "      <td>55</td>\n",
       "    </tr>\n",
       "    <tr>\n",
       "      <th>2</th>\n",
       "      <td>88</td>\n",
       "      <td>2</td>\n",
       "      <td>65</td>\n",
       "    </tr>\n",
       "    <tr>\n",
       "      <th>3</th>\n",
       "      <td>85</td>\n",
       "      <td>2</td>\n",
       "      <td>55</td>\n",
       "    </tr>\n",
       "  </tbody>\n",
       "</table>\n",
       "</div>"
      ],
      "text/plain": [
       "   HPI  Int_rate  US_GDP_Thousands\n",
       "0   80         2                50\n",
       "1   85         3                55\n",
       "2   88         2                65\n",
       "3   85         2                55"
      ]
     },
     "execution_count": 21,
     "metadata": {},
     "output_type": "execute_result"
    }
   ],
   "source": [
    "df3 = pd.merge(df1,df2)\n",
    "df3"
   ]
  },
  {
   "cell_type": "code",
   "execution_count": 7,
   "metadata": {
    "collapsed": false
   },
   "outputs": [
    {
     "data": {
      "text/html": [
       "<div>\n",
       "<table border=\"1\" class=\"dataframe\">\n",
       "  <thead>\n",
       "    <tr style=\"text-align: right;\">\n",
       "      <th></th>\n",
       "      <th>city</th>\n",
       "      <th>humidity</th>\n",
       "      <th>temperature</th>\n",
       "    </tr>\n",
       "  </thead>\n",
       "  <tbody>\n",
       "    <tr>\n",
       "      <th>0</th>\n",
       "      <td>chennai</td>\n",
       "      <td>30</td>\n",
       "      <td>30</td>\n",
       "    </tr>\n",
       "    <tr>\n",
       "      <th>1</th>\n",
       "      <td>mumbai</td>\n",
       "      <td>39</td>\n",
       "      <td>39</td>\n",
       "    </tr>\n",
       "  </tbody>\n",
       "</table>\n",
       "</div>"
      ],
      "text/plain": [
       "      city  humidity  temperature\n",
       "0  chennai        30           30\n",
       "1   mumbai        39           39"
      ]
     },
     "execution_count": 7,
     "metadata": {},
     "output_type": "execute_result"
    }
   ],
   "source": [
    "df2 = pd.DataFrame({'city':['chennai','mumbai','rajastan'],'humidity': [30,39,45]})\n",
    "df3 = pd.merge(df2,df1,on = 'city')\n",
    "df3"
   ]
  },
  {
   "cell_type": "code",
   "execution_count": 8,
   "metadata": {
    "collapsed": false
   },
   "outputs": [
    {
     "data": {
      "text/html": [
       "<div>\n",
       "<table border=\"1\" class=\"dataframe\">\n",
       "  <thead>\n",
       "    <tr style=\"text-align: right;\">\n",
       "      <th></th>\n",
       "      <th>city</th>\n",
       "      <th>humidity</th>\n",
       "      <th>temperature</th>\n",
       "    </tr>\n",
       "  </thead>\n",
       "  <tbody>\n",
       "    <tr>\n",
       "      <th>0</th>\n",
       "      <td>chennai</td>\n",
       "      <td>30.0</td>\n",
       "      <td>30.0</td>\n",
       "    </tr>\n",
       "    <tr>\n",
       "      <th>1</th>\n",
       "      <td>mumbai</td>\n",
       "      <td>39.0</td>\n",
       "      <td>39.0</td>\n",
       "    </tr>\n",
       "    <tr>\n",
       "      <th>2</th>\n",
       "      <td>rajastan</td>\n",
       "      <td>45.0</td>\n",
       "      <td>NaN</td>\n",
       "    </tr>\n",
       "    <tr>\n",
       "      <th>3</th>\n",
       "      <td>banglore</td>\n",
       "      <td>NaN</td>\n",
       "      <td>45.0</td>\n",
       "    </tr>\n",
       "  </tbody>\n",
       "</table>\n",
       "</div>"
      ],
      "text/plain": [
       "       city  humidity  temperature\n",
       "0   chennai      30.0         30.0\n",
       "1    mumbai      39.0         39.0\n",
       "2  rajastan      45.0          NaN\n",
       "3  banglore       NaN         45.0"
      ]
     },
     "execution_count": 8,
     "metadata": {},
     "output_type": "execute_result"
    }
   ],
   "source": [
    "df3 = pd.merge(df2,df1,on = 'city',how = 'outer')\n",
    "df3"
   ]
  },
  {
   "cell_type": "code",
   "execution_count": 31,
   "metadata": {
    "collapsed": false
   },
   "outputs": [
    {
     "data": {
      "text/html": [
       "<div>\n",
       "<table border=\"1\" class=\"dataframe\">\n",
       "  <thead>\n",
       "    <tr style=\"text-align: right;\">\n",
       "      <th></th>\n",
       "      <th>city</th>\n",
       "      <th>humidity</th>\n",
       "      <th>temperature</th>\n",
       "    </tr>\n",
       "  </thead>\n",
       "  <tbody>\n",
       "    <tr>\n",
       "      <th>0</th>\n",
       "      <td>chennai</td>\n",
       "      <td>30</td>\n",
       "      <td>30</td>\n",
       "    </tr>\n",
       "    <tr>\n",
       "      <th>1</th>\n",
       "      <td>mumbai</td>\n",
       "      <td>39</td>\n",
       "      <td>39</td>\n",
       "    </tr>\n",
       "    <tr>\n",
       "      <th>2</th>\n",
       "      <td>banglore</td>\n",
       "      <td>45</td>\n",
       "      <td>45</td>\n",
       "    </tr>\n",
       "  </tbody>\n",
       "</table>\n",
       "</div>"
      ],
      "text/plain": [
       "       city  humidity  temperature\n",
       "0   chennai        30           30\n",
       "1    mumbai        39           39\n",
       "2  banglore        45           45"
      ]
     },
     "execution_count": 31,
     "metadata": {},
     "output_type": "execute_result"
    }
   ],
   "source": [
    "df3 = pd.merge(df2,df1)\n",
    "df3"
   ]
  },
  {
   "cell_type": "code",
   "execution_count": 12,
   "metadata": {
    "collapsed": false
   },
   "outputs": [
    {
     "data": {
      "text/html": [
       "<div>\n",
       "<table border=\"1\" class=\"dataframe\">\n",
       "  <thead>\n",
       "    <tr style=\"text-align: right;\">\n",
       "      <th></th>\n",
       "      <th>city</th>\n",
       "      <th>temperature</th>\n",
       "      <th>humidity</th>\n",
       "    </tr>\n",
       "  </thead>\n",
       "  <tbody>\n",
       "    <tr>\n",
       "      <th>0</th>\n",
       "      <td>chennai</td>\n",
       "      <td>30</td>\n",
       "      <td>30.0</td>\n",
       "    </tr>\n",
       "    <tr>\n",
       "      <th>1</th>\n",
       "      <td>mumbai</td>\n",
       "      <td>39</td>\n",
       "      <td>39.0</td>\n",
       "    </tr>\n",
       "    <tr>\n",
       "      <th>2</th>\n",
       "      <td>banglore</td>\n",
       "      <td>45</td>\n",
       "      <td>NaN</td>\n",
       "    </tr>\n",
       "  </tbody>\n",
       "</table>\n",
       "</div>"
      ],
      "text/plain": [
       "       city  temperature  humidity\n",
       "0   chennai           30      30.0\n",
       "1    mumbai           39      39.0\n",
       "2  banglore           45       NaN"
      ]
     },
     "execution_count": 12,
     "metadata": {},
     "output_type": "execute_result"
    }
   ],
   "source": [
    "# specifying the df1,df2 is also makes a difference\n",
    "df3 = pd.merge(df1,df2,on = 'city',how = 'left')\n",
    "df3"
   ]
  },
  {
   "cell_type": "code",
   "execution_count": 13,
   "metadata": {
    "collapsed": false
   },
   "outputs": [
    {
     "data": {
      "text/html": [
       "<div>\n",
       "<table border=\"1\" class=\"dataframe\">\n",
       "  <thead>\n",
       "    <tr style=\"text-align: right;\">\n",
       "      <th></th>\n",
       "      <th>city</th>\n",
       "      <th>temperature</th>\n",
       "      <th>humidity</th>\n",
       "    </tr>\n",
       "  </thead>\n",
       "  <tbody>\n",
       "    <tr>\n",
       "      <th>0</th>\n",
       "      <td>chennai</td>\n",
       "      <td>30.0</td>\n",
       "      <td>30</td>\n",
       "    </tr>\n",
       "    <tr>\n",
       "      <th>1</th>\n",
       "      <td>mumbai</td>\n",
       "      <td>39.0</td>\n",
       "      <td>39</td>\n",
       "    </tr>\n",
       "    <tr>\n",
       "      <th>2</th>\n",
       "      <td>rajastan</td>\n",
       "      <td>NaN</td>\n",
       "      <td>45</td>\n",
       "    </tr>\n",
       "  </tbody>\n",
       "</table>\n",
       "</div>"
      ],
      "text/plain": [
       "       city  temperature  humidity\n",
       "0   chennai         30.0        30\n",
       "1    mumbai         39.0        39\n",
       "2  rajastan          NaN        45"
      ]
     },
     "execution_count": 13,
     "metadata": {},
     "output_type": "execute_result"
    }
   ],
   "source": [
    "df3 = pd.merge(df1,df2,on = 'city',how = 'right')\n",
    "df3"
   ]
  },
  {
   "cell_type": "code",
   "execution_count": 15,
   "metadata": {
    "collapsed": false
   },
   "outputs": [
    {
     "data": {
      "text/html": [
       "<div>\n",
       "<table border=\"1\" class=\"dataframe\">\n",
       "  <thead>\n",
       "    <tr style=\"text-align: right;\">\n",
       "      <th></th>\n",
       "      <th>city</th>\n",
       "      <th>humidity</th>\n",
       "      <th>temperature</th>\n",
       "      <th>_merge</th>\n",
       "    </tr>\n",
       "  </thead>\n",
       "  <tbody>\n",
       "    <tr>\n",
       "      <th>0</th>\n",
       "      <td>chennai</td>\n",
       "      <td>30.0</td>\n",
       "      <td>30.0</td>\n",
       "      <td>both</td>\n",
       "    </tr>\n",
       "    <tr>\n",
       "      <th>1</th>\n",
       "      <td>mumbai</td>\n",
       "      <td>39.0</td>\n",
       "      <td>39.0</td>\n",
       "      <td>both</td>\n",
       "    </tr>\n",
       "    <tr>\n",
       "      <th>2</th>\n",
       "      <td>rajastan</td>\n",
       "      <td>45.0</td>\n",
       "      <td>NaN</td>\n",
       "      <td>left_only</td>\n",
       "    </tr>\n",
       "    <tr>\n",
       "      <th>3</th>\n",
       "      <td>banglore</td>\n",
       "      <td>NaN</td>\n",
       "      <td>45.0</td>\n",
       "      <td>right_only</td>\n",
       "    </tr>\n",
       "  </tbody>\n",
       "</table>\n",
       "</div>"
      ],
      "text/plain": [
       "       city  humidity  temperature      _merge\n",
       "0   chennai      30.0         30.0        both\n",
       "1    mumbai      39.0         39.0        both\n",
       "2  rajastan      45.0          NaN   left_only\n",
       "3  banglore       NaN         45.0  right_only"
      ]
     },
     "execution_count": 15,
     "metadata": {},
     "output_type": "execute_result"
    }
   ],
   "source": [
    "# If you want to know weather it came from left or right use the indicator\n",
    "df3 = pd.merge(df2,df1,on = 'city',how = 'outer',indicator = True)\n",
    "df3"
   ]
  },
  {
   "cell_type": "code",
   "execution_count": 3,
   "metadata": {
    "collapsed": false
   },
   "outputs": [
    {
     "data": {
      "text/html": [
       "<div>\n",
       "<table border=\"1\" class=\"dataframe\">\n",
       "  <thead>\n",
       "    <tr style=\"text-align: right;\">\n",
       "      <th></th>\n",
       "      <th>city</th>\n",
       "      <th>humidity</th>\n",
       "      <th>temperature</th>\n",
       "    </tr>\n",
       "  </thead>\n",
       "  <tbody>\n",
       "    <tr>\n",
       "      <th>0</th>\n",
       "      <td>chennai</td>\n",
       "      <td>30</td>\n",
       "      <td>46</td>\n",
       "    </tr>\n",
       "    <tr>\n",
       "      <th>1</th>\n",
       "      <td>mumbai</td>\n",
       "      <td>39</td>\n",
       "      <td>34</td>\n",
       "    </tr>\n",
       "    <tr>\n",
       "      <th>2</th>\n",
       "      <td>rajastan</td>\n",
       "      <td>45</td>\n",
       "      <td>51</td>\n",
       "    </tr>\n",
       "  </tbody>\n",
       "</table>\n",
       "</div>"
      ],
      "text/plain": [
       "       city  humidity  temperature\n",
       "0   chennai        30           46\n",
       "1    mumbai        39           34\n",
       "2  rajastan        45           51"
      ]
     },
     "execution_count": 3,
     "metadata": {},
     "output_type": "execute_result"
    }
   ],
   "source": [
    "# lets say if we have common columns in both the dataframe\n",
    "df2 = pd.DataFrame({'city':['chennai','mumbai','rajastan'],'humidity': [30,39,45],'temperature':[46,34,51]})\n",
    "df2\n"
   ]
  },
  {
   "cell_type": "code",
   "execution_count": 4,
   "metadata": {
    "collapsed": false
   },
   "outputs": [
    {
     "data": {
      "text/html": [
       "<div>\n",
       "<table border=\"1\" class=\"dataframe\">\n",
       "  <thead>\n",
       "    <tr style=\"text-align: right;\">\n",
       "      <th></th>\n",
       "      <th>city</th>\n",
       "      <th>humidity</th>\n",
       "      <th>temperature</th>\n",
       "    </tr>\n",
       "  </thead>\n",
       "  <tbody>\n",
       "    <tr>\n",
       "      <th>0</th>\n",
       "      <td>chennai</td>\n",
       "      <td>42</td>\n",
       "      <td>30</td>\n",
       "    </tr>\n",
       "    <tr>\n",
       "      <th>1</th>\n",
       "      <td>mumbai</td>\n",
       "      <td>23</td>\n",
       "      <td>39</td>\n",
       "    </tr>\n",
       "    <tr>\n",
       "      <th>2</th>\n",
       "      <td>banglore</td>\n",
       "      <td>14</td>\n",
       "      <td>45</td>\n",
       "    </tr>\n",
       "  </tbody>\n",
       "</table>\n",
       "</div>"
      ],
      "text/plain": [
       "       city  humidity  temperature\n",
       "0   chennai        42           30\n",
       "1    mumbai        23           39\n",
       "2  banglore        14           45"
      ]
     },
     "execution_count": 4,
     "metadata": {},
     "output_type": "execute_result"
    }
   ],
   "source": [
    "df1 = pd.DataFrame({'city':['chennai','mumbai','banglore'],'temperature': [30,39,45],'humidity':[42,23,14]})\n",
    "df1"
   ]
  },
  {
   "cell_type": "code",
   "execution_count": 5,
   "metadata": {
    "collapsed": false
   },
   "outputs": [
    {
     "data": {
      "text/html": [
       "<div>\n",
       "<table border=\"1\" class=\"dataframe\">\n",
       "  <thead>\n",
       "    <tr style=\"text-align: right;\">\n",
       "      <th></th>\n",
       "      <th>city</th>\n",
       "      <th>humidity_x</th>\n",
       "      <th>temperature_x</th>\n",
       "      <th>humidity_y</th>\n",
       "      <th>temperature_y</th>\n",
       "      <th>_merge</th>\n",
       "    </tr>\n",
       "  </thead>\n",
       "  <tbody>\n",
       "    <tr>\n",
       "      <th>0</th>\n",
       "      <td>chennai</td>\n",
       "      <td>30.0</td>\n",
       "      <td>46.0</td>\n",
       "      <td>42.0</td>\n",
       "      <td>30.0</td>\n",
       "      <td>both</td>\n",
       "    </tr>\n",
       "    <tr>\n",
       "      <th>1</th>\n",
       "      <td>mumbai</td>\n",
       "      <td>39.0</td>\n",
       "      <td>34.0</td>\n",
       "      <td>23.0</td>\n",
       "      <td>39.0</td>\n",
       "      <td>both</td>\n",
       "    </tr>\n",
       "    <tr>\n",
       "      <th>2</th>\n",
       "      <td>rajastan</td>\n",
       "      <td>45.0</td>\n",
       "      <td>51.0</td>\n",
       "      <td>NaN</td>\n",
       "      <td>NaN</td>\n",
       "      <td>left_only</td>\n",
       "    </tr>\n",
       "    <tr>\n",
       "      <th>3</th>\n",
       "      <td>banglore</td>\n",
       "      <td>NaN</td>\n",
       "      <td>NaN</td>\n",
       "      <td>14.0</td>\n",
       "      <td>45.0</td>\n",
       "      <td>right_only</td>\n",
       "    </tr>\n",
       "  </tbody>\n",
       "</table>\n",
       "</div>"
      ],
      "text/plain": [
       "       city  humidity_x  temperature_x  humidity_y  temperature_y      _merge\n",
       "0   chennai        30.0           46.0        42.0           30.0        both\n",
       "1    mumbai        39.0           34.0        23.0           39.0        both\n",
       "2  rajastan        45.0           51.0         NaN            NaN   left_only\n",
       "3  banglore         NaN            NaN        14.0           45.0  right_only"
      ]
     },
     "execution_count": 5,
     "metadata": {},
     "output_type": "execute_result"
    }
   ],
   "source": [
    "df3 = pd.merge(df2,df1,on = 'city',how = 'outer',indicator = True)\n",
    "df3"
   ]
  },
  {
   "cell_type": "code",
   "execution_count": 22,
   "metadata": {
    "collapsed": false
   },
   "outputs": [
    {
     "data": {
      "text/html": [
       "<div>\n",
       "<table border=\"1\" class=\"dataframe\">\n",
       "  <thead>\n",
       "    <tr style=\"text-align: right;\">\n",
       "      <th></th>\n",
       "      <th>city</th>\n",
       "      <th>humidity_x</th>\n",
       "      <th>temperature_x</th>\n",
       "      <th>humidity_y</th>\n",
       "      <th>temperature_y</th>\n",
       "      <th>_merge</th>\n",
       "    </tr>\n",
       "  </thead>\n",
       "  <tbody>\n",
       "    <tr>\n",
       "      <th>0</th>\n",
       "      <td>chennai</td>\n",
       "      <td>42</td>\n",
       "      <td>30</td>\n",
       "      <td>30</td>\n",
       "      <td>46</td>\n",
       "      <td>both</td>\n",
       "    </tr>\n",
       "    <tr>\n",
       "      <th>1</th>\n",
       "      <td>mumbai</td>\n",
       "      <td>23</td>\n",
       "      <td>39</td>\n",
       "      <td>39</td>\n",
       "      <td>34</td>\n",
       "      <td>both</td>\n",
       "    </tr>\n",
       "  </tbody>\n",
       "</table>\n",
       "</div>"
      ],
      "text/plain": [
       "      city  humidity_x  temperature_x  humidity_y  temperature_y _merge\n",
       "0  chennai          42             30          30             46   both\n",
       "1   mumbai          23             39          39             34   both"
      ]
     },
     "execution_count": 22,
     "metadata": {},
     "output_type": "execute_result"
    }
   ],
   "source": [
    "df3 = pd.merge(df1,df2,on = 'city',how = 'inner',indicator = True)\n",
    "df3"
   ]
  },
  {
   "cell_type": "code",
   "execution_count": 24,
   "metadata": {
    "collapsed": false
   },
   "outputs": [
    {
     "data": {
      "text/html": [
       "<div>\n",
       "<table border=\"1\" class=\"dataframe\">\n",
       "  <thead>\n",
       "    <tr style=\"text-align: right;\">\n",
       "      <th></th>\n",
       "      <th>city</th>\n",
       "      <th>humidity_1</th>\n",
       "      <th>temperature_1</th>\n",
       "      <th>humidity_2</th>\n",
       "      <th>temperature_2</th>\n",
       "      <th>_merge</th>\n",
       "    </tr>\n",
       "  </thead>\n",
       "  <tbody>\n",
       "    <tr>\n",
       "      <th>0</th>\n",
       "      <td>chennai</td>\n",
       "      <td>42</td>\n",
       "      <td>30</td>\n",
       "      <td>30</td>\n",
       "      <td>46</td>\n",
       "      <td>both</td>\n",
       "    </tr>\n",
       "    <tr>\n",
       "      <th>1</th>\n",
       "      <td>mumbai</td>\n",
       "      <td>23</td>\n",
       "      <td>39</td>\n",
       "      <td>39</td>\n",
       "      <td>34</td>\n",
       "      <td>both</td>\n",
       "    </tr>\n",
       "  </tbody>\n",
       "</table>\n",
       "</div>"
      ],
      "text/plain": [
       "      city  humidity_1  temperature_1  humidity_2  temperature_2 _merge\n",
       "0  chennai          42             30          30             46   both\n",
       "1   mumbai          23             39          39             34   both"
      ]
     },
     "execution_count": 24,
     "metadata": {},
     "output_type": "execute_result"
    }
   ],
   "source": [
    "# if you want to add name to the x and y\n",
    "df3 = pd.merge(df1,df2,on = 'city',how = 'inner',indicator = True,suffixes = ('_1','_2'))\n",
    "df3\n"
   ]
  },
  {
   "cell_type": "code",
   "execution_count": 73,
   "metadata": {
    "collapsed": true
   },
   "outputs": [],
   "source": [
    "df2 = pd.DataFrame({'city':['chennai','mumbai','rajastan'],'humidity': [30,39,45],'temperature':[46,30,51]})\n",
    "df1 = pd.DataFrame({'city':['chennai','mumbai','banglore'],'temperature': [30,39,45],'humidity':[42,23,14]})"
   ]
  },
  {
   "cell_type": "code",
   "execution_count": 74,
   "metadata": {
    "collapsed": false
   },
   "outputs": [
    {
     "data": {
      "text/html": [
       "<div>\n",
       "<table border=\"1\" class=\"dataframe\">\n",
       "  <thead>\n",
       "    <tr style=\"text-align: right;\">\n",
       "      <th></th>\n",
       "      <th>city</th>\n",
       "      <th>humidity_x</th>\n",
       "      <th>temperature</th>\n",
       "      <th>humidity_y</th>\n",
       "      <th>_merge</th>\n",
       "    </tr>\n",
       "  </thead>\n",
       "  <tbody>\n",
       "    <tr>\n",
       "      <th>0</th>\n",
       "      <td>chennai</td>\n",
       "      <td>42.0</td>\n",
       "      <td>30</td>\n",
       "      <td>NaN</td>\n",
       "      <td>left_only</td>\n",
       "    </tr>\n",
       "    <tr>\n",
       "      <th>1</th>\n",
       "      <td>mumbai</td>\n",
       "      <td>23.0</td>\n",
       "      <td>39</td>\n",
       "      <td>NaN</td>\n",
       "      <td>left_only</td>\n",
       "    </tr>\n",
       "    <tr>\n",
       "      <th>2</th>\n",
       "      <td>banglore</td>\n",
       "      <td>14.0</td>\n",
       "      <td>45</td>\n",
       "      <td>NaN</td>\n",
       "      <td>left_only</td>\n",
       "    </tr>\n",
       "    <tr>\n",
       "      <th>3</th>\n",
       "      <td>chennai</td>\n",
       "      <td>NaN</td>\n",
       "      <td>46</td>\n",
       "      <td>30.0</td>\n",
       "      <td>right_only</td>\n",
       "    </tr>\n",
       "    <tr>\n",
       "      <th>4</th>\n",
       "      <td>mumbai</td>\n",
       "      <td>NaN</td>\n",
       "      <td>30</td>\n",
       "      <td>39.0</td>\n",
       "      <td>right_only</td>\n",
       "    </tr>\n",
       "    <tr>\n",
       "      <th>5</th>\n",
       "      <td>rajastan</td>\n",
       "      <td>NaN</td>\n",
       "      <td>51</td>\n",
       "      <td>45.0</td>\n",
       "      <td>right_only</td>\n",
       "    </tr>\n",
       "  </tbody>\n",
       "</table>\n",
       "</div>"
      ],
      "text/plain": [
       "       city  humidity_x  temperature  humidity_y      _merge\n",
       "0   chennai        42.0           30         NaN   left_only\n",
       "1    mumbai        23.0           39         NaN   left_only\n",
       "2  banglore        14.0           45         NaN   left_only\n",
       "3   chennai         NaN           46        30.0  right_only\n",
       "4    mumbai         NaN           30        39.0  right_only\n",
       "5  rajastan         NaN           51        45.0  right_only"
      ]
     },
     "execution_count": 74,
     "metadata": {},
     "output_type": "execute_result"
    }
   ],
   "source": [
    "df3 = pd.merge(df1,df2,on = ['city','temperature'],how = 'outer',indicator = True)\n",
    "df3"
   ]
  },
  {
   "cell_type": "code",
   "execution_count": 26,
   "metadata": {
    "collapsed": false
   },
   "outputs": [
    {
     "data": {
      "text/html": [
       "<div>\n",
       "<table border=\"1\" class=\"dataframe\">\n",
       "  <thead>\n",
       "    <tr style=\"text-align: right;\">\n",
       "      <th></th>\n",
       "      <th>city</th>\n",
       "      <th>humidity_x</th>\n",
       "      <th>temperature</th>\n",
       "      <th>humidity_y</th>\n",
       "      <th>_merge</th>\n",
       "    </tr>\n",
       "  </thead>\n",
       "  <tbody>\n",
       "  </tbody>\n",
       "</table>\n",
       "</div>"
      ],
      "text/plain": [
       "Empty DataFrame\n",
       "Columns: [city, humidity_x, temperature, humidity_y, _merge]\n",
       "Index: []"
      ]
     },
     "execution_count": 26,
     "metadata": {},
     "output_type": "execute_result"
    }
   ],
   "source": [
    "df3 = pd.merge(df1,df2,on = ['city','temperature'],how = 'inner',indicator = True)\n",
    "df3"
   ]
  },
  {
   "cell_type": "code",
   "execution_count": 75,
   "metadata": {
    "collapsed": true
   },
   "outputs": [],
   "source": [
    "df2 = pd.DataFrame({'city':['chennai','mumbai','rajastan'],'humidity': [30,39,45],'temperature':[46,30,51]})\n",
    "df1 = pd.DataFrame({'city':['chennai','mumbai','banglore'],'temperature': [46,30,45],'humidity':[42,23,14]})"
   ]
  },
  {
   "cell_type": "code",
   "execution_count": 76,
   "metadata": {
    "collapsed": false
   },
   "outputs": [
    {
     "data": {
      "text/html": [
       "<div>\n",
       "<table border=\"1\" class=\"dataframe\">\n",
       "  <thead>\n",
       "    <tr style=\"text-align: right;\">\n",
       "      <th></th>\n",
       "      <th>city</th>\n",
       "      <th>humidity_x</th>\n",
       "      <th>temperature</th>\n",
       "      <th>humidity_y</th>\n",
       "      <th>_merge</th>\n",
       "    </tr>\n",
       "  </thead>\n",
       "  <tbody>\n",
       "    <tr>\n",
       "      <th>0</th>\n",
       "      <td>chennai</td>\n",
       "      <td>42</td>\n",
       "      <td>46</td>\n",
       "      <td>30</td>\n",
       "      <td>both</td>\n",
       "    </tr>\n",
       "    <tr>\n",
       "      <th>1</th>\n",
       "      <td>mumbai</td>\n",
       "      <td>23</td>\n",
       "      <td>30</td>\n",
       "      <td>39</td>\n",
       "      <td>both</td>\n",
       "    </tr>\n",
       "  </tbody>\n",
       "</table>\n",
       "</div>"
      ],
      "text/plain": [
       "      city  humidity_x  temperature  humidity_y _merge\n",
       "0  chennai          42           46          30   both\n",
       "1   mumbai          23           30          39   both"
      ]
     },
     "execution_count": 76,
     "metadata": {},
     "output_type": "execute_result"
    }
   ],
   "source": [
    "df3 = pd.merge(df1,df2,on = ['city','temperature'],how = 'inner',indicator = True)\n",
    "df3"
   ]
  },
  {
   "cell_type": "code",
   "execution_count": null,
   "metadata": {
    "collapsed": true
   },
   "outputs": [],
   "source": [
    "df3 = pd.merge(df1,df2,on = ['city','temperature'],how = 'inner',indicator = True)\n",
    "df3"
   ]
  },
  {
   "cell_type": "markdown",
   "metadata": {},
   "source": [
    "# now lets look in to concat function"
   ]
  },
  {
   "cell_type": "code",
   "execution_count": 9,
   "metadata": {
    "collapsed": false
   },
   "outputs": [
    {
     "data": {
      "text/html": [
       "<div>\n",
       "<table border=\"1\" class=\"dataframe\">\n",
       "  <thead>\n",
       "    <tr style=\"text-align: right;\">\n",
       "      <th></th>\n",
       "      <th>city</th>\n",
       "      <th>humidity</th>\n",
       "      <th>temperature</th>\n",
       "    </tr>\n",
       "  </thead>\n",
       "  <tbody>\n",
       "    <tr>\n",
       "      <th>0</th>\n",
       "      <td>chennai</td>\n",
       "      <td>42</td>\n",
       "      <td>30</td>\n",
       "    </tr>\n",
       "    <tr>\n",
       "      <th>1</th>\n",
       "      <td>mumbai</td>\n",
       "      <td>23</td>\n",
       "      <td>39</td>\n",
       "    </tr>\n",
       "    <tr>\n",
       "      <th>2</th>\n",
       "      <td>banglore</td>\n",
       "      <td>14</td>\n",
       "      <td>45</td>\n",
       "    </tr>\n",
       "    <tr>\n",
       "      <th>0</th>\n",
       "      <td>pensylvenia</td>\n",
       "      <td>42</td>\n",
       "      <td>30</td>\n",
       "    </tr>\n",
       "    <tr>\n",
       "      <th>1</th>\n",
       "      <td>newyork</td>\n",
       "      <td>23</td>\n",
       "      <td>39</td>\n",
       "    </tr>\n",
       "    <tr>\n",
       "      <th>2</th>\n",
       "      <td>new_jersy</td>\n",
       "      <td>14</td>\n",
       "      <td>45</td>\n",
       "    </tr>\n",
       "  </tbody>\n",
       "</table>\n",
       "</div>"
      ],
      "text/plain": [
       "          city  humidity  temperature\n",
       "0      chennai        42           30\n",
       "1       mumbai        23           39\n",
       "2     banglore        14           45\n",
       "0  pensylvenia        42           30\n",
       "1      newyork        23           39\n",
       "2    new_jersy        14           45"
      ]
     },
     "execution_count": 9,
     "metadata": {},
     "output_type": "execute_result"
    }
   ],
   "source": [
    "df1 = pd.DataFrame({'city':['chennai','mumbai','banglore'],'temperature': [30,39,45],'humidity':[42,23,14]})\n",
    "df2 = pd.DataFrame({'city':['pensylvenia','newyork','new_jersy'],'temperature': [30,39,45],'humidity':[42,23,14]})\n",
    "df3 = pd.concat([df1,df2])\n",
    "df3"
   ]
  },
  {
   "cell_type": "code",
   "execution_count": 10,
   "metadata": {
    "collapsed": false
   },
   "outputs": [
    {
     "data": {
      "text/html": [
       "<div>\n",
       "<table border=\"1\" class=\"dataframe\">\n",
       "  <thead>\n",
       "    <tr style=\"text-align: right;\">\n",
       "      <th></th>\n",
       "      <th>city</th>\n",
       "      <th>humidity</th>\n",
       "      <th>temperature</th>\n",
       "    </tr>\n",
       "  </thead>\n",
       "  <tbody>\n",
       "    <tr>\n",
       "      <th>0</th>\n",
       "      <td>chennai</td>\n",
       "      <td>42</td>\n",
       "      <td>30</td>\n",
       "    </tr>\n",
       "    <tr>\n",
       "      <th>1</th>\n",
       "      <td>mumbai</td>\n",
       "      <td>23</td>\n",
       "      <td>39</td>\n",
       "    </tr>\n",
       "    <tr>\n",
       "      <th>2</th>\n",
       "      <td>banglore</td>\n",
       "      <td>14</td>\n",
       "      <td>45</td>\n",
       "    </tr>\n",
       "    <tr>\n",
       "      <th>3</th>\n",
       "      <td>pensylvenia</td>\n",
       "      <td>42</td>\n",
       "      <td>30</td>\n",
       "    </tr>\n",
       "    <tr>\n",
       "      <th>4</th>\n",
       "      <td>newyork</td>\n",
       "      <td>23</td>\n",
       "      <td>39</td>\n",
       "    </tr>\n",
       "    <tr>\n",
       "      <th>5</th>\n",
       "      <td>new_jersy</td>\n",
       "      <td>14</td>\n",
       "      <td>45</td>\n",
       "    </tr>\n",
       "  </tbody>\n",
       "</table>\n",
       "</div>"
      ],
      "text/plain": [
       "          city  humidity  temperature\n",
       "0      chennai        42           30\n",
       "1       mumbai        23           39\n",
       "2     banglore        14           45\n",
       "3  pensylvenia        42           30\n",
       "4      newyork        23           39\n",
       "5    new_jersy        14           45"
      ]
     },
     "execution_count": 10,
     "metadata": {},
     "output_type": "execute_result"
    }
   ],
   "source": [
    "# if you want a continuous index do the following\n",
    "#we have to give the name of the dataframe in \"[]\" bracket\n",
    "df3 = pd.concat([df1,df2],ignore_index = True)\n",
    "df3\n"
   ]
  },
  {
   "cell_type": "code",
   "execution_count": 30,
   "metadata": {
    "collapsed": false
   },
   "outputs": [
    {
     "data": {
      "text/html": [
       "<div>\n",
       "<table border=\"1\" class=\"dataframe\">\n",
       "  <thead>\n",
       "    <tr style=\"text-align: right;\">\n",
       "      <th></th>\n",
       "      <th>city</th>\n",
       "      <th>humidity</th>\n",
       "      <th>temperature</th>\n",
       "    </tr>\n",
       "  </thead>\n",
       "  <tbody>\n",
       "    <tr>\n",
       "      <th>0</th>\n",
       "      <td>chennai</td>\n",
       "      <td>42</td>\n",
       "      <td>30</td>\n",
       "    </tr>\n",
       "    <tr>\n",
       "      <th>1</th>\n",
       "      <td>mumbai</td>\n",
       "      <td>23</td>\n",
       "      <td>39</td>\n",
       "    </tr>\n",
       "    <tr>\n",
       "      <th>2</th>\n",
       "      <td>banglore</td>\n",
       "      <td>14</td>\n",
       "      <td>45</td>\n",
       "    </tr>\n",
       "    <tr>\n",
       "      <th>3</th>\n",
       "      <td>pensylvenia</td>\n",
       "      <td>42</td>\n",
       "      <td>30</td>\n",
       "    </tr>\n",
       "    <tr>\n",
       "      <th>4</th>\n",
       "      <td>newyork</td>\n",
       "      <td>23</td>\n",
       "      <td>39</td>\n",
       "    </tr>\n",
       "    <tr>\n",
       "      <th>5</th>\n",
       "      <td>new_jersy</td>\n",
       "      <td>14</td>\n",
       "      <td>45</td>\n",
       "    </tr>\n",
       "  </tbody>\n",
       "</table>\n",
       "</div>"
      ],
      "text/plain": [
       "          city  humidity  temperature\n",
       "0      chennai        42           30\n",
       "1       mumbai        23           39\n",
       "2     banglore        14           45\n",
       "3  pensylvenia        42           30\n",
       "4      newyork        23           39\n",
       "5    new_jersy        14           45"
      ]
     },
     "execution_count": 30,
     "metadata": {},
     "output_type": "execute_result"
    }
   ],
   "source": [
    "# we can associate a key for each of the data frame\n",
    "# if \"ignore index\" is in the code this doesn't work\n",
    "df3 = pd.concat([df1,df2],ignore_index = True,keys= ['INDIA','US'])\n",
    "df3"
   ]
  },
  {
   "cell_type": "code",
   "execution_count": 31,
   "metadata": {
    "collapsed": false
   },
   "outputs": [
    {
     "data": {
      "text/html": [
       "<div>\n",
       "<table border=\"1\" class=\"dataframe\">\n",
       "  <thead>\n",
       "    <tr style=\"text-align: right;\">\n",
       "      <th></th>\n",
       "      <th></th>\n",
       "      <th>city</th>\n",
       "      <th>humidity</th>\n",
       "      <th>temperature</th>\n",
       "    </tr>\n",
       "  </thead>\n",
       "  <tbody>\n",
       "    <tr>\n",
       "      <th rowspan=\"3\" valign=\"top\">INDIA</th>\n",
       "      <th>0</th>\n",
       "      <td>chennai</td>\n",
       "      <td>42</td>\n",
       "      <td>30</td>\n",
       "    </tr>\n",
       "    <tr>\n",
       "      <th>1</th>\n",
       "      <td>mumbai</td>\n",
       "      <td>23</td>\n",
       "      <td>39</td>\n",
       "    </tr>\n",
       "    <tr>\n",
       "      <th>2</th>\n",
       "      <td>banglore</td>\n",
       "      <td>14</td>\n",
       "      <td>45</td>\n",
       "    </tr>\n",
       "    <tr>\n",
       "      <th rowspan=\"3\" valign=\"top\">US</th>\n",
       "      <th>0</th>\n",
       "      <td>pensylvenia</td>\n",
       "      <td>42</td>\n",
       "      <td>30</td>\n",
       "    </tr>\n",
       "    <tr>\n",
       "      <th>1</th>\n",
       "      <td>newyork</td>\n",
       "      <td>23</td>\n",
       "      <td>39</td>\n",
       "    </tr>\n",
       "    <tr>\n",
       "      <th>2</th>\n",
       "      <td>new_jersy</td>\n",
       "      <td>14</td>\n",
       "      <td>45</td>\n",
       "    </tr>\n",
       "  </tbody>\n",
       "</table>\n",
       "</div>"
      ],
      "text/plain": [
       "                city  humidity  temperature\n",
       "INDIA 0      chennai        42           30\n",
       "      1       mumbai        23           39\n",
       "      2     banglore        14           45\n",
       "US    0  pensylvenia        42           30\n",
       "      1      newyork        23           39\n",
       "      2    new_jersy        14           45"
      ]
     },
     "execution_count": 31,
     "metadata": {},
     "output_type": "execute_result"
    }
   ],
   "source": [
    "df3 = pd.concat([df1,df2],ignore_index = False,keys= ['INDIA','US'])\n",
    "df3"
   ]
  },
  {
   "cell_type": "code",
   "execution_count": 36,
   "metadata": {
    "collapsed": false
   },
   "outputs": [
    {
     "data": {
      "text/html": [
       "<div>\n",
       "<table border=\"1\" class=\"dataframe\">\n",
       "  <thead>\n",
       "    <tr style=\"text-align: right;\">\n",
       "      <th></th>\n",
       "      <th>city</th>\n",
       "      <th>humidity</th>\n",
       "      <th>temperature</th>\n",
       "    </tr>\n",
       "  </thead>\n",
       "  <tbody>\n",
       "    <tr>\n",
       "      <th>0</th>\n",
       "      <td>pensylvenia</td>\n",
       "      <td>42</td>\n",
       "      <td>30</td>\n",
       "    </tr>\n",
       "    <tr>\n",
       "      <th>1</th>\n",
       "      <td>newyork</td>\n",
       "      <td>23</td>\n",
       "      <td>39</td>\n",
       "    </tr>\n",
       "    <tr>\n",
       "      <th>2</th>\n",
       "      <td>new_jersy</td>\n",
       "      <td>14</td>\n",
       "      <td>45</td>\n",
       "    </tr>\n",
       "  </tbody>\n",
       "</table>\n",
       "</div>"
      ],
      "text/plain": [
       "          city  humidity  temperature\n",
       "0  pensylvenia        42           30\n",
       "1      newyork        23           39\n",
       "2    new_jersy        14           45"
      ]
     },
     "execution_count": 36,
     "metadata": {},
     "output_type": "execute_result"
    }
   ],
   "source": [
    "# we have to use 'loc' to access our specific dataframe \"iloc\" doesn't work\n",
    "df3.loc['US']"
   ]
  },
  {
   "cell_type": "code",
   "execution_count": 77,
   "metadata": {
    "collapsed": false
   },
   "outputs": [
    {
     "data": {
      "text/html": [
       "<div>\n",
       "<table border=\"1\" class=\"dataframe\">\n",
       "  <thead>\n",
       "    <tr style=\"text-align: right;\">\n",
       "      <th></th>\n",
       "      <th>city</th>\n",
       "      <th>temperature</th>\n",
       "    </tr>\n",
       "  </thead>\n",
       "  <tbody>\n",
       "    <tr>\n",
       "      <th>0</th>\n",
       "      <td>mumbai</td>\n",
       "      <td>30</td>\n",
       "    </tr>\n",
       "    <tr>\n",
       "      <th>1</th>\n",
       "      <td>chennai</td>\n",
       "      <td>39</td>\n",
       "    </tr>\n",
       "    <tr>\n",
       "      <th>2</th>\n",
       "      <td>rajastan</td>\n",
       "      <td>45</td>\n",
       "    </tr>\n",
       "  </tbody>\n",
       "</table>\n",
       "</div>"
      ],
      "text/plain": [
       "       city  temperature\n",
       "0    mumbai           30\n",
       "1   chennai           39\n",
       "2  rajastan           45"
      ]
     },
     "execution_count": 77,
     "metadata": {},
     "output_type": "execute_result"
    }
   ],
   "source": [
    "df1 = pd.DataFrame({'city':['mumbai','chennai','rajastan'],'temperature': [30,39,45]})\n",
    "df1"
   ]
  },
  {
   "cell_type": "code",
   "execution_count": 78,
   "metadata": {
    "collapsed": false
   },
   "outputs": [
    {
     "data": {
      "text/html": [
       "<div>\n",
       "<table border=\"1\" class=\"dataframe\">\n",
       "  <thead>\n",
       "    <tr style=\"text-align: right;\">\n",
       "      <th></th>\n",
       "      <th>city</th>\n",
       "      <th>humidity</th>\n",
       "    </tr>\n",
       "  </thead>\n",
       "  <tbody>\n",
       "    <tr>\n",
       "      <th>1</th>\n",
       "      <td>chennai</td>\n",
       "      <td>42</td>\n",
       "    </tr>\n",
       "    <tr>\n",
       "      <th>0</th>\n",
       "      <td>mumbai</td>\n",
       "      <td>23</td>\n",
       "    </tr>\n",
       "  </tbody>\n",
       "</table>\n",
       "</div>"
      ],
      "text/plain": [
       "      city  humidity\n",
       "1  chennai        42\n",
       "0   mumbai        23"
      ]
     },
     "execution_count": 78,
     "metadata": {},
     "output_type": "execute_result"
    }
   ],
   "source": [
    "df2 =  pd.DataFrame({'city':['chennai','mumbai'],'humidity':[42,23]},index = [1,0])\n",
    "df2"
   ]
  },
  {
   "cell_type": "code",
   "execution_count": 79,
   "metadata": {
    "collapsed": false
   },
   "outputs": [
    {
     "data": {
      "text/html": [
       "<div>\n",
       "<table border=\"1\" class=\"dataframe\">\n",
       "  <thead>\n",
       "    <tr style=\"text-align: right;\">\n",
       "      <th></th>\n",
       "      <th>city</th>\n",
       "      <th>humidity</th>\n",
       "      <th>temperature</th>\n",
       "    </tr>\n",
       "  </thead>\n",
       "  <tbody>\n",
       "    <tr>\n",
       "      <th>0</th>\n",
       "      <td>mumbai</td>\n",
       "      <td>NaN</td>\n",
       "      <td>30.0</td>\n",
       "    </tr>\n",
       "    <tr>\n",
       "      <th>1</th>\n",
       "      <td>chennai</td>\n",
       "      <td>NaN</td>\n",
       "      <td>39.0</td>\n",
       "    </tr>\n",
       "    <tr>\n",
       "      <th>2</th>\n",
       "      <td>rajastan</td>\n",
       "      <td>NaN</td>\n",
       "      <td>45.0</td>\n",
       "    </tr>\n",
       "    <tr>\n",
       "      <th>1</th>\n",
       "      <td>chennai</td>\n",
       "      <td>42.0</td>\n",
       "      <td>NaN</td>\n",
       "    </tr>\n",
       "    <tr>\n",
       "      <th>0</th>\n",
       "      <td>mumbai</td>\n",
       "      <td>23.0</td>\n",
       "      <td>NaN</td>\n",
       "    </tr>\n",
       "  </tbody>\n",
       "</table>\n",
       "</div>"
      ],
      "text/plain": [
       "       city  humidity  temperature\n",
       "0    mumbai       NaN         30.0\n",
       "1   chennai       NaN         39.0\n",
       "2  rajastan       NaN         45.0\n",
       "1   chennai      42.0          NaN\n",
       "0    mumbai      23.0          NaN"
      ]
     },
     "execution_count": 79,
     "metadata": {},
     "output_type": "execute_result"
    }
   ],
   "source": [
    "df3 = pd.concat([df1,df2])\n",
    "df3"
   ]
  },
  {
   "cell_type": "code",
   "execution_count": 80,
   "metadata": {
    "collapsed": false
   },
   "outputs": [
    {
     "data": {
      "text/html": [
       "<div>\n",
       "<table border=\"1\" class=\"dataframe\">\n",
       "  <thead>\n",
       "    <tr style=\"text-align: right;\">\n",
       "      <th></th>\n",
       "      <th>city</th>\n",
       "      <th>temperature</th>\n",
       "      <th>city</th>\n",
       "      <th>humidity</th>\n",
       "    </tr>\n",
       "  </thead>\n",
       "  <tbody>\n",
       "    <tr>\n",
       "      <th>0</th>\n",
       "      <td>mumbai</td>\n",
       "      <td>30</td>\n",
       "      <td>mumbai</td>\n",
       "      <td>23.0</td>\n",
       "    </tr>\n",
       "    <tr>\n",
       "      <th>1</th>\n",
       "      <td>chennai</td>\n",
       "      <td>39</td>\n",
       "      <td>chennai</td>\n",
       "      <td>42.0</td>\n",
       "    </tr>\n",
       "    <tr>\n",
       "      <th>2</th>\n",
       "      <td>rajastan</td>\n",
       "      <td>45</td>\n",
       "      <td>NaN</td>\n",
       "      <td>NaN</td>\n",
       "    </tr>\n",
       "  </tbody>\n",
       "</table>\n",
       "</div>"
      ],
      "text/plain": [
       "       city  temperature     city  humidity\n",
       "0    mumbai           30   mumbai      23.0\n",
       "1   chennai           39  chennai      42.0\n",
       "2  rajastan           45      NaN       NaN"
      ]
     },
     "execution_count": 80,
     "metadata": {},
     "output_type": "execute_result"
    }
   ],
   "source": [
    "# use \"axis\" it is very important\n",
    "df3 = pd.concat([df1,df2],axis = 1)\n",
    "df3"
   ]
  },
  {
   "cell_type": "code",
   "execution_count": 81,
   "metadata": {
    "collapsed": true
   },
   "outputs": [],
   "source": [
    "df2 =  pd.DataFrame({'city':['chennai','mumbai','hyderabad'],'humidity':[42,23,43]},index = [1,0,2])"
   ]
  },
  {
   "cell_type": "code",
   "execution_count": 82,
   "metadata": {
    "collapsed": false
   },
   "outputs": [
    {
     "data": {
      "text/html": [
       "<div>\n",
       "<table border=\"1\" class=\"dataframe\">\n",
       "  <thead>\n",
       "    <tr style=\"text-align: right;\">\n",
       "      <th></th>\n",
       "      <th>city</th>\n",
       "      <th>temperature</th>\n",
       "      <th>city</th>\n",
       "      <th>humidity</th>\n",
       "    </tr>\n",
       "  </thead>\n",
       "  <tbody>\n",
       "    <tr>\n",
       "      <th>0</th>\n",
       "      <td>mumbai</td>\n",
       "      <td>30</td>\n",
       "      <td>mumbai</td>\n",
       "      <td>23</td>\n",
       "    </tr>\n",
       "    <tr>\n",
       "      <th>1</th>\n",
       "      <td>chennai</td>\n",
       "      <td>39</td>\n",
       "      <td>chennai</td>\n",
       "      <td>42</td>\n",
       "    </tr>\n",
       "    <tr>\n",
       "      <th>2</th>\n",
       "      <td>rajastan</td>\n",
       "      <td>45</td>\n",
       "      <td>hyderabad</td>\n",
       "      <td>43</td>\n",
       "    </tr>\n",
       "  </tbody>\n",
       "</table>\n",
       "</div>"
      ],
      "text/plain": [
       "       city  temperature       city  humidity\n",
       "0    mumbai           30     mumbai        23\n",
       "1   chennai           39    chennai        42\n",
       "2  rajastan           45  hyderabad        43"
      ]
     },
     "execution_count": 82,
     "metadata": {},
     "output_type": "execute_result"
    }
   ],
   "source": [
    "df3 = pd.concat([df1,df2],axis = 1)\n",
    "df3"
   ]
  },
  {
   "cell_type": "code",
   "execution_count": 57,
   "metadata": {
    "collapsed": false
   },
   "outputs": [],
   "source": [
    "s = pd.Series(['humid','dry','rain'],name = 'event')"
   ]
  },
  {
   "cell_type": "code",
   "execution_count": 60,
   "metadata": {
    "collapsed": false
   },
   "outputs": [
    {
     "data": {
      "text/html": [
       "<div>\n",
       "<table border=\"1\" class=\"dataframe\">\n",
       "  <thead>\n",
       "    <tr style=\"text-align: right;\">\n",
       "      <th></th>\n",
       "      <th>0</th>\n",
       "      <th>city</th>\n",
       "      <th>temperature</th>\n",
       "    </tr>\n",
       "  </thead>\n",
       "  <tbody>\n",
       "    <tr>\n",
       "      <th>0</th>\n",
       "      <td>NaN</td>\n",
       "      <td>mumbai</td>\n",
       "      <td>30.0</td>\n",
       "    </tr>\n",
       "    <tr>\n",
       "      <th>1</th>\n",
       "      <td>NaN</td>\n",
       "      <td>chennai</td>\n",
       "      <td>39.0</td>\n",
       "    </tr>\n",
       "    <tr>\n",
       "      <th>2</th>\n",
       "      <td>NaN</td>\n",
       "      <td>rajastan</td>\n",
       "      <td>45.0</td>\n",
       "    </tr>\n",
       "    <tr>\n",
       "      <th>0</th>\n",
       "      <td>humid</td>\n",
       "      <td>NaN</td>\n",
       "      <td>NaN</td>\n",
       "    </tr>\n",
       "    <tr>\n",
       "      <th>1</th>\n",
       "      <td>dry</td>\n",
       "      <td>NaN</td>\n",
       "      <td>NaN</td>\n",
       "    </tr>\n",
       "    <tr>\n",
       "      <th>2</th>\n",
       "      <td>rain</td>\n",
       "      <td>NaN</td>\n",
       "      <td>NaN</td>\n",
       "    </tr>\n",
       "  </tbody>\n",
       "</table>\n",
       "</div>"
      ],
      "text/plain": [
       "       0      city  temperature\n",
       "0    NaN    mumbai         30.0\n",
       "1    NaN   chennai         39.0\n",
       "2    NaN  rajastan         45.0\n",
       "0  humid       NaN          NaN\n",
       "1    dry       NaN          NaN\n",
       "2   rain       NaN          NaN"
      ]
     },
     "execution_count": 60,
     "metadata": {},
     "output_type": "execute_result"
    }
   ],
   "source": [
    "#It creates a new column \"0\" for axis  = 0\n",
    "df3 = pd.concat([df1,s])\n",
    "df3"
   ]
  },
  {
   "cell_type": "code",
   "execution_count": 61,
   "metadata": {
    "collapsed": false
   },
   "outputs": [
    {
     "data": {
      "text/html": [
       "<div>\n",
       "<table border=\"1\" class=\"dataframe\">\n",
       "  <thead>\n",
       "    <tr style=\"text-align: right;\">\n",
       "      <th></th>\n",
       "      <th>city</th>\n",
       "      <th>temperature</th>\n",
       "      <th>event</th>\n",
       "    </tr>\n",
       "  </thead>\n",
       "  <tbody>\n",
       "    <tr>\n",
       "      <th>0</th>\n",
       "      <td>mumbai</td>\n",
       "      <td>30</td>\n",
       "      <td>humid</td>\n",
       "    </tr>\n",
       "    <tr>\n",
       "      <th>1</th>\n",
       "      <td>chennai</td>\n",
       "      <td>39</td>\n",
       "      <td>dry</td>\n",
       "    </tr>\n",
       "    <tr>\n",
       "      <th>2</th>\n",
       "      <td>rajastan</td>\n",
       "      <td>45</td>\n",
       "      <td>rain</td>\n",
       "    </tr>\n",
       "  </tbody>\n",
       "</table>\n",
       "</div>"
      ],
      "text/plain": [
       "       city  temperature  event\n",
       "0    mumbai           30  humid\n",
       "1   chennai           39    dry\n",
       "2  rajastan           45   rain"
      ]
     },
     "execution_count": 61,
     "metadata": {},
     "output_type": "execute_result"
    }
   ],
   "source": [
    "#this is perfect the top one is wrong\n",
    "df3 = pd.concat([df1,s],axis = 1)\n",
    "df3"
   ]
  },
  {
   "cell_type": "markdown",
   "metadata": {
    "collapsed": true
   },
   "source": [
    "# merging and appending"
   ]
  },
  {
   "cell_type": "code",
   "execution_count": 83,
   "metadata": {
    "collapsed": true
   },
   "outputs": [],
   "source": [
    "df1 = pd.DataFrame({'HPI':[80,85,88,85],\n",
    "                    'Int_rate':[2, 3, 2, 2],\n",
    "                    'US_GDP_Thousands':[50, 55, 65, 55]},\n",
    "                   index = [2001, 2002, 2003, 2004])\n",
    "\n",
    "df2 = pd.DataFrame({'HPI':[80,85,88,85],\n",
    "                    'Int_rate':[2, 3, 2, 2],\n",
    "                    'US_GDP_Thousands':[50, 55, 65, 55]},\n",
    "                   index = [2005, 2006, 2007, 2008])\n",
    "\n",
    "df3 = pd.DataFrame({'HPI':[80,85,88,85],\n",
    "                    'Int_rate':[2, 3, 2, 2],\n",
    "                    'Low_tier_HPI':[50, 52, 50, 53]},\n",
    "                   index = [2001, 2002, 2003, 2004])"
   ]
  },
  {
   "cell_type": "code",
   "execution_count": 84,
   "metadata": {
    "collapsed": false
   },
   "outputs": [
    {
     "data": {
      "text/html": [
       "<div>\n",
       "<table border=\"1\" class=\"dataframe\">\n",
       "  <thead>\n",
       "    <tr style=\"text-align: right;\">\n",
       "      <th></th>\n",
       "      <th>HPI</th>\n",
       "      <th>Int_rate</th>\n",
       "      <th>US_GDP_Thousands</th>\n",
       "    </tr>\n",
       "  </thead>\n",
       "  <tbody>\n",
       "    <tr>\n",
       "      <th>2001</th>\n",
       "      <td>80</td>\n",
       "      <td>2</td>\n",
       "      <td>50</td>\n",
       "    </tr>\n",
       "    <tr>\n",
       "      <th>2002</th>\n",
       "      <td>85</td>\n",
       "      <td>3</td>\n",
       "      <td>55</td>\n",
       "    </tr>\n",
       "    <tr>\n",
       "      <th>2003</th>\n",
       "      <td>88</td>\n",
       "      <td>2</td>\n",
       "      <td>65</td>\n",
       "    </tr>\n",
       "    <tr>\n",
       "      <th>2004</th>\n",
       "      <td>85</td>\n",
       "      <td>2</td>\n",
       "      <td>55</td>\n",
       "    </tr>\n",
       "  </tbody>\n",
       "</table>\n",
       "</div>"
      ],
      "text/plain": [
       "      HPI  Int_rate  US_GDP_Thousands\n",
       "2001   80         2                50\n",
       "2002   85         3                55\n",
       "2003   88         2                65\n",
       "2004   85         2                55"
      ]
     },
     "execution_count": 84,
     "metadata": {},
     "output_type": "execute_result"
    }
   ],
   "source": [
    "df1"
   ]
  },
  {
   "cell_type": "code",
   "execution_count": 85,
   "metadata": {
    "collapsed": false
   },
   "outputs": [
    {
     "data": {
      "text/html": [
       "<div>\n",
       "<table border=\"1\" class=\"dataframe\">\n",
       "  <thead>\n",
       "    <tr style=\"text-align: right;\">\n",
       "      <th></th>\n",
       "      <th>HPI</th>\n",
       "      <th>Int_rate</th>\n",
       "      <th>US_GDP_Thousands</th>\n",
       "    </tr>\n",
       "  </thead>\n",
       "  <tbody>\n",
       "    <tr>\n",
       "      <th>2005</th>\n",
       "      <td>80</td>\n",
       "      <td>2</td>\n",
       "      <td>50</td>\n",
       "    </tr>\n",
       "    <tr>\n",
       "      <th>2006</th>\n",
       "      <td>85</td>\n",
       "      <td>3</td>\n",
       "      <td>55</td>\n",
       "    </tr>\n",
       "    <tr>\n",
       "      <th>2007</th>\n",
       "      <td>88</td>\n",
       "      <td>2</td>\n",
       "      <td>65</td>\n",
       "    </tr>\n",
       "    <tr>\n",
       "      <th>2008</th>\n",
       "      <td>85</td>\n",
       "      <td>2</td>\n",
       "      <td>55</td>\n",
       "    </tr>\n",
       "  </tbody>\n",
       "</table>\n",
       "</div>"
      ],
      "text/plain": [
       "      HPI  Int_rate  US_GDP_Thousands\n",
       "2005   80         2                50\n",
       "2006   85         3                55\n",
       "2007   88         2                65\n",
       "2008   85         2                55"
      ]
     },
     "execution_count": 85,
     "metadata": {},
     "output_type": "execute_result"
    }
   ],
   "source": [
    "df2"
   ]
  },
  {
   "cell_type": "code",
   "execution_count": 86,
   "metadata": {
    "collapsed": false
   },
   "outputs": [
    {
     "data": {
      "text/html": [
       "<div>\n",
       "<table border=\"1\" class=\"dataframe\">\n",
       "  <thead>\n",
       "    <tr style=\"text-align: right;\">\n",
       "      <th></th>\n",
       "      <th>HPI</th>\n",
       "      <th>Int_rate</th>\n",
       "      <th>Low_tier_HPI</th>\n",
       "    </tr>\n",
       "  </thead>\n",
       "  <tbody>\n",
       "    <tr>\n",
       "      <th>2001</th>\n",
       "      <td>80</td>\n",
       "      <td>2</td>\n",
       "      <td>50</td>\n",
       "    </tr>\n",
       "    <tr>\n",
       "      <th>2002</th>\n",
       "      <td>85</td>\n",
       "      <td>3</td>\n",
       "      <td>52</td>\n",
       "    </tr>\n",
       "    <tr>\n",
       "      <th>2003</th>\n",
       "      <td>88</td>\n",
       "      <td>2</td>\n",
       "      <td>50</td>\n",
       "    </tr>\n",
       "    <tr>\n",
       "      <th>2004</th>\n",
       "      <td>85</td>\n",
       "      <td>2</td>\n",
       "      <td>53</td>\n",
       "    </tr>\n",
       "  </tbody>\n",
       "</table>\n",
       "</div>"
      ],
      "text/plain": [
       "      HPI  Int_rate  Low_tier_HPI\n",
       "2001   80         2            50\n",
       "2002   85         3            52\n",
       "2003   88         2            50\n",
       "2004   85         2            53"
      ]
     },
     "execution_count": 86,
     "metadata": {},
     "output_type": "execute_result"
    }
   ],
   "source": [
    "df3"
   ]
  },
  {
   "cell_type": "code",
   "execution_count": 87,
   "metadata": {
    "collapsed": false
   },
   "outputs": [
    {
     "data": {
      "text/html": [
       "<div>\n",
       "<table border=\"1\" class=\"dataframe\">\n",
       "  <thead>\n",
       "    <tr style=\"text-align: right;\">\n",
       "      <th></th>\n",
       "      <th>HPI</th>\n",
       "      <th>Int_rate</th>\n",
       "      <th>US_GDP_Thousands</th>\n",
       "    </tr>\n",
       "  </thead>\n",
       "  <tbody>\n",
       "    <tr>\n",
       "      <th>2001</th>\n",
       "      <td>80</td>\n",
       "      <td>2</td>\n",
       "      <td>50</td>\n",
       "    </tr>\n",
       "    <tr>\n",
       "      <th>2002</th>\n",
       "      <td>85</td>\n",
       "      <td>3</td>\n",
       "      <td>55</td>\n",
       "    </tr>\n",
       "    <tr>\n",
       "      <th>2003</th>\n",
       "      <td>88</td>\n",
       "      <td>2</td>\n",
       "      <td>65</td>\n",
       "    </tr>\n",
       "    <tr>\n",
       "      <th>2004</th>\n",
       "      <td>85</td>\n",
       "      <td>2</td>\n",
       "      <td>55</td>\n",
       "    </tr>\n",
       "    <tr>\n",
       "      <th>2005</th>\n",
       "      <td>80</td>\n",
       "      <td>2</td>\n",
       "      <td>50</td>\n",
       "    </tr>\n",
       "    <tr>\n",
       "      <th>2006</th>\n",
       "      <td>85</td>\n",
       "      <td>3</td>\n",
       "      <td>55</td>\n",
       "    </tr>\n",
       "    <tr>\n",
       "      <th>2007</th>\n",
       "      <td>88</td>\n",
       "      <td>2</td>\n",
       "      <td>65</td>\n",
       "    </tr>\n",
       "    <tr>\n",
       "      <th>2008</th>\n",
       "      <td>85</td>\n",
       "      <td>2</td>\n",
       "      <td>55</td>\n",
       "    </tr>\n",
       "  </tbody>\n",
       "</table>\n",
       "</div>"
      ],
      "text/plain": [
       "      HPI  Int_rate  US_GDP_Thousands\n",
       "2001   80         2                50\n",
       "2002   85         3                55\n",
       "2003   88         2                65\n",
       "2004   85         2                55\n",
       "2005   80         2                50\n",
       "2006   85         3                55\n",
       "2007   88         2                65\n",
       "2008   85         2                55"
      ]
     },
     "execution_count": 87,
     "metadata": {},
     "output_type": "execute_result"
    }
   ],
   "source": [
    "concat = pd.concat([df1,df2])\n",
    "concat"
   ]
  },
  {
   "cell_type": "code",
   "execution_count": 20,
   "metadata": {
    "collapsed": false
   },
   "outputs": [
    {
     "data": {
      "text/html": [
       "<div>\n",
       "<table border=\"1\" class=\"dataframe\">\n",
       "  <thead>\n",
       "    <tr style=\"text-align: right;\">\n",
       "      <th></th>\n",
       "      <th>HPI</th>\n",
       "      <th>Int_rate</th>\n",
       "      <th>US_GDP_Thousands</th>\n",
       "    </tr>\n",
       "  </thead>\n",
       "  <tbody>\n",
       "    <tr>\n",
       "      <th>2001</th>\n",
       "      <td>80</td>\n",
       "      <td>2</td>\n",
       "      <td>50</td>\n",
       "    </tr>\n",
       "    <tr>\n",
       "      <th>2002</th>\n",
       "      <td>85</td>\n",
       "      <td>3</td>\n",
       "      <td>55</td>\n",
       "    </tr>\n",
       "    <tr>\n",
       "      <th>2003</th>\n",
       "      <td>88</td>\n",
       "      <td>2</td>\n",
       "      <td>65</td>\n",
       "    </tr>\n",
       "    <tr>\n",
       "      <th>2004</th>\n",
       "      <td>85</td>\n",
       "      <td>2</td>\n",
       "      <td>55</td>\n",
       "    </tr>\n",
       "    <tr>\n",
       "      <th>2005</th>\n",
       "      <td>80</td>\n",
       "      <td>2</td>\n",
       "      <td>50</td>\n",
       "    </tr>\n",
       "    <tr>\n",
       "      <th>2006</th>\n",
       "      <td>85</td>\n",
       "      <td>3</td>\n",
       "      <td>55</td>\n",
       "    </tr>\n",
       "    <tr>\n",
       "      <th>2007</th>\n",
       "      <td>88</td>\n",
       "      <td>2</td>\n",
       "      <td>65</td>\n",
       "    </tr>\n",
       "    <tr>\n",
       "      <th>2008</th>\n",
       "      <td>85</td>\n",
       "      <td>2</td>\n",
       "      <td>55</td>\n",
       "    </tr>\n",
       "  </tbody>\n",
       "</table>\n",
       "</div>"
      ],
      "text/plain": [
       "      HPI  Int_rate  US_GDP_Thousands\n",
       "2001   80         2                50\n",
       "2002   85         3                55\n",
       "2003   88         2                65\n",
       "2004   85         2                55\n",
       "2005   80         2                50\n",
       "2006   85         3                55\n",
       "2007   88         2                65\n",
       "2008   85         2                55"
      ]
     },
     "execution_count": 20,
     "metadata": {},
     "output_type": "execute_result"
    }
   ],
   "source": [
    "df1.append(df2)"
   ]
  },
  {
   "cell_type": "code",
   "execution_count": 92,
   "metadata": {
    "collapsed": false
   },
   "outputs": [
    {
     "data": {
      "text/html": [
       "<div>\n",
       "<table border=\"1\" class=\"dataframe\">\n",
       "  <thead>\n",
       "    <tr style=\"text-align: right;\">\n",
       "      <th></th>\n",
       "      <th>HPI</th>\n",
       "      <th>Int_rate</th>\n",
       "      <th>US_GDP_Thousands</th>\n",
       "    </tr>\n",
       "  </thead>\n",
       "  <tbody>\n",
       "    <tr>\n",
       "      <th>0</th>\n",
       "      <td>80</td>\n",
       "      <td>2</td>\n",
       "      <td>50</td>\n",
       "    </tr>\n",
       "    <tr>\n",
       "      <th>1</th>\n",
       "      <td>85</td>\n",
       "      <td>3</td>\n",
       "      <td>55</td>\n",
       "    </tr>\n",
       "    <tr>\n",
       "      <th>2</th>\n",
       "      <td>88</td>\n",
       "      <td>2</td>\n",
       "      <td>65</td>\n",
       "    </tr>\n",
       "    <tr>\n",
       "      <th>3</th>\n",
       "      <td>85</td>\n",
       "      <td>2</td>\n",
       "      <td>55</td>\n",
       "    </tr>\n",
       "    <tr>\n",
       "      <th>4</th>\n",
       "      <td>20</td>\n",
       "      <td>3</td>\n",
       "      <td>45</td>\n",
       "    </tr>\n",
       "  </tbody>\n",
       "</table>\n",
       "</div>"
      ],
      "text/plain": [
       "   HPI  Int_rate  US_GDP_Thousands\n",
       "0   80         2                50\n",
       "1   85         3                55\n",
       "2   88         2                65\n",
       "3   85         2                55\n",
       "4   20         3                45"
      ]
     },
     "execution_count": 92,
     "metadata": {},
     "output_type": "execute_result"
    }
   ],
   "source": [
    "# \"append\" works only if it have ignore_index = True and it don't have axis and then it add only as a row different than \"concat\"\n",
    "s = pd.Series([20,3,45],index = ['HPI','Int_rate','US_GDP_Thousands'])\n",
    "df1.append(s,ignore_index = True)"
   ]
  },
  {
   "cell_type": "code",
   "execution_count": 93,
   "metadata": {
    "collapsed": false
   },
   "outputs": [
    {
     "data": {
      "text/html": [
       "<div>\n",
       "<table border=\"1\" class=\"dataframe\">\n",
       "  <thead>\n",
       "    <tr style=\"text-align: right;\">\n",
       "      <th></th>\n",
       "      <th>HPI</th>\n",
       "      <th>Int_rate</th>\n",
       "      <th>US_GDP_Thousands</th>\n",
       "    </tr>\n",
       "  </thead>\n",
       "  <tbody>\n",
       "    <tr>\n",
       "      <th>2001</th>\n",
       "      <td>80</td>\n",
       "      <td>2</td>\n",
       "      <td>50</td>\n",
       "    </tr>\n",
       "    <tr>\n",
       "      <th>2002</th>\n",
       "      <td>85</td>\n",
       "      <td>3</td>\n",
       "      <td>55</td>\n",
       "    </tr>\n",
       "    <tr>\n",
       "      <th>2003</th>\n",
       "      <td>88</td>\n",
       "      <td>2</td>\n",
       "      <td>65</td>\n",
       "    </tr>\n",
       "    <tr>\n",
       "      <th>2004</th>\n",
       "      <td>85</td>\n",
       "      <td>2</td>\n",
       "      <td>55</td>\n",
       "    </tr>\n",
       "    <tr>\n",
       "      <th>2005</th>\n",
       "      <td>20</td>\n",
       "      <td>3</td>\n",
       "      <td>45</td>\n",
       "    </tr>\n",
       "  </tbody>\n",
       "</table>\n",
       "</div>"
      ],
      "text/plain": [
       "      HPI  Int_rate  US_GDP_Thousands\n",
       "2001   80         2                50\n",
       "2002   85         3                55\n",
       "2003   88         2                65\n",
       "2004   85         2                55\n",
       "2005   20         3                45"
      ]
     },
     "execution_count": 93,
     "metadata": {},
     "output_type": "execute_result"
    }
   ],
   "source": [
    "# IT will work if series have a name\n",
    "s = pd.Series([20,3,45],index = ['HPI','Int_rate','US_GDP_Thousands'],name = '2005')\n",
    "df1.append(s)"
   ]
  },
  {
   "cell_type": "code",
   "execution_count": 16,
   "metadata": {
    "collapsed": true
   },
   "outputs": [],
   "source": [
    "df1 = pd.DataFrame({'HPI':[80,85,88,85],\n",
    "                    'Int_rate':[2, 3, 2, 2],\n",
    "                    'US_GDP_Thousands':[50, 55, 65, 55]},\n",
    "                   index = [2001, 2002, 2003, 2004])\n",
    "\n",
    "df2 = pd.DataFrame({'HPI':[80,85,88,85],\n",
    "                    'Int_rate':[2, 3, 2, 2],\n",
    "                    'US_GDP_Thousands':[50, 55, 65, 55]},\n",
    "                   index = [2005, 2006, 2007, 2008])\n",
    "\n",
    "df3 = pd.DataFrame({'HPI':[80,85,88,85],\n",
    "                    'Int_rate':[2, 3, 2, 2],\n",
    "                    'Low_tier_HPI':[50, 52, 50, 53]},\n",
    "                   index = [2001, 2002, 2003, 2004])"
   ]
  },
  {
   "cell_type": "markdown",
   "metadata": {},
   "source": [
    "# merge dataframe"
   ]
  },
  {
   "cell_type": "code",
   "execution_count": 33,
   "metadata": {
    "collapsed": false
   },
   "outputs": [
    {
     "data": {
      "text/html": [
       "<div>\n",
       "<table border=\"1\" class=\"dataframe\">\n",
       "  <thead>\n",
       "    <tr style=\"text-align: right;\">\n",
       "      <th></th>\n",
       "      <th>userId</th>\n",
       "      <th>movieId</th>\n",
       "      <th>tag</th>\n",
       "      <th>timestamp</th>\n",
       "    </tr>\n",
       "  </thead>\n",
       "  <tbody>\n",
       "    <tr>\n",
       "      <th>0</th>\n",
       "      <td>18</td>\n",
       "      <td>4141</td>\n",
       "      <td>Mark Waters</td>\n",
       "      <td>1240597180</td>\n",
       "    </tr>\n",
       "    <tr>\n",
       "      <th>1</th>\n",
       "      <td>65</td>\n",
       "      <td>208</td>\n",
       "      <td>dark hero</td>\n",
       "      <td>1368150078</td>\n",
       "    </tr>\n",
       "    <tr>\n",
       "      <th>2</th>\n",
       "      <td>65</td>\n",
       "      <td>353</td>\n",
       "      <td>dark hero</td>\n",
       "      <td>1368150079</td>\n",
       "    </tr>\n",
       "    <tr>\n",
       "      <th>3</th>\n",
       "      <td>65</td>\n",
       "      <td>521</td>\n",
       "      <td>noir thriller</td>\n",
       "      <td>1368149983</td>\n",
       "    </tr>\n",
       "    <tr>\n",
       "      <th>4</th>\n",
       "      <td>65</td>\n",
       "      <td>592</td>\n",
       "      <td>dark hero</td>\n",
       "      <td>1368150078</td>\n",
       "    </tr>\n",
       "  </tbody>\n",
       "</table>\n",
       "</div>"
      ],
      "text/plain": [
       "   userId  movieId            tag   timestamp\n",
       "0      18     4141    Mark Waters  1240597180\n",
       "1      65      208      dark hero  1368150078\n",
       "2      65      353      dark hero  1368150079\n",
       "3      65      521  noir thriller  1368149983\n",
       "4      65      592      dark hero  1368150078"
      ]
     },
     "execution_count": 33,
     "metadata": {},
     "output_type": "execute_result"
    }
   ],
   "source": [
    "tags = pd.read_csv(R\"D:\\python files\\pandas exercise\\tags.csv\")\n",
    "tags.head()"
   ]
  },
  {
   "cell_type": "code",
   "execution_count": 34,
   "metadata": {
    "collapsed": false
   },
   "outputs": [
    {
     "data": {
      "text/html": [
       "<div>\n",
       "<table border=\"1\" class=\"dataframe\">\n",
       "  <thead>\n",
       "    <tr style=\"text-align: right;\">\n",
       "      <th></th>\n",
       "      <th>Unnamed: 0</th>\n",
       "      <th>star_rating</th>\n",
       "      <th>title</th>\n",
       "      <th>content_rating</th>\n",
       "      <th>genre</th>\n",
       "      <th>duration</th>\n",
       "      <th>actors_list</th>\n",
       "    </tr>\n",
       "  </thead>\n",
       "  <tbody>\n",
       "    <tr>\n",
       "      <th>0</th>\n",
       "      <td>0</td>\n",
       "      <td>9.3</td>\n",
       "      <td>The Shawshank Redemption</td>\n",
       "      <td>R</td>\n",
       "      <td>Crime</td>\n",
       "      <td>142</td>\n",
       "      <td>[u'Tim Robbins', u'Morgan Freeman', u'Bob Gunt...</td>\n",
       "    </tr>\n",
       "    <tr>\n",
       "      <th>1</th>\n",
       "      <td>1</td>\n",
       "      <td>9.2</td>\n",
       "      <td>The Godfather</td>\n",
       "      <td>R</td>\n",
       "      <td>Crime</td>\n",
       "      <td>175</td>\n",
       "      <td>[u'Marlon Brando', u'Al Pacino', u'James Caan']</td>\n",
       "    </tr>\n",
       "    <tr>\n",
       "      <th>2</th>\n",
       "      <td>2</td>\n",
       "      <td>9.1</td>\n",
       "      <td>The Godfather: Part II</td>\n",
       "      <td>R</td>\n",
       "      <td>Crime</td>\n",
       "      <td>200</td>\n",
       "      <td>[u'Al Pacino', u'Robert De Niro', u'Robert Duv...</td>\n",
       "    </tr>\n",
       "    <tr>\n",
       "      <th>3</th>\n",
       "      <td>3</td>\n",
       "      <td>9.0</td>\n",
       "      <td>The Dark Knight</td>\n",
       "      <td>PG-13</td>\n",
       "      <td>Action</td>\n",
       "      <td>152</td>\n",
       "      <td>[u'Christian Bale', u'Heath Ledger', u'Aaron E...</td>\n",
       "    </tr>\n",
       "    <tr>\n",
       "      <th>4</th>\n",
       "      <td>4</td>\n",
       "      <td>8.9</td>\n",
       "      <td>Pulp Fiction</td>\n",
       "      <td>R</td>\n",
       "      <td>Crime</td>\n",
       "      <td>154</td>\n",
       "      <td>[u'John Travolta', u'Uma Thurman', u'Samuel L....</td>\n",
       "    </tr>\n",
       "  </tbody>\n",
       "</table>\n",
       "</div>"
      ],
      "text/plain": [
       "   Unnamed: 0  star_rating                     title content_rating   genre  \\\n",
       "0           0          9.3  The Shawshank Redemption              R   Crime   \n",
       "1           1          9.2             The Godfather              R   Crime   \n",
       "2           2          9.1    The Godfather: Part II              R   Crime   \n",
       "3           3          9.0           The Dark Knight          PG-13  Action   \n",
       "4           4          8.9              Pulp Fiction              R   Crime   \n",
       "\n",
       "   duration                                        actors_list  \n",
       "0       142  [u'Tim Robbins', u'Morgan Freeman', u'Bob Gunt...  \n",
       "1       175    [u'Marlon Brando', u'Al Pacino', u'James Caan']  \n",
       "2       200  [u'Al Pacino', u'Robert De Niro', u'Robert Duv...  \n",
       "3       152  [u'Christian Bale', u'Heath Ledger', u'Aaron E...  \n",
       "4       154  [u'John Travolta', u'Uma Thurman', u'Samuel L....  "
      ]
     },
     "execution_count": 34,
     "metadata": {},
     "output_type": "execute_result"
    }
   ],
   "source": [
    "movies.head()"
   ]
  },
  {
   "cell_type": "code",
   "execution_count": 94,
   "metadata": {
    "collapsed": false
   },
   "outputs": [
    {
     "name": "stdout",
     "output_type": "stream",
     "text": [
      "0\n",
      "1\n",
      "3\n",
      "7\n",
      "15\n",
      "31\n",
      "63\n",
      "127\n",
      "255\n",
      "511\n",
      "1023\n",
      "2047\n",
      "4095\n",
      "8191\n",
      "16383\n",
      "32767\n",
      "65535\n",
      "131071\n",
      "262143\n",
      "524287\n",
      "1048575\n",
      "2097151\n",
      "4194303\n",
      "8388607\n",
      "16777215\n",
      "33554431\n",
      "67108863\n",
      "134217727\n",
      "268435455\n",
      "536870911\n",
      "1073741823\n",
      "2147483647\n",
      "4294967295\n",
      "8589934591\n",
      "17179869183\n",
      "34359738367\n",
      "68719476735\n",
      "137438953471\n",
      "274877906943\n",
      "549755813887\n",
      "1099511627775\n",
      "2199023255551\n",
      "4398046511103\n",
      "8796093022207\n",
      "17592186044415\n",
      "35184372088831\n",
      "70368744177663\n",
      "140737488355327\n",
      "281474976710655\n",
      "562949953421311\n",
      "1125899906842623\n",
      "2251799813685247\n",
      "4503599627370495\n",
      "9007199254740991\n",
      "18014398509481983\n",
      "36028797018963967\n",
      "72057594037927935\n",
      "144115188075855871\n",
      "288230376151711743\n",
      "576460752303423487\n",
      "1152921504606846975\n",
      "2305843009213693951\n",
      "4611686018427387903\n",
      "9223372036854775807\n",
      "18446744073709551615\n",
      "36893488147419103231\n",
      "73786976294838206463\n",
      "147573952589676412927\n",
      "295147905179352825855\n",
      "590295810358705651711\n",
      "1180591620717411303423\n",
      "2361183241434822606847\n",
      "4722366482869645213695\n",
      "9444732965739290427391\n",
      "18889465931478580854783\n",
      "37778931862957161709567\n",
      "75557863725914323419135\n",
      "151115727451828646838271\n",
      "302231454903657293676543\n",
      "604462909807314587353087\n",
      "1208925819614629174706175\n",
      "2417851639229258349412351\n",
      "4835703278458516698824703\n",
      "9671406556917033397649407\n",
      "19342813113834066795298815\n",
      "38685626227668133590597631\n",
      "77371252455336267181195263\n",
      "154742504910672534362390527\n",
      "309485009821345068724781055\n",
      "618970019642690137449562111\n",
      "1237940039285380274899124223\n",
      "2475880078570760549798248447\n",
      "4951760157141521099596496895\n",
      "9903520314283042199192993791\n",
      "19807040628566084398385987583\n",
      "39614081257132168796771975167\n",
      "79228162514264337593543950335\n",
      "158456325028528675187087900671\n",
      "316912650057057350374175801343\n",
      "633825300114114700748351602687\n",
      "1267650600228229401496703205375\n",
      "2535301200456458802993406410751\n",
      "5070602400912917605986812821503\n",
      "10141204801825835211973625643007\n",
      "20282409603651670423947251286015\n",
      "40564819207303340847894502572031\n",
      "81129638414606681695789005144063\n",
      "162259276829213363391578010288127\n",
      "324518553658426726783156020576255\n",
      "649037107316853453566312041152511\n",
      "1298074214633706907132624082305023\n",
      "2596148429267413814265248164610047\n",
      "5192296858534827628530496329220095\n",
      "10384593717069655257060992658440191\n",
      "20769187434139310514121985316880383\n",
      "41538374868278621028243970633760767\n",
      "83076749736557242056487941267521535\n",
      "166153499473114484112975882535043071\n",
      "332306998946228968225951765070086143\n",
      "664613997892457936451903530140172287\n",
      "1329227995784915872903807060280344575\n",
      "2658455991569831745807614120560689151\n",
      "5316911983139663491615228241121378303\n",
      "10633823966279326983230456482242756607\n",
      "21267647932558653966460912964485513215\n",
      "42535295865117307932921825928971026431\n",
      "85070591730234615865843651857942052863\n",
      "170141183460469231731687303715884105727\n",
      "340282366920938463463374607431768211455\n",
      "680564733841876926926749214863536422911\n",
      "1361129467683753853853498429727072845823\n",
      "2722258935367507707706996859454145691647\n",
      "5444517870735015415413993718908291383295\n",
      "10889035741470030830827987437816582766591\n",
      "21778071482940061661655974875633165533183\n",
      "43556142965880123323311949751266331066367\n",
      "87112285931760246646623899502532662132735\n",
      "174224571863520493293247799005065324265471\n",
      "348449143727040986586495598010130648530943\n",
      "696898287454081973172991196020261297061887\n",
      "1393796574908163946345982392040522594123775\n",
      "2787593149816327892691964784081045188247551\n",
      "5575186299632655785383929568162090376495103\n",
      "11150372599265311570767859136324180752990207\n",
      "22300745198530623141535718272648361505980415\n",
      "44601490397061246283071436545296723011960831\n",
      "89202980794122492566142873090593446023921663\n",
      "178405961588244985132285746181186892047843327\n",
      "356811923176489970264571492362373784095686655\n",
      "713623846352979940529142984724747568191373311\n",
      "1427247692705959881058285969449495136382746623\n",
      "2854495385411919762116571938898990272765493247\n",
      "5708990770823839524233143877797980545530986495\n",
      "11417981541647679048466287755595961091061972991\n",
      "22835963083295358096932575511191922182123945983\n",
      "45671926166590716193865151022383844364247891967\n",
      "91343852333181432387730302044767688728495783935\n",
      "182687704666362864775460604089535377456991567871\n",
      "365375409332725729550921208179070754913983135743\n",
      "730750818665451459101842416358141509827966271487\n",
      "1461501637330902918203684832716283019655932542975\n",
      "2923003274661805836407369665432566039311865085951\n",
      "5846006549323611672814739330865132078623730171903\n",
      "11692013098647223345629478661730264157247460343807\n",
      "23384026197294446691258957323460528314494920687615\n",
      "46768052394588893382517914646921056628989841375231\n",
      "93536104789177786765035829293842113257979682750463\n",
      "187072209578355573530071658587684226515959365500927\n",
      "374144419156711147060143317175368453031918731001855\n",
      "748288838313422294120286634350736906063837462003711\n",
      "1496577676626844588240573268701473812127674924007423\n",
      "2993155353253689176481146537402947624255349848014847\n",
      "5986310706507378352962293074805895248510699696029695\n",
      "11972621413014756705924586149611790497021399392059391\n",
      "23945242826029513411849172299223580994042798784118783\n",
      "47890485652059026823698344598447161988085597568237567\n",
      "95780971304118053647396689196894323976171195136475135\n",
      "191561942608236107294793378393788647952342390272950271\n",
      "383123885216472214589586756787577295904684780545900543\n",
      "766247770432944429179173513575154591809369561091801087\n",
      "1532495540865888858358347027150309183618739122183602175\n",
      "3064991081731777716716694054300618367237478244367204351\n",
      "6129982163463555433433388108601236734474956488734408703\n",
      "12259964326927110866866776217202473468949912977468817407\n",
      "24519928653854221733733552434404946937899825954937634815\n",
      "49039857307708443467467104868809893875799651909875269631\n",
      "98079714615416886934934209737619787751599303819750539263\n",
      "196159429230833773869868419475239575503198607639501078527\n",
      "392318858461667547739736838950479151006397215279002157055\n",
      "784637716923335095479473677900958302012794430558004314111\n",
      "1569275433846670190958947355801916604025588861116008628223\n",
      "3138550867693340381917894711603833208051177722232017256447\n",
      "6277101735386680763835789423207666416102355444464034512895\n",
      "12554203470773361527671578846415332832204710888928069025791\n",
      "25108406941546723055343157692830665664409421777856138051583\n",
      "50216813883093446110686315385661331328818843555712276103167\n",
      "100433627766186892221372630771322662657637687111424552206335\n",
      "200867255532373784442745261542645325315275374222849104412671\n",
      "401734511064747568885490523085290650630550748445698208825343\n",
      "803469022129495137770981046170581301261101496891396417650687\n",
      "1606938044258990275541962092341162602522202993782792835301375\n",
      "3213876088517980551083924184682325205044405987565585670602751\n",
      "6427752177035961102167848369364650410088811975131171341205503\n",
      "12855504354071922204335696738729300820177623950262342682411007\n",
      "25711008708143844408671393477458601640355247900524685364822015\n",
      "51422017416287688817342786954917203280710495801049370729644031\n",
      "102844034832575377634685573909834406561420991602098741459288063\n",
      "205688069665150755269371147819668813122841983204197482918576127\n",
      "411376139330301510538742295639337626245683966408394965837152255\n",
      "822752278660603021077484591278675252491367932816789931674304511\n",
      "1645504557321206042154969182557350504982735865633579863348609023\n",
      "3291009114642412084309938365114701009965471731267159726697218047\n",
      "6582018229284824168619876730229402019930943462534319453394436095\n",
      "13164036458569648337239753460458804039861886925068638906788872191\n",
      "26328072917139296674479506920917608079723773850137277813577744383\n",
      "52656145834278593348959013841835216159447547700274555627155488767\n",
      "105312291668557186697918027683670432318895095400549111254310977535\n",
      "210624583337114373395836055367340864637790190801098222508621955071\n",
      "421249166674228746791672110734681729275580381602196445017243910143\n",
      "842498333348457493583344221469363458551160763204392890034487820287\n",
      "1684996666696914987166688442938726917102321526408785780068975640575\n",
      "3369993333393829974333376885877453834204643052817571560137951281151\n",
      "6739986666787659948666753771754907668409286105635143120275902562303\n",
      "13479973333575319897333507543509815336818572211270286240551805124607\n",
      "26959946667150639794667015087019630673637144422540572481103610249215\n",
      "53919893334301279589334030174039261347274288845081144962207220498431\n",
      "107839786668602559178668060348078522694548577690162289924414440996863\n",
      "215679573337205118357336120696157045389097155380324579848828881993727\n",
      "431359146674410236714672241392314090778194310760649159697657763987455\n",
      "862718293348820473429344482784628181556388621521298319395315527974911\n",
      "1725436586697640946858688965569256363112777243042596638790631055949823\n",
      "3450873173395281893717377931138512726225554486085193277581262111899647\n",
      "6901746346790563787434755862277025452451108972170386555162524223799295\n",
      "13803492693581127574869511724554050904902217944340773110325048447598591\n",
      "27606985387162255149739023449108101809804435888681546220650096895197183\n",
      "55213970774324510299478046898216203619608871777363092441300193790394367\n",
      "110427941548649020598956093796432407239217743554726184882600387580788735\n",
      "220855883097298041197912187592864814478435487109452369765200775161577471\n",
      "441711766194596082395824375185729628956870974218904739530401550323154943\n",
      "883423532389192164791648750371459257913741948437809479060803100646309887\n",
      "1766847064778384329583297500742918515827483896875618958121606201292619775\n",
      "3533694129556768659166595001485837031654967793751237916243212402585239551\n",
      "7067388259113537318333190002971674063309935587502475832486424805170479103\n",
      "14134776518227074636666380005943348126619871175004951664972849610340958207\n",
      "28269553036454149273332760011886696253239742350009903329945699220681916415\n",
      "56539106072908298546665520023773392506479484700019806659891398441363832831\n",
      "113078212145816597093331040047546785012958969400039613319782796882727665663\n",
      "226156424291633194186662080095093570025917938800079226639565593765455331327\n",
      "452312848583266388373324160190187140051835877600158453279131187530910662655\n",
      "904625697166532776746648320380374280103671755200316906558262375061821325311\n",
      "1809251394333065553493296640760748560207343510400633813116524750123642650623\n",
      "3618502788666131106986593281521497120414687020801267626233049500247285301247\n",
      "7237005577332262213973186563042994240829374041602535252466099000494570602495\n",
      "14474011154664524427946373126085988481658748083205070504932198000989141204991\n",
      "28948022309329048855892746252171976963317496166410141009864396001978282409983\n",
      "57896044618658097711785492504343953926634992332820282019728792003956564819967\n",
      "115792089237316195423570985008687907853269984665640564039457584007913129639935\n",
      "231584178474632390847141970017375815706539969331281128078915168015826259279871\n",
      "463168356949264781694283940034751631413079938662562256157830336031652518559743\n",
      "926336713898529563388567880069503262826159877325124512315660672063305037119487\n",
      "1852673427797059126777135760139006525652319754650249024631321344126610074238975\n",
      "3705346855594118253554271520278013051304639509300498049262642688253220148477951\n",
      "7410693711188236507108543040556026102609279018600996098525285376506440296955903\n",
      "14821387422376473014217086081112052205218558037201992197050570753012880593911807\n",
      "29642774844752946028434172162224104410437116074403984394101141506025761187823615\n",
      "59285549689505892056868344324448208820874232148807968788202283012051522375647231\n",
      "118571099379011784113736688648896417641748464297615937576404566024103044751294463\n",
      "237142198758023568227473377297792835283496928595231875152809132048206089502588927\n",
      "474284397516047136454946754595585670566993857190463750305618264096412179005177855\n",
      "948568795032094272909893509191171341133987714380927500611236528192824358010355711\n",
      "1897137590064188545819787018382342682267975428761855001222473056385648716020711423\n",
      "3794275180128377091639574036764685364535950857523710002444946112771297432041422847\n",
      "7588550360256754183279148073529370729071901715047420004889892225542594864082845695\n",
      "15177100720513508366558296147058741458143803430094840009779784451085189728165691391\n",
      "30354201441027016733116592294117482916287606860189680019559568902170379456331382783\n",
      "60708402882054033466233184588234965832575213720379360039119137804340758912662765567\n",
      "121416805764108066932466369176469931665150427440758720078238275608681517825325531135\n",
      "242833611528216133864932738352939863330300854881517440156476551217363035650651062271\n",
      "485667223056432267729865476705879726660601709763034880312953102434726071301302124543\n",
      "971334446112864535459730953411759453321203419526069760625906204869452142602604249087\n",
      "1942668892225729070919461906823518906642406839052139521251812409738904285205208498175\n",
      "3885337784451458141838923813647037813284813678104279042503624819477808570410416996351\n",
      "7770675568902916283677847627294075626569627356208558085007249638955617140820833992703\n",
      "15541351137805832567355695254588151253139254712417116170014499277911234281641667985407\n",
      "31082702275611665134711390509176302506278509424834232340028998555822468563283335970815\n",
      "62165404551223330269422781018352605012557018849668464680057997111644937126566671941631\n",
      "124330809102446660538845562036705210025114037699336929360115994223289874253133343883263\n",
      "248661618204893321077691124073410420050228075398673858720231988446579748506266687766527\n",
      "497323236409786642155382248146820840100456150797347717440463976893159497012533375533055\n",
      "994646472819573284310764496293641680200912301594695434880927953786318994025066751066111\n",
      "1989292945639146568621528992587283360401824603189390869761855907572637988050133502132223\n",
      "3978585891278293137243057985174566720803649206378781739523711815145275976100267004264447\n",
      "7957171782556586274486115970349133441607298412757563479047423630290551952200534008528895\n",
      "15914343565113172548972231940698266883214596825515126958094847260581103904401068017057791\n",
      "31828687130226345097944463881396533766429193651030253916189694521162207808802136034115583\n",
      "63657374260452690195888927762793067532858387302060507832379389042324415617604272068231167\n",
      "127314748520905380391777855525586135065716774604121015664758778084648831235208544136462335\n",
      "254629497041810760783555711051172270131433549208242031329517556169297662470417088272924671\n",
      "509258994083621521567111422102344540262867098416484062659035112338595324940834176545849343\n",
      "1018517988167243043134222844204689080525734196832968125318070224677190649881668353091698687\n",
      "2037035976334486086268445688409378161051468393665936250636140449354381299763336706183397375\n",
      "4074071952668972172536891376818756322102936787331872501272280898708762599526673412366794751\n",
      "8148143905337944345073782753637512644205873574663745002544561797417525199053346824733589503\n",
      "16296287810675888690147565507275025288411747149327490005089123594835050398106693649467179007\n",
      "32592575621351777380295131014550050576823494298654980010178247189670100796213387298934358015\n",
      "65185151242703554760590262029100101153646988597309960020356494379340201592426774597868716031\n",
      "130370302485407109521180524058200202307293977194619920040712988758680403184853549195737432063\n",
      "260740604970814219042361048116400404614587954389239840081425977517360806369707098391474864127\n",
      "521481209941628438084722096232800809229175908778479680162851955034721612739414196782949728255\n",
      "1042962419883256876169444192465601618458351817556959360325703910069443225478828393565899456511\n",
      "2085924839766513752338888384931203236916703635113918720651407820138886450957656787131798913023\n",
      "4171849679533027504677776769862406473833407270227837441302815640277772901915313574263597826047\n",
      "8343699359066055009355553539724812947666814540455674882605631280555545803830627148527195652095\n",
      "16687398718132110018711107079449625895333629080911349765211262561111091607661254297054391304191\n",
      "33374797436264220037422214158899251790667258161822699530422525122222183215322508594108782608383\n",
      "66749594872528440074844428317798503581334516323645399060845050244444366430645017188217565216767\n",
      "133499189745056880149688856635597007162669032647290798121690100488888732861290034376435130433535\n",
      "266998379490113760299377713271194014325338065294581596243380200977777465722580068752870260867071\n",
      "533996758980227520598755426542388028650676130589163192486760401955554931445160137505740521734143\n",
      "1067993517960455041197510853084776057301352261178326384973520803911109862890320275011481043468287\n",
      "2135987035920910082395021706169552114602704522356652769947041607822219725780640550022962086936575\n",
      "4271974071841820164790043412339104229205409044713305539894083215644439451561281100045924173873151\n",
      "8543948143683640329580086824678208458410818089426611079788166431288878903122562200091848347746303\n",
      "17087896287367280659160173649356416916821636178853222159576332862577757806245124400183696695492607\n",
      "34175792574734561318320347298712833833643272357706444319152665725155515612490248800367393390985215\n",
      "68351585149469122636640694597425667667286544715412888638305331450311031224980497600734786781970431\n",
      "136703170298938245273281389194851335334573089430825777276610662900622062449960995201469573563940863\n",
      "273406340597876490546562778389702670669146178861651554553221325801244124899921990402939147127881727\n",
      "546812681195752981093125556779405341338292357723303109106442651602488249799843980805878294255763455\n",
      "1093625362391505962186251113558810682676584715446606218212885303204976499599687961611756588511526911\n",
      "2187250724783011924372502227117621365353169430893212436425770606409952999199375923223513177023053823\n",
      "4374501449566023848745004454235242730706338861786424872851541212819905998398751846447026354046107647\n",
      "8749002899132047697490008908470485461412677723572849745703082425639811996797503692894052708092215295\n",
      "17498005798264095394980017816940970922825355447145699491406164851279623993595007385788105416184430591\n",
      "34996011596528190789960035633881941845650710894291398982812329702559247987190014771576210832368861183\n",
      "69992023193056381579920071267763883691301421788582797965624659405118495974380029543152421664737722367\n",
      "139984046386112763159840142535527767382602843577165595931249318810236991948760059086304843329475444735\n",
      "279968092772225526319680285071055534765205687154331191862498637620473983897520118172609686658950889471\n",
      "559936185544451052639360570142111069530411374308662383724997275240947967795040236345219373317901778943\n",
      "1119872371088902105278721140284222139060822748617324767449994550481895935590080472690438746635803557887\n",
      "2239744742177804210557442280568444278121645497234649534899989100963791871180160945380877493271607115775\n",
      "4479489484355608421114884561136888556243290994469299069799978201927583742360321890761754986543214231551\n",
      "8958978968711216842229769122273777112486581988938598139599956403855167484720643781523509973086428463103\n",
      "17917957937422433684459538244547554224973163977877196279199912807710334969441287563047019946172856926207\n",
      "35835915874844867368919076489095108449946327955754392558399825615420669938882575126094039892345713852415\n",
      "71671831749689734737838152978190216899892655911508785116799651230841339877765150252188079784691427704831\n",
      "143343663499379469475676305956380433799785311823017570233599302461682679755530300504376159569382855409663\n",
      "286687326998758938951352611912760867599570623646035140467198604923365359511060601008752319138765710819327\n",
      "573374653997517877902705223825521735199141247292070280934397209846730719022121202017504638277531421638655\n",
      "1146749307995035755805410447651043470398282494584140561868794419693461438044242404035009276555062843277311\n",
      "2293498615990071511610820895302086940796564989168281123737588839386922876088484808070018553110125686554623\n",
      "4586997231980143023221641790604173881593129978336562247475177678773845752176969616140037106220251373109247\n",
      "9173994463960286046443283581208347763186259956673124494950355357547691504353939232280074212440502746218495\n",
      "18347988927920572092886567162416695526372519913346248989900710715095383008707878464560148424881005492436991\n",
      "36695977855841144185773134324833391052745039826692497979801421430190766017415756929120296849762010984873983\n",
      "73391955711682288371546268649666782105490079653384995959602842860381532034831513858240593699524021969747967\n",
      "146783911423364576743092537299333564210980159306769991919205685720763064069663027716481187399048043939495935\n",
      "293567822846729153486185074598667128421960318613539983838411371441526128139326055432962374798096087878991871\n",
      "587135645693458306972370149197334256843920637227079967676822742883052256278652110865924749596192175757983743\n",
      "1174271291386916613944740298394668513687841274454159935353645485766104512557304221731849499192384351515967487\n",
      "2348542582773833227889480596789337027375682548908319870707290971532209025114608443463698998384768703031934975\n",
      "4697085165547666455778961193578674054751365097816639741414581943064418050229216886927397996769537406063869951\n",
      "9394170331095332911557922387157348109502730195633279482829163886128836100458433773854795993539074812127739903\n",
      "18788340662190665823115844774314696219005460391266558965658327772257672200916867547709591987078149624255479807\n",
      "37576681324381331646231689548629392438010920782533117931316655544515344401833735095419183974156299248510959615\n",
      "75153362648762663292463379097258784876021841565066235862633311089030688803667470190838367948312598497021919231\n",
      "150306725297525326584926758194517569752043683130132471725266622178061377607334940381676735896625196994043838463\n",
      "300613450595050653169853516389035139504087366260264943450533244356122755214669880763353471793250393988087676927\n",
      "601226901190101306339707032778070279008174732520529886901066488712245510429339761526706943586500787976175353855\n",
      "1202453802380202612679414065556140558016349465041059773802132977424491020858679523053413887173001575952350707711\n",
      "2404907604760405225358828131112281116032698930082119547604265954848982041717359046106827774346003151904701415423\n",
      "4809815209520810450717656262224562232065397860164239095208531909697964083434718092213655548692006303809402830847\n",
      "9619630419041620901435312524449124464130795720328478190417063819395928166869436184427311097384012607618805661695\n",
      "19239260838083241802870625048898248928261591440656956380834127638791856333738872368854622194768025215237611323391\n",
      "38478521676166483605741250097796497856523182881313912761668255277583712667477744737709244389536050430475222646783\n",
      "76957043352332967211482500195592995713046365762627825523336510555167425334955489475418488779072100860950445293567\n",
      "153914086704665934422965000391185991426092731525255651046673021110334850669910978950836977558144201721900890587135\n",
      "307828173409331868845930000782371982852185463050511302093346042220669701339821957901673955116288403443801781174271\n",
      "615656346818663737691860001564743965704370926101022604186692084441339402679643915803347910232576806887603562348543\n",
      "1231312693637327475383720003129487931408741852202045208373384168882678805359287831606695820465153613775207124697087\n",
      "2462625387274654950767440006258975862817483704404090416746768337765357610718575663213391640930307227550414249394175\n",
      "4925250774549309901534880012517951725634967408808180833493536675530715221437151326426783281860614455100828498788351\n",
      "9850501549098619803069760025035903451269934817616361666987073351061430442874302652853566563721228910201656997576703\n",
      "19701003098197239606139520050071806902539869635232723333974146702122860885748605305707133127442457820403313995153407\n",
      "39402006196394479212279040100143613805079739270465446667948293404245721771497210611414266254884915640806627990306815\n",
      "78804012392788958424558080200287227610159478540930893335896586808491443542994421222828532509769831281613255980613631\n",
      "157608024785577916849116160400574455220318957081861786671793173616982887085988842445657065019539662563226511961227263\n",
      "315216049571155833698232320801148910440637914163723573343586347233965774171977684891314130039079325126453023922454527\n",
      "630432099142311667396464641602297820881275828327447146687172694467931548343955369782628260078158650252906047844909055\n",
      "1260864198284623334792929283204595641762551656654894293374345388935863096687910739565256520156317300505812095689818111\n",
      "2521728396569246669585858566409191283525103313309788586748690777871726193375821479130513040312634601011624191379636223\n",
      "5043456793138493339171717132818382567050206626619577173497381555743452386751642958261026080625269202023248382759272447\n",
      "10086913586276986678343434265636765134100413253239154346994763111486904773503285916522052161250538404046496765518544895\n",
      "20173827172553973356686868531273530268200826506478308693989526222973809547006571833044104322501076808092993531037089791\n",
      "40347654345107946713373737062547060536401653012956617387979052445947619094013143666088208645002153616185987062074179583\n",
      "80695308690215893426747474125094121072803306025913234775958104891895238188026287332176417290004307232371974124148359167\n",
      "161390617380431786853494948250188242145606612051826469551916209783790476376052574664352834580008614464743948248296718335\n",
      "322781234760863573706989896500376484291213224103652939103832419567580952752105149328705669160017228929487896496593436671\n",
      "645562469521727147413979793000752968582426448207305878207664839135161905504210298657411338320034457858975792993186873343\n",
      "1291124939043454294827959586001505937164852896414611756415329678270323811008420597314822676640068915717951585986373746687\n",
      "2582249878086908589655919172003011874329705792829223512830659356540647622016841194629645353280137831435903171972747493375\n",
      "5164499756173817179311838344006023748659411585658447025661318713081295244033682389259290706560275662871806343945494986751\n",
      "10328999512347634358623676688012047497318823171316894051322637426162590488067364778518581413120551325743612687890989973503\n",
      "20657999024695268717247353376024094994637646342633788102645274852325180976134729557037162826241102651487225375781979947007\n",
      "41315998049390537434494706752048189989275292685267576205290549704650361952269459114074325652482205302974450751563959894015\n",
      "82631996098781074868989413504096379978550585370535152410581099409300723904538918228148651304964410605948901503127919788031\n",
      "165263992197562149737978827008192759957101170741070304821162198818601447809077836456297302609928821211897803006255839576063\n",
      "330527984395124299475957654016385519914202341482140609642324397637202895618155672912594605219857642423795606012511679152127\n",
      "661055968790248598951915308032771039828404682964281219284648795274405791236311345825189210439715284847591212025023358304255\n",
      "1322111937580497197903830616065542079656809365928562438569297590548811582472622691650378420879430569695182424050046716608511\n",
      "2644223875160994395807661232131084159313618731857124877138595181097623164945245383300756841758861139390364848100093433217023\n",
      "5288447750321988791615322464262168318627237463714249754277190362195246329890490766601513683517722278780729696200186866434047\n",
      "10576895500643977583230644928524336637254474927428499508554380724390492659780981533203027367035444557561459392400373732868095\n",
      "21153791001287955166461289857048673274508949854856999017108761448780985319561963066406054734070889115122918784800747465736191\n",
      "42307582002575910332922579714097346549017899709713998034217522897561970639123926132812109468141778230245837569601494931472383\n",
      "84615164005151820665845159428194693098035799419427996068435045795123941278247852265624218936283556460491675139202989862944767\n",
      "169230328010303641331690318856389386196071598838855992136870091590247882556495704531248437872567112920983350278405979725889535\n",
      "338460656020607282663380637712778772392143197677711984273740183180495765112991409062496875745134225841966700556811959451779071\n",
      "676921312041214565326761275425557544784286395355423968547480366360991530225982818124993751490268451683933401113623918903558143\n",
      "1353842624082429130653522550851115089568572790710847937094960732721983060451965636249987502980536903367866802227247837807116287\n",
      "2707685248164858261307045101702230179137145581421695874189921465443966120903931272499975005961073806735733604454495675614232575\n",
      "5415370496329716522614090203404460358274291162843391748379842930887932241807862544999950011922147613471467208908991351228465151\n",
      "10830740992659433045228180406808920716548582325686783496759685861775864483615725089999900023844295226942934417817982702456930303\n",
      "21661481985318866090456360813617841433097164651373566993519371723551728967231450179999800047688590453885868835635965404913860607\n",
      "43322963970637732180912721627235682866194329302747133987038743447103457934462900359999600095377180907771737671271930809827721215\n",
      "86645927941275464361825443254471365732388658605494267974077486894206915868925800719999200190754361815543475342543861619655442431\n",
      "173291855882550928723650886508942731464777317210988535948154973788413831737851601439998400381508723631086950685087723239310884863\n",
      "346583711765101857447301773017885462929554634421977071896309947576827663475703202879996800763017447262173901370175446478621769727\n",
      "693167423530203714894603546035770925859109268843954143792619895153655326951406405759993601526034894524347802740350892957243539455\n",
      "1386334847060407429789207092071541851718218537687908287585239790307310653902812811519987203052069789048695605480701785914487078911\n",
      "2772669694120814859578414184143083703436437075375816575170479580614621307805625623039974406104139578097391210961403571828974157823\n",
      "5545339388241629719156828368286167406872874150751633150340959161229242615611251246079948812208279156194782421922807143657948315647\n",
      "11090678776483259438313656736572334813745748301503266300681918322458485231222502492159897624416558312389564843845614287315896631295\n",
      "22181357552966518876627313473144669627491496603006532601363836644916970462445004984319795248833116624779129687691228574631793262591\n",
      "44362715105933037753254626946289339254982993206013065202727673289833940924890009968639590497666233249558259375382457149263586525183\n",
      "88725430211866075506509253892578678509965986412026130405455346579667881849780019937279180995332466499116518750764914298527173050367\n",
      "177450860423732151013018507785157357019931972824052260810910693159335763699560039874558361990664932998233037501529828597054346100735\n",
      "354901720847464302026037015570314714039863945648104521621821386318671527399120079749116723981329865996466075003059657194108692201471\n",
      "709803441694928604052074031140629428079727891296209043243642772637343054798240159498233447962659731992932150006119314388217384402943\n",
      "1419606883389857208104148062281258856159455782592418086487285545274686109596480318996466895925319463985864300012238628776434768805887\n",
      "2839213766779714416208296124562517712318911565184836172974571090549372219192960637992933791850638927971728600024477257552869537611775\n",
      "5678427533559428832416592249125035424637823130369672345949142181098744438385921275985867583701277855943457200048954515105739075223551\n",
      "11356855067118857664833184498250070849275646260739344691898284362197488876771842551971735167402555711886914400097909030211478150447103\n",
      "22713710134237715329666368996500141698551292521478689383796568724394977753543685103943470334805111423773828800195818060422956300894207\n",
      "45427420268475430659332737993000283397102585042957378767593137448789955507087370207886940669610222847547657600391636120845912601788415\n",
      "90854840536950861318665475986000566794205170085914757535186274897579911014174740415773881339220445695095315200783272241691825203576831\n",
      "181709681073901722637330951972001133588410340171829515070372549795159822028349480831547762678440891390190630401566544483383650407153663\n",
      "363419362147803445274661903944002267176820680343659030140745099590319644056698961663095525356881782780381260803133088966767300814307327\n",
      "726838724295606890549323807888004534353641360687318060281490199180639288113397923326191050713763565560762521606266177933534601628614655\n",
      "1453677448591213781098647615776009068707282721374636120562980398361278576226795846652382101427527131121525043212532355867069203257229311\n",
      "2907354897182427562197295231552018137414565442749272241125960796722557152453591693304764202855054262243050086425064711734138406514458623\n",
      "5814709794364855124394590463104036274829130885498544482251921593445114304907183386609528405710108524486100172850129423468276813028917247\n",
      "11629419588729710248789180926208072549658261770997088964503843186890228609814366773219056811420217048972200345700258846936553626057834495\n",
      "23258839177459420497578361852416145099316523541994177929007686373780457219628733546438113622840434097944400691400517693873107252115668991\n",
      "46517678354918840995156723704832290198633047083988355858015372747560914439257467092876227245680868195888801382801035387746214504231337983\n",
      "93035356709837681990313447409664580397266094167976711716030745495121828878514934185752454491361736391777602765602070775492429008462675967\n",
      "186070713419675363980626894819329160794532188335953423432061490990243657757029868371504908982723472783555205531204141550984858016925351935\n",
      "372141426839350727961253789638658321589064376671906846864122981980487315514059736743009817965446945567110411062408283101969716033850703871\n",
      "744282853678701455922507579277316643178128753343813693728245963960974631028119473486019635930893891134220822124816566203939432067701407743\n",
      "1488565707357402911845015158554633286356257506687627387456491927921949262056238946972039271861787782268441644249633132407878864135402815487\n",
      "2977131414714805823690030317109266572712515013375254774912983855843898524112477893944078543723575564536883288499266264815757728270805630975\n",
      "5954262829429611647380060634218533145425030026750509549825967711687797048224955787888157087447151129073766576998532529631515456541611261951\n",
      "11908525658859223294760121268437066290850060053501019099651935423375594096449911575776314174894302258147533153997065059263030913083222523903\n",
      "23817051317718446589520242536874132581700120107002038199303870846751188192899823151552628349788604516295066307994130118526061826166445047807\n",
      "47634102635436893179040485073748265163400240214004076398607741693502376385799646303105256699577209032590132615988260237052123652332890095615\n",
      "95268205270873786358080970147496530326800480428008152797215483387004752771599292606210513399154418065180265231976520474104247304665780191231\n",
      "190536410541747572716161940294993060653600960856016305594430966774009505543198585212421026798308836130360530463953040948208494609331560382463\n",
      "381072821083495145432323880589986121307201921712032611188861933548019011086397170424842053596617672260721060927906081896416989218663120764927\n",
      "762145642166990290864647761179972242614403843424065222377723867096038022172794340849684107193235344521442121855812163792833978437326241529855\n",
      "1524291284333980581729295522359944485228807686848130444755447734192076044345588681699368214386470689042884243711624327585667956874652483059711\n",
      "3048582568667961163458591044719888970457615373696260889510895468384152088691177363398736428772941378085768487423248655171335913749304966119423\n",
      "6097165137335922326917182089439777940915230747392521779021790936768304177382354726797472857545882756171536974846497310342671827498609932238847\n",
      "12194330274671844653834364178879555881830461494785043558043581873536608354764709453594945715091765512343073949692994620685343654997219864477695\n",
      "24388660549343689307668728357759111763660922989570087116087163747073216709529418907189891430183531024686147899385989241370687309994439728955391\n",
      "48777321098687378615337456715518223527321845979140174232174327494146433419058837814379782860367062049372295798771978482741374619988879457910783\n",
      "97554642197374757230674913431036447054643691958280348464348654988292866838117675628759565720734124098744591597543956965482749239977758915821567\n",
      "195109284394749514461349826862072894109287383916560696928697309976585733676235351257519131441468248197489183195087913930965498479955517831643135\n",
      "390218568789499028922699653724145788218574767833121393857394619953171467352470702515038262882936496394978366390175827861930996959911035663286271\n",
      "780437137578998057845399307448291576437149535666242787714789239906342934704941405030076525765872992789956732780351655723861993919822071326572543\n",
      "1560874275157996115690798614896583152874299071332485575429578479812685869409882810060153051531745985579913465560703311447723987839644142653145087\n",
      "3121748550315992231381597229793166305748598142664971150859156959625371738819765620120306103063491971159826931121406622895447975679288285306290175\n",
      "6243497100631984462763194459586332611497196285329942301718313919250743477639531240240612206126983942319653862242813245790895951358576570612580351\n",
      "12486994201263968925526388919172665222994392570659884603436627838501486955279062480481224412253967884639307724485626491581791902717153141225160703\n",
      "24973988402527937851052777838345330445988785141319769206873255677002973910558124960962448824507935769278615448971252983163583805434306282450321407\n",
      "49947976805055875702105555676690660891977570282639538413746511354005947821116249921924897649015871538557230897942505966327167610868612564900642815\n",
      "99895953610111751404211111353381321783955140565279076827493022708011895642232499843849795298031743077114461795885011932654335221737225129801285631\n",
      "199791907220223502808422222706762643567910281130558153654986045416023791284464999687699590596063486154228923591770023865308670443474450259602571263\n",
      "399583814440447005616844445413525287135820562261116307309972090832047582568929999375399181192126972308457847183540047730617340886948900519205142527\n",
      "799167628880894011233688890827050574271641124522232614619944181664095165137859998750798362384253944616915694367080095461234681773897801038410285055\n",
      "1598335257761788022467377781654101148543282249044465229239888363328190330275719997501596724768507889233831388734160190922469363547795602076820570111\n",
      "3196670515523576044934755563308202297086564498088930458479776726656380660551439995003193449537015778467662777468320381844938727095591204153641140223\n",
      "6393341031047152089869511126616404594173128996177860916959553453312761321102879990006386899074031556935325554936640763689877454191182408307282280447\n",
      "12786682062094304179739022253232809188346257992355721833919106906625522642205759980012773798148063113870651109873281527379754908382364816614564560895\n",
      "25573364124188608359478044506465618376692515984711443667838213813251045284411519960025547596296126227741302219746563054759509816764729633229129121791\n",
      "51146728248377216718956089012931236753385031969422887335676427626502090568823039920051095192592252455482604439493126109519019633529459266458258243583\n",
      "102293456496754433437912178025862473506770063938845774671352855253004181137646079840102190385184504910965208878986252219038039267058918532916516487167\n",
      "204586912993508866875824356051724947013540127877691549342705710506008362275292159680204380770369009821930417757972504438076078534117837065833032974335\n",
      "409173825987017733751648712103449894027080255755383098685411421012016724550584319360408761540738019643860835515945008876152157068235674131666065948671\n",
      "818347651974035467503297424206899788054160511510766197370822842024033449101168638720817523081476039287721671031890017752304314136471348263332131897343\n",
      "1636695303948070935006594848413799576108321023021532394741645684048066898202337277441635046162952078575443342063780035504608628272942696526664263794687\n"
     ]
    }
   ],
   "source": [
    "for i in range(500):\n",
    "    print(2**i - 1)"
   ]
  },
  {
   "cell_type": "code",
   "execution_count": 96,
   "metadata": {
    "collapsed": false
   },
   "outputs": [
    {
     "name": "stdout",
     "output_type": "stream",
     "text": [
      "10\n"
     ]
    }
   ],
   "source": [
    "a = 4\n",
    "b = 6\n",
    "\n",
    "print a + b"
   ]
  },
  {
   "cell_type": "code",
   "execution_count": null,
   "metadata": {
    "collapsed": true
   },
   "outputs": [],
   "source": []
  },
  {
   "cell_type": "code",
   "execution_count": null,
   "metadata": {
    "collapsed": true
   },
   "outputs": [],
   "source": []
  },
  {
   "cell_type": "code",
   "execution_count": null,
   "metadata": {
    "collapsed": true
   },
   "outputs": [],
   "source": []
  }
 ],
 "metadata": {
  "kernelspec": {
   "display_name": "Python 2",
   "language": "python",
   "name": "python2"
  },
  "language_info": {
   "codemirror_mode": {
    "name": "ipython",
    "version": 2
   },
   "file_extension": ".py",
   "mimetype": "text/x-python",
   "name": "python",
   "nbconvert_exporter": "python",
   "pygments_lexer": "ipython2",
   "version": "2.7.13"
  }
 },
 "nbformat": 4,
 "nbformat_minor": 2
}
